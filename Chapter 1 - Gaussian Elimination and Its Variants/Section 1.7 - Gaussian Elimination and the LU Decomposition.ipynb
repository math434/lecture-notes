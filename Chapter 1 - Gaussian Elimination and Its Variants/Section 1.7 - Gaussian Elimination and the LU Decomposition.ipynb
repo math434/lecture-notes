{
 "cells": [
  {
   "cell_type": "markdown",
   "metadata": {},
   "source": [
    "---\n",
    "# Section 1.7: Gaussian Elimination and the LU Decomposition\n",
    "---"
   ]
  },
  {
   "cell_type": "markdown",
   "metadata": {},
   "source": [
    "Let $A \\in \\mathbb{R}^{n \\times n}$ be **nonsingular**, and let $b \\in \\mathbb{R}^n$.\n",
    "\n",
    "We will now look at solving\n",
    "\n",
    "$$\n",
    "Ax = b\n",
    "$$\n",
    "\n",
    "by **Gaussian Elimination**:\n",
    "\n",
    "> Transform $Ax = b$ into an **equivalent** system\n",
    ">\n",
    "$$Ux = y,$$\n",
    ">\n",
    "where $U$ is **upper-triangular**, by using the following **elementary row operations**:\n",
    ">\n",
    "1. Add a multiple of one equation to another equation.\n",
    "2. Interchange two equations.\n",
    "3. Multiply an equation by a nonzero constant."
   ]
  },
  {
   "cell_type": "markdown",
   "metadata": {},
   "source": [
    "This can be done using **augmented matrices**:\n",
    "\n",
    "$$\n",
    "\\left[\\begin{array}{c|c}\n",
    "A & b\n",
    "\\end{array}\\right]\n",
    "\\rightarrow \\cdots \\rightarrow\n",
    "\\left[\\begin{array}{c|c}\n",
    "U & y\n",
    "\\end{array}\\right].\n",
    "$$\n",
    "\n",
    "We know that $Ax = b$ and $Ux = y$ will be equivalent (i.e., have exactly the same set of solutions) by the following fact.\n",
    "\n",
    "> ### Proposition 1:\n",
    "Let $\\hat{A}x = \\hat{b}$ be obtained by an elementary row operation on $Ax = b$. Then $Ax = b$ and $\\hat{A}x = \\hat{b}$ are equivalent .\n",
    ">\n",
    "Moreover, \n",
    "$$\n",
    "\\text{$A$ is nonsingular} \n",
    "\\quad \\Longleftrightarrow \\quad\n",
    "\\text{$\\hat{A}$ is nonsingular}.\n",
    "$$"
   ]
  },
  {
   "cell_type": "markdown",
   "metadata": {},
   "source": [
    "---"
   ]
  },
  {
   "cell_type": "markdown",
   "metadata": {},
   "source": [
    "## Example 1\n",
    "\n",
    "Use Gaussian elimination to solve $Ax = b$, where\n",
    "\n",
    "$$\n",
    "A = \n",
    "\\begin{bmatrix}\n",
    "2 & 1 & 1 \\\\\n",
    "2 & 2 & -1 \\\\\n",
    "4 & -1 & 6\n",
    "\\end{bmatrix},\n",
    "\\qquad\n",
    "b = \n",
    "\\begin{bmatrix}\n",
    "7 \\\\ 3 \\\\ 20\n",
    "\\end{bmatrix}.\n",
    "$$"
   ]
  },
  {
   "cell_type": "markdown",
   "metadata": {},
   "source": [
    "---"
   ]
  },
  {
   "cell_type": "markdown",
   "metadata": {},
   "source": [
    "We solved the example above using only the first type of row operation, but this is not always possible."
   ]
  },
  {
   "cell_type": "markdown",
   "metadata": {},
   "source": [
    "---"
   ]
  },
  {
   "cell_type": "markdown",
   "metadata": {},
   "source": [
    "## Example 2\n",
    "\n",
    "Use Gaussian elimination to solve $Ax = b$, where\n",
    "\n",
    "$$\n",
    "A = \n",
    "\\begin{bmatrix}\n",
    "2 & 2 & 1 \\\\\n",
    "2 & 2 & -1 \\\\\n",
    "4 & -1 & 6\n",
    "\\end{bmatrix},\n",
    "\\qquad\n",
    "b = \n",
    "\\begin{bmatrix}\n",
    "5 \\\\ 3 \\\\ 14\n",
    "\\end{bmatrix}.\n",
    "$$"
   ]
  },
  {
   "cell_type": "markdown",
   "metadata": {},
   "source": [
    "---"
   ]
  },
  {
   "cell_type": "markdown",
   "metadata": {},
   "source": [
    "To do Gaussian elimination **without row interchanges**, the matrix $A$ needs the following property:\n",
    "\n",
    "$$\n",
    "\\begin{equation} \\tag{1}\n",
    "\\fbox{$A_k$ is nonsingular, for $k = 1,\\ldots,n$.}\n",
    "\\end{equation}\n",
    "$$\n",
    "\n",
    "Here $A_k$ is the **$\\mathbf{k^{th}}$ leading principal submatrix** (i.e., $A_k =$ `A[1:k, 1:k]`)."
   ]
  },
  {
   "cell_type": "markdown",
   "metadata": {},
   "source": [
    "---"
   ]
  },
  {
   "cell_type": "markdown",
   "metadata": {},
   "source": [
    "## Example 1 (revisited)\n",
    "\n",
    "$$\n",
    "A = \n",
    "\\begin{bmatrix}\n",
    "2 & 1 & 1 \\\\\n",
    "2 & 2 & -1 \\\\\n",
    "4 & -1 & 6\n",
    "\\end{bmatrix}\n",
    "$$"
   ]
  },
  {
   "cell_type": "code",
   "execution_count": 1,
   "metadata": {
    "collapsed": false
   },
   "outputs": [
    {
     "data": {
      "text/plain": [
       "3x3 Array{Int64,2}:\n",
       " 2   1   1\n",
       " 2   2  -1\n",
       " 4  -1   6"
      ]
     },
     "execution_count": 1,
     "metadata": {},
     "output_type": "execute_result"
    }
   ],
   "source": [
    "A = [2 1 1; 2 2 -1; 4 -1 6]"
   ]
  },
  {
   "cell_type": "code",
   "execution_count": 2,
   "metadata": {
    "collapsed": false
   },
   "outputs": [
    {
     "data": {
      "text/plain": [
       "2"
      ]
     },
     "execution_count": 2,
     "metadata": {},
     "output_type": "execute_result"
    }
   ],
   "source": [
    "A1 = A[1, 1]"
   ]
  },
  {
   "cell_type": "code",
   "execution_count": 3,
   "metadata": {
    "collapsed": false
   },
   "outputs": [
    {
     "data": {
      "text/plain": [
       "2"
      ]
     },
     "execution_count": 3,
     "metadata": {},
     "output_type": "execute_result"
    }
   ],
   "source": [
    "det(A1)"
   ]
  },
  {
   "cell_type": "code",
   "execution_count": 4,
   "metadata": {
    "collapsed": false
   },
   "outputs": [
    {
     "data": {
      "text/plain": [
       "2x2 Array{Int64,2}:\n",
       " 2  1\n",
       " 2  2"
      ]
     },
     "execution_count": 4,
     "metadata": {},
     "output_type": "execute_result"
    }
   ],
   "source": [
    "A2 = A[1:2, 1:2]"
   ]
  },
  {
   "cell_type": "code",
   "execution_count": 5,
   "metadata": {
    "collapsed": false
   },
   "outputs": [
    {
     "data": {
      "text/plain": [
       "2.0"
      ]
     },
     "execution_count": 5,
     "metadata": {},
     "output_type": "execute_result"
    }
   ],
   "source": [
    "det(A2)"
   ]
  },
  {
   "cell_type": "code",
   "execution_count": 6,
   "metadata": {
    "collapsed": false
   },
   "outputs": [
    {
     "data": {
      "text/plain": [
       "3x3 Array{Int64,2}:\n",
       " 2   1   1\n",
       " 2   2  -1\n",
       " 4  -1   6"
      ]
     },
     "execution_count": 6,
     "metadata": {},
     "output_type": "execute_result"
    }
   ],
   "source": [
    "A3 = A[1:3, 1:3]"
   ]
  },
  {
   "cell_type": "code",
   "execution_count": 7,
   "metadata": {
    "collapsed": false
   },
   "outputs": [
    {
     "data": {
      "text/plain": [
       "-4.0"
      ]
     },
     "execution_count": 7,
     "metadata": {},
     "output_type": "execute_result"
    }
   ],
   "source": [
    "det(A3)"
   ]
  },
  {
   "cell_type": "markdown",
   "metadata": {},
   "source": [
    "Therefore, the matrix $A$ satisfies property (1)."
   ]
  },
  {
   "cell_type": "markdown",
   "metadata": {},
   "source": [
    "---"
   ]
  },
  {
   "cell_type": "markdown",
   "metadata": {},
   "source": [
    "## Example 2 (revisited)\n",
    "\n",
    "$$\n",
    "A = \n",
    "\\begin{bmatrix}\n",
    "2 & 2 & 1 \\\\\n",
    "2 & 2 & -1 \\\\\n",
    "4 & -1 & 6\n",
    "\\end{bmatrix}\n",
    "$$"
   ]
  },
  {
   "cell_type": "code",
   "execution_count": 8,
   "metadata": {
    "collapsed": false
   },
   "outputs": [
    {
     "data": {
      "text/plain": [
       "3x3 Array{Int64,2}:\n",
       " 2   2   1\n",
       " 2   2  -1\n",
       " 4  -1   6"
      ]
     },
     "execution_count": 8,
     "metadata": {},
     "output_type": "execute_result"
    }
   ],
   "source": [
    "A = [2 2 1; 2 2 -1; 4 -1 6]"
   ]
  },
  {
   "cell_type": "code",
   "execution_count": 9,
   "metadata": {
    "collapsed": false
   },
   "outputs": [
    {
     "data": {
      "text/plain": [
       "2"
      ]
     },
     "execution_count": 9,
     "metadata": {},
     "output_type": "execute_result"
    }
   ],
   "source": [
    "A1 = A[1, 1]"
   ]
  },
  {
   "cell_type": "code",
   "execution_count": 10,
   "metadata": {
    "collapsed": false
   },
   "outputs": [
    {
     "data": {
      "text/plain": [
       "2"
      ]
     },
     "execution_count": 10,
     "metadata": {},
     "output_type": "execute_result"
    }
   ],
   "source": [
    "det(A1)"
   ]
  },
  {
   "cell_type": "code",
   "execution_count": 11,
   "metadata": {
    "collapsed": false
   },
   "outputs": [
    {
     "data": {
      "text/plain": [
       "2x2 Array{Int64,2}:\n",
       " 2  2\n",
       " 2  2"
      ]
     },
     "execution_count": 11,
     "metadata": {},
     "output_type": "execute_result"
    }
   ],
   "source": [
    "A2 = A[1:2, 1:2]"
   ]
  },
  {
   "cell_type": "code",
   "execution_count": 12,
   "metadata": {
    "collapsed": false
   },
   "outputs": [
    {
     "data": {
      "text/plain": [
       "0.0"
      ]
     },
     "execution_count": 12,
     "metadata": {},
     "output_type": "execute_result"
    }
   ],
   "source": [
    "det(A2)"
   ]
  },
  {
   "cell_type": "markdown",
   "metadata": {},
   "source": [
    "Therefore, the matrix $A$ does not satisfy property (1)."
   ]
  },
  {
   "cell_type": "markdown",
   "metadata": {},
   "source": [
    "---"
   ]
  },
  {
   "cell_type": "markdown",
   "metadata": {},
   "source": [
    ">### Proposition 2:\n",
    "Let $A \\in \\mathbb{R}^{n \\times n}$ be nonsingular.\n",
    ">\n",
    "If we can solve $Ax = b$ using Gaussian elimination **without row interchanges**, then property (1) holds."
   ]
  },
  {
   "cell_type": "markdown",
   "metadata": {},
   "source": [
    "### Proof.\n",
    "\n",
    "Suppose we do the Gaussian elimination \n",
    "\n",
    "$$\n",
    "\\left[\\begin{array}{c|c}\n",
    "A & b\n",
    "\\end{array}\\right]\n",
    "\\rightarrow \\cdots \\rightarrow\n",
    "\\left[\\begin{array}{c|c}\n",
    "U & y\n",
    "\\end{array}\\right]\n",
    "$$\n",
    "\n",
    "without row interchanges. Then $U$ is an upper-triangular matrix which is nonsingular since $A$ is nonsingular.\n",
    "\n",
    "Since $U$ is nonsingular and triangular, the diagonal entries of $U$ are nonzero. Therefore, $U_k$ is nonsingular, for $k = 1,\\ldots,n$.\n",
    "\n",
    "Since no row interchanges occurred, we have that $U_k$ was obtained from $A_k$ by elementary row operations. Since $U_k$ is nonsingular, we have that $A_k$ is nonsingular.\n",
    "\n",
    "Therfore, property (1) holds. $\\blacksquare$"
   ]
  },
  {
   "cell_type": "markdown",
   "metadata": {},
   "source": [
    "---"
   ]
  },
  {
   "cell_type": "markdown",
   "metadata": {},
   "source": [
    "### The converse of Proposition 2\n",
    "\n",
    "We will now prove that the converse of Proposition 2 holds:\n",
    "\n",
    "> If property (1) holds for the matrix $A$, then we can do Gaussian elimination on $Ax = b$ without row interchanges."
   ]
  },
  {
   "cell_type": "markdown",
   "metadata": {},
   "source": [
    "### Proof."
   ]
  },
  {
   "cell_type": "markdown",
   "metadata": {},
   "source": [
    "First we note that if property (1) holds, then $a_{11} \\neq 0$.\n",
    "\n",
    "We will prove this statement by using **block Gaussian elimination**:\n",
    "\n",
    "$$\n",
    "A = \n",
    "\\begin{bmatrix}\n",
    "a_{11} & b^T \\\\\n",
    "c & \\hat{A}\n",
    "\\end{bmatrix}\n",
    "\\quad \\xrightarrow{\\left(r_2 \\gets r_2 - \\frac{1}{a_{11}} c r_1\\right)} \\quad\n",
    "\\begin{bmatrix}\n",
    "a_{11} & b^T \\\\\n",
    "0 & \\hat{A} - \\frac{1}{a_{11}} cb^T\n",
    "\\end{bmatrix}.\n",
    "$$\n",
    "\n",
    "We let \n",
    "\n",
    "$$\n",
    "\\tilde{A} = \\hat{A} - \\frac{1}{a_{11}} cb^T,\n",
    "$$\n",
    "\n",
    "which is known as the **Schur complement** of $a_{11}$ in $A$."
   ]
  },
  {
   "cell_type": "markdown",
   "metadata": {},
   "source": [
    "The next step of Gaussian elimination will repeat the above row operation on $\\tilde{A}$.\n",
    "\n",
    "Thus, if we can show that $\\tilde{A}$ inherits property (1) from $A$, then we know that we can continue the process of Gaussian elimination on $Ax = b$ without row interchanges.\n",
    "\n",
    "So we need to show that $\\tilde{A}_k$ is nonsingular for $k = 1,\\ldots,n-1$. Suppose, for the sake of contradiction, that $\\tilde{A}_k$ is singular, for some $k$.\n",
    "\n",
    "Then, $\\exists \\tilde{y} \\in \\mathbb{R}^k$ nonzero such that \n",
    "\n",
    "$$\n",
    "\\tilde{A}_k \\tilde{y} = 0.\n",
    "$$\n",
    "\n",
    "Letting $M = \\begin{bmatrix} a_{11} & b^T \\\\ 0 & \\tilde{A} \\end{bmatrix}$, we have\n",
    "\n",
    "$$\n",
    "M_{k+1} = \n",
    "\\begin{bmatrix} a_{11} & b_k^T \\\\ 0 & \\tilde{A}_k \\end{bmatrix},\n",
    "$$\n",
    "\n",
    "where $b_k = b[1 \\colon k]$."
   ]
  },
  {
   "cell_type": "markdown",
   "metadata": {},
   "source": [
    "Since $M_{k+1}$ was obtained from $A_{k+1}$ by elementary row operations, and since $A_{k+1}$ is nonsingular, we have that $M_{k+1}$ is nonsingular.\n",
    "\n",
    "Now, let's get a contradiction by finding a vector $y \\neq 0$ such that $M_{k+1} y = 0$.\n",
    "\n",
    "Let \n",
    "\n",
    "$$\n",
    "y = \n",
    "\\begin{bmatrix}\n",
    "-\\frac{1}{a_{11}}b_k^T \\tilde{y} \\\\\n",
    "\\tilde{y}\n",
    "\\end{bmatrix}.\n",
    "$$\n",
    "\n",
    "Then $y \\neq 0$ since $\\tilde{y} \\neq 0$, and\n",
    "\n",
    "$$\n",
    "M_{k+1} y = \n",
    "\\begin{bmatrix} a_{11} & b_k^T \\\\ 0 & \\tilde{A}_k \\end{bmatrix}\n",
    "\\begin{bmatrix}\n",
    "-\\frac{1}{a_{11}}b_k^T \\tilde{y} \\\\\n",
    "\\tilde{y}\n",
    "\\end{bmatrix} =\n",
    "\\begin{bmatrix}\n",
    "-b_k^T \\tilde{y} + b_k^T \\tilde{y} \\\\\n",
    "\\tilde{A}_k \\tilde{y}\n",
    "\\end{bmatrix} =\n",
    "\\begin{bmatrix}\n",
    "0 \\\\ 0\n",
    "\\end{bmatrix},\n",
    "$$\n",
    "\n",
    "which gives us our contradiction to the fact $M_{k+1}$ should be nonsingular.\n",
    "\n",
    "Therefore, $\\tilde{A}_k$ is nonsingular for $k = 1,\\ldots,n-1$, which implies we can continue to do Gaussian elimination on $Ax = b$ without row interchanges. $\\blacksquare$"
   ]
  },
  {
   "cell_type": "markdown",
   "metadata": {},
   "source": [
    "---"
   ]
  },
  {
   "cell_type": "markdown",
   "metadata": {},
   "source": [
    "Thus, we have the following result:\n",
    "\n",
    "> ### Proposition 3:\n",
    "Let $A \\in \\mathbb{R}^{n \\times n}$ be nonsingular. Then we can solve $Ax = b$ using Gaussian elimination without row interchanges if and only if all leading principal submatrices of $A$ are nonsingular."
   ]
  },
  {
   "cell_type": "markdown",
   "metadata": {},
   "source": [
    "---"
   ]
  },
  {
   "cell_type": "markdown",
   "metadata": {},
   "source": [
    "## LU Decomposition"
   ]
  },
  {
   "cell_type": "markdown",
   "metadata": {},
   "source": [
    "We will now see that Gaussian elimination without row interchanges gives us a decomposition of the matrix $A$ into a lower-triangular matrix $L$ times an upper-triangular matrix $U$:\n",
    "\n",
    "$$\n",
    "A = LU.\n",
    "$$"
   ]
  },
  {
   "cell_type": "markdown",
   "metadata": {},
   "source": [
    "Recall that in Example 1, we had\n",
    "\n",
    "$$\n",
    "\\begin{array}{rcl}\n",
    "\\left[\\begin{array}{c|c}\n",
    "A & b\n",
    "\\end{array}\\right] \n",
    "= \n",
    "\\left[\\begin{array}{ccc|c}\n",
    "2 & 1 & 1 & 7 \\\\\n",
    "2 & 2 & -1 & 3 \\\\\n",
    "4 & -1 & 6 & 20\n",
    "\\end{array}\\right]\n",
    "& \\xrightarrow{(r_2 \\gets r_2 - r_1)} &\n",
    "\\left[\\begin{array}{ccc|c}\n",
    "2 & 1 & 1 & 7 \\\\\n",
    "0 & 1 & -2 & -4 \\\\\n",
    "4 & -1 & 6 & 20\n",
    "\\end{array}\\right] \\\\\n",
    "& \\xrightarrow{(r_3 \\gets r_3 - 2r_1)} &\n",
    "\\left[\\begin{array}{ccc|c}\n",
    "2 & 1 & 1 & 7 \\\\\n",
    "0 & 1 & -2 & -4 \\\\\n",
    "0 & -3 & 4 & 6\n",
    "\\end{array}\\right] \\\\\n",
    "& \\xrightarrow{(r_3 \\gets r_3 - (-3)r_2)} &\n",
    "\\left[\\begin{array}{ccc|c}\n",
    "2 & 1 & 1 & 7 \\\\\n",
    "0 & 1 & -2 & -4 \\\\\n",
    "0 & 0 & -2 & -6\n",
    "\\end{array}\\right] \n",
    "= \n",
    "\\left[\\begin{array}{c|c}\n",
    "U & y\n",
    "\\end{array}\\right].\n",
    "\\end{array}\n",
    "$$"
   ]
  },
  {
   "cell_type": "markdown",
   "metadata": {},
   "source": [
    "Let's look carefully at what is happening to the right-hand-side.\n",
    "\n",
    "We can see that $y$ has been computed from $b$ as follows:\n",
    "\n",
    "$$\n",
    "\\begin{array}{lllllr}\n",
    "y_1 &=&  b_1 &=& 7 & = & 7, \\\\\n",
    "y_2 &=&  b_2 - y_1 &=& 3 - 7 &=& -4,\\\\\n",
    "y_3 &=&  b_3 - 2y_1 - (-3)y_2 &=& 20 - 2 \\cdot 7 + 3 \\cdot (-4) &=& -6.\n",
    "\\end{array}\n",
    "$$"
   ]
  },
  {
   "cell_type": "markdown",
   "metadata": {},
   "source": [
    "We can write these equations in matrix form as\n",
    "\n",
    "$$\n",
    "\\begin{bmatrix}\n",
    "1 & 0 & 0 \\\\\n",
    "1 & 1 & 0 \\\\\n",
    "2 & -3 & 1 \\\\\n",
    "\\end{bmatrix}\n",
    "\\begin{bmatrix}\n",
    "y_1 \\\\ y_2 \\\\ y_3\n",
    "\\end{bmatrix}\n",
    "= \n",
    "\\begin{bmatrix}\n",
    "b_1 \\\\ b_2 \\\\ b_3\n",
    "\\end{bmatrix}\n",
    "\\qquad\n",
    "(Ly = b),\n",
    "$$\n",
    "\n",
    "where $L$ is lower-triangular with ones on the diagonal. We say that $L$ is a **unit lower-triangular matrix**."
   ]
  },
  {
   "cell_type": "markdown",
   "metadata": {},
   "source": [
    "Thus, we can solve $Ax = b$ using the following algorithm:\n",
    "\n",
    "1. Solve $Ly = b$ for $y$.\n",
    "2. Solve $Ux = y$ for $x$.\n",
    "\n",
    "This implies that $LUx = b$, and in fact\n",
    "\n",
    "$$\n",
    "LU = \n",
    "\\begin{bmatrix}\n",
    "1 &  &  \\\\\n",
    "1 & 1 &  \\\\\n",
    "2 & -3 & 1 \\\\\n",
    "\\end{bmatrix}\n",
    "\\begin{bmatrix}\n",
    "2 & 1 & 1 \\\\\n",
    " & 1 & -2 \\\\\n",
    " &  & -2\n",
    "\\end{bmatrix}\n",
    "=\n",
    "\\begin{bmatrix}\n",
    "2 & 1 & 1  \\\\\n",
    "2 & 2 & -1 \\\\\n",
    "4 & -1 & 6\n",
    "\\end{bmatrix}\n",
    "= A\n",
    "$$"
   ]
  },
  {
   "cell_type": "markdown",
   "metadata": {},
   "source": [
    "Therefore, Gaussian elimination without row interchanges gives us the $LU$-factorization\n",
    "\n",
    "$$\n",
    "A = LU,\n",
    "$$\n",
    "\n",
    "where $L$ is **unit lower-triangular** and $U$ is **upper-triangular**."
   ]
  },
  {
   "cell_type": "markdown",
   "metadata": {},
   "source": [
    "Since $L$ is known to have ones along its diagonal, we do not need to store the diagonal of $L$. This allows us to store the $LU$-factorization of $A$ in a single matrix:\n",
    "\n",
    "$$\n",
    "\"LU\" \\quad = \\quad \n",
    "\\begin{bmatrix}\n",
    "2 & 1 & 1 \\\\\n",
    "1 & 1 & -2 \\\\\n",
    "2 & -3 & -2\n",
    "\\end{bmatrix}\n",
    "$$\n",
    "\n",
    "In fact, we can overwrite the matrix $A$ with its $L$ and $U$ factors."
   ]
  },
  {
   "cell_type": "markdown",
   "metadata": {},
   "source": [
    "---"
   ]
  },
  {
   "cell_type": "markdown",
   "metadata": {},
   "source": [
    "## `lufact`\n",
    "\n",
    "In Julia, there are three different functions for computing the $LU$-factorization of a matrix $A$:\n",
    "\n",
    "- `lufact`\n",
    "- `lufact!`\n",
    "- `lu`\n",
    "\n",
    "We'll focus on the first two now and discuss the `lu` function in Section 1.8."
   ]
  },
  {
   "cell_type": "code",
   "execution_count": 13,
   "metadata": {
    "collapsed": false
   },
   "outputs": [
    {
     "name": "stdout",
     "output_type": "stream",
     "text": [
      "search: lufact lufact!\n",
      "\n"
     ]
    },
    {
     "data": {
      "text/markdown": [
       "```rst\n",
       "..  lufact(A [,pivot=Val{true}]) -> F\n",
       "\n",
       "Compute the LU factorization of ``A``. The return type of ``F`` depends on the type of ``A``. In most cases, if ``A`` is a subtype ``S`` of AbstractMatrix with an element type ``T`` supporting ``+``, ``-``, ``*`` and ``/`` the return type is ``LU{T,S{T}}``. If pivoting is chosen (default) the element type should also support ``abs`` and ``<``. When ``A`` is sparse and have element of type ``Float32``, ``Float64``, ``Complex{Float32}``, or ``Complex{Float64}`` the return type is ``UmfpackLU``. Some examples are shown in the table below.\n",
       "\n",
       "======================= ========================= ========================================\n",
       "Type of input ``A``     Type of output ``F``      Relationship between ``F`` and ``A``\n",
       "======================= ========================= ========================================\n",
       ":func:`Matrix`           ``LU``                   ``F[:L]*F[:U] == A[F[:p], :]``\n",
       ":func:`Tridiagonal`      ``LU{T,Tridiagonal{T}}`` ``F[:L]*F[:U] == A[F[:p], :]``\n",
       ":func:`SparseMatrixCSC`  ``UmfpackLU``            ``F[:L]*F[:U] == (F[:Rs] .* A)[F[:p], F[:q]]``\n",
       "======================= ========================= ========================================\n",
       "\n",
       "The individual components of the factorization ``F`` can be accessed by indexing:\n",
       "\n",
       "=========== ======================================= ====== ======================== =============\n",
       "Component   Description                             ``LU`` ``LU{T,Tridiagonal{T}}`` ``UmfpackLU``\n",
       "=========== ======================================= ====== ======================== =============\n",
       "``F[:L]``   ``L`` (lower triangular) part of ``LU``    ✓            ✓                        ✓\n",
       "``F[:U]``   ``U`` (upper triangular) part of ``LU``    ✓            ✓                        ✓\n",
       "``F[:p]``   (right) permutation ``Vector``             ✓            ✓                        ✓\n",
       "``F[:P]``   (right) permutation ``Matrix``             ✓            ✓\n",
       "``F[:q]``   left permutation ``Vector``                                                      ✓\n",
       "``F[:Rs]``  ``Vector`` of scaling factors                                                    ✓\n",
       "``F[:(:)]`` ``(L,U,p,q,Rs)`` components                                                      ✓\n",
       "=========== ======================================= ====== ======================== =============\n",
       "\n",
       "================== ====== ======================== =============\n",
       "Supported function ``LU`` ``LU{T,Tridiagonal{T}}`` ``UmfpackLU``\n",
       "================== ====== ======================== =============\n",
       "     ``/``            ✓\n",
       "     ``\\``            ✓                       ✓             ✓\n",
       "     ``cond``         ✓                                     ✓\n",
       "     ``det``          ✓                       ✓             ✓\n",
       "     ``logdet``       ✓                       ✓\n",
       "     ``logabsdet``    ✓                       ✓\n",
       "     ``size``         ✓                       ✓\n",
       "================== ====== ======================== =============\n",
       "```\n"
      ],
      "text/plain": [
       "```rst\n",
       "..  lufact(A [,pivot=Val{true}]) -> F\n",
       "\n",
       "Compute the LU factorization of ``A``. The return type of ``F`` depends on the type of ``A``. In most cases, if ``A`` is a subtype ``S`` of AbstractMatrix with an element type ``T`` supporting ``+``, ``-``, ``*`` and ``/`` the return type is ``LU{T,S{T}}``. If pivoting is chosen (default) the element type should also support ``abs`` and ``<``. When ``A`` is sparse and have element of type ``Float32``, ``Float64``, ``Complex{Float32}``, or ``Complex{Float64}`` the return type is ``UmfpackLU``. Some examples are shown in the table below.\n",
       "\n",
       "======================= ========================= ========================================\n",
       "Type of input ``A``     Type of output ``F``      Relationship between ``F`` and ``A``\n",
       "======================= ========================= ========================================\n",
       ":func:`Matrix`           ``LU``                   ``F[:L]*F[:U] == A[F[:p], :]``\n",
       ":func:`Tridiagonal`      ``LU{T,Tridiagonal{T}}`` ``F[:L]*F[:U] == A[F[:p], :]``\n",
       ":func:`SparseMatrixCSC`  ``UmfpackLU``            ``F[:L]*F[:U] == (F[:Rs] .* A)[F[:p], F[:q]]``\n",
       "======================= ========================= ========================================\n",
       "\n",
       "The individual components of the factorization ``F`` can be accessed by indexing:\n",
       "\n",
       "=========== ======================================= ====== ======================== =============\n",
       "Component   Description                             ``LU`` ``LU{T,Tridiagonal{T}}`` ``UmfpackLU``\n",
       "=========== ======================================= ====== ======================== =============\n",
       "``F[:L]``   ``L`` (lower triangular) part of ``LU``    ✓            ✓                        ✓\n",
       "``F[:U]``   ``U`` (upper triangular) part of ``LU``    ✓            ✓                        ✓\n",
       "``F[:p]``   (right) permutation ``Vector``             ✓            ✓                        ✓\n",
       "``F[:P]``   (right) permutation ``Matrix``             ✓            ✓\n",
       "``F[:q]``   left permutation ``Vector``                                                      ✓\n",
       "``F[:Rs]``  ``Vector`` of scaling factors                                                    ✓\n",
       "``F[:(:)]`` ``(L,U,p,q,Rs)`` components                                                      ✓\n",
       "=========== ======================================= ====== ======================== =============\n",
       "\n",
       "================== ====== ======================== =============\n",
       "Supported function ``LU`` ``LU{T,Tridiagonal{T}}`` ``UmfpackLU``\n",
       "================== ====== ======================== =============\n",
       "     ``/``            ✓\n",
       "     ``\\``            ✓                       ✓             ✓\n",
       "     ``cond``         ✓                                     ✓\n",
       "     ``det``          ✓                       ✓             ✓\n",
       "     ``logdet``       ✓                       ✓\n",
       "     ``logabsdet``    ✓                       ✓\n",
       "     ``size``         ✓                       ✓\n",
       "================== ====== ======================== =============\n",
       "```\n"
      ]
     },
     "execution_count": 13,
     "metadata": {},
     "output_type": "execute_result"
    }
   ],
   "source": [
    "?lufact"
   ]
  },
  {
   "cell_type": "code",
   "execution_count": 14,
   "metadata": {
    "collapsed": false
   },
   "outputs": [
    {
     "data": {
      "text/plain": [
       "Base.LinAlg.LU{Float64,Array{Float64,2}}(3x3 Array{Float64,2}:\n",
       " 2.0   1.0   1.0\n",
       " 1.0   1.0  -2.0\n",
       " 2.0  -3.0  -2.0,[1,2,3],0)"
      ]
     },
     "execution_count": 14,
     "metadata": {},
     "output_type": "execute_result"
    }
   ],
   "source": [
    "A = Float64[2 1 1; 2 2 -1; 4 -1 6]\n",
    "b = Float64[7; 3; 20]\n",
    "pivot = Val{false}\n",
    "\n",
    "F = lufact(A, pivot)"
   ]
  },
  {
   "cell_type": "code",
   "execution_count": 18,
   "metadata": {
    "collapsed": false
   },
   "outputs": [
    {
     "data": {
      "text/plain": [
       "3x3 Array{Float64,2}:\n",
       " 2.0   1.0   1.0\n",
       " 1.0   1.0  -2.0\n",
       " 2.0  -3.0  -2.0"
      ]
     },
     "execution_count": 18,
     "metadata": {},
     "output_type": "execute_result"
    }
   ],
   "source": [
    "F.factors"
   ]
  },
  {
   "cell_type": "code",
   "execution_count": 21,
   "metadata": {
    "collapsed": false
   },
   "outputs": [
    {
     "data": {
      "text/plain": [
       "Symbol"
      ]
     },
     "execution_count": 21,
     "metadata": {},
     "output_type": "execute_result"
    }
   ],
   "source": [
    "typeof(:L)"
   ]
  },
  {
   "cell_type": "code",
   "execution_count": 22,
   "metadata": {
    "collapsed": false
   },
   "outputs": [
    {
     "data": {
      "text/plain": [
       "3x3 Array{Float64,2}:\n",
       " 1.0   0.0  0.0\n",
       " 1.0   1.0  0.0\n",
       " 2.0  -3.0  1.0"
      ]
     },
     "execution_count": 22,
     "metadata": {},
     "output_type": "execute_result"
    }
   ],
   "source": [
    "F[:L]"
   ]
  },
  {
   "cell_type": "code",
   "execution_count": 23,
   "metadata": {
    "collapsed": false
   },
   "outputs": [
    {
     "data": {
      "text/plain": [
       "3x3 Array{Float64,2}:\n",
       " 2.0  1.0   1.0\n",
       " 0.0  1.0  -2.0\n",
       " 0.0  0.0  -2.0"
      ]
     },
     "execution_count": 23,
     "metadata": {},
     "output_type": "execute_result"
    }
   ],
   "source": [
    "F[:U]"
   ]
  },
  {
   "cell_type": "code",
   "execution_count": 25,
   "metadata": {
    "collapsed": false
   },
   "outputs": [
    {
     "data": {
      "text/plain": [
       "3x3 Array{Float64,2}:\n",
       " 0.0  0.0  0.0\n",
       " 0.0  0.0  0.0\n",
       " 0.0  0.0  0.0"
      ]
     },
     "execution_count": 25,
     "metadata": {},
     "output_type": "execute_result"
    }
   ],
   "source": [
    "F[:L]*F[:U] - A"
   ]
  },
  {
   "cell_type": "code",
   "execution_count": 26,
   "metadata": {
    "collapsed": false
   },
   "outputs": [
    {
     "data": {
      "text/plain": [
       "3-element Array{Float64,1}:\n",
       " 1.0\n",
       " 2.0\n",
       " 3.0"
      ]
     },
     "execution_count": 26,
     "metadata": {},
     "output_type": "execute_result"
    }
   ],
   "source": [
    "x = F\\b"
   ]
  },
  {
   "cell_type": "code",
   "execution_count": 27,
   "metadata": {
    "collapsed": false
   },
   "outputs": [
    {
     "data": {
      "text/plain": [
       "3-element Array{Float64,1}:\n",
       " 1.0\n",
       " 2.0\n",
       " 3.0"
      ]
     },
     "execution_count": 27,
     "metadata": {},
     "output_type": "execute_result"
    }
   ],
   "source": [
    "x = F[:U]\\(F[:L]\\b)"
   ]
  },
  {
   "cell_type": "markdown",
   "metadata": {},
   "source": [
    "---"
   ]
  },
  {
   "cell_type": "markdown",
   "metadata": {},
   "source": [
    "As mentioned above, if you don't need $A$ after doing the $LU$-factorization, and you want to save some memory, you can have $A$ **overwritten** by the $L$ and $U$ factors.\n",
    "\n",
    "This is done using the `lufact!` function."
   ]
  },
  {
   "cell_type": "code",
   "execution_count": 28,
   "metadata": {
    "collapsed": false
   },
   "outputs": [
    {
     "data": {
      "text/plain": [
       "3x3 Array{Float64,2}:\n",
       " 2.0   1.0   1.0\n",
       " 2.0   2.0  -1.0\n",
       " 4.0  -1.0   6.0"
      ]
     },
     "execution_count": 28,
     "metadata": {},
     "output_type": "execute_result"
    }
   ],
   "source": [
    "A = Float64[2 1 1; 2 2 -1; 4 -1 6]"
   ]
  },
  {
   "cell_type": "code",
   "execution_count": 29,
   "metadata": {
    "collapsed": false
   },
   "outputs": [
    {
     "data": {
      "text/plain": [
       "Base.LinAlg.LU{Float64,Array{Float64,2}}(3x3 Array{Float64,2}:\n",
       " 2.0   1.0   1.0\n",
       " 1.0   1.0  -2.0\n",
       " 2.0  -3.0  -2.0,[1,2,3],0)"
      ]
     },
     "execution_count": 29,
     "metadata": {},
     "output_type": "execute_result"
    }
   ],
   "source": [
    "pivot = Val{false}\n",
    "lufact!(A, pivot)"
   ]
  },
  {
   "cell_type": "code",
   "execution_count": 30,
   "metadata": {
    "collapsed": false
   },
   "outputs": [
    {
     "data": {
      "text/plain": [
       "3x3 Array{Float64,2}:\n",
       " 2.0   1.0   1.0\n",
       " 1.0   1.0  -2.0\n",
       " 2.0  -3.0  -2.0"
      ]
     },
     "execution_count": 30,
     "metadata": {},
     "output_type": "execute_result"
    }
   ],
   "source": [
    "A"
   ]
  },
  {
   "cell_type": "markdown",
   "metadata": {},
   "source": [
    "---"
   ]
  },
  {
   "cell_type": "code",
   "execution_count": 32,
   "metadata": {
    "collapsed": false
   },
   "outputs": [
    {
     "data": {
      "text/plain": [
       "3x3 Array{Float64,2}:\n",
       " 2.0   1.0   1.0\n",
       " 2.0   2.0  -1.0\n",
       " 4.0  -1.0   6.0"
      ]
     },
     "execution_count": 32,
     "metadata": {},
     "output_type": "execute_result"
    }
   ],
   "source": [
    "A = Float64[2 1 1; 2 2 -1; 4 -1 6]"
   ]
  },
  {
   "cell_type": "code",
   "execution_count": 33,
   "metadata": {
    "collapsed": false
   },
   "outputs": [
    {
     "name": "stdout",
     "output_type": "stream",
     "text": [
      "search: lu lufact lufact! flush flush_cstdio ClusterManager values include\n",
      "\n"
     ]
    },
    {
     "data": {
      "text/markdown": [
       "```\n",
       "lu(A) -> L, U, p\n",
       "```\n",
       "\n",
       "Compute the LU factorization of `A`, such that `A[p,:] = L*U`.\n"
      ],
      "text/plain": [
       "```\n",
       "lu(A) -> L, U, p\n",
       "```\n",
       "\n",
       "Compute the LU factorization of `A`, such that `A[p,:] = L*U`.\n"
      ]
     },
     "execution_count": 33,
     "metadata": {},
     "output_type": "execute_result"
    }
   ],
   "source": [
    "?lu"
   ]
  },
  {
   "cell_type": "code",
   "execution_count": 37,
   "metadata": {
    "collapsed": false
   },
   "outputs": [
    {
     "data": {
      "text/plain": [
       "(\n",
       "3x3 Array{Float64,2}:\n",
       " 1.0   0.0  0.0\n",
       " 1.0   1.0  0.0\n",
       " 2.0  -3.0  1.0,\n",
       "\n",
       "3x3 Array{Float64,2}:\n",
       " 2.0  1.0   1.0\n",
       " 0.0  1.0  -2.0\n",
       " 0.0  0.0  -2.0,\n",
       "\n",
       "[1,2,3])"
      ]
     },
     "execution_count": 37,
     "metadata": {},
     "output_type": "execute_result"
    }
   ],
   "source": [
    "L, U, p = lu(A, Val{false})"
   ]
  },
  {
   "cell_type": "markdown",
   "metadata": {},
   "source": [
    "---"
   ]
  },
  {
   "cell_type": "code",
   "execution_count": 38,
   "metadata": {
    "collapsed": false
   },
   "outputs": [
    {
     "data": {
      "text/plain": [
       "3x3 Array{Float64,2}:\n",
       " 2.0   2.0   1.0\n",
       " 2.0   2.0  -1.0\n",
       " 4.0  -1.0   6.0"
      ]
     },
     "execution_count": 38,
     "metadata": {},
     "output_type": "execute_result"
    }
   ],
   "source": [
    "A = Float64[2 2 1; 2 2 -1; 4 -1 6]"
   ]
  },
  {
   "cell_type": "code",
   "execution_count": 39,
   "metadata": {
    "collapsed": false
   },
   "outputs": [
    {
     "data": {
      "text/plain": [
       "(\n",
       "3x3 Array{Float64,2}:\n",
       " 1.0   0.0  0.0\n",
       " 1.0   1.0  0.0\n",
       " 2.0  -5.0  1.0,\n",
       "\n",
       "3x3 Array{Float64,2}:\n",
       " 2.0  2.0   1.0\n",
       " 0.0  0.0  -2.0\n",
       " 0.0  0.0  -6.0,\n",
       "\n",
       "[1,2,3])"
      ]
     },
     "execution_count": 39,
     "metadata": {},
     "output_type": "execute_result"
    }
   ],
   "source": [
    "L, U, p = lu(A, Val{false})"
   ]
  },
  {
   "cell_type": "code",
   "execution_count": 41,
   "metadata": {
    "collapsed": false
   },
   "outputs": [
    {
     "data": {
      "text/plain": [
       "Base.LinAlg.LU{Float64,Array{Float64,2}}(3x3 Array{Float64,2}:\n",
       " 2.0   2.0   1.0\n",
       " 1.0   0.0  -2.0\n",
       " 2.0  -5.0  -6.0,[1,2,3],2)"
      ]
     },
     "execution_count": 41,
     "metadata": {},
     "output_type": "execute_result"
    }
   ],
   "source": [
    "F = lufact(A, Val{false})"
   ]
  },
  {
   "cell_type": "code",
   "execution_count": 43,
   "metadata": {
    "collapsed": false
   },
   "outputs": [
    {
     "data": {
      "text/plain": [
       "(\n",
       "3x3 Array{Float64,2}:\n",
       " 1.0  0.0  0.0\n",
       " 0.5  1.0  0.0\n",
       " 0.5  1.0  1.0,\n",
       "\n",
       "3x3 Array{Float64,2}:\n",
       " 4.0  -1.0   6.0\n",
       " 0.0   2.5  -4.0\n",
       " 0.0   0.0   2.0,\n",
       "\n",
       "[3,2,1])"
      ]
     },
     "execution_count": 43,
     "metadata": {},
     "output_type": "execute_result"
    }
   ],
   "source": [
    "L, U, p = lu(A)"
   ]
  },
  {
   "cell_type": "code",
   "execution_count": 44,
   "metadata": {
    "collapsed": false
   },
   "outputs": [
    {
     "data": {
      "text/plain": [
       "3x3 Array{Float64,2}:\n",
       " 4.0  -1.0   6.0\n",
       " 2.0   2.0  -1.0\n",
       " 2.0   2.0   1.0"
      ]
     },
     "execution_count": 44,
     "metadata": {},
     "output_type": "execute_result"
    }
   ],
   "source": [
    "L*U"
   ]
  },
  {
   "cell_type": "code",
   "execution_count": 45,
   "metadata": {
    "collapsed": false
   },
   "outputs": [
    {
     "data": {
      "text/plain": [
       "3x3 Array{Float64,2}:\n",
       " 2.0   2.0   1.0\n",
       " 2.0   2.0  -1.0\n",
       " 4.0  -1.0   6.0"
      ]
     },
     "execution_count": 45,
     "metadata": {},
     "output_type": "execute_result"
    }
   ],
   "source": [
    "A"
   ]
  },
  {
   "cell_type": "code",
   "execution_count": 46,
   "metadata": {
    "collapsed": false
   },
   "outputs": [
    {
     "data": {
      "text/plain": [
       "3x3 Array{Float64,2}:\n",
       " 4.0  -1.0   6.0\n",
       " 2.0   2.0  -1.0\n",
       " 2.0   2.0   1.0"
      ]
     },
     "execution_count": 46,
     "metadata": {},
     "output_type": "execute_result"
    }
   ],
   "source": [
    "A[p,:]"
   ]
  },
  {
   "cell_type": "markdown",
   "metadata": {},
   "source": [
    "---"
   ]
  },
  {
   "cell_type": "markdown",
   "metadata": {},
   "source": [
    "## A larger numerical example"
   ]
  },
  {
   "cell_type": "code",
   "execution_count": 48,
   "metadata": {
    "collapsed": false
   },
   "outputs": [
    {
     "name": "stdout",
     "output_type": "stream",
     "text": [
      "  0.322542 seconds (11 allocations: 23.828 KB)\n"
     ]
    }
   ],
   "source": [
    "n = 3000\n",
    "\n",
    "A = randn(n, n) + n*eye(n)\n",
    "x = rand(n)\n",
    "b = A*x;\n",
    "\n",
    "@time F = lufact!(A);"
   ]
  },
  {
   "cell_type": "code",
   "execution_count": 50,
   "metadata": {
    "collapsed": false
   },
   "outputs": [
    {
     "name": "stdout",
     "output_type": "stream",
     "text": [
      "  0.012996 seconds (5 allocations: 240 bytes)\n",
      "norm(x - xhat) = 5.305059948689049e-14\n"
     ]
    }
   ],
   "source": [
    "xhat = copy(b)\n",
    "@time A_ldiv_B!(F, xhat)\n",
    "@show norm(x - xhat);"
   ]
  },
  {
   "cell_type": "markdown",
   "metadata": {},
   "source": [
    "---"
   ]
  },
  {
   "cell_type": "markdown",
   "metadata": {},
   "source": [
    "## Outer-product form of the $LU$-algorithm\n",
    "\n",
    "We partition $A = LU$ as \n",
    "\n",
    "$$\n",
    "\\begin{bmatrix}\n",
    "a_{11} & b^T \\\\\n",
    "c & \\hat{A} \\\\\n",
    "\\end{bmatrix}\n",
    "=\n",
    "\\begin{bmatrix}\n",
    "1 & 0 \\\\\n",
    "l & \\hat{L} \\\\\n",
    "\\end{bmatrix}\n",
    "\\begin{bmatrix}\n",
    "u_{11} & u^T \\\\\n",
    "0 & \\hat{U} \\\\\n",
    "\\end{bmatrix}\n",
    "=\n",
    "\\begin{bmatrix}\n",
    "u_{11} & u^T \\\\\n",
    "u_{11}l & lu^T + \\hat{L}\\hat{U} \\\\\n",
    "\\end{bmatrix}.\n",
    "$$\n",
    "\n",
    "This gives us the following algorithm.\n",
    "\n",
    "### Algorithm:\n",
    "\n",
    "1. Let $u_{11} = a_{11}$ and $u^T = b^T$.\n",
    "2. Let $l = c/u_{11}$.\n",
    "3. Let $\\tilde{A} = \\hat{A} - lu^T$.\n",
    "4. Factor $\\tilde{A} = \\hat{L}\\hat{U}$."
   ]
  },
  {
   "cell_type": "markdown",
   "metadata": {},
   "source": [
    "### Flop count of the $LU$-algorithm\n",
    "\n",
    "We can use the above recursive algorithm to count the number of flops.\n",
    "\n",
    "Let $f_n$ be the number of flops required to compute the $LU$-decomposition of an $n \\times n$ matrix $A$.\n",
    "\n",
    "- Step 1 requires 0 flops.\n",
    "- Step 2 requires $n-1$ flops.\n",
    "- Step 3 requires $2(n-1)^2$ flops.\n",
    "- Step 4 requires $f_{n-1}$ flops."
   ]
  },
  {
   "cell_type": "markdown",
   "metadata": {},
   "source": [
    "Therefore,\n",
    "\n",
    "$$\n",
    "f_n = (n-1) + 2(n-1)^2 + f_{n-1}, \\qquad n = 2, 3, 4, \\ldots.\n",
    "$$\n",
    "\n",
    "Also, $f_1 = 0$.\n",
    "\n",
    "Letting $g(n) = 2n^2 + n$, we have\n",
    "\n",
    "$$\n",
    "\\begin{align}\n",
    "f_n \n",
    "&= g(n-1) + f_{n-1} \\\\\n",
    "&= g(n-1) + g(n-2) + f_{n-2} \\\\\n",
    "&= g(n-1) + g(n-2) + g(n-3) + f_{n-3} \\\\\n",
    "&\\quad\\vdots \\\\\n",
    "&= g(n-1) + g(n-2) + g(n-3) + \\cdots + g(1) + f_1 \\\\\n",
    "&= \\sum_{i=1}^{n-1} g(i) + 0 \\\\\n",
    "&= \\sum_{i=1}^{n-1} \\left( 2i^2 + i \\right) \\\\\n",
    "&= \\int_0^n \\left(2x^2 + x\\right)dx + O(n^2) \\\\\n",
    "&= \\fbox{$\\frac23 n^3 + O(n^2)$}. \\\\\n",
    "\\end{align}\n",
    "$$"
   ]
  },
  {
   "cell_type": "markdown",
   "metadata": {},
   "source": [
    "So, we conclude that Gaussian elimination requires about $\\frac23 n^3$ flops (i.e., roughly twice as many flops as Cholesky's algorithm)."
   ]
  },
  {
   "cell_type": "markdown",
   "metadata": {},
   "source": [
    "---"
   ]
  },
  {
   "cell_type": "markdown",
   "metadata": {},
   "source": [
    "## The LU Decomposition Theorem\n",
    "\n",
    "> ### Theorem: (LU Decomposition)\n",
    ">\n",
    "Let $A$ be an $n \\times n$ matrix whose leading principal submatrices are nonsingular.\n",
    ">\n",
    "Then there is a **unique** factorization\n",
    ">\n",
    "$$A = LU$$\n",
    ">\n",
    "where $L$ is unit lower-triangular and $U$ is upper-triangular."
   ]
  },
  {
   "cell_type": "markdown",
   "metadata": {},
   "source": [
    "### Proof.\n",
    "\n",
    "We will prove this theorem by induction on $n$.\n",
    "\n",
    "If $n = 1$, then $A = [a_{11}]$. If $A = LU$, where $L$ is unit lower-triangular and $U$ is upper-triangular, then $L = [1]$ and $U = [a_{11}]$. Therefore, $A$ has a unique $LU$-decomposition.\n",
    "\n",
    "Now suppose that all $(n-1) \\times (n-1)$ matrices with nonsingular leading principal submatrices have a unique $LU$-decomposition. This is our *induction hypothesis*.\n",
    "\n"
   ]
  },
  {
   "cell_type": "markdown",
   "metadata": {},
   "source": [
    "Let $A$ be an $n \\times n$ matrix with nonsingular leading principal submatrices and consider the following \"bordered\" partition of $A = LU$.\n",
    "\n",
    "$$\n",
    "\\tag{2}\n",
    "\\begin{bmatrix}\n",
    "\\hat{A} & b \\\\\n",
    "c^T & a_{nn}\n",
    "\\end{bmatrix}\n",
    "=\n",
    "\\begin{bmatrix}\n",
    "\\hat{L} & 0 \\\\\n",
    "l^T & 1\n",
    "\\end{bmatrix}\n",
    "\\begin{bmatrix}\n",
    "\\hat{U} & u \\\\\n",
    "0 & u_{nn}\n",
    "\\end{bmatrix}\n",
    "$$\n",
    "\n",
    "We want to show that there is a unique solution to equation (2), where $\\hat{L}$ is unit lower-triangular and $\\hat{U}$ is upper-triangular."
   ]
  },
  {
   "cell_type": "markdown",
   "metadata": {},
   "source": [
    "We can rewrite equation (2) as:\n",
    "\n",
    "$$\n",
    "\\hat{A} = \\hat{L}\\hat{U}, \\quad b = \\hat{L}u, \\quad c^T = l^T\\hat{U}, \\quad a_{nn} = l^Tu + u_{nn}.\n",
    "$$\n",
    "\n",
    "- Since $A$ has nonsingular leading principal submatrices, so does $\\hat{A}$. And since $\\hat{A}$ is $(n-1) \\times (n-1)$, we know that $\\hat{A}$ has a unique $LU$-decomposition, by our induction hypothesis. Thus, there exist a **unique** $\\hat{L}$ that is unit lower-triangular and a **unique** $\\hat{U}$ that is upper-triangular such that $\\hat{A} = \\hat{L}\\hat{U}$.\n",
    "\n",
    "- Since $\\hat{L}$ is nonsingular, there exists a **unique** solution $u$ to the equation $\\hat{L}u = b$.\n",
    "\n",
    "- Also, $\\hat{U}$ is nonsingular because $\\hat{A}$ is nonsingular. Therefore, there exists a **unique** solution $l$ to the equation $\\hat{U}^Tl = c$.\n",
    "\n",
    "- Finally, $u_{nn} = a_{nn} - l^Tu$, so $u_{nn}$ is also **uniquely determined**.\n",
    "\n",
    "Therefore, $A$ has a **unique** $LU$-decomposition. $\\blacksquare$"
   ]
  },
  {
   "cell_type": "markdown",
   "metadata": {},
   "source": [
    "---"
   ]
  }
 ],
 "metadata": {
  "kernelspec": {
   "display_name": "Julia 0.4.6",
   "language": "julia",
   "name": "julia-0.4"
  },
  "language_info": {
   "file_extension": ".jl",
   "mimetype": "application/julia",
   "name": "julia",
   "version": "0.4.6"
  }
 },
 "nbformat": 4,
 "nbformat_minor": 0
}
