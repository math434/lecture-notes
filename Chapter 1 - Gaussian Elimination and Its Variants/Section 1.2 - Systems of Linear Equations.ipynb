{
 "cells": [
  {
   "cell_type": "markdown",
   "metadata": {},
   "source": [
    "---\n",
    "# Section 1.2: Systems of Linear Equations\n",
    "---"
   ]
  },
  {
   "cell_type": "markdown",
   "metadata": {},
   "source": [
    "Given $A \\in \\mathbb{R}^{n \\times n}$ and $b \\in \\mathbb{R}^n$, find $x \\in \\mathbb{R}^n$ such that:\n",
    "\n",
    "$$\n",
    "Ax = b.\n",
    "$$\n",
    "\n",
    "The equation $Ax = b$ either:\n",
    "\n",
    "1. has no solution;\n",
    "2. has exactly one solution;\n",
    "3. has infinitely many solutions.\n",
    "\n",
    "In fact, $Ax = b$ has a unique solution $x$ _if and only if_ the matrix $A$ is **nonsingular**."
   ]
  },
  {
   "cell_type": "markdown",
   "metadata": {},
   "source": [
    "If there is a matrix $B \\in \\mathbb{R}^{n \\times n}$ such that\n",
    "\n",
    "$$\n",
    "AB = BA = I,\n",
    "$$\n",
    "\n",
    "where $I$ is the **identity matrix**, then we say that $B$ is the **inverse** of $A$, and we write\n",
    "\n",
    "$$\n",
    "B = A^{-1}.\n",
    "$$"
   ]
  },
  {
   "cell_type": "markdown",
   "metadata": {},
   "source": [
    "> ### Theorem:\n",
    "> Let $A \\in \\mathbb{R}^{n \\times n}$. Then the following are equivalent:\n",
    ">\n",
    "> 1. $A^{-1}$ exists.\n",
    "> 2. There is no nonzero $y$ such that $Ay = 0$.\n",
    "> 3. The columns of $A$ are linearly independent.\n",
    "> 4. The rows of $A$ are linearly independent.\n",
    "> 5. $\\det(A) \\neq 0$.\n",
    "> 6. For any $b \\in \\mathbb{R}^n$, there is exactly one $x \\in \\mathbb{R}^n$ such that $Ax = b$."
   ]
  },
  {
   "cell_type": "markdown",
   "metadata": {},
   "source": [
    "If $A$ is nonsingular, then\n",
    "\n",
    "$$\n",
    "\\begin{align}\n",
    "Ax = b \n",
    "&\\quad \\implies \\quad A^{-1}Ax = A^{-1}b \\\\\n",
    "&\\quad \\implies \\quad Ix = A^{-1}b \\\\\n",
    "&\\quad \\implies \\quad \\fbox{$x = A^{-1}b$}. \\\\\n",
    "\\end{align}\n",
    "$$"
   ]
  },
  {
   "cell_type": "markdown",
   "metadata": {},
   "source": [
    "---"
   ]
  },
  {
   "cell_type": "markdown",
   "metadata": {},
   "source": [
    "### Exercise:\n",
    "\n",
    "Use the `inv` function to compute the inverse of a random matrix. Check that the computed inverse is correct."
   ]
  },
  {
   "cell_type": "code",
   "execution_count": null,
   "metadata": {},
   "outputs": [],
   "source": []
  },
  {
   "cell_type": "markdown",
   "metadata": {},
   "source": [
    "---"
   ]
  },
  {
   "cell_type": "markdown",
   "metadata": {},
   "source": [
    "### Exercise:\n",
    "\n",
    "In `Julia` (also in `MATLAB`), the linear system $Ax = b$ is solve using the \"backslash\" command: `\\`.\n",
    "\n",
    "Use the `\\` function to compute the solution of a random linear system $Ax = b$."
   ]
  },
  {
   "cell_type": "code",
   "execution_count": null,
   "metadata": {},
   "outputs": [],
   "source": []
  },
  {
   "cell_type": "markdown",
   "metadata": {},
   "source": [
    "---"
   ]
  },
  {
   "cell_type": "markdown",
   "metadata": {},
   "source": [
    "### Exercise:\n",
    "\n",
    "Which is better, `x = A\\b` or `x = inv(A)*b`?"
   ]
  },
  {
   "cell_type": "code",
   "execution_count": null,
   "metadata": {},
   "outputs": [],
   "source": []
  },
  {
   "cell_type": "markdown",
   "metadata": {},
   "source": [
    "---"
   ]
  }
 ],
 "metadata": {
  "@webio": {
   "lastCommId": null,
   "lastKernelId": null
  },
  "kernelspec": {
   "display_name": "Julia 1.2.0",
   "language": "julia",
   "name": "julia-1.2"
  },
  "language_info": {
   "file_extension": ".jl",
   "mimetype": "application/julia",
   "name": "julia",
   "version": "1.2.0"
  }
 },
 "nbformat": 4,
 "nbformat_minor": 1
}
