{
 "cells": [
  {
   "cell_type": "markdown",
   "metadata": {},
   "source": [
    "---\n",
    "# Section 1.5: Banded Positive Definite Systems\n",
    "---"
   ]
  },
  {
   "cell_type": "markdown",
   "metadata": {},
   "source": [
    "An $n \\times n$ matrix $A$ is **banded** with **bandwidth** $2s + 1$ (and **semibandwidth** $s$) if $A$ has the following structure ($* =$ nonzero entry).\n",
    "\n",
    "$$\n",
    "A = \n",
    "\\begin{bmatrix}\n",
    "* \\\\\n",
    "  & * \\\\\n",
    "  &   & * \\\\\n",
    "  &   &   & * \\\\\n",
    "  &   &   &   & * \\\\\n",
    "  &   &   &   &   & * \\\\\n",
    "\\end{bmatrix}\n",
    "\\quad (\\text{bandwidth $= 1$; semibandwidth $= 0$})\n",
    "$$\n",
    "\n",
    "$$\n",
    "A = \n",
    "\\begin{bmatrix}\n",
    "* & * \\\\\n",
    "* & * & * \\\\\n",
    "  & * & * & * \\\\\n",
    "  &   & * & * & * \\\\\n",
    "  &   &   & * & * & * \\\\\n",
    "  &   &   &   & * & * \\\\\n",
    "\\end{bmatrix}\n",
    "\\quad (\\text{bandwidth $= 3$; semibandwidth $= 1$})\n",
    "$$\n",
    "\n",
    "$$\n",
    "A = \n",
    "\\begin{bmatrix}\n",
    "* & * & *  \\\\\n",
    "* & * & * & * \\\\\n",
    "* & * & * & * & * \\\\\n",
    "  & * & * & * & * & * \\\\\n",
    "  &   & * & * & * & * \\\\\n",
    "  &   &   & * & * & * \\\\\n",
    "\\end{bmatrix}\n",
    "\\quad (\\text{bandwidth $= 5$; semibandwidth $= 2$})\n",
    "$$\n",
    "\n",
    "\n"
   ]
  },
  {
   "cell_type": "markdown",
   "metadata": {},
   "source": [
    "The **column envelope** of a matrix $A$ is the set of indices $(i,j)$ in the upper-triangular part of $A$ for which there is a nonzero in column $j$ at or above row $i$:\n",
    "\n",
    "$$\n",
    "\\mathrm{colenv}(A) = \\big\\{ (i,j) : \\text{$i \\leq j$ and some $a_{kj} \\neq 0$ where $k \\leq i$} \\big\\}\n",
    "$$"
   ]
  },
  {
   "cell_type": "markdown",
   "metadata": {},
   "source": [
    "For example:\n",
    "\n",
    "$$\n",
    "A = \n",
    "\\begin{bmatrix}\n",
    "* & * \\\\\n",
    "* & * & * \\\\\n",
    "  & * & * & * \\\\\n",
    "  &   & * & * & * \\\\\n",
    "  &   &   & * & * \\\\\n",
    "\\end{bmatrix},\n",
    "\\qquad\n",
    "\\mathrm{colenv}(A) : \n",
    "\\begin{bmatrix}\n",
    "* & * \\\\\n",
    "  & * & * \\\\\n",
    "  &   & * & * \\\\\n",
    "  &   &   & * & * \\\\\n",
    "  &   &   &   & * \\\\\n",
    "\\end{bmatrix}\n",
    "$$\n",
    "\n",
    "$$\n",
    "A = \n",
    "\\begin{bmatrix}\n",
    "* &   & * \\\\\n",
    "  & * &   &   & * \\\\\n",
    "* &   & * & * \\\\\n",
    "  &   & * & * \\\\\n",
    "  & * &   &   & *\n",
    "\\end{bmatrix},\n",
    "\\qquad\n",
    "\\mathrm{colenv}(A) : \n",
    "\\begin{bmatrix}\n",
    "* &   & * \\\\\n",
    "  & * & * &   & * \\\\\n",
    "  &   & * & * & * \\\\\n",
    "  &   &   & * & * \\\\\n",
    "  &   &   &   & *\n",
    "\\end{bmatrix}\n",
    "$$"
   ]
  },
  {
   "cell_type": "markdown",
   "metadata": {},
   "source": [
    "---"
   ]
  },
  {
   "cell_type": "markdown",
   "metadata": {},
   "source": [
    "## Cholesky Decomposition fill-in\n",
    "\n",
    "We will see in the following examples that the fill-in that occurs in the Cholesky factor $R$ is contained in the column envelope of $A$."
   ]
  },
  {
   "cell_type": "code",
   "execution_count": null,
   "metadata": {
    "collapsed": false
   },
   "outputs": [],
   "source": [
    "A = Float64[3 0 1 0 0; 0 3 0 0 1; 1 0 3 1 0; 0 0 1 3 0; 0 1 0 0 3]"
   ]
  },
  {
   "cell_type": "code",
   "execution_count": null,
   "metadata": {
    "collapsed": false
   },
   "outputs": [],
   "source": [
    "R = chol(A)"
   ]
  },
  {
   "cell_type": "code",
   "execution_count": null,
   "metadata": {
    "collapsed": false
   },
   "outputs": [],
   "source": [
    "using PyPlot\n",
    "\n",
    "subplot(1, 2, 1)\n",
    "spy(A)\n",
    "title(L\"A\")\n",
    "xticks([])\n",
    "yticks([])\n",
    "\n",
    "subplot(1, 2, 2)\n",
    "spy(R)\n",
    "title(L\"R\")\n",
    "xticks([])\n",
    "yticks([]);"
   ]
  },
  {
   "cell_type": "markdown",
   "metadata": {},
   "source": [
    "---"
   ]
  },
  {
   "cell_type": "code",
   "execution_count": null,
   "metadata": {
    "collapsed": false
   },
   "outputs": [],
   "source": [
    "?sprandn"
   ]
  },
  {
   "cell_type": "code",
   "execution_count": null,
   "metadata": {
    "collapsed": false
   },
   "outputs": [],
   "source": [
    "n = 100\n",
    "p = 0.01\n",
    "A = sprandn(n, n, p) + n*speye(n)\n",
    "A = (A + A')/2\n",
    "R = chol(full(A))\n",
    "\n",
    "subplot(1, 2, 1)\n",
    "spy(A)\n",
    "title(L\"A\")\n",
    "xticks([])\n",
    "yticks([])\n",
    "xlabel(\"nnz = $(countnz(A))\")\n",
    "\n",
    "subplot(1, 2, 2)\n",
    "spy(R)\n",
    "title(L\"R\")\n",
    "xticks([])\n",
    "yticks([])\n",
    "xlabel(\"nnz = $(countnz(R))\");"
   ]
  },
  {
   "cell_type": "markdown",
   "metadata": {},
   "source": [
    "---"
   ]
  },
  {
   "cell_type": "markdown",
   "metadata": {},
   "source": [
    "> ### Theorem:\n",
    "Let $A$ be positive definite. If $R$ is the Cholesky factor of $A$, then\n",
    ">\n",
    "$$\n",
    "\\mathrm{colenv}(R) = \\mathrm{colenv}(A).\n",
    "$$"
   ]
  },
  {
   "cell_type": "markdown",
   "metadata": {},
   "source": [
    "### Proof.\n",
    "\n",
    "We will use the bordered form of Cholesky's Method:\n",
    "\n",
    "$$\n",
    "\\begin{bmatrix}\n",
    "\\hat{A} & c \\\\\n",
    "c^T & a_{nn} \\\\\n",
    "\\end{bmatrix} \n",
    "= \n",
    "\\begin{bmatrix}\n",
    "\\hat{R}^T & 0 \\\\\n",
    "h^T & r_{nn} \\\\\n",
    "\\end{bmatrix}\n",
    "\\begin{bmatrix}\n",
    "\\hat{R} & h \\\\\n",
    "0 & r_{nn} \\\\\n",
    "\\end{bmatrix}.\n",
    "$$\n",
    "\n",
    "Then\n",
    "\n",
    "$$\n",
    "\\hat{R}^T h = c.\n",
    "$$\n",
    "\n",
    "Suppose that $c$ starts with exactly $k$ zeros: $c_1 = c_2 = \\cdots = c_k = 0$ and $c_{k+1} \\neq 0$. Then\n",
    "\n",
    "$$\n",
    "c = \n",
    "\\begin{bmatrix}\n",
    "0_k \\\\ \\hat{c}\n",
    "\\end{bmatrix}.\n",
    "$$\n",
    "\n",
    "Since $\\hat{R}^T$ is lower-triangular with nonzero diagonal entries, $h$ must also start with exactly $k$ zeros: $h_1 = h_2 = \\cdots = h_k = 0$ and $h_{k+1} \\neq 0$.\n",
    "\n",
    "Therefore, the column envelopes of $A$ and $R$ agree in the last column.\n",
    "\n",
    "Since $\\hat{A} = \\hat{R}^T\\hat{R}$, we can repeat this argument for every column of $A$ and $R$. Therefore, $\\mathrm{colenv}(R) = \\mathrm{colenv}(A)$. $\\blacksquare$"
   ]
  },
  {
   "cell_type": "markdown",
   "metadata": {},
   "source": [
    "---"
   ]
  },
  {
   "cell_type": "markdown",
   "metadata": {},
   "source": [
    "> ### Corollary:\n",
    "Let $A$ be positive definite and banded with semiband width $s$. If $R$ is the Cholesky factor of $A$, then $R$ is also banded with semiband width $s$."
   ]
  },
  {
   "cell_type": "markdown",
   "metadata": {},
   "source": [
    "### Some comments:\n",
    "\n",
    "- The sparsity of a positive definite matrix $A$ is inherited by its Cholesky factor. However, it is often the case when $A$ is sparse that $A^{-1}$ is not sparse.\n",
    "\n",
    "- If $A$ has semiband width $s$, then $R = \\mathrm{chol}(A)$ only requires $ns^2$ flops (instead of $\\frac13 n^3$ flops).\n",
    "\n",
    "- Therefore, both time and storage is greatly reduced for computing the Cholesky factor of a banded positive definite matrix.\n"
   ]
  },
  {
   "cell_type": "markdown",
   "metadata": {},
   "source": [
    "---"
   ]
  }
 ],
 "metadata": {
  "kernelspec": {
   "display_name": "Julia 0.4.6",
   "language": "julia",
   "name": "julia-0.4"
  },
  "language_info": {
   "file_extension": ".jl",
   "mimetype": "application/julia",
   "name": "julia",
   "version": "0.4.6"
  }
 },
 "nbformat": 4,
 "nbformat_minor": 0
}
