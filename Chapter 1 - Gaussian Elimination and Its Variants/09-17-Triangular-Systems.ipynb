{
 "cells": [
  {
   "cell_type": "markdown",
   "metadata": {},
   "source": [
    "Random Groups:\n",
    "--\n",
    "\n",
    "1. \"James H\", \"Caitlin\", \"Max\"\n",
    "2. \"Amy\", \"Lauren\", \"Olsi\"\n",
    "3. \"Jacob\", \"Flavio\", \"Alexis\"\n",
    "4. \"Cameron\", \"Sean\", \"Michael\" \n",
    "5. \"Chase\", \"Samuel\", \"James S\"\n",
    "6. \"Jennifer\", \"Luis\", \"Killian\"\n",
    "\n",
    "https://student.desmos.com/?prepopulateCode=gsbefn"
   ]
  },
  {
   "cell_type": "markdown",
   "metadata": {},
   "source": [
    "---\n",
    "# Section 1.3: Triangular Systems\n",
    "---\n",
    "\n",
    "Let $L \\in \\mathbb{R}^{n \\times n}$ be a **lower-triangular matrix** and $U \\in \\mathbb{R}^{n \\times n}$ be an **upper-triangular matrix**. Then,\n",
    "\n",
    "$$\n",
    "L = \n",
    "\\begin{bmatrix}\n",
    "l_{11} \\\\\n",
    "\\vdots & \\ddots \\\\\n",
    "l_{n1} & \\cdots & l_{nn}\n",
    "\\end{bmatrix}\n",
    "\\qquad \\text{and} \\qquad\n",
    "U = \n",
    "\\begin{bmatrix}\n",
    "u_{11} & \\cdots & u_{1n} \\\\\n",
    "& \\ddots & \\vdots \\\\\n",
    "& & u_{nn}\n",
    "\\end{bmatrix}.\n",
    "$$\n",
    "\n",
    "> ### Theorem:\n",
    "> Let $G$ be an $n \\times n$ triangular matrix. Then\n",
    "> \n",
    "> $$ \n",
    "\\text{$G$ is nonsingular} \\quad \\Longleftrightarrow \\quad g_{ii} \\neq 0, \\quad i = 1,\\ldots,n.\n",
    "$$"
   ]
  },
  {
   "cell_type": "markdown",
   "metadata": {},
   "source": [
    "---\n",
    "### Exercise: \n",
    "\n",
    "Prove the above theorem."
   ]
  },
  {
   "cell_type": "markdown",
   "metadata": {},
   "source": [
    "### Proof:\n",
    "\n",
    "Since $G$ is triangular, the determinant of $G$ is the product of its diagonal entries; that is, $\\det(G) = g_{11} g_{22} \\cdots g_{nn}$. Thus, $G$ is nonsingular if and only if $g_{11} g_{22} \\cdots g_{nn} \\ne 0$, which holds if and only if $g_{ii} \\ne 0$ for $i = 1,\\ldots,n$. $\\blacksquare$"
   ]
  },
  {
   "cell_type": "markdown",
   "metadata": {},
   "source": [
    "### Proof:\n",
    "\n",
    "We will prove the theorem by mathematical induction on $n$. \n",
    "\n",
    "First let $n = 1$ and let $G$ be an $n \\times n$ triangular matrix. Then $G = \\begin{bmatrix} g_{11} \\end{bmatrix}$. \n",
    "\n",
    "Suppose $G$ is nonsingular; that is, the only solution of $Gx = 0$ is $x = 0$. Suppose, for the sake of contradiction, that $g_{11} = 0$. Then, letting $x = \\begin{bmatrix} 1 \\end{bmatrix}$, we have that $Gx = \\begin{bmatrix} g_{11} x_1 \\end{bmatrix} = \\begin{bmatrix} 0 \\cdot 1 \\end{bmatrix} = \\begin{bmatrix} 0 \\end{bmatrix} = 0$; but $x \\ne 0$, contradicting the assumption that $G$ is nonsingular. Therefore, we must have $g_{11} \\ne 0$.\n",
    "\n",
    "Now, suppose that $g_{11} \\ne 0$. Suppose that $Gx = 0$. Then, $g_{11} x_1 = 0$; dividing both sides by $g_{11}$ (which we can do since $g_{11} \\ne 0$), we conclude that $x_1 = 0$. Thus, $x = \\begin{bmatrix} x_1 \\end{bmatrix} = 0$. "
   ]
  },
  {
   "cell_type": "markdown",
   "metadata": {},
   "source": [
    "Next, we assume that the theorem is true for $n = k$. L"
   ]
  },
  {
   "cell_type": "markdown",
   "metadata": {},
   "source": [
    "---\n",
    "\n",
    "### Exercise:\n",
    "Solve the following lower-triangular system $Lx = b$ and use `Julia` to check your answer.\n",
    "\n",
    "$$\n",
    "\\begin{bmatrix}\n",
    "2 & 0 & 0 & 0 \\\\\n",
    "-1 & 2 & 0 & 0 \\\\\n",
    "3 & 1 & -1 & 0 \\\\\n",
    "4 & 1 & -3 & 3\n",
    "\\end{bmatrix}\n",
    "\\begin{bmatrix}\n",
    "x_1 \\\\ x_2 \\\\ x_3 \\\\ x_4\n",
    "\\end{bmatrix} =\n",
    "\\begin{bmatrix}\n",
    "2 \\\\ 3 \\\\ 2 \\\\ 9\n",
    "\\end{bmatrix}.\n",
    "$$"
   ]
  },
  {
   "cell_type": "code",
   "execution_count": 1,
   "metadata": {},
   "outputs": [
    {
     "data": {
      "text/plain": [
       "4-element Array{Float64,1}:\n",
       " 1.0\n",
       " 2.0\n",
       " 3.0\n",
       " 4.0"
      ]
     },
     "execution_count": 1,
     "metadata": {},
     "output_type": "execute_result"
    }
   ],
   "source": [
    "L = [2 0 0 0; -1 2 0 0; 3 1 -1 0; 4 1 -3 3.0]\n",
    "b = [2, 3, 2, 9.0]\n",
    "\n",
    "x = L\\b"
   ]
  },
  {
   "cell_type": "markdown",
   "metadata": {},
   "source": [
    "---\n",
    "\n",
    "In general, the solution of a lower-triangular system $Lx = b$ is given by\n",
    "\n",
    "$$\n",
    "x_i = \\left( b_i - \\sum_{j=1}^{i-1} l_{ij}x_j \\right) \\bigg/ l_{ii}, \\quad i = 1, \\ldots, n.\n",
    "$$"
   ]
  },
  {
   "cell_type": "markdown",
   "metadata": {},
   "source": [
    "---\n",
    "\n",
    "### Exercise:\n",
    "\n",
    "Write a `Julia` function, `x = row_fs(L, b)`, that returns the solution $x$ of a lower-triangular system $Lx = b$ using _forward substitution_. Make sure to include a check that the matrix $L$ is nonsingular. Test your code for accuracy and efficiency."
   ]
  },
  {
   "cell_type": "code",
   "execution_count": 2,
   "metadata": {},
   "outputs": [],
   "source": [
    "using LinearAlgebra"
   ]
  },
  {
   "cell_type": "code",
   "execution_count": 3,
   "metadata": {},
   "outputs": [
    {
     "data": {
      "text/plain": [
       "row_fs (generic function with 1 method)"
      ]
     },
     "execution_count": 3,
     "metadata": {},
     "output_type": "execute_result"
    }
   ],
   "source": [
    "function row_fs(L, b)\n",
    "    \n",
    "    if !istril(L)\n",
    "        error(\"L is not lower triangular\")\n",
    "    end\n",
    "    \n",
    "    n = size(L,1)\n",
    "    \n",
    "    x = copy(b) # OR: x = zeros(n)\n",
    "    \n",
    "    for i = 1:n\n",
    "        # x[i] = b[i] # if x initialized as zeros(n)\n",
    "        for j = 1:i-1\n",
    "            x[i] -= L[i,j]*x[j]\n",
    "        end\n",
    "        if L[i,i] == 0.0\n",
    "            error(\"L is singular\")\n",
    "        end\n",
    "        x[i] /= L[i,i]\n",
    "    end\n",
    "    \n",
    "    return x\n",
    "end"
   ]
  },
  {
   "cell_type": "code",
   "execution_count": 4,
   "metadata": {},
   "outputs": [
    {
     "data": {
      "text/plain": [
       "4-element Array{Float64,1}:\n",
       " 1.0\n",
       " 2.0\n",
       " 3.0\n",
       " 4.0"
      ]
     },
     "execution_count": 4,
     "metadata": {},
     "output_type": "execute_result"
    }
   ],
   "source": [
    "L = [2 0 0 0; -1 2 0 0; 3 1 -1 0; 4 1 -3 3.0]\n",
    "b = [2, 3, 2, 9.0]\n",
    "\n",
    "x = row_fs(L, b)"
   ]
  },
  {
   "cell_type": "code",
   "execution_count": 5,
   "metadata": {},
   "outputs": [
    {
     "data": {
      "text/plain": [
       "Array{Float64,2}"
      ]
     },
     "execution_count": 5,
     "metadata": {},
     "output_type": "execute_result"
    }
   ],
   "source": [
    "typeof(L)"
   ]
  },
  {
   "cell_type": "code",
   "execution_count": 6,
   "metadata": {},
   "outputs": [
    {
     "data": {
      "text/plain": [
       "true"
      ]
     },
     "execution_count": 6,
     "metadata": {},
     "output_type": "execute_result"
    }
   ],
   "source": [
    "istril(L)"
   ]
  },
  {
   "cell_type": "code",
   "execution_count": 7,
   "metadata": {},
   "outputs": [
    {
     "data": {
      "text/html": [
       "14 methods for generic function <b>istril</b>:<ul><li> istril(A::<b>BitArray{2}</b>) in LinearAlgebra at <a href=\"file:///Users/sabae/buildbot/worker/package_macos64/build/usr/share/julia/stdlib/v1.2/LinearAlgebra/src/bitarray.jl\" target=\"_blank\">/Users/sabae/buildbot/worker/package_macos64/build/usr/share/julia/stdlib/v1.2/LinearAlgebra/src/bitarray.jl:165</a></li> <li> istril(M::<b>SymTridiagonal</b>) in LinearAlgebra at <a href=\"file:///Users/sabae/buildbot/worker/package_macos64/build/usr/share/julia/stdlib/v1.2/LinearAlgebra/src/tridiag.jl\" target=\"_blank\">/Users/sabae/buildbot/worker/package_macos64/build/usr/share/julia/stdlib/v1.2/LinearAlgebra/src/tridiag.jl:274</a></li> <li> istril(M::<b>Tridiagonal</b>) in LinearAlgebra at <a href=\"file:///Users/sabae/buildbot/worker/package_macos64/build/usr/share/julia/stdlib/v1.2/LinearAlgebra/src/tridiag.jl\" target=\"_blank\">/Users/sabae/buildbot/worker/package_macos64/build/usr/share/julia/stdlib/v1.2/LinearAlgebra/src/tridiag.jl:575</a></li> <li> istril(A::<b>LowerTriangular</b>) in LinearAlgebra at <a href=\"file:///Users/sabae/buildbot/worker/package_macos64/build/usr/share/julia/stdlib/v1.2/LinearAlgebra/src/triangular.jl\" target=\"_blank\">/Users/sabae/buildbot/worker/package_macos64/build/usr/share/julia/stdlib/v1.2/LinearAlgebra/src/triangular.jl:281</a></li> <li> istril(A::<b>UnitLowerTriangular</b>) in LinearAlgebra at <a href=\"file:///Users/sabae/buildbot/worker/package_macos64/build/usr/share/julia/stdlib/v1.2/LinearAlgebra/src/triangular.jl\" target=\"_blank\">/Users/sabae/buildbot/worker/package_macos64/build/usr/share/julia/stdlib/v1.2/LinearAlgebra/src/triangular.jl:282</a></li> <li> istril(A::<b>Adjoint</b>) in LinearAlgebra at <a href=\"file:///Users/sabae/buildbot/worker/package_macos64/build/usr/share/julia/stdlib/v1.2/LinearAlgebra/src/triangular.jl\" target=\"_blank\">/Users/sabae/buildbot/worker/package_macos64/build/usr/share/julia/stdlib/v1.2/LinearAlgebra/src/triangular.jl:285</a></li> <li> istril(A::<b>Transpose</b>) in LinearAlgebra at <a href=\"file:///Users/sabae/buildbot/worker/package_macos64/build/usr/share/julia/stdlib/v1.2/LinearAlgebra/src/triangular.jl\" target=\"_blank\">/Users/sabae/buildbot/worker/package_macos64/build/usr/share/julia/stdlib/v1.2/LinearAlgebra/src/triangular.jl:286</a></li> <li> istril(D::<b>Diagonal</b>) in LinearAlgebra at <a href=\"file:///Users/sabae/buildbot/worker/package_macos64/build/usr/share/julia/stdlib/v1.2/LinearAlgebra/src/diagonal.jl\" target=\"_blank\">/Users/sabae/buildbot/worker/package_macos64/build/usr/share/julia/stdlib/v1.2/LinearAlgebra/src/diagonal.jl:131</a></li> <li> istril(M::<b>Bidiagonal</b>) in LinearAlgebra at <a href=\"file:///Users/sabae/buildbot/worker/package_macos64/build/usr/share/julia/stdlib/v1.2/LinearAlgebra/src/bidiag.jl\" target=\"_blank\">/Users/sabae/buildbot/worker/package_macos64/build/usr/share/julia/stdlib/v1.2/LinearAlgebra/src/bidiag.jl:250</a></li> <li> istril(A::<b>SparseArrays.SparseMatrixCSC</b>) in SparseArrays at <a href=\"file:///Users/sabae/buildbot/worker/package_macos64/build/usr/share/julia/stdlib/v1.2/SparseArrays/src/sparsematrix.jl\" target=\"_blank\">/Users/sabae/buildbot/worker/package_macos64/build/usr/share/julia/stdlib/v1.2/SparseArrays/src/sparsematrix.jl:3234</a></li> <li> istril(A::<b>AbstractArray{T,2} where T</b>) in LinearAlgebra at <a href=\"file:///Users/sabae/buildbot/worker/package_macos64/build/usr/share/julia/stdlib/v1.2/LinearAlgebra/src/generic.jl\" target=\"_blank\">/Users/sabae/buildbot/worker/package_macos64/build/usr/share/julia/stdlib/v1.2/LinearAlgebra/src/generic.jl:1162</a></li> <li> istril(A::<b>AbstractArray{T,2} where T</b>, k::<b>Integer</b>) in LinearAlgebra at <a href=\"file:///Users/sabae/buildbot/worker/package_macos64/build/usr/share/julia/stdlib/v1.2/LinearAlgebra/src/generic.jl\" target=\"_blank\">/Users/sabae/buildbot/worker/package_macos64/build/usr/share/julia/stdlib/v1.2/LinearAlgebra/src/generic.jl:1162</a></li> <li> istril(x::<b>Number</b>) in LinearAlgebra at <a href=\"file:///Users/sabae/buildbot/worker/package_macos64/build/usr/share/julia/stdlib/v1.2/LinearAlgebra/src/generic.jl\" target=\"_blank\">/Users/sabae/buildbot/worker/package_macos64/build/usr/share/julia/stdlib/v1.2/LinearAlgebra/src/generic.jl:1171</a></li> <li> istril(::<b>UniformScaling</b>) in LinearAlgebra at <a href=\"file:///Users/sabae/buildbot/worker/package_macos64/build/usr/share/julia/stdlib/v1.2/LinearAlgebra/src/uniformscaling.jl\" target=\"_blank\">/Users/sabae/buildbot/worker/package_macos64/build/usr/share/julia/stdlib/v1.2/LinearAlgebra/src/uniformscaling.jl:104</a></li> </ul>"
      ],
      "text/plain": [
       "# 14 methods for generic function \"istril\":\n",
       "[1] istril(A::BitArray{2}) in LinearAlgebra at /Users/sabae/buildbot/worker/package_macos64/build/usr/share/julia/stdlib/v1.2/LinearAlgebra/src/bitarray.jl:165\n",
       "[2] istril(M::SymTridiagonal) in LinearAlgebra at /Users/sabae/buildbot/worker/package_macos64/build/usr/share/julia/stdlib/v1.2/LinearAlgebra/src/tridiag.jl:274\n",
       "[3] istril(M::Tridiagonal) in LinearAlgebra at /Users/sabae/buildbot/worker/package_macos64/build/usr/share/julia/stdlib/v1.2/LinearAlgebra/src/tridiag.jl:575\n",
       "[4] istril(A::LowerTriangular) in LinearAlgebra at /Users/sabae/buildbot/worker/package_macos64/build/usr/share/julia/stdlib/v1.2/LinearAlgebra/src/triangular.jl:281\n",
       "[5] istril(A::UnitLowerTriangular) in LinearAlgebra at /Users/sabae/buildbot/worker/package_macos64/build/usr/share/julia/stdlib/v1.2/LinearAlgebra/src/triangular.jl:282\n",
       "[6] istril(A::Adjoint) in LinearAlgebra at /Users/sabae/buildbot/worker/package_macos64/build/usr/share/julia/stdlib/v1.2/LinearAlgebra/src/triangular.jl:285\n",
       "[7] istril(A::Transpose) in LinearAlgebra at /Users/sabae/buildbot/worker/package_macos64/build/usr/share/julia/stdlib/v1.2/LinearAlgebra/src/triangular.jl:286\n",
       "[8] istril(D::Diagonal) in LinearAlgebra at /Users/sabae/buildbot/worker/package_macos64/build/usr/share/julia/stdlib/v1.2/LinearAlgebra/src/diagonal.jl:131\n",
       "[9] istril(M::Bidiagonal) in LinearAlgebra at /Users/sabae/buildbot/worker/package_macos64/build/usr/share/julia/stdlib/v1.2/LinearAlgebra/src/bidiag.jl:250\n",
       "[10] istril(A::SparseArrays.SparseMatrixCSC) in SparseArrays at /Users/sabae/buildbot/worker/package_macos64/build/usr/share/julia/stdlib/v1.2/SparseArrays/src/sparsematrix.jl:3234\n",
       "[11] istril(A::AbstractArray{T,2} where T) in LinearAlgebra at /Users/sabae/buildbot/worker/package_macos64/build/usr/share/julia/stdlib/v1.2/LinearAlgebra/src/generic.jl:1162\n",
       "[12] istril(A::AbstractArray{T,2} where T, k::Integer) in LinearAlgebra at /Users/sabae/buildbot/worker/package_macos64/build/usr/share/julia/stdlib/v1.2/LinearAlgebra/src/generic.jl:1162\n",
       "[13] istril(x::Number) in LinearAlgebra at /Users/sabae/buildbot/worker/package_macos64/build/usr/share/julia/stdlib/v1.2/LinearAlgebra/src/generic.jl:1171\n",
       "[14] istril(::UniformScaling) in LinearAlgebra at /Users/sabae/buildbot/worker/package_macos64/build/usr/share/julia/stdlib/v1.2/LinearAlgebra/src/uniformscaling.jl:104"
      ]
     },
     "execution_count": 7,
     "metadata": {},
     "output_type": "execute_result"
    }
   ],
   "source": [
    "methods(istril)"
   ]
  },
  {
   "cell_type": "code",
   "execution_count": 8,
   "metadata": {},
   "outputs": [
    {
     "data": {
      "text/html": [
       "istril(A::<b>AbstractArray{T,2} where T</b>) in LinearAlgebra at <a href=\"file:///Users/sabae/buildbot/worker/package_macos64/build/usr/share/julia/stdlib/v1.2/LinearAlgebra/src/generic.jl\" target=\"_blank\">/Users/sabae/buildbot/worker/package_macos64/build/usr/share/julia/stdlib/v1.2/LinearAlgebra/src/generic.jl:1162</a>"
      ],
      "text/plain": [
       "istril(A::AbstractArray{T,2} where T) in LinearAlgebra at /Users/sabae/buildbot/worker/package_macos64/build/usr/share/julia/stdlib/v1.2/LinearAlgebra/src/generic.jl:1162"
      ]
     },
     "execution_count": 8,
     "metadata": {},
     "output_type": "execute_result"
    }
   ],
   "source": [
    "@which istril(L)"
   ]
  },
  {
   "cell_type": "markdown",
   "metadata": {},
   "source": [
    "---\n",
    "If you open the file `julia/stdlib/v1.2/LinearAlgebra/src/generic.jl` and go to line 1162, you will see\n",
    "\n",
    "```julia\n",
    "function istril(A::AbstractMatrix, k::Integer = 0)\n",
    "    require_one_based_indexing(A)\n",
    "    m, n = size(A)\n",
    "    for j in max(1, k + 2):n\n",
    "        for i in 1:min(j - k - 1, m)\n",
    "            iszero(A[i, j]) || return false\n",
    "        end\n",
    "    end\n",
    "    return true\n",
    "end\n",
    "istril(x::Number) = true\n",
    "```\n",
    "---"
   ]
  },
  {
   "cell_type": "code",
   "execution_count": 9,
   "metadata": {},
   "outputs": [],
   "source": [
    "@edit istril(L)"
   ]
  },
  {
   "cell_type": "code",
   "execution_count": 17,
   "metadata": {},
   "outputs": [
    {
     "data": {
      "text/plain": [
       "5×5 LowerTriangular{Float64,Array{Float64,2}}:\n",
       " 0.251022   ⋅         ⋅         ⋅         ⋅      \n",
       " 0.216567  0.190719   ⋅         ⋅         ⋅      \n",
       " 0.105814  0.5727    0.972102   ⋅         ⋅      \n",
       " 0.998731  0.30645   0.185685  0.108457   ⋅      \n",
       " 0.498394  0.888728  0.217014  0.721708  0.092518"
      ]
     },
     "execution_count": 17,
     "metadata": {},
     "output_type": "execute_result"
    }
   ],
   "source": [
    "n = 5\n",
    "L = LowerTriangular(rand(n,n))"
   ]
  },
  {
   "cell_type": "code",
   "execution_count": 18,
   "metadata": {},
   "outputs": [
    {
     "data": {
      "text/plain": [
       "5×5 Array{Float64,2}:\n",
       " 0.251022  0.295733  0.479975  0.610201  0.710456\n",
       " 0.216567  0.190719  0.754775  0.932257  0.936163\n",
       " 0.105814  0.5727    0.972102  0.730147  0.161495\n",
       " 0.998731  0.30645   0.185685  0.108457  0.530526\n",
       " 0.498394  0.888728  0.217014  0.721708  0.092518"
      ]
     },
     "execution_count": 18,
     "metadata": {},
     "output_type": "execute_result"
    }
   ],
   "source": [
    "L.data"
   ]
  },
  {
   "cell_type": "code",
   "execution_count": 19,
   "metadata": {},
   "outputs": [
    {
     "data": {
      "text/plain": [
       "0.0"
      ]
     },
     "execution_count": 19,
     "metadata": {},
     "output_type": "execute_result"
    }
   ],
   "source": [
    "L[1,2]"
   ]
  },
  {
   "cell_type": "code",
   "execution_count": 20,
   "metadata": {},
   "outputs": [
    {
     "data": {
      "text/plain": [
       "LowerTriangular{Float64,Array{Float64,2}}"
      ]
     },
     "execution_count": 20,
     "metadata": {},
     "output_type": "execute_result"
    }
   ],
   "source": [
    "typeof(L)"
   ]
  },
  {
   "cell_type": "code",
   "execution_count": 21,
   "metadata": {},
   "outputs": [
    {
     "data": {
      "text/html": [
       "istril(A::<b>LowerTriangular</b>) in LinearAlgebra at <a href=\"file:///Users/sabae/buildbot/worker/package_macos64/build/usr/share/julia/stdlib/v1.2/LinearAlgebra/src/triangular.jl\" target=\"_blank\">/Users/sabae/buildbot/worker/package_macos64/build/usr/share/julia/stdlib/v1.2/LinearAlgebra/src/triangular.jl:281</a>"
      ],
      "text/plain": [
       "istril(A::LowerTriangular) in LinearAlgebra at /Users/sabae/buildbot/worker/package_macos64/build/usr/share/julia/stdlib/v1.2/LinearAlgebra/src/triangular.jl:281"
      ]
     },
     "execution_count": 21,
     "metadata": {},
     "output_type": "execute_result"
    }
   ],
   "source": [
    "@which istril(L)"
   ]
  },
  {
   "cell_type": "markdown",
   "metadata": {},
   "source": [
    "---\n",
    "If you open the file `julia/stdlib/v1.2/LinearAlgebra/src/triangular.jl` and go to line 281, you will see\n",
    "\n",
    "```julia\n",
    "istril(A::LowerTriangular) = true\n",
    "istril(A::UnitLowerTriangular) = true\n",
    "istriu(A::UpperTriangular) = true\n",
    "istriu(A::UnitUpperTriangular) = true\n",
    "istril(A::Adjoint) = istriu(A.parent)\n",
    "istril(A::Transpose) = istriu(A.parent)\n",
    "istriu(A::Adjoint) = istril(A.parent)\n",
    "istriu(A::Transpose) = istril(A.parent)\n",
    "```\n",
    "---"
   ]
  },
  {
   "cell_type": "code",
   "execution_count": 15,
   "metadata": {},
   "outputs": [
    {
     "data": {
      "text/plain": [
       "5×5 Adjoint{Float64,LowerTriangular{Float64,Array{Float64,2}}}:\n",
       " 0.642885  0.741454  0.70927   0.0147822  0.269491 \n",
       " 0.0       0.575002  0.714529  0.260178   0.0455492\n",
       " 0.0       0.0       0.623339  0.228832   0.69635  \n",
       " 0.0       0.0       0.0       0.368133   0.809246 \n",
       " 0.0       0.0       0.0       0.0        0.446726 "
      ]
     },
     "execution_count": 15,
     "metadata": {},
     "output_type": "execute_result"
    }
   ],
   "source": [
    "L'"
   ]
  },
  {
   "cell_type": "code",
   "execution_count": 16,
   "metadata": {},
   "outputs": [
    {
     "data": {
      "text/plain": [
       "5×5 Array{Float64,2}:\n",
       " 0.138224  0.0       0.0       0.0       0.0      \n",
       " 0.871117  0.467573  0.0       0.0       0.0      \n",
       " 0.734591  0.460635  0.46425   0.0       0.0      \n",
       " 0.964278  0.854809  0.278847  0.876663  0.0      \n",
       " 0.363064  0.403454  0.595334  0.876801  0.0270823"
      ]
     },
     "execution_count": 16,
     "metadata": {},
     "output_type": "execute_result"
    }
   ],
   "source": [
    "L = tril(rand(n,n))"
   ]
  },
  {
   "cell_type": "markdown",
   "metadata": {},
   "source": [
    "---\n",
    "\n",
    "## Column-oriented forward substitution\n",
    "\n",
    "Notice that the algorithm above is **row-oriented**, which is good for computer languages that store matrices in row-major order (like C/C++ or Python), but is bad for column-major order languages (like Fortran, MATLAB, or Julia).\n",
    "\n",
    "We can produce a forward-substitution algorithm that is **column-oriented** by using the concept of **block-matrix multiplication**."
   ]
  },
  {
   "cell_type": "markdown",
   "metadata": {},
   "source": [
    "---\n",
    "\n",
    "### Exercise:\n",
    "\n",
    "Let the lower-triangular linear system $Lx = b$ be partitioned as\n",
    "\n",
    "$$\n",
    "\\begin{bmatrix}\n",
    "l_{11} & 0 \\\\\n",
    "\\hat{l} & \\hat{L} \\\\\n",
    "\\end{bmatrix}\n",
    "\\begin{bmatrix}\n",
    "x_1 \\\\ \\hat{x}\n",
    "\\end{bmatrix} = \n",
    "\\begin{bmatrix}\n",
    "b_1 \\\\ \\hat{b}\n",
    "\\end{bmatrix}\n",
    "$$\n",
    "\n",
    "where $\\hat{L}$ is an $(n-1) \\times (n-1)$ *lower-triangular* matrix and $\\hat{x}$ and $\\hat{b}$ are vectors of length $n - 1$.\n",
    "\n",
    "1. Perform block-matrix multiplication.\n",
    "\n",
    "2. Determine a _recursive algorithm_ for solving the linear system $Lx = b$.\n",
    "\n",
    "3. Implement your recursive algorithm in `Julia` (name your function `col_rfs`).\n",
    "\n",
    "4. Test your code for accuracy and efficiency."
   ]
  },
  {
   "cell_type": "markdown",
   "metadata": {},
   "source": [
    "---\n",
    "\n",
    "### Exercise:\n",
    "\n",
    "Use column-oriented forward substitution to solve the lower-triangular system.\n",
    "\n",
    "$$\n",
    "\\begin{bmatrix}\n",
    "2 & 0 & 0 & 0 \\\\\n",
    "-1 & 2 & 0 & 0 \\\\\n",
    "3 & 1 & -1 & 0 \\\\\n",
    "4 & 1 & -3 & 3\n",
    "\\end{bmatrix}\n",
    "\\begin{bmatrix}\n",
    "x_1 \\\\ x_2 \\\\ x_3 \\\\ x_4\n",
    "\\end{bmatrix} =\n",
    "\\begin{bmatrix}\n",
    "2 \\\\ 3 \\\\ 2 \\\\ 9\n",
    "\\end{bmatrix}\n",
    "$$\n"
   ]
  },
  {
   "cell_type": "markdown",
   "metadata": {},
   "source": [
    "---\n",
    "\n",
    "### Exercise:\n",
    "\n",
    "Inspired by your calculations in the previous exercise, write a non-recursive column-oriented forward-substitution code in `Julia` (name your function `col_fs`). Test your function for accuracy and efficiency."
   ]
  },
  {
   "cell_type": "markdown",
   "metadata": {},
   "source": [
    "---\n",
    "\n",
    "### Exercise:\n",
    "\n",
    "How do your `row_fs` and `col_fs` functions compare to `Julia`'s built-in `x = L\\b`?"
   ]
  },
  {
   "cell_type": "markdown",
   "metadata": {},
   "source": [
    "---\n",
    "\n",
    "### Exercise:\n",
    "\n",
    "Determine the total number of flops to solve an $n \\times n$ triangular linear system using two different methods:\n",
    "\n",
    "1. Directly count the flops in your nonrecursive code.\n",
    "2. Count the flops using the recursive version of your code."
   ]
  },
  {
   "cell_type": "markdown",
   "metadata": {},
   "source": [
    "---\n",
    "\n",
    "### Exercise:\n",
    "\n",
    "Write a `Julia` function `col_fs!(b, L)` that **overwrites** the array `b` with the solution of the linear sytem $Lx = b$. Test the efficiency of your function."
   ]
  },
  {
   "cell_type": "markdown",
   "metadata": {},
   "source": [
    "---"
   ]
  }
 ],
 "metadata": {
  "@webio": {
   "lastCommId": null,
   "lastKernelId": null
  },
  "kernelspec": {
   "display_name": "Julia 1.2.0",
   "language": "julia",
   "name": "julia-1.2"
  },
  "language_info": {
   "file_extension": ".jl",
   "mimetype": "application/julia",
   "name": "julia",
   "version": "1.2.0"
  }
 },
 "nbformat": 4,
 "nbformat_minor": 1
}
