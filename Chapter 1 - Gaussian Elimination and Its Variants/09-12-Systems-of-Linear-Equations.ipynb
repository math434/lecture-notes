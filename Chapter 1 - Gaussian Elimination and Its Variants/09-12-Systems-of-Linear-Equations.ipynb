{
 "cells": [
  {
   "cell_type": "markdown",
   "metadata": {},
   "source": [
    "---\n",
    "# Section 1.2: Systems of Linear Equations\n",
    "---"
   ]
  },
  {
   "cell_type": "markdown",
   "metadata": {},
   "source": [
    "### Linear systems\n",
    "\n",
    "Given $A \\in \\mathbb{R}^{n \\times n}$ and $b \\in \\mathbb{R}^n$, find $x \\in \\mathbb{R}^n$ such that:\n",
    "\n",
    "$$\n",
    "Ax = b.\n",
    "$$\n",
    "\n",
    "The linear system $Ax = b$ either:\n",
    "\n",
    "1. has no solution;\n",
    "2. has a unique solution;\n",
    "3. has infinitely many solutions.\n",
    "\n",
    "In fact, $Ax = b$ has a unique solution $x$ _if and only if_ $A$ is nonsingular (i.e., $A$ is invertible) (i.e., $\\det(A) \\ne 0$)."
   ]
  },
  {
   "cell_type": "markdown",
   "metadata": {},
   "source": [
    "---"
   ]
  },
  {
   "cell_type": "markdown",
   "metadata": {},
   "source": [
    "## Class discussion\n",
    "\n",
    "Why does a linear system with multiple solutions necessarily have _infinitely many_ solutions?\n",
    "\n",
    "Suppose $Ax = b$ has two solutions, $x_1$ and $x_2$. Then $A x_1 = b$ and $A x_2 = b$.\n",
    "\n",
    "Let $x = (x_1 + x_2)/2$. Then $Ax = A((x_1 + x_2)/2) = (Ax_1 + Ax_2)/2 = (b + b)/2 =b$. Thus, $x$ is _another_ solution of $Ax = b$. \n",
    "\n",
    "Repeating this argument again and again, we conclude that $Ax = b$ has infinitely many solutions."
   ]
  },
  {
   "cell_type": "markdown",
   "metadata": {},
   "source": [
    "---"
   ]
  },
  {
   "cell_type": "markdown",
   "metadata": {},
   "source": [
    "### Matrix inverse\n",
    "\n",
    "If there is a matrix $B \\in \\mathbb{R}^{n \\times n}$ such that\n",
    "\n",
    "$$\n",
    "AB = BA = I,\n",
    "$$\n",
    "\n",
    "where $I$ is the **identity matrix**, then we say that $B$ is the **inverse** of $A$, and we write\n",
    "\n",
    "$$\n",
    "B = A^{-1}.\n",
    "$$"
   ]
  },
  {
   "cell_type": "markdown",
   "metadata": {},
   "source": [
    "---"
   ]
  },
  {
   "cell_type": "markdown",
   "metadata": {},
   "source": [
    "### Exercise:\n",
    "\n",
    "Complete the following theorem.\n",
    "\n",
    "> ### Theorem:\n",
    "> Let $A \\in \\mathbb{R}^{n \\times n}$. Then the following are equivalent:\n",
    ">\n",
    "> 1. $A^{-1}$ exists.\n",
    "> 2. $A$ is row equivalent to the identity matrix.\n",
    "> 3. $\\det(A) \\neq 0$.\n",
    "> 4. The only solution to $Ax = 0$ is $x = 0$.\n",
    "> 5. Rows and columns are linearly independent.\n",
    "> 6. For every vector $b$, the linear system $Ax = b$ has a unique solution.\n",
    "> 7. Dimension of $\\{x : Ax = 0\\}$ (the null space of $A$) is $0$.\n",
    "> 8. $A$ is nonsingular.\n",
    "> 9. $\\text{rank}(A) = n$."
   ]
  },
  {
   "cell_type": "markdown",
   "metadata": {},
   "source": [
    "---"
   ]
  },
  {
   "cell_type": "markdown",
   "metadata": {},
   "source": [
    "### Exercise:\n",
    "\n",
    "Let $A$ be a nonsingular matrix. Multiply both sides of the linear system $Ax = b$ by $A^{-1}$ on the left. What do you conclude?"
   ]
  },
  {
   "cell_type": "markdown",
   "metadata": {},
   "source": [
    "$$x = A^{-1}b$$"
   ]
  },
  {
   "cell_type": "markdown",
   "metadata": {},
   "source": [
    "---\n",
    "\n",
    "### Exercise:\n",
    "\n",
    "Use the `inv` function in `Julia` to compute the inverse of a random matrix. Check that the computed inverse is correct."
   ]
  },
  {
   "cell_type": "code",
   "execution_count": 17,
   "metadata": {},
   "outputs": [
    {
     "data": {
      "text/plain": [
       "5×5 Array{Float64,2}:\n",
       "  1.0          -3.71575e-16   3.97673e-16   2.852e-17    1.07186e-16\n",
       "  1.3188e-15    1.0          -1.5697e-16   -2.19151e-15  1.11383e-17\n",
       " -3.17126e-17   2.00446e-15   1.0          -1.79541e-15  2.84437e-16\n",
       "  1.03926e-15   1.34138e-15  -1.07072e-15   1.0          2.25343e-16\n",
       " -4.08674e-16   2.58818e-16  -1.69983e-16  -4.80927e-16  1.0        "
      ]
     },
     "execution_count": 17,
     "metadata": {},
     "output_type": "execute_result"
    }
   ],
   "source": [
    "using LinearAlgebra\n",
    "A1 = rand(5, 5)\n",
    "A2 = inv(A1)\n",
    "A1*A2"
   ]
  },
  {
   "cell_type": "markdown",
   "metadata": {},
   "source": [
    "---\n",
    "\n",
    "### Exercise:\n",
    "\n",
    "In `Julia`, the linear system $Ax = b$ is solve using the \"backslash\" command: `\\`.  This syntax is inherited from `MATLAB`.\n",
    "\n",
    "Use the `\\` function to compute the solution of a random linear system $Ax = b$."
   ]
  },
  {
   "cell_type": "code",
   "execution_count": 18,
   "metadata": {},
   "outputs": [
    {
     "data": {
      "text/plain": [
       "5-element Array{Float64,1}:\n",
       "  0.5102009079369217\n",
       "  1.7166951371167947\n",
       " -0.7100741125323806\n",
       " -1.0293528999345303\n",
       "  1.073714498730199 "
      ]
     },
     "execution_count": 18,
     "metadata": {},
     "output_type": "execute_result"
    }
   ],
   "source": [
    "n = 5\n",
    "A = rand(n,n)\n",
    "b = rand(n)\n",
    "x = A\\b"
   ]
  },
  {
   "cell_type": "code",
   "execution_count": 19,
   "metadata": {},
   "outputs": [
    {
     "data": {
      "text/plain": [
       "5-element Array{Float64,1}:\n",
       "  2.220446049250313e-16\n",
       "  0.0                  \n",
       " -5.551115123125783e-17\n",
       " -2.220446049250313e-16\n",
       " -2.220446049250313e-16"
      ]
     },
     "execution_count": 19,
     "metadata": {},
     "output_type": "execute_result"
    }
   ],
   "source": [
    "A*x - b"
   ]
  },
  {
   "cell_type": "markdown",
   "metadata": {},
   "source": [
    "---\n",
    "\n",
    "### Exercise:\n",
    "\n",
    "Which is better, `x = A\\b` or `x = inv(A)*b`?"
   ]
  },
  {
   "cell_type": "code",
   "execution_count": 13,
   "metadata": {},
   "outputs": [
    {
     "name": "stdout",
     "output_type": "stream",
     "text": [
      "6.270898346236246e-11\n",
      "9.142754968285127e-11\n"
     ]
    }
   ],
   "source": [
    "using LinearAlgebra\n",
    "n = 1000\n",
    "A = rand(n,n)\n",
    "b = rand(n)\n",
    "x1 = A\\b\n",
    "x2 = inv(A)*b\n",
    "println(norm(A * x1 - b))\n",
    "println(norm(A * x2 - b))"
   ]
  },
  {
   "cell_type": "code",
   "execution_count": 15,
   "metadata": {},
   "outputs": [
    {
     "name": "stdout",
     "output_type": "stream",
     "text": [
      "3.25000875267628e-11\n",
      "4.100875215147093e-11\n"
     ]
    }
   ],
   "source": [
    "n = 1000\n",
    "A = rand(n,n)\n",
    "x = ones(n) # or x = rand(n)\n",
    "b = A*x\n",
    "x1 = A\\b\n",
    "x2 = inv(A)*b\n",
    "println(norm(x - x1))\n",
    "println(norm(x - x2))"
   ]
  },
  {
   "cell_type": "code",
   "execution_count": 16,
   "metadata": {},
   "outputs": [
    {
     "name": "stdout",
     "output_type": "stream",
     "text": [
      "  21.302 ms (5 allocations: 7.65 MiB)\n",
      "  60.694 ms (7 allocations: 8.13 MiB)\n"
     ]
    }
   ],
   "source": [
    "using BenchmarkTools\n",
    "n = 1000\n",
    "A = rand(n,n)\n",
    "b = rand(n)\n",
    "#b .= 0\n",
    "@btime A\\b\n",
    "@btime inv(A)*b;"
   ]
  },
  {
   "cell_type": "markdown",
   "metadata": {},
   "source": [
    "Summary:\n",
    "\n",
    "1. `x = A\\b` is faster (3x faster!)\n",
    "2. `x = A\\b` is more accurate (`norm(b - A*x)` is smaller)"
   ]
  },
  {
   "cell_type": "markdown",
   "metadata": {},
   "source": [
    "---"
   ]
  }
 ],
 "metadata": {
  "@webio": {
   "lastCommId": null,
   "lastKernelId": null
  },
  "kernelspec": {
   "display_name": "Julia 1.2.0",
   "language": "julia",
   "name": "julia-1.2"
  },
  "language_info": {
   "file_extension": ".jl",
   "mimetype": "application/julia",
   "name": "julia",
   "version": "1.2.0"
  }
 },
 "nbformat": 4,
 "nbformat_minor": 1
}
