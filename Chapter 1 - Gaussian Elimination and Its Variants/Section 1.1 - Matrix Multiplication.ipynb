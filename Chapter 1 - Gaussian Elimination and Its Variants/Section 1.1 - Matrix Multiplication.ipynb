{
 "cells": [
  {
   "cell_type": "markdown",
   "metadata": {},
   "source": [
    "---\n",
    "# Section 1.1:  Matrix Multiplication\n",
    "---"
   ]
  },
  {
   "cell_type": "markdown",
   "metadata": {},
   "source": [
    "### Example:\n",
    "\n",
    "Let\n",
    "\n",
    "$$\n",
    "A = \n",
    "\\begin{bmatrix} \n",
    "2 & 1 & 4 \\\\ \n",
    "3 & -2 & 1 \n",
    "\\end{bmatrix} \n",
    "\\in \\mathbb{R}^{2 \\times 3},\n",
    "\\qquad\n",
    "x = \n",
    "\\begin{bmatrix}\n",
    "1 \\\\ 2 \\\\ 1\n",
    "\\end{bmatrix}\n",
    "\\in \\mathbb{R}^3.\n",
    "$$\n",
    "\n",
    "Compute the matrix-vector product $Ax$ by hand and check that Julia gives the same answer."
   ]
  },
  {
   "cell_type": "code",
   "execution_count": null,
   "metadata": {},
   "outputs": [],
   "source": []
  },
  {
   "cell_type": "markdown",
   "metadata": {},
   "source": [
    "---"
   ]
  },
  {
   "cell_type": "markdown",
   "metadata": {},
   "source": [
    "In general, if $A$ is a real matrix with $m$ rows and $n$ columns, and $x$ is a real vector with $n$ entries, then\n",
    "\n",
    "$$\n",
    "A = \n",
    "\\begin{bmatrix}\n",
    "a_{11} & \\cdots & a_{1n} \\\\\n",
    "\\vdots &        & \\vdots \\\\\n",
    "a_{m1} & \\cdots & a_{mn}\n",
    "\\end{bmatrix}\n",
    "\\in \\mathbb{R}^{m \\times n}\n",
    "\\quad \\text{and} \\quad\n",
    "x = \n",
    "\\begin{bmatrix}\n",
    "x_1 \\\\ \\vdots \\\\ x_n\n",
    "\\end{bmatrix}\n",
    "\\in \\mathbb{R}^n.\n",
    "$$\n",
    "\n",
    "If $b = Ax$, then $b \\in \\mathbb{R}^m$ and\n",
    "\n",
    "$$\n",
    "b_i = \\sum_{j = 1}^n a_{ij} x_j = a_{i1}x_1 + \\cdots + a_{in}x_n,\n",
    "\\quad\n",
    "i = 1,\\ldots, m.\n",
    "$$"
   ]
  },
  {
   "cell_type": "markdown",
   "metadata": {},
   "source": [
    "Thus, $b_i$ is the **inner-product** between $\\mathrm{row}_i(A) = \\begin{bmatrix} a_{i1} & \\cdots & a_{in} \\end{bmatrix}$ and the vector $x$.\n",
    "\n",
    "Also, \n",
    "\n",
    "$$b = \\mathrm{col}_1(A) x_1 + \\cdots + \\mathrm{col}_n(A) x_n,$$\n",
    "\n",
    "so $b$ is a **linear combination** of the columns of $A$."
   ]
  },
  {
   "cell_type": "markdown",
   "metadata": {},
   "source": [
    "---"
   ]
  },
  {
   "cell_type": "markdown",
   "metadata": {},
   "source": [
    "### Exercise:\n",
    "\n",
    "Write a Julia function to multiply a matrix and a vector using for loops."
   ]
  },
  {
   "cell_type": "code",
   "execution_count": null,
   "metadata": {},
   "outputs": [],
   "source": [
    "myfun(A, x) = A*x # NOT THIS!!!!"
   ]
  },
  {
   "cell_type": "code",
   "execution_count": 1,
   "metadata": {},
   "outputs": [
    {
     "name": "stdout",
     "output_type": "stream",
     "text": [
      "search: \u001b[0m\u001b[1ms\u001b[22m\u001b[0m\u001b[1mi\u001b[22m\u001b[0m\u001b[1mz\u001b[22m\u001b[0m\u001b[1me\u001b[22m \u001b[0m\u001b[1ms\u001b[22m\u001b[0m\u001b[1mi\u001b[22m\u001b[0m\u001b[1mz\u001b[22m\u001b[0m\u001b[1me\u001b[22mof \u001b[0m\u001b[1ms\u001b[22m\u001b[0m\u001b[1mi\u001b[22m\u001b[0m\u001b[1mz\u001b[22m\u001b[0m\u001b[1me\u001b[22mhint! C\u001b[0m\u001b[1ms\u001b[22m\u001b[0m\u001b[1mi\u001b[22m\u001b[0m\u001b[1mz\u001b[22m\u001b[0m\u001b[1me\u001b[22m_t re\u001b[0m\u001b[1ms\u001b[22m\u001b[0m\u001b[1mi\u001b[22m\u001b[0m\u001b[1mz\u001b[22m\u001b[0m\u001b[1me\u001b[22m! file\u001b[0m\u001b[1ms\u001b[22m\u001b[0m\u001b[1mi\u001b[22m\u001b[0m\u001b[1mz\u001b[22m\u001b[0m\u001b[1me\u001b[22m C\u001b[0m\u001b[1ms\u001b[22ms\u001b[0m\u001b[1mi\u001b[22m\u001b[0m\u001b[1mz\u001b[22m\u001b[0m\u001b[1me\u001b[22m_t di\u001b[0m\u001b[1ms\u001b[22mplays\u001b[0m\u001b[1mi\u001b[22m\u001b[0m\u001b[1mz\u001b[22m\u001b[0m\u001b[1me\u001b[22m\n",
      "\n"
     ]
    },
    {
     "data": {
      "text/latex": [
       "\\begin{verbatim}\n",
       "size(A::AbstractArray, [dim])\n",
       "\\end{verbatim}\n",
       "Return a tuple containing the dimensions of \\texttt{A}. Optionally you can specify a dimension to just get the length of that dimension.\n",
       "\n",
       "Note that \\texttt{size} may not be defined for arrays with non-standard indices, in which case \\href{@ref}{\\texttt{axes}} may be useful. See the manual chapter on \\href{@ref man-custom-indices}{arrays with custom indices}.\n",
       "\n",
       "\\section{Examples}\n",
       "\\begin{verbatim}\n",
       "julia> A = fill(1, (2,3,4));\n",
       "\n",
       "julia> size(A)\n",
       "(2, 3, 4)\n",
       "\n",
       "julia> size(A, 2)\n",
       "3\n",
       "\\end{verbatim}\n"
      ],
      "text/markdown": [
       "```\n",
       "size(A::AbstractArray, [dim])\n",
       "```\n",
       "\n",
       "Return a tuple containing the dimensions of `A`. Optionally you can specify a dimension to just get the length of that dimension.\n",
       "\n",
       "Note that `size` may not be defined for arrays with non-standard indices, in which case [`axes`](@ref) may be useful. See the manual chapter on [arrays with custom indices](@ref man-custom-indices).\n",
       "\n",
       "# Examples\n",
       "\n",
       "```jldoctest\n",
       "julia> A = fill(1, (2,3,4));\n",
       "\n",
       "julia> size(A)\n",
       "(2, 3, 4)\n",
       "\n",
       "julia> size(A, 2)\n",
       "3\n",
       "```\n"
      ],
      "text/plain": [
       "\u001b[36m  size(A::AbstractArray, [dim])\u001b[39m\n",
       "\n",
       "  Return a tuple containing the dimensions of \u001b[36mA\u001b[39m. Optionally you can specify a\n",
       "  dimension to just get the length of that dimension.\n",
       "\n",
       "  Note that \u001b[36msize\u001b[39m may not be defined for arrays with non-standard indices, in\n",
       "  which case \u001b[36maxes\u001b[39m may be useful. See the manual chapter on arrays with custom\n",
       "  indices.\n",
       "\n",
       "\u001b[1m  Examples\u001b[22m\n",
       "\u001b[1m  ≡≡≡≡≡≡≡≡≡≡\u001b[22m\n",
       "\n",
       "\u001b[36m  julia> A = fill(1, (2,3,4));\u001b[39m\n",
       "\u001b[36m  \u001b[39m\n",
       "\u001b[36m  julia> size(A)\u001b[39m\n",
       "\u001b[36m  (2, 3, 4)\u001b[39m\n",
       "\u001b[36m  \u001b[39m\n",
       "\u001b[36m  julia> size(A, 2)\u001b[39m\n",
       "\u001b[36m  3\u001b[39m"
      ]
     },
     "execution_count": 1,
     "metadata": {},
     "output_type": "execute_result"
    }
   ],
   "source": [
    "?size"
   ]
  },
  {
   "cell_type": "code",
   "execution_count": 4,
   "metadata": {
    "scrolled": true
   },
   "outputs": [
    {
     "ename": "DimensionMismatch",
     "evalue": "DimensionMismatch(\"matrix A has dimensions (2,3), vector B has length 2\")",
     "output_type": "error",
     "traceback": [
      "DimensionMismatch(\"matrix A has dimensions (2,3), vector B has length 2\")",
      "",
      "Stacktrace:",
      " [1] generic_matvecmul!(::Array{Int64,1}, ::Char, ::Array{Int64,2}, ::Array{Int64,1}) at /Users/sabae/buildbot/worker/package_macos64/build/usr/share/julia/stdlib/v1.2/LinearAlgebra/src/matmul.jl:505",
      " [2] mul! at /Users/sabae/buildbot/worker/package_macos64/build/usr/share/julia/stdlib/v1.2/LinearAlgebra/src/matmul.jl:77 [inlined]",
      " [3] *(::Array{Int64,2}, ::Array{Int64,1}) at /Users/sabae/buildbot/worker/package_macos64/build/usr/share/julia/stdlib/v1.2/LinearAlgebra/src/matmul.jl:51",
      " [4] top-level scope at In[4]:3"
     ]
    }
   ],
   "source": [
    "A = [1 2 4; 1 2 4]\n",
    "x = [1, 2]\n",
    "\n",
    "A*x"
   ]
  },
  {
   "cell_type": "markdown",
   "metadata": {},
   "source": [
    "---"
   ]
  },
  {
   "cell_type": "markdown",
   "metadata": {},
   "source": [
    "### Exercise:\n",
    "\n",
    "Test the speed of your function to compute $b = Ax$.\n"
   ]
  },
  {
   "cell_type": "code",
   "execution_count": 6,
   "metadata": {},
   "outputs": [
    {
     "data": {
      "text/plain": [
       "2×3 Array{Int64,2}:\n",
       " 1  2  3\n",
       " 4  5  6"
      ]
     },
     "execution_count": 6,
     "metadata": {},
     "output_type": "execute_result"
    }
   ],
   "source": [
    "A = [1 2 3; 4 5 6]"
   ]
  },
  {
   "cell_type": "code",
   "execution_count": 8,
   "metadata": {},
   "outputs": [
    {
     "data": {
      "text/plain": [
       "6"
      ]
     },
     "execution_count": 8,
     "metadata": {},
     "output_type": "execute_result"
    }
   ],
   "source": [
    "A[2,3]"
   ]
  },
  {
   "cell_type": "code",
   "execution_count": 3,
   "metadata": {},
   "outputs": [],
   "source": [
    "using BenchmarkTools"
   ]
  },
  {
   "cell_type": "code",
   "execution_count": 5,
   "metadata": {},
   "outputs": [
    {
     "data": {
      "text/plain": [
       "BenchmarkTools.Trial: \n",
       "  memory estimate:  112 bytes\n",
       "  allocs estimate:  1\n",
       "  --------------\n",
       "  minimum time:     109.269 ns (0.00% GC)\n",
       "  median time:      111.108 ns (0.00% GC)\n",
       "  mean time:        123.873 ns (9.10% GC)\n",
       "  maximum time:     50.369 μs (99.76% GC)\n",
       "  --------------\n",
       "  samples:          10000\n",
       "  evals/sample:     929"
      ]
     },
     "execution_count": 5,
     "metadata": {},
     "output_type": "execute_result"
    }
   ],
   "source": [
    "A = rand(3,2)\n",
    "x = rand(2)\n",
    "\n",
    "@benchmark A*x"
   ]
  },
  {
   "cell_type": "code",
   "execution_count": 2,
   "metadata": {},
   "outputs": [
    {
     "data": {
      "text/plain": [
       "3-element Array{Float64,1}:\n",
       " 0.0\n",
       " 0.0\n",
       " 0.0"
      ]
     },
     "execution_count": 2,
     "metadata": {},
     "output_type": "execute_result"
    }
   ],
   "source": [
    "zeros(3)"
   ]
  },
  {
   "cell_type": "code",
   "execution_count": 1,
   "metadata": {},
   "outputs": [
    {
     "data": {
      "text/plain": [
       "MatrixVectorMultiply (generic function with 1 method)"
      ]
     },
     "execution_count": 1,
     "metadata": {},
     "output_type": "execute_result"
    }
   ],
   "source": [
    "# Max and Lauren\n",
    "function MatrixVectorMultiply(M, v)\n",
    "    b = zeros(size(M,1)) #zeros(Int64, size(M,1)) \n",
    "    for i in 1:size(M,1)\n",
    "        for j in 1:size(v,1)\n",
    "            b[i] += M[i,j]*v[j]\n",
    "        end\n",
    "    end\n",
    "    return b\n",
    "end"
   ]
  },
  {
   "cell_type": "code",
   "execution_count": null,
   "metadata": {},
   "outputs": [],
   "source": [
    "# Killian Anderson\n",
    "# z1782191\n",
    "# 8/29/2019\n",
    "# Purpose: Matrix Vector Multiplication, A*x = b in a loop\n",
    "\n",
    "A = [ 2 1 4; 3 -2 1]\n",
    "x = [1, 2, 1]\n",
    "\n",
    "n = size(A, 1) # Row Size\n",
    "m = size(A, 2) # Column Size\n",
    "\n",
    "b = zeros(n, 1) # Empty Vector\n",
    "for j = 1:m # Column\n",
    "    for i = 1:n # Row\n",
    "        b[i] = b[i] + A[i,j]*x[j] # Multiplication Operation\n",
    "    end\n",
    "end\n",
    "\n",
    "print(b[1,1], \"\\n\", b[2,1]) # Test Printing Integer Array Vector"
   ]
  },
  {
   "cell_type": "code",
   "execution_count": null,
   "metadata": {},
   "outputs": [],
   "source": [
    "# This allocates memory every iteration, so is very slow\n",
    "for j in 1:size(v,1)\n",
    "    b += M[:,j]*v[j]\n",
    "end"
   ]
  },
  {
   "cell_type": "code",
   "execution_count": null,
   "metadata": {},
   "outputs": [],
   "source": [
    "# Which is faster?\n",
    "\n",
    "for j in 1:size(v,1)\n",
    "    for i in 1:size(M,1)\n",
    "        b[i] += M[i,j]*v[j]\n",
    "    end\n",
    "end\n",
    "\n",
    "# OR\n",
    "\n",
    "for i in 1:size(M,1)\n",
    "    for j in 1:size(v,1)\n",
    "        b[i] += M[i,j]*v[j]\n",
    "    end\n",
    "end"
   ]
  },
  {
   "cell_type": "markdown",
   "metadata": {},
   "source": [
    "### What are your conclusions?\n",
    "\n",
    "1. The `for j` then `for i` is the fastest. This is the \"linear combination\" formula."
   ]
  },
  {
   "cell_type": "markdown",
   "metadata": {},
   "source": [
    "---"
   ]
  },
  {
   "cell_type": "markdown",
   "metadata": {},
   "source": [
    "## Storage of arrays in memory\n",
    "\n",
    "In Julia, the matrix \n",
    "\n",
    "$$\n",
    "A = \n",
    "\\begin{bmatrix}\n",
    "2 & 1 & 4 \\\\\n",
    "3 & -2 & 1\n",
    "\\end{bmatrix}\n",
    "$$\n",
    "\n",
    "is stored in computer memory in **column-major order**:\n",
    "\n",
    "| $\\vdots$     |\n",
    "|:------:|\n",
    "| 2.0  |\n",
    "| 3.0  |\n",
    "| 1.0  |\n",
    "| -2.0 |\n",
    "| 4.0  |\n",
    "| 1.0  |\n",
    "| $\\vdots$     |"
   ]
  },
  {
   "cell_type": "markdown",
   "metadata": {},
   "source": [
    "### Computer memory architecture\n",
    "\n",
    "When the CPU needs data from memory, the **page** in memory where that data is located gets loaded into the **cache**.\n",
    "\n",
    "$$\n",
    "\\begin{matrix}\n",
    "& \\text{fast}& & \\text{slow} & \\\\\n",
    "\\fbox{CPU} & \\Longleftrightarrow & \\fbox{cache} & \\longleftrightarrow & \\fbox{memory} \\\\\n",
    "& & \\text{3 MB} & & \\text{16 GB}\n",
    "\\end{matrix}\n",
    "$$\n",
    "\n",
    "It is better to load data from memory that is stored contiguously.\n",
    "\n"
   ]
  },
  {
   "cell_type": "markdown",
   "metadata": {},
   "source": [
    "### Row-major vs column-major order\n",
    "\n",
    "Some languages store arrays in **row-major order**, such as:\n",
    "- C/C++\n",
    "- Python\n",
    "- Mathematica\n",
    "\n",
    "Other languages use **column-major order**, such as:\n",
    "- Fortran\n",
    "- MATLAB\n",
    "- R\n",
    "- Julia\n",
    "\n",
    "See the [Row-major order](https://en.wikipedia.org/wiki/Row-major_order) Wikipedia page for more information.\n"
   ]
  },
  {
   "cell_type": "markdown",
   "metadata": {},
   "source": [
    "---"
   ]
  },
  {
   "cell_type": "markdown",
   "metadata": {},
   "source": [
    "### Floating-point operations (flops)\n",
    "\n",
    "A **flop** is a *floating-point operation* between numbers stored in a floating-point format on a computer.\n",
    "\n",
    "We will discuss this floating-point format in detail later in the course. For now, it is enough to know that this format is a way of storing real numbers on a computer that is like *scientific notation*. It allows us to store a large range of numbers, but only to a finite precision.\n",
    "\n",
    "If $x$ and $y$ are numbers stored in a floating point format, then the following operations are each *one flop*:\n",
    "\n",
    "$$\n",
    "x + y, \\quad x - y, \\quad xy, \\quad x/y.\n",
    "$$"
   ]
  },
  {
   "cell_type": "markdown",
   "metadata": {},
   "source": [
    "---"
   ]
  },
  {
   "cell_type": "markdown",
   "metadata": {},
   "source": [
    "### Example:\n",
    "\n",
    "Count the number of flops in the following code.\n",
    "\n",
    "```julia\n",
    "for j = 1:n\n",
    "    for i = 1:m\n",
    "        b[i] = b[i] + A[i, j]*x[j]\n",
    "    end\n",
    "end\n",
    "```"
   ]
  },
  {
   "cell_type": "markdown",
   "metadata": {},
   "source": [
    "---"
   ]
  },
  {
   "cell_type": "markdown",
   "metadata": {},
   "source": [
    "For $A \\in \\mathbb{R}^{n \\times n}$ and $x \\in \\mathbb{R}^n$, computing $b = Ax$ requires $2n^2$ flops.\n",
    "\n",
    "Thus, we expect that computing $b = Ax$ with $n = 2000$ will take 4 times as long as the same computation with $n = 1000$.\n",
    "\n",
    "We say that $b = Ax$ is an **order $n^2$** operation:\n",
    "\n",
    "$$\\fbox{Computing $b = Ax$ requires $O(n^2)$ flops.}$$\n",
    "\n",
    "The exact number of flops matters less than how the number of flops grows as $n$ grows."
   ]
  },
  {
   "cell_type": "markdown",
   "metadata": {},
   "source": [
    "---"
   ]
  },
  {
   "cell_type": "markdown",
   "metadata": {},
   "source": [
    "### Speed test\n",
    "\n",
    "Write code to test compare running times when $n$ is doubled."
   ]
  },
  {
   "cell_type": "code",
   "execution_count": 30,
   "metadata": {},
   "outputs": [
    {
     "data": {
      "text/plain": [
       "1.0"
      ]
     },
     "execution_count": 30,
     "metadata": {},
     "output_type": "execute_result"
    }
   ],
   "source": [
    "a = @belapsed 1+1\n",
    "b = @belapsed 2.5/3.5\n",
    "\n",
    "a/b"
   ]
  },
  {
   "cell_type": "code",
   "execution_count": 31,
   "metadata": {},
   "outputs": [
    {
     "data": {
      "text/plain": [
       "4.360777408459373"
      ]
     },
     "execution_count": 31,
     "metadata": {},
     "output_type": "execute_result"
    }
   ],
   "source": [
    "n = 1000\n",
    "A = rand(n,n)\n",
    "x = rand(n)\n",
    "t1 = @belapsed A*x\n",
    "\n",
    "n = 2000\n",
    "A = rand(n,n)\n",
    "x = rand(n)\n",
    "t2 = @belapsed A*x\n",
    "\n",
    "t2/t1"
   ]
  },
  {
   "cell_type": "markdown",
   "metadata": {},
   "source": [
    "---"
   ]
  },
  {
   "cell_type": "markdown",
   "metadata": {},
   "source": [
    "### Matrix-Matrix Multiplication\n",
    "\n",
    "Let $A \\in \\mathbb{R}^{m \\times n}$ and $X \\in \\mathbb{R}^{n \\times p}$. If $B = AX$ then $B \\in \\mathbb{R}^{m \\times p}$ and\n",
    "\n",
    "$$\n",
    "b_{ij} = \\sum_{k = 1}^n a_{ik} x_{kj}, \\quad i = 1,\\ldots,m, \\quad j = 1,\\ldots,p.\n",
    "$$\n",
    "\n",
    "That is, $b_{ij}$ is the **inner-product** between row $i$ of $A$ and column $j$ of $X$.\n",
    "\n",
    "Also, each column of $B$ is a **linear combination** of the columns of $A$."
   ]
  },
  {
   "cell_type": "markdown",
   "metadata": {},
   "source": [
    "---"
   ]
  },
  {
   "cell_type": "markdown",
   "metadata": {},
   "source": [
    "### Exercise:\n",
    "\n",
    "Write a Julia function to multiply two matrices."
   ]
  },
  {
   "cell_type": "code",
   "execution_count": null,
   "metadata": {},
   "outputs": [],
   "source": []
  },
  {
   "cell_type": "markdown",
   "metadata": {},
   "source": [
    "---"
   ]
  },
  {
   "cell_type": "markdown",
   "metadata": {},
   "source": [
    "### Exercise:\n",
    "\n",
    "Compare the running time of your function to Julia's built-in matrix-matrix multiplication."
   ]
  },
  {
   "cell_type": "code",
   "execution_count": null,
   "metadata": {},
   "outputs": [],
   "source": []
  },
  {
   "cell_type": "markdown",
   "metadata": {},
   "source": [
    "---"
   ]
  },
  {
   "cell_type": "markdown",
   "metadata": {},
   "source": [
    "### Exercise:\n",
    "\n",
    "Without running the following code, discuss with a classmate what you expect the output of the following code will be.\n",
    "\n",
    "```julia\n",
    "n = 1000\n",
    "A = rand(n,n)\n",
    "X = rand(n,n)\n",
    "t1 = @belapsed A*X\n",
    "\n",
    "n = 2000\n",
    "A = rand(n,n)\n",
    "X = rand(n,n)\n",
    "t2 = @belapsed A*X\n",
    "\n",
    "t2/t1\n",
    "```"
   ]
  },
  {
   "cell_type": "markdown",
   "metadata": {},
   "source": [
    "---"
   ]
  },
  {
   "cell_type": "markdown",
   "metadata": {},
   "source": [
    "### Block Matrices\n",
    "\n",
    "Partition $A \\in \\mathbb{R}^{m \\times n}$ and $X \\in \\mathbb{R}^{n \\times p}$ into blocks:\n",
    "\n",
    "$$\n",
    "\\begin{matrix}\n",
    "    & & \\begin{matrix} n_1 & n_2 \\end{matrix} \\\\\n",
    "A = & \\begin{matrix} m_1 \\\\ m_2 \\end{matrix}\n",
    "    & \\begin{bmatrix}\n",
    "    A_{11} & A_{12} \\\\\n",
    "    A_{21} & A_{22}\n",
    "    \\end{bmatrix},\n",
    "\\end{matrix}\n",
    "\\qquad\n",
    "\\begin{matrix}\n",
    "    & & \\begin{matrix} p_1 & p_2 \\end{matrix} \\\\\n",
    "X = & \\begin{matrix} n_1 \\\\ n_2 \\end{matrix}\n",
    "    & \\begin{bmatrix}\n",
    "    X_{11} & X_{12} \\\\\n",
    "    X_{21} & X_{22}\n",
    "    \\end{bmatrix},\n",
    "\\end{matrix}\n",
    "$$\n",
    "\n",
    "where $n = n_1 + n_2$, $m = m_1 + m_2$, and $p = p_1 + p_2$."
   ]
  },
  {
   "cell_type": "markdown",
   "metadata": {},
   "source": [
    "If $B = AX$ and\n",
    "\n",
    "$$\n",
    "\\begin{matrix}\n",
    "    & & \\begin{matrix} p_1 & p_2 \\end{matrix} \\\\\n",
    "B = & \\begin{matrix} m_1 \\\\ m_2 \\end{matrix}\n",
    "    & \\begin{bmatrix}\n",
    "    B_{11} & B_{12} \\\\\n",
    "    B_{21} & B_{22}\n",
    "    \\end{bmatrix},\n",
    "\\end{matrix}\n",
    "$$\n",
    "\n",
    "then\n",
    "\n",
    "$$\n",
    "\\begin{align}\n",
    "\\begin{bmatrix}\n",
    "    B_{11} & B_{12} \\\\\n",
    "    B_{21} & B_{22}\n",
    "\\end{bmatrix} = B = AX &= \n",
    "\\begin{bmatrix}\n",
    "    A_{11} & A_{12} \\\\\n",
    "    A_{21} & A_{22}\n",
    "\\end{bmatrix}\n",
    "\\begin{bmatrix}\n",
    "    X_{11} & X_{12} \\\\\n",
    "    X_{21} & X_{22}\n",
    "\\end{bmatrix}\\\\\\\\\n",
    "&=\n",
    "\\begin{bmatrix}\n",
    "    A_{11} X_{11} + A_{12} X_{21} & A_{11} X_{12} + A_{12} X_{22} \\\\\n",
    "    A_{21} X_{11} + A_{22} X_{21} & A_{21} X_{12} + A_{22} X_{22} \\\\\n",
    "\\end{bmatrix}\n",
    "\\end{align}\n",
    "$$\n",
    "\n",
    "That is,\n",
    "\n",
    "$$\n",
    "B_{ij} = \\sum_{k = 1}^2 A_{ik}X_{kj}, \\qquad i,j = 1,2.\n",
    "$$"
   ]
  },
  {
   "cell_type": "markdown",
   "metadata": {},
   "source": [
    "---"
   ]
  },
  {
   "cell_type": "markdown",
   "metadata": {},
   "source": [
    "### Exercise:\n",
    "\n",
    "Verify the above block matrix multiplication formula on random matrices in Julia."
   ]
  },
  {
   "cell_type": "code",
   "execution_count": null,
   "metadata": {},
   "outputs": [],
   "source": []
  },
  {
   "cell_type": "markdown",
   "metadata": {},
   "source": [
    "---"
   ]
  },
  {
   "cell_type": "markdown",
   "metadata": {},
   "source": [
    "### Use of Block Matrix Operations to Decrease Data Movement Delays\n",
    "\n",
    "Suppose $n = rs$.\n",
    "\n",
    "If $A, X \\in \\mathbb{R}^{n \\times n}$ are partitioned into $s \\times s$ block matrices where each block is of size $r \\times r$, then $B = AX$ can be computed as in the following pseudo-code:\n",
    "\n",
    "```julia\n",
    "B = zeros(n, n)\n",
    "for i = 1:s\n",
    "    for j = 1:s\n",
    "        for k = 1:s\n",
    "            Bij = Bij + Aik * Xkj\n",
    "        end\n",
    "    end\n",
    "end\n",
    "```\n",
    "\n"
   ]
  },
  {
   "cell_type": "markdown",
   "metadata": {},
   "source": [
    "We can do the following operations in parallel:\n",
    "\n",
    "1. Multiply $A_{ik} X_{kj}$ in $O(r^3)$ time.\n",
    "\n",
    "2. Fetch the next blocks $A_{i,k+1}$ and $X_{k+1,j}$ in $O(r^2)$ time.\n",
    "\n",
    "We should be able to choose $r$ so that step 2 takes less time than step 1.\n",
    "\n",
    "Therefore, the CPU will not have to wait to load data from the memory into the cache.\n",
    "\n",
    "Cache size needs to be taken into account. We need to be able to store the following 5 submatrices in cache at the same time:\n",
    "\n",
    "$$\n",
    "B_{ij}, \\quad A_{ik}, \\quad X_{kj}, \\quad A_{i,k+1}, \\quad X_{k+1,j}.\n",
    "$$\n",
    "\n",
    "In addition, multiple processors can compute different submatrices $B_{ij}$ at the same time."
   ]
  },
  {
   "cell_type": "markdown",
   "metadata": {},
   "source": [
    "---"
   ]
  }
 ],
 "metadata": {
  "@webio": {
   "lastCommId": null,
   "lastKernelId": null
  },
  "kernelspec": {
   "display_name": "Julia 1.2.0",
   "language": "julia",
   "name": "julia-1.2"
  },
  "language_info": {
   "file_extension": ".jl",
   "mimetype": "application/julia",
   "name": "julia",
   "version": "1.2.0"
  }
 },
 "nbformat": 4,
 "nbformat_minor": 1
}
