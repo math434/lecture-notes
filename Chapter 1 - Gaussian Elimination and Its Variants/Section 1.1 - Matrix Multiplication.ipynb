{
 "cells": [
  {
   "cell_type": "markdown",
   "metadata": {},
   "source": [
    "---\n",
    "# Section 1.1:  Matrix Multiplication\n",
    "---"
   ]
  },
  {
   "cell_type": "markdown",
   "metadata": {},
   "source": [
    "### Example:\n",
    "\n",
    "Let\n",
    "\n",
    "$$\n",
    "A = \n",
    "\\begin{bmatrix} \n",
    "2 & 1 & 4 \\\\ \n",
    "3 & -2 & 1 \n",
    "\\end{bmatrix} \n",
    "\\in \\mathbb{R}^{2 \\times 3},\n",
    "\\qquad\n",
    "x = \n",
    "\\begin{bmatrix}\n",
    "1 \\\\ 2 \\\\ 1\n",
    "\\end{bmatrix}\n",
    "\\in \\mathbb{R}^3.\n",
    "$$\n",
    "\n",
    "Compute the matrix-vector product $Ax$ by hand and check that Julia gives the same answer."
   ]
  },
  {
   "cell_type": "code",
   "execution_count": null,
   "metadata": {},
   "outputs": [],
   "source": []
  },
  {
   "cell_type": "markdown",
   "metadata": {},
   "source": [
    "---"
   ]
  },
  {
   "cell_type": "markdown",
   "metadata": {},
   "source": [
    "In general, if $A$ is a real matrix with $m$ rows and $n$ columns, and $x$ is a real vector with $n$ entries, then\n",
    "\n",
    "$$\n",
    "A = \n",
    "\\begin{bmatrix}\n",
    "a_{11} & \\cdots & a_{1n} \\\\\n",
    "\\vdots &        & \\vdots \\\\\n",
    "a_{m1} & \\cdots & a_{mn}\n",
    "\\end{bmatrix}\n",
    "\\in \\mathbb{R}^{m \\times n}\n",
    "\\quad \\text{and} \\quad\n",
    "x = \n",
    "\\begin{bmatrix}\n",
    "x_1 \\\\ \\vdots \\\\ x_n\n",
    "\\end{bmatrix}\n",
    "\\in \\mathbb{R}^n.\n",
    "$$\n",
    "\n",
    "If $b = Ax$, then $b \\in \\mathbb{R}^m$ and\n",
    "\n",
    "$$\n",
    "b_i = \\sum_{j = 1}^n a_{ij} x_j = a_{i1}x_1 + \\cdots + a_{in}x_n,\n",
    "\\quad\n",
    "i = 1,\\ldots, m.\n",
    "$$"
   ]
  },
  {
   "cell_type": "markdown",
   "metadata": {},
   "source": [
    "Thus, $b_i$ is the **inner-product** between $\\mathrm{row}_i(A) = \\begin{bmatrix} a_{i1} & \\cdots & a_{in} \\end{bmatrix}$ and the vector $x$.\n",
    "\n",
    "Also, \n",
    "\n",
    "$$b = \\mathrm{col}_1(A) x_1 + \\cdots + \\mathrm{col}_n(A) x_n,$$\n",
    "\n",
    "so $b$ is a **linear combination** of the columns of $A$."
   ]
  },
  {
   "cell_type": "markdown",
   "metadata": {},
   "source": [
    "---"
   ]
  },
  {
   "cell_type": "markdown",
   "metadata": {},
   "source": [
    "### Exercise:\n",
    "\n",
    "Write a Julia function to multiply a matrix and a vector."
   ]
  },
  {
   "cell_type": "code",
   "execution_count": null,
   "metadata": {},
   "outputs": [],
   "source": []
  },
  {
   "cell_type": "markdown",
   "metadata": {},
   "source": [
    "---"
   ]
  },
  {
   "cell_type": "markdown",
   "metadata": {},
   "source": [
    "### Exercise:\n",
    "\n",
    "Test the speed of your function to compute $b = Ax$.\n"
   ]
  },
  {
   "cell_type": "code",
   "execution_count": null,
   "metadata": {},
   "outputs": [],
   "source": []
  },
  {
   "cell_type": "markdown",
   "metadata": {},
   "source": [
    "### What are your conclusions?\n",
    "\n",
    "1. "
   ]
  },
  {
   "cell_type": "markdown",
   "metadata": {},
   "source": [
    "---"
   ]
  },
  {
   "cell_type": "markdown",
   "metadata": {},
   "source": [
    "## Storage of arrays in memory\n",
    "\n",
    "In Julia, the matrix \n",
    "\n",
    "$$\n",
    "A = \n",
    "\\begin{bmatrix}\n",
    "2 & 1 & 4 \\\\\n",
    "3 & -2 & 1\n",
    "\\end{bmatrix}\n",
    "$$\n",
    "\n",
    "is stored in computer memory in **column-major order**:\n",
    "\n",
    "| $\\vdots$     |\n",
    "|:------:|\n",
    "| 2.0  |\n",
    "| 3.0  |\n",
    "| 1.0  |\n",
    "| -2.0 |\n",
    "| 4.0  |\n",
    "| 1.0  |\n",
    "| $\\vdots$     |"
   ]
  },
  {
   "cell_type": "markdown",
   "metadata": {},
   "source": [
    "### Computer memory architecture\n",
    "\n",
    "When the CPU needs data from memory, the **page** in memory where that data is located gets loaded into the **cache**.\n",
    "\n",
    "$$\n",
    "\\begin{matrix}\n",
    "& \\text{fast}& & \\text{slow} & \\\\\n",
    "\\fbox{CPU} & \\Longleftrightarrow & \\fbox{cache} & \\longleftrightarrow & \\fbox{memory} \\\\\n",
    "& & \\text{3 MB} & & \\text{16 GB}\n",
    "\\end{matrix}\n",
    "$$\n",
    "\n",
    "It is better to load data from memory that is stored contiguously.\n",
    "\n"
   ]
  },
  {
   "cell_type": "markdown",
   "metadata": {},
   "source": [
    "### Row-major vs column-major order\n",
    "\n",
    "Some languages store arrays in **row-major order**, such as:\n",
    "- C/C++\n",
    "- Python\n",
    "- Mathematica\n",
    "\n",
    "Other languages use **column-major order**, such as:\n",
    "- Fortran\n",
    "- MATLAB\n",
    "- R\n",
    "- Julia\n",
    "\n",
    "See the [Row-major order](https://en.wikipedia.org/wiki/Row-major_order) Wikipedia page for more information.\n"
   ]
  },
  {
   "cell_type": "markdown",
   "metadata": {},
   "source": [
    "---"
   ]
  },
  {
   "cell_type": "markdown",
   "metadata": {},
   "source": [
    "### Floating-point operations (flops)\n",
    "\n",
    "A **flop** is a *floating-point operation* between numbers stored in a floating-point format on a computer.\n",
    "\n",
    "We will discuss this floating-point format in detail later in the course. For now, it is enough to know that this format is a way of storing real numbers on a computer that is like *scientific notation*. It allows us to store a large range of numbers, but only to a finite precision.\n",
    "\n",
    "If $x$ and $y$ are numbers stored in a floating point format, then the following operations are each *one flop*:\n",
    "\n",
    "$$\n",
    "x + y, \\quad x - y, \\quad xy, \\quad x/y.\n",
    "$$"
   ]
  },
  {
   "cell_type": "markdown",
   "metadata": {},
   "source": [
    "---"
   ]
  },
  {
   "cell_type": "markdown",
   "metadata": {},
   "source": [
    "### Example:\n",
    "\n",
    "Count the number of flops in the following code.\n",
    "\n",
    "```julia\n",
    "for j = 1:n\n",
    "    for i = 1:m\n",
    "        b[i] = b[i] + A[i, j]*x[j]\n",
    "    end\n",
    "end\n",
    "```"
   ]
  },
  {
   "cell_type": "markdown",
   "metadata": {},
   "source": [
    "---"
   ]
  },
  {
   "cell_type": "markdown",
   "metadata": {},
   "source": [
    "For $A \\in \\mathbb{R}^{n \\times n}$ and $x \\in \\mathbb{R}^n$, computing $b = Ax$ requires $2n^2$ flops.\n",
    "\n",
    "Thus, we expect that computing $b = Ax$ with $n = 2000$ will take 4 times as long as the same computation with $n = 1000$.\n",
    "\n",
    "We say that $b = Ax$ is an **order $n^2$** operation:\n",
    "\n",
    "$$\\fbox{Computing $b = Ax$ requires $O(n^2)$ flops.}$$\n",
    "\n",
    "The exact number of flops matters less than how the number of flops grows as $n$ grows."
   ]
  },
  {
   "cell_type": "markdown",
   "metadata": {},
   "source": [
    "---"
   ]
  },
  {
   "cell_type": "markdown",
   "metadata": {},
   "source": [
    "### Speed test\n",
    "\n",
    "Write code to test compare running times when $n$ is doubled."
   ]
  },
  {
   "cell_type": "code",
   "execution_count": null,
   "metadata": {},
   "outputs": [],
   "source": []
  },
  {
   "cell_type": "markdown",
   "metadata": {},
   "source": [
    "---"
   ]
  },
  {
   "cell_type": "markdown",
   "metadata": {},
   "source": [
    "### Matrix-Matrix Multiplication\n",
    "\n",
    "Let $A \\in \\mathbb{R}^{m \\times n}$ and $X \\in \\mathbb{R}^{n \\times p}$.\n",
    "\n",
    "If $B = AX$ then $B \\in \\mathbb{R}^{m \\times p}$ and\n",
    "\n",
    "$$\n",
    "b_{ij} = \\sum_{k = 1}^n a_{ik} x_{kj}, \\quad i = 1,\\ldots,m, \\quad j = 1,\\ldots,p.\n",
    "$$\n",
    "\n",
    "That is, $b_{ij}$ is the **inner-product** between row $i$ of $A$ and column $j$ of $X$.\n",
    "\n",
    "Also, each column of $B$ is a **linear combination** of the columns of $A$.\n",
    "\n",
    "Total flops required is $2mnp$.\n",
    "\n",
    "If $A, X \\in \\mathbb{R}^{n \\times n}$, then computing $B = AX$ requires $2n^3 = O(n^3)$ flops."
   ]
  },
  {
   "cell_type": "markdown",
   "metadata": {},
   "source": [
    "---"
   ]
  },
  {
   "cell_type": "markdown",
   "metadata": {},
   "source": [
    "### Exercise:\n",
    "\n",
    "Write a Julia function to multiply two matrices."
   ]
  },
  {
   "cell_type": "code",
   "execution_count": null,
   "metadata": {},
   "outputs": [],
   "source": []
  },
  {
   "cell_type": "markdown",
   "metadata": {},
   "source": [
    "---"
   ]
  },
  {
   "cell_type": "markdown",
   "metadata": {},
   "source": [
    "### Exercise:\n",
    "\n",
    "Compare the running time of your function to Julia's built-in matrix-matrix multiplication."
   ]
  },
  {
   "cell_type": "code",
   "execution_count": null,
   "metadata": {},
   "outputs": [],
   "source": []
  },
  {
   "cell_type": "markdown",
   "metadata": {},
   "source": [
    "---"
   ]
  },
  {
   "cell_type": "markdown",
   "metadata": {},
   "source": [
    "### Block Matrices\n",
    "\n",
    "Partition $A \\in \\mathbb{R}^{m \\times n}$ and $X \\in \\mathbb{R}^{n \\times p}$ into blocks:\n",
    "\n",
    "$$\n",
    "\\begin{matrix}\n",
    "    & & \\begin{matrix} n_1 & n_2 \\end{matrix} \\\\\n",
    "A = & \\begin{matrix} m_1 \\\\ m_2 \\end{matrix}\n",
    "    & \\begin{bmatrix}\n",
    "    A_{11} & A_{12} \\\\\n",
    "    A_{21} & A_{22}\n",
    "    \\end{bmatrix},\n",
    "\\end{matrix}\n",
    "\\qquad\n",
    "\\begin{matrix}\n",
    "    & & \\begin{matrix} p_1 & p_2 \\end{matrix} \\\\\n",
    "X = & \\begin{matrix} n_1 \\\\ n_2 \\end{matrix}\n",
    "    & \\begin{bmatrix}\n",
    "    X_{11} & X_{12} \\\\\n",
    "    X_{21} & X_{22}\n",
    "    \\end{bmatrix},\n",
    "\\end{matrix}\n",
    "$$\n",
    "\n",
    "where $n = n_1 + n_2$, $m = m_1 + m_2$, and $p = p_1 + p_2$."
   ]
  },
  {
   "cell_type": "markdown",
   "metadata": {},
   "source": [
    "If $B = AX$ and\n",
    "\n",
    "$$\n",
    "\\begin{matrix}\n",
    "    & & \\begin{matrix} p_1 & p_2 \\end{matrix} \\\\\n",
    "B = & \\begin{matrix} m_1 \\\\ m_2 \\end{matrix}\n",
    "    & \\begin{bmatrix}\n",
    "    B_{11} & B_{12} \\\\\n",
    "    B_{21} & B_{22}\n",
    "    \\end{bmatrix},\n",
    "\\end{matrix}\n",
    "$$\n",
    "\n",
    "then\n",
    "\n",
    "$$\n",
    "\\begin{align}\n",
    "\\begin{bmatrix}\n",
    "    B_{11} & B_{12} \\\\\n",
    "    B_{21} & B_{22}\n",
    "\\end{bmatrix} = B = AX &= \n",
    "\\begin{bmatrix}\n",
    "    A_{11} & A_{12} \\\\\n",
    "    A_{21} & A_{22}\n",
    "\\end{bmatrix}\n",
    "\\begin{bmatrix}\n",
    "    X_{11} & X_{12} \\\\\n",
    "    X_{21} & X_{22}\n",
    "\\end{bmatrix}\\\\\\\\\n",
    "&=\n",
    "\\begin{bmatrix}\n",
    "    A_{11} X_{11} + A_{12} X_{21} & A_{11} X_{12} + A_{12} X_{22} \\\\\n",
    "    A_{21} X_{11} + A_{22} X_{21} & A_{21} X_{12} + A_{22} X_{22} \\\\\n",
    "\\end{bmatrix}\n",
    "\\end{align}\n",
    "$$\n",
    "\n",
    "That is,\n",
    "\n",
    "$$\n",
    "B_{ij} = \\sum_{k = 1}^2 A_{ik}X_{kj}, \\qquad i,j = 1,2.\n",
    "$$"
   ]
  },
  {
   "cell_type": "markdown",
   "metadata": {},
   "source": [
    "---"
   ]
  },
  {
   "cell_type": "markdown",
   "metadata": {},
   "source": [
    "### Exercise:\n",
    "\n",
    "Verify the above block matrix multiplication formula on random matrices in Julia."
   ]
  },
  {
   "cell_type": "code",
   "execution_count": null,
   "metadata": {},
   "outputs": [],
   "source": []
  },
  {
   "cell_type": "markdown",
   "metadata": {},
   "source": [
    "---"
   ]
  },
  {
   "cell_type": "markdown",
   "metadata": {},
   "source": [
    "### Use of Block Matrix Operations to Decrease Data Movement Delays\n",
    "\n",
    "Suppose $n = rs$.\n",
    "\n",
    "If $A, X \\in \\mathbb{R}^{n \\times n}$ are partitioned into $s \\times s$ block matrices where each block is of size $r \\times r$, then $B = AX$ can be computed as in the following pseudo-code:\n",
    "\n",
    "```julia\n",
    "B = zeros(n, n)\n",
    "for i = 1:s\n",
    "    for j = 1:s\n",
    "        for k = 1:s\n",
    "            Bij = Bij + Aik * Xkj\n",
    "        end\n",
    "    end\n",
    "end\n",
    "```\n",
    "\n"
   ]
  },
  {
   "cell_type": "markdown",
   "metadata": {},
   "source": [
    "We can do the following operations in parallel:\n",
    "\n",
    "1. Multiply $A_{ik} X_{kj}$ in $O(r^3)$ time.\n",
    "\n",
    "2. Fetch the next blocks $A_{i,k+1}$ and $X_{k+1,j}$ in $O(r^2)$ time.\n",
    "\n",
    "We should be able to choose $r$ so that step 2 takes less time than step 1.\n",
    "\n",
    "Therefore, the CPU will not have to wait to load data from the memory into the cache.\n",
    "\n",
    "Cache size needs to be taken into account. We need to be able to store the following 5 submatrices in cache at the same time:\n",
    "\n",
    "$$\n",
    "B_{ij}, \\quad A_{ik}, \\quad X_{kj}, \\quad A_{i,k+1}, \\quad X_{k+1,j}.\n",
    "$$\n",
    "\n",
    "In addition, multiple processors can compute different submatrices $B_{ij}$ at the same time."
   ]
  },
  {
   "cell_type": "markdown",
   "metadata": {},
   "source": [
    "---"
   ]
  }
 ],
 "metadata": {
  "@webio": {
   "lastCommId": null,
   "lastKernelId": null
  },
  "kernelspec": {
   "display_name": "Julia 1.2.0",
   "language": "julia",
   "name": "julia-1.2"
  },
  "language_info": {
   "file_extension": ".jl",
   "mimetype": "application/julia",
   "name": "julia",
   "version": "1.2.0"
  }
 },
 "nbformat": 4,
 "nbformat_minor": 1
}
