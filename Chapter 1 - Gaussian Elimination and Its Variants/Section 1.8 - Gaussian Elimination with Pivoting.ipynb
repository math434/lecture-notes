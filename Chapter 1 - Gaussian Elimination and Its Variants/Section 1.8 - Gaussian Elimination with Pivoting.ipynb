{
 "cells": [
  {
   "cell_type": "markdown",
   "metadata": {},
   "source": [
    "---\n",
    "# Section 1.8: Gaussian Elimination with Pivoting\n",
    "---"
   ]
  },
  {
   "cell_type": "markdown",
   "metadata": {},
   "source": [
    "We now consider Gaussian elimination **with row interchanges**, which is also known as Gaussian elimination **with pivoting**.\n",
    "\n",
    "On each iteration of Gaussian elimination, we not only want the pivot entry to be nonzero, but we also want the pivot to be not too small (since we need to divide by the pivot, and dividing by small numbers can cause errors to blow up).\n",
    "\n",
    "### Partial pivoting:\n",
    "\n",
    "> In iteration $k$, swap row $k$ with some row below so that the $(k,k)$ entry has **largest absolute value** compared to all entries below the diagonal."
   ]
  },
  {
   "cell_type": "markdown",
   "metadata": {},
   "source": [
    "## Example\n",
    "\n",
    "Let $A = \n",
    "\\begin{bmatrix}\n",
    "0 & 4 & 1 \\\\\n",
    "1 & 1 & 3 \\\\\n",
    "2 & -2& 1 \\\\\n",
    "\\end{bmatrix}.\n",
    "$\n",
    "We want to perform Gaussian elimination to obtain the $LU$-decomposition of $A$, but we clearly need to swap rows in order to proceed."
   ]
  },
  {
   "cell_type": "markdown",
   "metadata": {},
   "source": [
    "According to the **partial pivoting** rule, we should find the entry in the first column that is largest in absolute value. Thus, we should swap row 1 and row 3.\n",
    "\n",
    "$$\n",
    "\\begin{bmatrix}\n",
    "0 & 4 & 1 \\\\\n",
    "1 & 1 & 3 \\\\\n",
    "2 & -2& 1 \\\\\n",
    "\\end{bmatrix}\n",
    "\\quad\n",
    "\\xrightarrow{(r_1 \\leftrightarrow r_3)}\n",
    "\\quad\n",
    "\\begin{bmatrix}\n",
    "2 & -2& 1 \\\\\n",
    "1 & 1 & 3 \\\\\n",
    "0 & 4 & 1 \\\\\n",
    "\\end{bmatrix}\n",
    "$$"
   ]
  },
  {
   "cell_type": "markdown",
   "metadata": {},
   "source": [
    "We need to keep track of the pivots we do. We will use a vector, $p$, to store the resulting permutation of rows.\n",
    "\n",
    "$$\n",
    "\\begin{bmatrix}\n",
    "1 \\\\ 2 \\\\ 3\n",
    "\\end{bmatrix}\n",
    "\\quad\n",
    "\\xrightarrow{(r_1 \\leftrightarrow r_3)}\n",
    "\\quad\n",
    "\\begin{bmatrix}\n",
    "3 \\\\ 2 \\\\ 1\n",
    "\\end{bmatrix}\n",
    "$$"
   ]
  },
  {
   "cell_type": "markdown",
   "metadata": {},
   "source": [
    "Now we can eliminate the $(2,1)$ entry.\n",
    "\n",
    "$$\n",
    "\\begin{bmatrix}\n",
    "2 & -2& 1 \\\\\n",
    "1 & 1 & 3 \\\\\n",
    "0 & 4 & 1 \\\\\n",
    "\\end{bmatrix}\n",
    "\\quad\n",
    "\\xrightarrow{\\left(r_2 \\gets r_2 - \\frac{1}{2}r_1\\right)}\n",
    "\\quad\n",
    "\\begin{bmatrix}\n",
    "2 & -2& 1 \\\\\n",
    "\\mathbf{1/2} & 2 & 5/2 \\\\\n",
    "\\mathbf{0} & 4 & 1 \\\\\n",
    "\\end{bmatrix}\n",
    "$$\n",
    "\n",
    "Note that we have stored the $1/2$ and $0$ multipliers that were used in the row reduction, indicated in **bold**."
   ]
  },
  {
   "cell_type": "markdown",
   "metadata": {},
   "source": [
    "In the second column, we do not need to swap rows to proceed. However, according to the partial pivoting rule, we should swap row 2 with row 3 so that the pivot entry is as large as possible.\n",
    "\n",
    "$$\n",
    "\\begin{bmatrix}\n",
    "2 & -2& 1 \\\\\n",
    "\\mathbf{1/2} & 2 & 5/2 \\\\\n",
    "\\mathbf{0} & 4 & 1 \\\\\n",
    "\\end{bmatrix}\n",
    "\\quad\n",
    "\\xrightarrow{\\left(r_2 \\leftrightarrow r_3\\right)}\n",
    "\\quad\n",
    "\\begin{bmatrix}\n",
    "2 & -2& 1 \\\\\n",
    "\\mathbf{0} & 4 & 1 \\\\\n",
    "\\mathbf{1/2} & 2 & 5/2 \\\\\n",
    "\\end{bmatrix}\n",
    "$$\n",
    "\n",
    "Note that we have also swapped the **multipliers**."
   ]
  },
  {
   "cell_type": "markdown",
   "metadata": {},
   "source": [
    "We also update the vector $p$.\n",
    "\n",
    "$$\n",
    "\\begin{bmatrix}\n",
    "3 \\\\ 2 \\\\ 1\n",
    "\\end{bmatrix}\n",
    "\\quad\n",
    "\\xrightarrow{(r_2 \\leftrightarrow r_3)}\n",
    "\\quad\n",
    "\\begin{bmatrix}\n",
    "3 \\\\ 1 \\\\ 2\n",
    "\\end{bmatrix}\n",
    "$$"
   ]
  },
  {
   "cell_type": "markdown",
   "metadata": {},
   "source": [
    "Finally, we eliminate the $(3,2)$ entry.\n",
    "\n",
    "$$\n",
    "\\begin{bmatrix}\n",
    "2 & -2& 1 \\\\\n",
    "\\mathbf{0} & 4 & 1 \\\\\n",
    "\\mathbf{1/2} & 2 & 5/2 \\\\\n",
    "\\end{bmatrix}\n",
    "\\quad\n",
    "\\xrightarrow{\\left(r_3 \\gets r_3 - \\frac{1}{2}r_2\\right)}\n",
    "\\quad\n",
    "\\begin{bmatrix}\n",
    "2 & -2& 1 \\\\\n",
    "\\mathbf{0} & 4 & 1 \\\\\n",
    "\\mathbf{1/2} & \\mathbf{1/2} & 2 \\\\\n",
    "\\end{bmatrix}\n",
    "$$"
   ]
  },
  {
   "cell_type": "markdown",
   "metadata": {},
   "source": [
    "Instead storing zeros in the lower-triangular part, we can store the multipliers we used during Gaussian elimination.\n",
    "\n",
    "Thus, we obtain the final matrix and row permutation vector:\n",
    "\n",
    "$$\n",
    "\"LU\" = \n",
    "\\begin{bmatrix}\n",
    "2 & -2& 1 \\\\\n",
    "\\mathbf{0} & 4 & 1 \\\\\n",
    "\\mathbf{1/2} & \\mathbf{1/2} & 2 \\\\\n",
    "\\end{bmatrix},\n",
    "\\qquad\n",
    "p = \n",
    "\\begin{bmatrix}\n",
    "3 \\\\ 1 \\\\ 2\n",
    "\\end{bmatrix}.\n",
    "$$"
   ]
  },
  {
   "cell_type": "markdown",
   "metadata": {},
   "source": [
    "That is, we have\n",
    "\n",
    "$$\n",
    "L = \n",
    "\\begin{bmatrix}\n",
    "1 & 0 & 0 \\\\\n",
    "0 & 1 & 0 \\\\\n",
    "1/2 & 1/2 & 1 \\\\\n",
    "\\end{bmatrix},\n",
    "\\qquad\n",
    "U = \n",
    "\\begin{bmatrix}\n",
    "2 & -2& 1 \\\\\n",
    "0 & 4 & 1 \\\\\n",
    "0 & 0 & 2 \\\\\n",
    "\\end{bmatrix},\n",
    "\\qquad\n",
    "p = \n",
    "\\begin{bmatrix}\n",
    "3 \\\\ 1 \\\\ 2\n",
    "\\end{bmatrix}.\n",
    "$$"
   ]
  },
  {
   "cell_type": "markdown",
   "metadata": {},
   "source": [
    "Multiplying $L$ and $U$, we get\n",
    "\n",
    "$$\n",
    "LU = \n",
    "\\begin{bmatrix}\n",
    "2 & -2 & 1 \\\\\n",
    "0 & 4 & 1 \\\\\n",
    "1 & 1 & 3 \\\\\n",
    "\\end{bmatrix}.\n",
    "$$\n",
    "\n",
    "Recall that \n",
    "\n",
    "$$A = \n",
    "\\begin{bmatrix}\n",
    "0 & 4 & 1 \\\\\n",
    "1 & 1 & 3 \\\\\n",
    "2 & -2& 1 \\\\\n",
    "\\end{bmatrix}.\n",
    "$$\n",
    "\n",
    "Thus, $LU = A[p,:]$."
   ]
  },
  {
   "cell_type": "code",
   "execution_count": 1,
   "metadata": {
    "collapsed": false
   },
   "outputs": [
    {
     "data": {
      "text/plain": [
       "3x3 Array{Float64,2}:\n",
       " 0.0   4.0  1.0\n",
       " 1.0   1.0  3.0\n",
       " 2.0  -2.0  1.0"
      ]
     },
     "execution_count": 1,
     "metadata": {},
     "output_type": "execute_result"
    }
   ],
   "source": [
    "A = Float64[0 4 1; 1 1 3; 2 -2 1]"
   ]
  },
  {
   "cell_type": "code",
   "execution_count": 2,
   "metadata": {
    "collapsed": false
   },
   "outputs": [
    {
     "data": {
      "text/plain": [
       "3x3 Array{Float64,2}:\n",
       " 1.0  0.0  0.0\n",
       " 0.0  1.0  0.0\n",
       " 0.5  0.5  1.0"
      ]
     },
     "execution_count": 2,
     "metadata": {},
     "output_type": "execute_result"
    }
   ],
   "source": [
    "L = [1 0 0; 0 1 0; 1/2 1/2 1]"
   ]
  },
  {
   "cell_type": "code",
   "execution_count": 3,
   "metadata": {
    "collapsed": false
   },
   "outputs": [
    {
     "data": {
      "text/plain": [
       "3x3 Array{Float64,2}:\n",
       " 2.0  -2.0  1.0\n",
       " 0.0   4.0  1.0\n",
       " 0.0   0.0  2.0"
      ]
     },
     "execution_count": 3,
     "metadata": {},
     "output_type": "execute_result"
    }
   ],
   "source": [
    "U = Float64[2 -2 1; 0 4 1; 0 0 2]"
   ]
  },
  {
   "cell_type": "code",
   "execution_count": 4,
   "metadata": {
    "collapsed": false
   },
   "outputs": [
    {
     "data": {
      "text/plain": [
       "3-element Array{Int64,1}:\n",
       " 3\n",
       " 1\n",
       " 2"
      ]
     },
     "execution_count": 4,
     "metadata": {},
     "output_type": "execute_result"
    }
   ],
   "source": [
    "p = [3, 1, 2]"
   ]
  },
  {
   "cell_type": "code",
   "execution_count": 5,
   "metadata": {
    "collapsed": false
   },
   "outputs": [
    {
     "data": {
      "text/plain": [
       "3x3 Array{Float64,2}:\n",
       " 0.0  0.0  0.0\n",
       " 0.0  0.0  0.0\n",
       " 0.0  0.0  0.0"
      ]
     },
     "execution_count": 5,
     "metadata": {},
     "output_type": "execute_result"
    }
   ],
   "source": [
    "L*U - A[p,:]"
   ]
  },
  {
   "cell_type": "markdown",
   "metadata": {},
   "source": [
    "---"
   ]
  },
  {
   "cell_type": "markdown",
   "metadata": {},
   "source": [
    "## `lu(A)`"
   ]
  },
  {
   "cell_type": "code",
   "execution_count": 6,
   "metadata": {
    "collapsed": false
   },
   "outputs": [
    {
     "name": "stdout",
     "output_type": "stream",
     "text": [
      "search: lu lufact lufact! flush flush_cstdio ClusterManager values include\n",
      "\n"
     ]
    },
    {
     "data": {
      "text/markdown": [
       "```\n",
       "lu(A) -> L, U, p\n",
       "```\n",
       "\n",
       "Compute the LU factorization of `A`, such that `A[p,:] = L*U`.\n"
      ],
      "text/plain": [
       "```\n",
       "lu(A) -> L, U, p\n",
       "```\n",
       "\n",
       "Compute the LU factorization of `A`, such that `A[p,:] = L*U`.\n"
      ]
     },
     "execution_count": 6,
     "metadata": {},
     "output_type": "execute_result"
    }
   ],
   "source": [
    "?lu"
   ]
  },
  {
   "cell_type": "code",
   "execution_count": 7,
   "metadata": {
    "collapsed": false
   },
   "outputs": [
    {
     "data": {
      "text/plain": [
       "(\n",
       "3x3 Array{Float64,2}:\n",
       " 1.0  0.0  0.0\n",
       " 0.0  1.0  0.0\n",
       " 0.5  0.5  1.0,\n",
       "\n",
       "3x3 Array{Float64,2}:\n",
       " 2.0  -2.0  1.0\n",
       " 0.0   4.0  1.0\n",
       " 0.0   0.0  2.0,\n",
       "\n",
       "[3,1,2])"
      ]
     },
     "execution_count": 7,
     "metadata": {},
     "output_type": "execute_result"
    }
   ],
   "source": [
    "A = Float64[0 4 1; 1 1 3; 2 -2 1]\n",
    "L, U, p = lu(A)"
   ]
  },
  {
   "cell_type": "code",
   "execution_count": 8,
   "metadata": {
    "collapsed": false
   },
   "outputs": [
    {
     "data": {
      "text/plain": [
       "3x3 Array{Float64,2}:\n",
       " 0.0  0.0  0.0\n",
       " 0.0  0.0  0.0\n",
       " 0.0  0.0  0.0"
      ]
     },
     "execution_count": 8,
     "metadata": {},
     "output_type": "execute_result"
    }
   ],
   "source": [
    "L*U - A[p,:]"
   ]
  },
  {
   "cell_type": "markdown",
   "metadata": {},
   "source": [
    "---"
   ]
  },
  {
   "cell_type": "markdown",
   "metadata": {},
   "source": [
    "## `lufact(A)`"
   ]
  },
  {
   "cell_type": "code",
   "execution_count": 9,
   "metadata": {
    "collapsed": false
   },
   "outputs": [
    {
     "name": "stdout",
     "output_type": "stream",
     "text": [
      "search: lufact lufact!\n",
      "\n"
     ]
    },
    {
     "data": {
      "text/markdown": [
       "```rst\n",
       "..  lufact(A [,pivot=Val{true}]) -> F\n",
       "\n",
       "Compute the LU factorization of ``A``. The return type of ``F`` depends on the type of ``A``. In most cases, if ``A`` is a subtype ``S`` of AbstractMatrix with an element type ``T`` supporting ``+``, ``-``, ``*`` and ``/`` the return type is ``LU{T,S{T}}``. If pivoting is chosen (default) the element type should also support ``abs`` and ``<``. When ``A`` is sparse and have element of type ``Float32``, ``Float64``, ``Complex{Float32}``, or ``Complex{Float64}`` the return type is ``UmfpackLU``. Some examples are shown in the table below.\n",
       "\n",
       "======================= ========================= ========================================\n",
       "Type of input ``A``     Type of output ``F``      Relationship between ``F`` and ``A``\n",
       "======================= ========================= ========================================\n",
       ":func:`Matrix`           ``LU``                   ``F[:L]*F[:U] == A[F[:p], :]``\n",
       ":func:`Tridiagonal`      ``LU{T,Tridiagonal{T}}`` ``F[:L]*F[:U] == A[F[:p], :]``\n",
       ":func:`SparseMatrixCSC`  ``UmfpackLU``            ``F[:L]*F[:U] == (F[:Rs] .* A)[F[:p], F[:q]]``\n",
       "======================= ========================= ========================================\n",
       "\n",
       "The individual components of the factorization ``F`` can be accessed by indexing:\n",
       "\n",
       "=========== ======================================= ====== ======================== =============\n",
       "Component   Description                             ``LU`` ``LU{T,Tridiagonal{T}}`` ``UmfpackLU``\n",
       "=========== ======================================= ====== ======================== =============\n",
       "``F[:L]``   ``L`` (lower triangular) part of ``LU``    ✓            ✓                        ✓\n",
       "``F[:U]``   ``U`` (upper triangular) part of ``LU``    ✓            ✓                        ✓\n",
       "``F[:p]``   (right) permutation ``Vector``             ✓            ✓                        ✓\n",
       "``F[:P]``   (right) permutation ``Matrix``             ✓            ✓\n",
       "``F[:q]``   left permutation ``Vector``                                                      ✓\n",
       "``F[:Rs]``  ``Vector`` of scaling factors                                                    ✓\n",
       "``F[:(:)]`` ``(L,U,p,q,Rs)`` components                                                      ✓\n",
       "=========== ======================================= ====== ======================== =============\n",
       "\n",
       "================== ====== ======================== =============\n",
       "Supported function ``LU`` ``LU{T,Tridiagonal{T}}`` ``UmfpackLU``\n",
       "================== ====== ======================== =============\n",
       "     ``/``            ✓\n",
       "     ``\\``            ✓                       ✓             ✓\n",
       "     ``cond``         ✓                                     ✓\n",
       "     ``det``          ✓                       ✓             ✓\n",
       "     ``logdet``       ✓                       ✓\n",
       "     ``logabsdet``    ✓                       ✓\n",
       "     ``size``         ✓                       ✓\n",
       "================== ====== ======================== =============\n",
       "```\n"
      ],
      "text/plain": [
       "```rst\n",
       "..  lufact(A [,pivot=Val{true}]) -> F\n",
       "\n",
       "Compute the LU factorization of ``A``. The return type of ``F`` depends on the type of ``A``. In most cases, if ``A`` is a subtype ``S`` of AbstractMatrix with an element type ``T`` supporting ``+``, ``-``, ``*`` and ``/`` the return type is ``LU{T,S{T}}``. If pivoting is chosen (default) the element type should also support ``abs`` and ``<``. When ``A`` is sparse and have element of type ``Float32``, ``Float64``, ``Complex{Float32}``, or ``Complex{Float64}`` the return type is ``UmfpackLU``. Some examples are shown in the table below.\n",
       "\n",
       "======================= ========================= ========================================\n",
       "Type of input ``A``     Type of output ``F``      Relationship between ``F`` and ``A``\n",
       "======================= ========================= ========================================\n",
       ":func:`Matrix`           ``LU``                   ``F[:L]*F[:U] == A[F[:p], :]``\n",
       ":func:`Tridiagonal`      ``LU{T,Tridiagonal{T}}`` ``F[:L]*F[:U] == A[F[:p], :]``\n",
       ":func:`SparseMatrixCSC`  ``UmfpackLU``            ``F[:L]*F[:U] == (F[:Rs] .* A)[F[:p], F[:q]]``\n",
       "======================= ========================= ========================================\n",
       "\n",
       "The individual components of the factorization ``F`` can be accessed by indexing:\n",
       "\n",
       "=========== ======================================= ====== ======================== =============\n",
       "Component   Description                             ``LU`` ``LU{T,Tridiagonal{T}}`` ``UmfpackLU``\n",
       "=========== ======================================= ====== ======================== =============\n",
       "``F[:L]``   ``L`` (lower triangular) part of ``LU``    ✓            ✓                        ✓\n",
       "``F[:U]``   ``U`` (upper triangular) part of ``LU``    ✓            ✓                        ✓\n",
       "``F[:p]``   (right) permutation ``Vector``             ✓            ✓                        ✓\n",
       "``F[:P]``   (right) permutation ``Matrix``             ✓            ✓\n",
       "``F[:q]``   left permutation ``Vector``                                                      ✓\n",
       "``F[:Rs]``  ``Vector`` of scaling factors                                                    ✓\n",
       "``F[:(:)]`` ``(L,U,p,q,Rs)`` components                                                      ✓\n",
       "=========== ======================================= ====== ======================== =============\n",
       "\n",
       "================== ====== ======================== =============\n",
       "Supported function ``LU`` ``LU{T,Tridiagonal{T}}`` ``UmfpackLU``\n",
       "================== ====== ======================== =============\n",
       "     ``/``            ✓\n",
       "     ``\\``            ✓                       ✓             ✓\n",
       "     ``cond``         ✓                                     ✓\n",
       "     ``det``          ✓                       ✓             ✓\n",
       "     ``logdet``       ✓                       ✓\n",
       "     ``logabsdet``    ✓                       ✓\n",
       "     ``size``         ✓                       ✓\n",
       "================== ====== ======================== =============\n",
       "```\n"
      ]
     },
     "execution_count": 9,
     "metadata": {},
     "output_type": "execute_result"
    }
   ],
   "source": [
    "?lufact"
   ]
  },
  {
   "cell_type": "code",
   "execution_count": 10,
   "metadata": {
    "collapsed": false
   },
   "outputs": [
    {
     "data": {
      "text/plain": [
       "Base.LinAlg.LU{Float64,Array{Float64,2}}(3x3 Array{Float64,2}:\n",
       " 2.0  -2.0  1.0\n",
       " 0.0   4.0  1.0\n",
       " 0.5   0.5  2.0,[3,3,3],0)"
      ]
     },
     "execution_count": 10,
     "metadata": {},
     "output_type": "execute_result"
    }
   ],
   "source": [
    "A = Float64[0 4 1; 1 1 3; 2 -2 1]\n",
    "F = lufact(A)"
   ]
  },
  {
   "cell_type": "code",
   "execution_count": 11,
   "metadata": {
    "collapsed": false
   },
   "outputs": [
    {
     "data": {
      "text/plain": [
       "3x3 Array{Float64,2}:\n",
       " 1.0  0.0  0.0\n",
       " 0.0  1.0  0.0\n",
       " 0.5  0.5  1.0"
      ]
     },
     "execution_count": 11,
     "metadata": {},
     "output_type": "execute_result"
    }
   ],
   "source": [
    "L = F[:L]"
   ]
  },
  {
   "cell_type": "code",
   "execution_count": 12,
   "metadata": {
    "collapsed": false
   },
   "outputs": [
    {
     "data": {
      "text/plain": [
       "3x3 Array{Float64,2}:\n",
       " 2.0  -2.0  1.0\n",
       " 0.0   4.0  1.0\n",
       " 0.0   0.0  2.0"
      ]
     },
     "execution_count": 12,
     "metadata": {},
     "output_type": "execute_result"
    }
   ],
   "source": [
    "U = F[:U]"
   ]
  },
  {
   "cell_type": "code",
   "execution_count": 13,
   "metadata": {
    "collapsed": false
   },
   "outputs": [
    {
     "data": {
      "text/plain": [
       "3-element Array{Int64,1}:\n",
       " 3\n",
       " 1\n",
       " 2"
      ]
     },
     "execution_count": 13,
     "metadata": {},
     "output_type": "execute_result"
    }
   ],
   "source": [
    "p = F[:p]"
   ]
  },
  {
   "cell_type": "code",
   "execution_count": 14,
   "metadata": {
    "collapsed": false
   },
   "outputs": [
    {
     "data": {
      "text/plain": [
       "3x3 Array{Float64,2}:\n",
       " 0.0  0.0  1.0\n",
       " 1.0  0.0  0.0\n",
       " 0.0  1.0  0.0"
      ]
     },
     "execution_count": 14,
     "metadata": {},
     "output_type": "execute_result"
    }
   ],
   "source": [
    "P = F[:P]"
   ]
  },
  {
   "cell_type": "markdown",
   "metadata": {},
   "source": [
    "Another way to represent row permutations is with **permutation matrices**.\n",
    "\n",
    "Here we have\n",
    "\n",
    "$$\n",
    "p =\n",
    "\\begin{bmatrix}\n",
    "3 \\\\ 1 \\\\ 2\n",
    "\\end{bmatrix}\n",
    "\\qquad \\text{and} \\qquad\n",
    "P = I[p,:] = \n",
    "\\begin{bmatrix}\n",
    "0 & 0 & 1 \\\\\n",
    "1 & 0 & 0 \\\\\n",
    "0 & 1 & 0 \\\\\n",
    "\\end{bmatrix}.\n",
    "$$"
   ]
  },
  {
   "cell_type": "markdown",
   "metadata": {},
   "source": [
    "Then\n",
    "\n",
    "$$\n",
    "PA = \n",
    "\\begin{bmatrix}\n",
    "0 & 0 & 1 \\\\\n",
    "1 & 0 & 0 \\\\\n",
    "0 & 1 & 0 \\\\\n",
    "\\end{bmatrix}\n",
    "\\begin{bmatrix}\n",
    "0 & 4 & 1 \\\\\n",
    "1 & 1 & 3 \\\\\n",
    "2 & -2& 1 \\\\\n",
    "\\end{bmatrix}\n",
    "=\n",
    "\\begin{bmatrix}\n",
    "2 & -2 & 1 \\\\\n",
    "0 & 4 & 1 \\\\\n",
    "1 & 1 & 3 \\\\\n",
    "\\end{bmatrix} = A[p,:].\n",
    "$$"
   ]
  },
  {
   "cell_type": "markdown",
   "metadata": {},
   "source": [
    "Therefore, we have that\n",
    "\n",
    "$$\n",
    "PA = LU.\n",
    "$$"
   ]
  },
  {
   "cell_type": "code",
   "execution_count": 15,
   "metadata": {
    "collapsed": false
   },
   "outputs": [
    {
     "data": {
      "text/plain": [
       "3x3 Array{Float64,2}:\n",
       " 0.0  0.0  0.0\n",
       " 0.0  0.0  0.0\n",
       " 0.0  0.0  0.0"
      ]
     },
     "execution_count": 15,
     "metadata": {},
     "output_type": "execute_result"
    }
   ],
   "source": [
    "P*A - L*U"
   ]
  },
  {
   "cell_type": "code",
   "execution_count": 16,
   "metadata": {
    "collapsed": false
   },
   "outputs": [
    {
     "data": {
      "text/plain": [
       "3x3 Array{Float64,2}:\n",
       " 1.0  0.0  0.0\n",
       " 0.0  1.0  0.0\n",
       " 0.0  0.0  1.0"
      ]
     },
     "execution_count": 16,
     "metadata": {},
     "output_type": "execute_result"
    }
   ],
   "source": [
    "P'*P"
   ]
  },
  {
   "cell_type": "code",
   "execution_count": 17,
   "metadata": {
    "collapsed": false
   },
   "outputs": [
    {
     "data": {
      "text/plain": [
       "3x3 Array{Float64,2}:\n",
       " 1.0  0.0  0.0\n",
       " 0.0  1.0  0.0\n",
       " 0.0  0.0  1.0"
      ]
     },
     "execution_count": 17,
     "metadata": {},
     "output_type": "execute_result"
    }
   ],
   "source": [
    "P*P'"
   ]
  },
  {
   "cell_type": "code",
   "execution_count": 18,
   "metadata": {
    "collapsed": false
   },
   "outputs": [
    {
     "data": {
      "text/plain": [
       "3x3 Array{Float64,2}:\n",
       " -0.0  1.0  -0.0\n",
       " -0.0  0.0   1.0\n",
       "  1.0  0.0   0.0"
      ]
     },
     "execution_count": 18,
     "metadata": {},
     "output_type": "execute_result"
    }
   ],
   "source": [
    "inv(P)"
   ]
  },
  {
   "cell_type": "code",
   "execution_count": 19,
   "metadata": {
    "collapsed": false
   },
   "outputs": [
    {
     "data": {
      "text/plain": [
       "3x3 Array{Float64,2}:\n",
       " 0.0  1.0  0.0\n",
       " 0.0  0.0  1.0\n",
       " 1.0  0.0  0.0"
      ]
     },
     "execution_count": 19,
     "metadata": {},
     "output_type": "execute_result"
    }
   ],
   "source": [
    "P'"
   ]
  },
  {
   "cell_type": "markdown",
   "metadata": {},
   "source": [
    "In addition, permutation matrices are **orthogonal matrices**, so \n",
    "\n",
    "$$\n",
    "P^T P = P P^T = I,\n",
    "$$\n",
    "\n",
    "which implies that\n",
    "\n",
    "$$\n",
    "P^{-1} = P^T.\n",
    "$$\n",
    "\n",
    "Computing the inverse of an orthogonal matrix is very easy!"
   ]
  },
  {
   "cell_type": "markdown",
   "metadata": {},
   "source": [
    "Therefore, since $PA = LU$ and $P$ is a permutation matrix, we have\n",
    "\n",
    "$$\n",
    "A = P^T L U.\n",
    "$$"
   ]
  },
  {
   "cell_type": "markdown",
   "metadata": {},
   "source": [
    "---"
   ]
  },
  {
   "cell_type": "markdown",
   "metadata": {},
   "source": [
    "## Solving $Ax = b$ using $LU$-decomposition\n",
    "\n",
    "Suppose we have the $LU$-decomposition of $A[p,:]$,\n",
    "\n",
    "$$\n",
    "A[p,:] = LU,\n",
    "$$\n",
    "\n",
    "and we want to solve $Ax = b$.\n",
    "\n",
    "### Algorithm:\n",
    "\n",
    "1. Re-order equations according to the row permutation vector $p$:\n",
    "\n",
    "$$\n",
    "A[p,:] x = b[p] \\qquad \\implies \\qquad LUx = b[p]\n",
    "$$\n",
    "\n",
    "2. Solve $Ly = b[p]$ for $y$ using **forward-substitution**.\n",
    "\n",
    "3. Solve $Ux = y$ for $x$ using **backward-substitution**."
   ]
  },
  {
   "cell_type": "markdown",
   "metadata": {},
   "source": [
    "---"
   ]
  },
  {
   "cell_type": "markdown",
   "metadata": {},
   "source": [
    "## Example\n",
    "\n",
    "Let's solve $Ax = b$, where\n",
    "\n",
    "$$\n",
    "A = \n",
    "\\begin{bmatrix}\n",
    "0 & 4 & 1 \\\\\n",
    "1 & 1 & 3 \\\\\n",
    "2 & -2& 1 \\\\\n",
    "\\end{bmatrix},\n",
    "\\qquad\n",
    "b =\n",
    "\\begin{bmatrix}\n",
    "9 \\\\ 6 \\\\ -1\n",
    "\\end{bmatrix}.\n",
    "$$"
   ]
  },
  {
   "cell_type": "code",
   "execution_count": 20,
   "metadata": {
    "collapsed": false
   },
   "outputs": [
    {
     "data": {
      "text/plain": [
       "(\n",
       "3x3 Array{Float64,2}:\n",
       " 1.0  0.0  0.0\n",
       " 0.0  1.0  0.0\n",
       " 0.5  0.5  1.0,\n",
       "\n",
       "3x3 Array{Float64,2}:\n",
       " 2.0  -2.0  1.0\n",
       " 0.0   4.0  1.0\n",
       " 0.0   0.0  2.0,\n",
       "\n",
       "[3,1,2])"
      ]
     },
     "execution_count": 20,
     "metadata": {},
     "output_type": "execute_result"
    }
   ],
   "source": [
    "A = Float64[0 4 1; 1 1 3; 2 -2 1]\n",
    "b = Float64[9; 6; -1]\n",
    "\n",
    "L, U, p = lu(A)"
   ]
  },
  {
   "cell_type": "code",
   "execution_count": 21,
   "metadata": {
    "collapsed": false
   },
   "outputs": [
    {
     "data": {
      "text/plain": [
       "3x4 Array{Float64,2}:\n",
       " 2.0  -2.0  1.0  -1.0\n",
       " 0.0   4.0  1.0   9.0\n",
       " 1.0   1.0  3.0   6.0"
      ]
     },
     "execution_count": 21,
     "metadata": {},
     "output_type": "execute_result"
    }
   ],
   "source": [
    "[A[p,:] b[p]]"
   ]
  },
  {
   "cell_type": "code",
   "execution_count": 22,
   "metadata": {
    "collapsed": false
   },
   "outputs": [
    {
     "data": {
      "text/plain": [
       "3-element Array{Float64,1}:\n",
       " -1.0\n",
       "  9.0\n",
       "  2.0"
      ]
     },
     "execution_count": 22,
     "metadata": {},
     "output_type": "execute_result"
    }
   ],
   "source": [
    "# Solve Ly = b[p]\n",
    "y = L\\b[p]"
   ]
  },
  {
   "cell_type": "code",
   "execution_count": 23,
   "metadata": {
    "collapsed": false
   },
   "outputs": [
    {
     "data": {
      "text/plain": [
       "3-element Array{Float64,1}:\n",
       " 1.0\n",
       " 2.0\n",
       " 1.0"
      ]
     },
     "execution_count": 23,
     "metadata": {},
     "output_type": "execute_result"
    }
   ],
   "source": [
    "# Solve Ux = y\n",
    "x = U\\y"
   ]
  },
  {
   "cell_type": "code",
   "execution_count": 24,
   "metadata": {
    "collapsed": false
   },
   "outputs": [
    {
     "data": {
      "text/plain": [
       "3-element Array{Float64,1}:\n",
       " 1.0\n",
       " 2.0\n",
       " 1.0"
      ]
     },
     "execution_count": 24,
     "metadata": {},
     "output_type": "execute_result"
    }
   ],
   "source": [
    "# In one-line\n",
    "x = U\\(L\\b[p])"
   ]
  },
  {
   "cell_type": "code",
   "execution_count": 25,
   "metadata": {
    "collapsed": false
   },
   "outputs": [
    {
     "data": {
      "text/plain": [
       "3-element Array{Float64,1}:\n",
       " 0.0\n",
       " 0.0\n",
       " 0.0"
      ]
     },
     "execution_count": 25,
     "metadata": {},
     "output_type": "execute_result"
    }
   ],
   "source": [
    "# Check that Ax = b\n",
    "A*x - b"
   ]
  },
  {
   "cell_type": "code",
   "execution_count": 26,
   "metadata": {
    "collapsed": false
   },
   "outputs": [
    {
     "data": {
      "text/plain": [
       "3-element Array{Float64,1}:\n",
       " 1.0\n",
       " 2.0\n",
       " 1.0"
      ]
     },
     "execution_count": 26,
     "metadata": {},
     "output_type": "execute_result"
    }
   ],
   "source": [
    "x = A\\b"
   ]
  },
  {
   "cell_type": "markdown",
   "metadata": {},
   "source": [
    "---"
   ]
  },
  {
   "cell_type": "code",
   "execution_count": 27,
   "metadata": {
    "collapsed": false
   },
   "outputs": [
    {
     "data": {
      "text/plain": [
       "Base.LinAlg.LU{Float64,Array{Float64,2}}(3x3 Array{Float64,2}:\n",
       " 2.0  -2.0  1.0\n",
       " 0.0   4.0  1.0\n",
       " 0.5   0.5  2.0,[3,3,3],0)"
      ]
     },
     "execution_count": 27,
     "metadata": {},
     "output_type": "execute_result"
    }
   ],
   "source": [
    "A = Float64[0 4 1; 1 1 3; 2 -2 1]\n",
    "b = Float64[9; 6; -1]\n",
    "\n",
    "F = lufact(A)"
   ]
  },
  {
   "cell_type": "code",
   "execution_count": 28,
   "metadata": {
    "collapsed": false
   },
   "outputs": [
    {
     "data": {
      "text/plain": [
       "3-element Array{Float64,1}:\n",
       " 1.0\n",
       " 2.0\n",
       " 1.0"
      ]
     },
     "execution_count": 28,
     "metadata": {},
     "output_type": "execute_result"
    }
   ],
   "source": [
    "x = F\\b"
   ]
  },
  {
   "cell_type": "markdown",
   "metadata": {},
   "source": [
    "---"
   ]
  },
  {
   "cell_type": "markdown",
   "metadata": {},
   "source": [
    "## $L$\n",
    "\n",
    "**Partial pivoting** implies that all the multipliers in $L$ will be between -1 and 1. Thus,\n",
    "\n",
    "$$\n",
    "\\left|l_{ij}\\right| \\leq 1, \\quad \\forall ij.\n",
    "$$\n",
    "\n",
    "The same cannot be said about $U$."
   ]
  },
  {
   "cell_type": "code",
   "execution_count": 31,
   "metadata": {
    "collapsed": false
   },
   "outputs": [
    {
     "data": {
      "text/plain": [
       "(\n",
       "5x5 Array{Float64,2}:\n",
       "  1.0        0.0       0.0         0.0       0.0\n",
       " -0.145658   1.0       0.0         0.0       0.0\n",
       "  0.33096    0.348618  1.0         0.0       0.0\n",
       " -0.327585  -0.671292  0.658827    1.0       0.0\n",
       "  0.510235   0.502655  0.0990037  -0.170527  1.0,\n",
       "\n",
       "5x5 Array{Float64,2}:\n",
       " 13.0627  -9.46176    9.00224   5.34734    0.15417\n",
       "  0.0     19.0305    -8.62175  11.3784     4.14394\n",
       "  0.0      0.0      -14.6294   -5.14536  -13.3793 \n",
       "  0.0      0.0        0.0       5.57041    6.66261\n",
       "  0.0      0.0        0.0       0.0        9.43587)"
      ]
     },
     "execution_count": 31,
     "metadata": {},
     "output_type": "execute_result"
    }
   ],
   "source": [
    "n = 5\n",
    "F = lufact!(10*randn(n,n))\n",
    "F[:L], F[:U]"
   ]
  },
  {
   "cell_type": "markdown",
   "metadata": {},
   "source": [
    "---"
   ]
  },
  {
   "cell_type": "markdown",
   "metadata": {},
   "source": [
    "## Computing $A^{-1}$\n",
    "\n",
    "In order to compute $A^{-1}$, we need to solve\n",
    "\n",
    "$$AB = I$$\n",
    "\n",
    "for $B$. That is, we need to solve $n$ linear systems,\n",
    "\n",
    "$$Ab_k = e_k, \\qquad k = 1,\\ldots,n,$$\n",
    "\n",
    "to solve for each of the $n$ columns of the matrix $B$."
   ]
  },
  {
   "cell_type": "markdown",
   "metadata": {},
   "source": [
    "### Algorithm\n",
    "\n",
    "1. Compute the $LU$-decomposition of $A$, where $A$ is a nonsingular matrix:\n",
    "\n",
    "    $$PA = LU$$\n",
    "    \n",
    "    Then $AB = I$ if and only if $LUB = P$.\n",
    "    \n",
    "2. Solve $Ly_i = p_i$, for $i = 1,\\ldots,n$.\n",
    "    \n",
    "3. Solve $Ub_i = y_i$, for $i = 1,\\ldots,n$."
   ]
  },
  {
   "cell_type": "markdown",
   "metadata": {},
   "source": [
    "### Flop-count\n",
    "\n",
    "- Step 1 requires $\\frac23 n^3$ flops.\n",
    "- Step 2 requires $n \\cdot n^2 = n^3$ flops.\n",
    "- Step 3 requires $n \\cdot n^2 = n^3$ flops.\n",
    "\n",
    "In total, computing $A^{-1}$ requires $\\frac23 n^3 + n^3 + n^3 = \\frac83 n^3$ flops. \n",
    "\n",
    "However, it is possible to take advantage of the sparsity of the columns $p_i$ of $P$ to reduce the number of flops performed in the forward- and backward-substitution, and obtain an algorithm for computing $A^{-1}$ in $2n^3$ flops."
   ]
  },
  {
   "cell_type": "markdown",
   "metadata": {},
   "source": [
    "Thus, when solving a linear system $Ax = b$, we have:\n",
    "\n",
    "1. `x = A\\b` requires $\\frac23 n^3 + O(n^2)$ flops.\n",
    "2. `x = inv(A)*b` requires $2n^3 + O(n^2)$ flops.\n",
    "\n",
    "So, `x = inv(A)*b` will take roughly 3 times longer than `x = A\\b`."
   ]
  },
  {
   "cell_type": "markdown",
   "metadata": {},
   "source": [
    "---"
   ]
  },
  {
   "cell_type": "markdown",
   "metadata": {},
   "source": [
    "## Numerical experiment"
   ]
  },
  {
   "cell_type": "code",
   "execution_count": 52,
   "metadata": {
    "collapsed": false
   },
   "outputs": [
    {
     "name": "stdout",
     "output_type": "stream",
     "text": [
      "elapsed time: 0.041195029 seconds\n",
      "norm(x - xtrue) = 1.495390287240237e-10\n",
      "elapsed time: 0.105424673 seconds\n",
      "norm(x - xtrue) = 2.4242825932678423e-10\n"
     ]
    },
    {
     "data": {
      "text/plain": [
       "2.5591600627347537"
      ]
     },
     "execution_count": 52,
     "metadata": {},
     "output_type": "execute_result"
    }
   ],
   "source": [
    "n = 1000\n",
    "\n",
    "A = randn(n, n)\n",
    "xtrue = randn(n)\n",
    "b = A*xtrue\n",
    "\n",
    "tic()\n",
    "x = A\\b\n",
    "t1 = toc()\n",
    "@show norm(x - xtrue)\n",
    "\n",
    "tic()\n",
    "x = inv(A)*b\n",
    "t2 = toc()\n",
    "@show norm(x - xtrue)\n",
    "\n",
    "ratio = t2/t1"
   ]
  },
  {
   "cell_type": "markdown",
   "metadata": {},
   "source": [
    "Indeed, `x = inv(A)*b` takes about 3 times longer than `x = A\\b`."
   ]
  },
  {
   "cell_type": "markdown",
   "metadata": {},
   "source": [
    "---"
   ]
  }
 ],
 "metadata": {
  "kernelspec": {
   "display_name": "Julia 0.4.6",
   "language": "julia",
   "name": "julia-0.4"
  },
  "language_info": {
   "file_extension": ".jl",
   "mimetype": "application/julia",
   "name": "julia",
   "version": "0.4.6"
  }
 },
 "nbformat": 4,
 "nbformat_minor": 0
}
