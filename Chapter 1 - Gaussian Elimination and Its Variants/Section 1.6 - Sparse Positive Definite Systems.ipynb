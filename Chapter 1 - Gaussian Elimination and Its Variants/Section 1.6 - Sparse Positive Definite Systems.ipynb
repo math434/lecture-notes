{
 "cells": [
  {
   "cell_type": "code",
   "execution_count": 15,
   "metadata": {
    "collapsed": false
   },
   "outputs": [
    {
     "name": "stdout",
     "output_type": "stream",
     "text": [
      "DataType   : Symmetric{T} (constructor with 3 methods)\n",
      "  supertype: AbstractArray{T,2}\n",
      "  fields   : (:S,:uplo)\n"
     ]
    }
   ],
   "source": [
    "?Symmetric"
   ]
  },
  {
   "cell_type": "code",
   "execution_count": 16,
   "metadata": {
    "collapsed": false
   },
   "outputs": [
    {
     "data": {
      "text/html": [
       "7-element Array{Method,1}:<ul><li> getindex(A::<b>Symmetric{T}</b>,i::<b>Integer</b>,j::<b>Integer</b>) at <a href=\"https://github.com/JuliaLang/julia/tree/483dbf5279efe29f94cf35d42de0ab0a673fb34e/base/linalg/symmetric.jl#L16\" target=\"_blank\">linalg/symmetric.jl:16</a><li> transpose(A::<b>Symmetric{T}</b>) at <a href=\"https://github.com/JuliaLang/julia/tree/483dbf5279efe29f94cf35d42de0ab0a673fb34e/base/linalg/symmetric.jl#L32\" target=\"_blank\">linalg/symmetric.jl:32</a><li> copy(A::<b>Symmetric{T}</b>) at <a href=\"https://github.com/JuliaLang/julia/tree/483dbf5279efe29f94cf35d42de0ab0a673fb34e/base/linalg/symmetric.jl#L24\" target=\"_blank\">linalg/symmetric.jl:24</a><li> issym(A::<b>Symmetric{T}</b>) at <a href=\"https://github.com/JuliaLang/julia/tree/483dbf5279efe29f94cf35d42de0ab0a673fb34e/base/linalg/symmetric.jl#L31\" target=\"_blank\">linalg/symmetric.jl:31</a><li> convert<i>{T}</i>(::<b>Type{AbstractArray{T,2}}</b>,A::<b>Symmetric{T}</b>) at <a href=\"https://github.com/JuliaLang/julia/tree/483dbf5279efe29f94cf35d42de0ab0a673fb34e/base/linalg/symmetric.jl#L21\" target=\"_blank\">linalg/symmetric.jl:21</a><li> convert<i>{T}</i>(::<b>Type{Symmetric{T}}</b>,A::<b>Symmetric{T}</b>) at <a href=\"https://github.com/JuliaLang/julia/tree/483dbf5279efe29f94cf35d42de0ab0a673fb34e/base/linalg/symmetric.jl#L20\" target=\"_blank\">linalg/symmetric.jl:20</a><li> full(A::<b>Symmetric{T}</b>) at <a href=\"https://github.com/JuliaLang/julia/tree/483dbf5279efe29f94cf35d42de0ab0a673fb34e/base/linalg/symmetric.jl#L18\" target=\"_blank\">linalg/symmetric.jl:18</a></ul>"
      ],
      "text/plain": [
       "7-element Array{Method,1}:\n",
       " getindex(A::Symmetric{T},i::Integer,j::Integer) at linalg/symmetric.jl:16       \n",
       " transpose(A::Symmetric{T}) at linalg/symmetric.jl:32                            \n",
       " copy(A::Symmetric{T}) at linalg/symmetric.jl:24                                 \n",
       " issym(A::Symmetric{T}) at linalg/symmetric.jl:31                                \n",
       " convert{T}(::Type{AbstractArray{T,2}},A::Symmetric{T}) at linalg/symmetric.jl:21\n",
       " convert{T}(::Type{Symmetric{T}},A::Symmetric{T}) at linalg/symmetric.jl:20      \n",
       " full(A::Symmetric{T}) at linalg/symmetric.jl:18                                 "
      ]
     },
     "execution_count": 16,
     "metadata": {},
     "output_type": "execute_result"
    }
   ],
   "source": [
    "methodswith(Symmetric)"
   ]
  },
  {
   "cell_type": "code",
   "execution_count": 18,
   "metadata": {
    "collapsed": false
   },
   "outputs": [
    {
     "ename": "LoadError",
     "evalue": "`convert` has no method matching convert(::Type{Symmetric{T}}, ::SparseMatrixCSC{Float64,Int64})\nwhile loading In[18], in expression starting on line 1",
     "output_type": "error",
     "traceback": [
      "`convert` has no method matching convert(::Type{Symmetric{T}}, ::SparseMatrixCSC{Float64,Int64})\nwhile loading In[18], in expression starting on line 1",
      "",
      " in convert at base.jl:13"
     ]
    }
   ],
   "source": [
    "convert(Symmetric, A)"
   ]
  },
  {
   "cell_type": "code",
   "execution_count": 14,
   "metadata": {
    "collapsed": false
   },
   "outputs": [
    {
     "ename": "LoadError",
     "evalue": "`Symmetric{T}` has no method matching Symmetric{T}(::SparseMatrixCSC{Float64,Int64})\nwhile loading In[14], in expression starting on line 3",
     "output_type": "error",
     "traceback": [
      "`Symmetric{T}` has no method matching Symmetric{T}(::SparseMatrixCSC{Float64,Int64})\nwhile loading In[14], in expression starting on line 3",
      ""
     ]
    }
   ],
   "source": [
    "n = 100\n",
    "p = .1\n",
    "A = Symmetric(sprandn(n, n, p) + n*speye(n))\n",
    "x = randn(n)\n",
    "b = A*x;"
   ]
  },
  {
   "cell_type": "code",
   "execution_count": 10,
   "metadata": {
    "collapsed": false
   },
   "outputs": [
    {
     "data": {
      "text/html": [
       "\\<i>{TA,TB}</i>(A::<b>AbstractArray{TA,2}</b>,B::<b>Union(AbstractArray{TB,1},AbstractArray{TB,2})</b>) at <a href=\"https://github.com/JuliaLang/julia/tree/483dbf5279efe29f94cf35d42de0ab0a673fb34e/base/linalg/generic.jl#L233\" target=\"_blank\">linalg/generic.jl:233</a>"
      ],
      "text/plain": [
       "\\{TA,TB}(A::AbstractArray{TA,2},B::Union(AbstractArray{TB,1},AbstractArray{TB,2})) at linalg/generic.jl:233"
      ]
     },
     "execution_count": 10,
     "metadata": {},
     "output_type": "execute_result"
    }
   ],
   "source": [
    "@which A\\b"
   ]
  },
  {
   "cell_type": "code",
   "execution_count": 19,
   "metadata": {
    "collapsed": false
   },
   "outputs": [
    {
     "data": {
      "text/html": [
       "1 method for generic function <b>symperm</b>:<ul><li> symperm<i>{Tv,Ti}</i>(A::<b>SparseMatrixCSC{Tv,Ti}</b>,pinv::<b>Array{Ti,1}</b>) at <a href=\"https://github.com/JuliaLang/julia/tree/483dbf5279efe29f94cf35d42de0ab0a673fb34e/base/sparse/csparse.jl#L312\" target=\"_blank\">sparse/csparse.jl:312</a></ul>"
      ],
      "text/plain": [
       "# 1 method for generic function \"symperm\":\n",
       "symperm{Tv,Ti}(A::SparseMatrixCSC{Tv,Ti},pinv::Array{Ti,1}) at sparse/csparse.jl:312"
      ]
     },
     "execution_count": 19,
     "metadata": {},
     "output_type": "execute_result"
    }
   ],
   "source": [
    "methods(symperm)"
   ]
  },
  {
   "cell_type": "code",
   "execution_count": 20,
   "metadata": {
    "collapsed": false
   },
   "outputs": [
    {
     "data": {
      "text/html": [
       "3 methods for generic function <b>sprand</b>:<ul><li> sprand(m::<b>Integer</b>,n::<b>Integer</b>,density::<b>FloatingPoint</b>,rng::<b>Function</b>) at <a href=\"https://github.com/JuliaLang/julia/tree/483dbf5279efe29f94cf35d42de0ab0a673fb34e/base/sparse/sparsematrix.jl#L369\" target=\"_blank\">sparse/sparsematrix.jl:369</a><li> sprand<i>{T}</i>(m::<b>Integer</b>,n::<b>Integer</b>,density::<b>FloatingPoint</b>,rng::<b>Function</b>,::<b>Type{T}</b>) at <a href=\"https://github.com/JuliaLang/julia/tree/483dbf5279efe29f94cf35d42de0ab0a673fb34e/base/sparse/sparsematrix.jl#L369\" target=\"_blank\">sparse/sparsematrix.jl:369</a><li> sprand(m::<b>Integer</b>,n::<b>Integer</b>,density::<b>FloatingPoint</b>) at <a href=\"https://github.com/JuliaLang/julia/tree/483dbf5279efe29f94cf35d42de0ab0a673fb34e/base/sparse/sparsematrix.jl#L407\" target=\"_blank\">sparse/sparsematrix.jl:407</a></ul>"
      ],
      "text/plain": [
       "# 3 methods for generic function \"sprand\":\n",
       "sprand(m::Integer,n::Integer,density::FloatingPoint,rng::Function) at sparse/sparsematrix.jl:369\n",
       "sprand{T}(m::Integer,n::Integer,density::FloatingPoint,rng::Function,::Type{T}) at sparse/sparsematrix.jl:369\n",
       "sprand(m::Integer,n::Integer,density::FloatingPoint) at sparse/sparsematrix.jl:407"
      ]
     },
     "execution_count": 20,
     "metadata": {},
     "output_type": "execute_result"
    }
   ],
   "source": [
    "methods(sprand)"
   ]
  },
  {
   "cell_type": "code",
   "execution_count": null,
   "metadata": {
    "collapsed": true
   },
   "outputs": [],
   "source": []
  }
 ],
 "metadata": {
  "kernelspec": {
   "display_name": "Julia 0.4.6",
   "language": "julia",
   "name": "julia-0.4"
  },
  "language_info": {
   "file_extension": ".jl",
   "mimetype": "application/julia",
   "name": "julia",
   "version": "0.4.6"
  }
 },
 "nbformat": 4,
 "nbformat_minor": 0
}
