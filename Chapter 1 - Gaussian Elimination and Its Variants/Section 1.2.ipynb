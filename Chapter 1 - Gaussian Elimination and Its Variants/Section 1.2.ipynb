{
 "cells": [
  {
   "cell_type": "markdown",
   "metadata": {},
   "source": [
    "> ### Theorem:\n",
    "> Let $A \\in \\mathbb{R}^{n \\times n}$. Then the following are equivalent:\n",
    ">\n",
    "> 1. $A^{-1}$ exists.\n",
    "> 2. There is no nonzero $y$ such that $Ay = 0$.\n",
    "> 3. The columns of $A$ are linearly independent.\n",
    "> 4. The rows of $A$ are linearly independent.\n",
    "> 5. $\\det(A) \\neq 0$.\n",
    "> 6. For any $b \\in \\mathbb{R}^n$, there is exactly one $x \\in \\mathbb{R}^n$ such that $Ax = b$."
   ]
  },
  {
   "cell_type": "markdown",
   "metadata": {},
   "source": [
    "\n",
    "$$\n",
    "\\begin{align}\n",
    "Ax = b \n",
    "&\\quad \\implies \\quad A^{-1}Ax = A^{-1}b \\\\\n",
    "&\\quad \\implies \\quad Ix = A^{-1}b \\\\\n",
    "&\\quad \\implies \\quad \\fbox{$x = A^{-1}b$}. \\\\\n",
    "\\end{align}\n",
    "$$"
   ]
  }
 ],
 "metadata": {
  "kernelspec": {
   "display_name": "Julia 1.2.0",
   "language": "julia",
   "name": "julia-1.2"
  },
  "language_info": {
   "file_extension": ".jl",
   "mimetype": "application/julia",
   "name": "julia",
   "version": "1.2.0"
  }
 },
 "nbformat": 4,
 "nbformat_minor": 2
}
