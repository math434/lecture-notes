{
 "cells": [
  {
   "cell_type": "markdown",
   "metadata": {},
   "source": [
    "---\n",
    "# Section 1.4: Positive Definite Systems; Cholesky Decomposition\n",
    "---"
   ]
  },
  {
   "cell_type": "markdown",
   "metadata": {},
   "source": [
    "After triangular linear systems, the next easiest type of linear system to solve is the **symmetric positive definite** linear system.\n",
    "\n",
    "A matrix $A \\in \\mathbb{R}^{n \\times n}$ is **symmetric** if $A = A^T$.\n",
    "\n",
    "For example,\n",
    "\n",
    "$$\n",
    "A = \n",
    "\\begin{bmatrix}\n",
    "1 & 2 & 3 \\\\\n",
    "2 & 4 & 5 \\\\\n",
    "3 & 5 & 6\n",
    "\\end{bmatrix}\n",
    "$$\n",
    "\n",
    "is a symmetric matrix.\n",
    "\n",
    "A matrix $A \\in \\mathbb{R}^{n \\times n}$ is called **positive definite** if $A$ is symmetric and \n",
    "\n",
    "$$\n",
    "x^T A x > 0, \\qquad \\text{for all nonzero $x \\in \\mathbb{R}^n$.}\n",
    "$$"
   ]
  },
  {
   "cell_type": "markdown",
   "metadata": {},
   "source": [
    "---\n",
    "\n",
    "### Exercise:\n",
    "\n",
    "Let $A = \\begin{bmatrix} 2 & -1 \\\\ -1 & 2 \\end{bmatrix}$ and $x = \\begin{bmatrix} x_1 \\\\ x_2 \\end{bmatrix} \\neq 0$. Prove that $x^T A x > 0$."
   ]
  },
  {
   "cell_type": "markdown",
   "metadata": {},
   "source": [
    "---\n",
    "\n",
    "## Properties of positive definite matrices\n",
    "\n",
    "1. If $A$ is positive definite, then $A$ is nonsingular.\n",
    "2. If $A$ is positive definite, then $Ax = b$ has a unique solution.\n",
    "3. If $A = M^TM$ for some nonsingular $M \\in \\mathbb{R}^{n \\times n}$, then $A$ is positive definite.\n",
    "4. $A$ is positive definite $\\Longleftrightarrow$ all eigenvalues of $A$ are positive."
   ]
  },
  {
   "cell_type": "markdown",
   "metadata": {},
   "source": [
    "---\n",
    "### Exercise:\n",
    "\n",
    "Prove item 1."
   ]
  },
  {
   "cell_type": "markdown",
   "metadata": {},
   "source": [
    "---\n",
    "### Exercise:\n",
    "\n",
    "Based on item 3, write a `Julia` function `A = randspd(n)` that randomly generates an $n \\times n$ symmetric positive definite matrix $A$. Check that the matrix $A$ is positive definite by computing its eigenvalues."
   ]
  },
  {
   "cell_type": "code",
   "execution_count": null,
   "metadata": {},
   "outputs": [],
   "source": []
  },
  {
   "cell_type": "markdown",
   "metadata": {},
   "source": [
    "---\n",
    "\n",
    "## The Cholesky Decomposition\n",
    "\n",
    "It turns out that every positive definite matrix $A$ can be written as $A = M^TM$, for some nonsingular matrix $M$.\n",
    "\n",
    "> ### Cholesky Decomposition Theorem\n",
    "> Let $A$ be positive definite.\n",
    "> Then there is a **unique upper-triangular matrix** $R$ with **positive diagonal entries** such that\n",
    "> $$A = R^T R.$$\n",
    "\n",
    "We will see a proof of this theorem later."
   ]
  },
  {
   "cell_type": "markdown",
   "metadata": {},
   "source": [
    "---\n",
    "\n",
    "### Exercise:\n",
    "\n",
    "Computing the Cholesky factor of a random positive definite matrix $A$ using the `Julia` function `cholesky`. Check that the output is correct."
   ]
  },
  {
   "cell_type": "code",
   "execution_count": null,
   "metadata": {},
   "outputs": [],
   "source": []
  },
  {
   "cell_type": "markdown",
   "metadata": {},
   "source": [
    "---\n",
    "\n",
    "### Exercise:\n",
    "\n",
    "The function `cholesky` will detect if $A$ is not positive definite. In fact, this is the **most efficient** method for testing if a symmetric matrix is positive definite or not.\n",
    "\n",
    "See what happens when you give `cholesky` a matrix that is symmetric but not positive definite."
   ]
  },
  {
   "cell_type": "code",
   "execution_count": null,
   "metadata": {},
   "outputs": [],
   "source": []
  },
  {
   "cell_type": "markdown",
   "metadata": {},
   "source": [
    "---\n",
    "\n",
    "### Using the Cholesky factor of $A$ to solve $Ax = b$\n",
    "\n",
    "If we know the **Cholesky factor** $R$ of a positive definite matrix $A$ (that is, $A = R^TR$, where $R$ is upper-triangular with positive diagonal entries), we can solve $Ax = b$ in $O(n^2)$ operations.\n",
    "\n",
    "First, notice that if $A = R^TR$ and $Ax = b$, then\n",
    "\n",
    "$$R^T R x = b.$$\n",
    "\n",
    "Letting $y = Rx$, we have $R^T y = b$. Thus, we have the following algorithm for solving $Ax = b$."
   ]
  },
  {
   "cell_type": "markdown",
   "metadata": {},
   "source": [
    "#### Algorithm\n",
    "\n",
    "1. Solve $R^Ty = b$ for $y$.\n",
    "2. Solve $Rx = y$ for $x$."
   ]
  },
  {
   "cell_type": "markdown",
   "metadata": {},
   "source": [
    "#### Flop count\n",
    "\n",
    "We can solve the **lower-triangular** system $R^T y = b$ using **forward-substitution** in $n^2$ operations.\n",
    "\n",
    "We can solve the **upper-triangular** system $R x = y$ using **backward-substitution** in $n^2$ operations.\n",
    "\n",
    "Thus, we can use the Cholesky factor of $A$ to solve $Ax = b$ in\n",
    "\n",
    "$$\n",
    "n^2 + n^2 = 2n^2 = O(n^2)\n",
    "$$\n",
    "\n",
    "operations.\n"
   ]
  },
  {
   "cell_type": "markdown",
   "metadata": {},
   "source": [
    "---"
   ]
  },
  {
   "cell_type": "markdown",
   "metadata": {},
   "source": [
    "### Example"
   ]
  },
  {
   "cell_type": "code",
   "execution_count": 30,
   "metadata": {},
   "outputs": [
    {
     "data": {
      "text/plain": [
       "5-element Array{Float64,1}:\n",
       "  0.980697\n",
       "  1.83942 \n",
       "  0.965977\n",
       " -0.195124\n",
       "  1.30935 "
      ]
     },
     "execution_count": 30,
     "metadata": {},
     "output_type": "execute_result"
    }
   ],
   "source": [
    "n = 5\n",
    "M = randn(n, n)\n",
    "A = M'*M\n",
    "b = randn(n)"
   ]
  },
  {
   "cell_type": "code",
   "execution_count": 31,
   "metadata": {},
   "outputs": [
    {
     "data": {
      "text/plain": [
       "5x5 UpperTriangular{Float64,Array{Float64,2}}:\n",
       " 2.08315  1.83177  0.820076   0.891675  -0.389599\n",
       " 0.0      1.55435  0.478399  -0.852767   0.701642\n",
       " 0.0      0.0      2.49134   -0.992042   0.813113\n",
       " 0.0      0.0      0.0        1.57776    0.816253\n",
       " 0.0      0.0      0.0        0.0        1.50113 "
      ]
     },
     "execution_count": 31,
     "metadata": {},
     "output_type": "execute_result"
    }
   ],
   "source": [
    "R = chol(A)"
   ]
  },
  {
   "cell_type": "code",
   "execution_count": 32,
   "metadata": {},
   "outputs": [
    {
     "data": {
      "text/plain": [
       "5-element Array{Float64,1}:\n",
       " 0.470775 \n",
       " 0.628604 \n",
       " 0.112061 \n",
       " 0.0204849\n",
       " 0.628771 "
      ]
     },
     "execution_count": 32,
     "metadata": {},
     "output_type": "execute_result"
    }
   ],
   "source": [
    "# Solve R'*y = b\n",
    "y = R'\\b"
   ]
  },
  {
   "cell_type": "code",
   "execution_count": 33,
   "metadata": {},
   "outputs": [
    {
     "data": {
      "text/plain": [
       "5-element Array{Float64,1}:\n",
       "  0.321719\n",
       "  0.156771\n",
       " -0.172846\n",
       " -0.203716\n",
       "  0.418865"
      ]
     },
     "execution_count": 33,
     "metadata": {},
     "output_type": "execute_result"
    }
   ],
   "source": [
    "# Solve R*x = y\n",
    "x = R\\y"
   ]
  },
  {
   "cell_type": "code",
   "execution_count": 34,
   "metadata": {},
   "outputs": [
    {
     "data": {
      "text/plain": [
       "5-element Array{Float64,1}:\n",
       "  0.321719\n",
       "  0.156771\n",
       " -0.172846\n",
       " -0.203716\n",
       "  0.418865"
      ]
     },
     "execution_count": 34,
     "metadata": {},
     "output_type": "execute_result"
    }
   ],
   "source": [
    "# In one line\n",
    "x = R\\(R'\\b)"
   ]
  },
  {
   "cell_type": "code",
   "execution_count": 35,
   "metadata": {},
   "outputs": [
    {
     "data": {
      "text/plain": [
       "5-element Array{Float64,1}:\n",
       "  1.11022e-16\n",
       " -2.22045e-16\n",
       " -1.11022e-16\n",
       " -1.38778e-16\n",
       " -4.44089e-16"
      ]
     },
     "execution_count": 35,
     "metadata": {},
     "output_type": "execute_result"
    }
   ],
   "source": [
    "A*x - b"
   ]
  },
  {
   "cell_type": "markdown",
   "metadata": {},
   "source": [
    "---\n",
    "\n",
    "## How to calculate the Cholesky factor"
   ]
  },
  {
   "cell_type": "markdown",
   "metadata": {},
   "source": [
    "### Example\n",
    "\n",
    "We begin by writing $A = R^T R$, where $R$ is **upper-triangular**:\n",
    "\n",
    "$$ \n",
    "\\begin{bmatrix}\n",
    "4 & -2 & 4 & 2 \\\\\n",
    "-2 & 10 & -2 & -7 \\\\\n",
    "4 & -2 & 8 & 4 \\\\\n",
    "2 & -7 & 4 & 7\n",
    "\\end{bmatrix} =\n",
    "\\begin{bmatrix}\n",
    "r_{11} \\\\\n",
    "r_{12} & r_{22} \\\\\n",
    "r_{13} & r_{23} & r_{33} \\\\\n",
    "r_{14} & r_{24} & r_{34} & r_{44} \\\\\n",
    "\\end{bmatrix}\n",
    "\\begin{bmatrix}\n",
    "r_{11} & r_{12} & r_{13} & r_{14} \\\\\n",
    "       & r_{22} & r_{23} & r_{24} \\\\\n",
    "       &        & r_{33} & r_{34} \\\\\n",
    "       &        &        & r_{44} \\\\\n",
    "\\end{bmatrix}\n",
    "$$"
   ]
  },
  {
   "cell_type": "markdown",
   "metadata": {},
   "source": [
    "---\n",
    "\n",
    "### General Cholesky Formula"
   ]
  },
  {
   "cell_type": "markdown",
   "metadata": {},
   "source": [
    "Based on the above example, we can obtain the general formulas for the entries $r_{ij}$ of the Cholesky factor $R$ of a positive definite matrix $A$.\n",
    "\n",
    "$$\n",
    "\\begin{align}\n",
    "r_{ii} &= \\sqrt{a_{ii} - \\sum_{k=1}^{i-1} r_{ki}^2}, \\\\\n",
    "r_{ij} &= \\left(a_{ij} - \\sum_{k=1}^{i-1} r_{ki} r_{kj}\\right)\\bigg/r_{ii}, \\qquad j = i+1, \\ldots, n. \\\\\n",
    "\\end{align}\n",
    "$$\n",
    "\n",
    "From these formulas, we can see that if $A = R^TR$, where $R$ is an upper-triangular matrix $R$ with positive diagonals, then $R$ is **uniquely determined**."
   ]
  },
  {
   "cell_type": "markdown",
   "metadata": {},
   "source": [
    "---\n",
    "\n",
    "### Cholesky's Algorithm (inner-product form)"
   ]
  },
  {
   "cell_type": "code",
   "execution_count": 1,
   "metadata": {},
   "outputs": [
    {
     "data": {
      "text/plain": [
       "chol_ip (generic function with 1 method)"
      ]
     },
     "execution_count": 1,
     "metadata": {},
     "output_type": "execute_result"
    }
   ],
   "source": [
    "\"\"\"\n",
    " CHOL_IP   Inner-product form of Cholesky's algorithm\n",
    "    R = CHOL_IP(A) computes the Cholesky factor of A using the\n",
    "    inner-product version of Cholesky's algorithm.\n",
    "\"\"\"\n",
    "function chol_ip(A::Array{Float64,2})\n",
    "\n",
    "    # Check that A is a square and symmetric matrix\n",
    "    issym(A) || error(\"Matrix must be symmetric.\")\n",
    "        \n",
    "    # Initialize R to be the upper-triangular part of A\n",
    "    R = triu(A)\n",
    "\n",
    "    n = size(A, 1)\n",
    "\n",
    "    for i = 1:n\n",
    "\n",
    "        # R[i,i] = sqrt(A[i,i] - sum_{k=1}^{i-1} R[k,i]^2)\n",
    "        for k = 1:i-1\n",
    "            R[i,i] -= R[k,i]*R[k,i]\n",
    "        end\n",
    "\n",
    "        # Check that R[i,i] is positive before taking square root\n",
    "        if R[i,i] > 0\n",
    "            R[i,i] = sqrt(R[i,i])\n",
    "        else\n",
    "            # If R[i,i] <= 0, then A is not positive definite\n",
    "            warn(\"Matrix is not positive definite.\")\n",
    "            return R\n",
    "        end\n",
    "\n",
    "        # R[i,j] = (A[i,j] - sum_{k=1}^{i-1} R[k,i]*R[k,j]) / R[i,i]\n",
    "        for j = i+1:n\n",
    "            for k = 1:i-1\n",
    "                R[i,j] -= R[k,i]*R[k,j]\n",
    "            end\n",
    "            R[i,j] /= R[i,i]\n",
    "        end\n",
    "\n",
    "    end\n",
    "    \n",
    "    return R\n",
    "end\n"
   ]
  },
  {
   "cell_type": "code",
   "execution_count": 41,
   "metadata": {},
   "outputs": [
    {
     "ename": "LoadError",
     "evalue": "LoadError: MethodError: `chol_ip` has no method matching chol_ip(::Array{Int64,2})\nwhile loading In[41], in expression starting on line 2",
     "output_type": "error",
     "traceback": [
      "LoadError: MethodError: `chol_ip` has no method matching chol_ip(::Array{Int64,2})\nwhile loading In[41], in expression starting on line 2",
      ""
     ]
    }
   ],
   "source": [
    "A = [4 -2 4 2; -2 10 -2 -7; 4 -2 8 4; 2 -7 4 7]\n",
    "R = chol_ip(A)"
   ]
  },
  {
   "cell_type": "code",
   "execution_count": 42,
   "metadata": {},
   "outputs": [
    {
     "data": {
      "text/plain": [
       "4x4 Array{Float64,2}:\n",
       " 2.0  -1.0  2.0   1.0\n",
       " 0.0   3.0  0.0  -2.0\n",
       " 0.0   0.0  2.0   1.0\n",
       " 0.0   0.0  0.0   1.0"
      ]
     },
     "execution_count": 42,
     "metadata": {},
     "output_type": "execute_result"
    }
   ],
   "source": [
    "A = Float64[4 -2 4 2; -2 10 -2 -7; 4 -2 8 4; 2 -7 4 7]\n",
    "R = chol_ip(A)"
   ]
  },
  {
   "cell_type": "code",
   "execution_count": 2,
   "metadata": {},
   "outputs": [
    {
     "ename": "LoadError",
     "evalue": "LoadError: Matrix must be symmetric.\nwhile loading In[2], in expression starting on line 2",
     "output_type": "error",
     "traceback": [
      "LoadError: Matrix must be symmetric.\nwhile loading In[2], in expression starting on line 2",
      "",
      " in chol_ip at In[1]:9"
     ]
    }
   ],
   "source": [
    "A = rand(3, 3)\n",
    "R = chol_ip(A)"
   ]
  },
  {
   "cell_type": "code",
   "execution_count": 3,
   "metadata": {},
   "outputs": [
    {
     "name": "stderr",
     "output_type": "stream",
     "text": [
      "WARNING: Matrix is not positive definite.\n"
     ]
    },
    {
     "data": {
      "text/plain": [
       "3x3 Array{Float64,2}:\n",
       " 0.532919    3.35186  1.81124\n",
       " 0.0       -10.2648   1.01583\n",
       " 0.0         0.0      1.55676"
      ]
     },
     "execution_count": 3,
     "metadata": {},
     "output_type": "execute_result"
    }
   ],
   "source": [
    "A = rand(3, 3)\n",
    "R = chol_ip(A + A')"
   ]
  },
  {
   "cell_type": "markdown",
   "metadata": {},
   "source": [
    "---\n",
    "\n",
    "### Flop count for Cholesky's Algorithm\n",
    "\n",
    "```julia\n",
    "for i = 1:n\n",
    "    for k = 1:i-1\n",
    "        R[i,i] -= R[k,i]*R[k,i]\n",
    "    end\n",
    "\n",
    "    R[i,i] = sqrt(R[i,i])\n",
    "\n",
    "    for j = i+1:n\n",
    "        for k = 1:i-1\n",
    "            R[i,j] -= R[k,i]*R[k,j]\n",
    "        end\n",
    "        R[i,j] /= R[i,i]\n",
    "    end\n",
    "end\n",
    "```"
   ]
  },
  {
   "cell_type": "markdown",
   "metadata": {},
   "source": [
    "Therefore, we can calculate the total number of flops, $T$, as follows:\n",
    "\n",
    "$$\n",
    "T = \\sum_{i=1}^n \\left( \\sum_{k=1}^{i-1} 2 + 1 + \\sum_{j=i+1}^n \\left(\\sum_{k=1}^{i-1} 2 + 1 \\right) \\right) \n",
    "= -2 \\sum_{i=1}^n i^2 + (2n + 3) \\sum_{i=1}^n i - n(n+1).\n",
    "$$"
   ]
  },
  {
   "cell_type": "markdown",
   "metadata": {},
   "source": [
    "Now we use the formulas:\n",
    "\n",
    "$$\n",
    "\\sum_{i=1}^n i^2 = \\frac{n(n+1)(2n+1)}{6} = \\frac{n^3}{3} + O(n^2), \\qquad \\sum_{i=1}^n i = \\frac{n(n+1)}{2} = \\frac{n^2}{2} + O(n).\n",
    "$$\n",
    "\n",
    "An easy way to get these estimates is by using integration. For example,\n",
    "\n",
    "$$\n",
    "\\int_0^n x^2 dx \\leq \\sum_{i=0}^n i^2 \\leq \\int_0^{n+1} x^2 dx,\n",
    "$$\n",
    "\n",
    "which implies that \n",
    "\n",
    "$$\n",
    "\\frac{n^3}{3} \\leq \\sum_{i=0}^n i^2 \\leq \\frac{(n+1)^3}{3}\n",
    "$$\n",
    "\n",
    "and so\n",
    "\n",
    "$$\n",
    "\\fbox{$\\sum_{i=0}^n i^2 = \\frac{n^3}{3} + O(n^2)$.}\n",
    "$$"
   ]
  },
  {
   "cell_type": "markdown",
   "metadata": {},
   "source": [
    "Therefore,\n",
    "\n",
    "$$\n",
    "T = \\frac{n^3}{3} + O(n^2).\n",
    "$$\n",
    "\n",
    "Therefore, computing the Cholesky factor $R$ of a positive definite matrix $A$ takes approximately $\\frac{n^3}{3}$ flops."
   ]
  },
  {
   "cell_type": "markdown",
   "metadata": {},
   "source": [
    "---"
   ]
  },
  {
   "cell_type": "markdown",
   "metadata": {},
   "source": [
    "Thus, to solve $Ax=b$ for a symmetric positive definite matrix $A$, we do this:\n",
    "\n",
    "1. `R = chol(A)`\n",
    "2. Solve the upper-triangular system $R^Ty = b$ for $y$ using backward-substitution\n",
    "3. Solve the lower-triangular system $Rx = y$ for $x$ using forward-substitution\n",
    "\n",
    "which requires\n",
    "\n",
    "$$\n",
    "\\frac{n^3}{3} + O(n^2) + n^2 + n^2 = \\fbox{$\\frac{n^3}{3} + O(n^2)$}\n",
    "$$\n",
    "\n",
    "flops in total."
   ]
  },
  {
   "cell_type": "markdown",
   "metadata": {},
   "source": [
    "---\n",
    "\n",
    "## Outer-Product Form of Cholesky's Algorithm\n",
    "\n",
    "Partition $A = R^TR$ as:\n",
    "\n",
    "$$\n",
    "\\begin{bmatrix}\n",
    "a_{11} & b^T \\\\\n",
    "b & \\hat{A} \\\\\n",
    "\\end{bmatrix} \n",
    "= \n",
    "\\begin{bmatrix}\n",
    "r_{11} & 0 \\\\\n",
    "s & \\hat{R}^T \\\\\n",
    "\\end{bmatrix}\n",
    "\\begin{bmatrix}\n",
    "r_{11} & s^T \\\\\n",
    "0 & \\hat{R} \\\\\n",
    "\\end{bmatrix}\n",
    "$$\n",
    "\n",
    "Then:\n",
    "\n",
    "$$\n",
    "\\begin{bmatrix}\n",
    "a_{11} & b^T \\\\\n",
    "b & \\hat{A} \\\\\n",
    "\\end{bmatrix} \n",
    "= \n",
    "\\begin{bmatrix}\n",
    "r_{11}^2 & r_{11}s^T \\\\\n",
    "r_{11}s & ss^T + \\hat{R}^T\\hat{R} \\\\\n",
    "\\end{bmatrix}\n",
    "$$"
   ]
  },
  {
   "cell_type": "markdown",
   "metadata": {},
   "source": [
    "Therefore,\n",
    "\n",
    "$$\n",
    "a_{11} = r_{11}^2, \\qquad b^T = r_{11}s^T, \\qquad \\hat{A} = ss^T + \\hat{R}^T\\hat{R}.\n",
    "$$\n",
    "\n",
    "This gives us the following **recursive algorithm**:\n",
    "\n",
    "> To compute the Cholesky factor $R$ of $A$:\n",
    "1. Let $r_{11} = +\\sqrt{a_{11}}$.\n",
    "2. If $n > 1$:\n",
    "    - Let $s^T = b^T/r_{11}$.\n",
    "    - Compute the Cholesky factor $\\hat{R}$ of $\\hat{A} - ss^T$.\n",
    "    \n",
    "It is not too hard to develop a nonrecursive version of this algorithm."
   ]
  },
  {
   "cell_type": "code",
   "execution_count": 1,
   "metadata": {},
   "outputs": [
    {
     "data": {
      "text/plain": [
       "3x3 Array{Float64,2}:\n",
       " 16.0  12.0   8.0\n",
       " 12.0  18.0  15.0\n",
       "  8.0  15.0  17.0"
      ]
     },
     "execution_count": 1,
     "metadata": {},
     "output_type": "execute_result"
    }
   ],
   "source": [
    "M = triu(round(4*rand(3,3)))\n",
    "A = M'*M"
   ]
  },
  {
   "cell_type": "code",
   "execution_count": 2,
   "metadata": {},
   "outputs": [
    {
     "data": {
      "text/plain": [
       "3x3 UpperTriangular{Float64,Array{Float64,2}}:\n",
       " 4.0  3.0  2.0\n",
       " 0.0  3.0  3.0\n",
       " 0.0  0.0  2.0"
      ]
     },
     "execution_count": 2,
     "metadata": {},
     "output_type": "execute_result"
    }
   ],
   "source": [
    "chol(A)"
   ]
  },
  {
   "cell_type": "code",
   "execution_count": 5,
   "metadata": {},
   "outputs": [
    {
     "data": {
      "text/plain": [
       "3x3 Array{Float64,2}:\n",
       "  4.0   3.0  2.0\n",
       " 12.0   3.0  3.0\n",
       "  8.0  15.0  2.0"
      ]
     },
     "execution_count": 5,
     "metadata": {},
     "output_type": "execute_result"
    }
   ],
   "source": [
    "A"
   ]
  },
  {
   "cell_type": "code",
   "execution_count": 4,
   "metadata": {},
   "outputs": [
    {
     "data": {
      "text/plain": [
       "Base.LinAlg.Cholesky{Float64,Array{Float64,2}} with factor:\n",
       "3x3 UpperTriangular{Float64,Array{Float64,2}}:\n",
       " 4.0  3.0  2.0\n",
       " 0.0  3.0  3.0\n",
       " 0.0  0.0  2.0"
      ]
     },
     "execution_count": 4,
     "metadata": {},
     "output_type": "execute_result"
    }
   ],
   "source": [
    "cholfact!(A)"
   ]
  },
  {
   "cell_type": "markdown",
   "metadata": {},
   "source": [
    "---\n",
    "\n",
    "## A recursive Cholesky Algorithm"
   ]
  },
  {
   "cell_type": "code",
   "execution_count": 17,
   "metadata": {},
   "outputs": [
    {
     "data": {
      "text/plain": [
       "chol_rop (generic function with 1 method)"
      ]
     },
     "execution_count": 17,
     "metadata": {},
     "output_type": "execute_result"
    }
   ],
   "source": [
    "\"\"\"\n",
    " CHOL_ROP   Recursive outer-product form of Cholesky's algorithm\n",
    "    R = CHOL_ROP(A) computes the Cholesky factor of A using the\n",
    "    recursive outer-product version of Cholesky's algorithm.\n",
    "\"\"\"\n",
    "function chol_rop(A::Array{Float64,2})\n",
    "\n",
    "    # Check that A is a square and symmetric matrix\n",
    "    issym(A) || error(\"Matrix must be symmetric.\")\n",
    "        \n",
    "    # Initialize R = 0 and the same size and datatype as A\n",
    "    R = zeros(A)\n",
    "    \n",
    "    n = size(A, 1)\n",
    "\n",
    "    # Make sure A[1,1] is positive before taking the square root\n",
    "    if A[1,1] <= 0.0\n",
    "        # If A[1,1] <= 0.0, then A is not positive definite\n",
    "        error(\"Matrix is not positive definite.\")\n",
    "    else\n",
    "        R[1,1] = sqrt(A[1,1])\n",
    "    end\n",
    "\n",
    "    if n > 1\n",
    "        # Extract b and Ahat from A\n",
    "        b = A[2:n,1]\n",
    "        Ahat = A[2:n,2:n]\n",
    "\n",
    "        # Compute s and Rhat\n",
    "        s = b/R[1,1]\n",
    "        Rhat = chol_rop(Ahat - s*s')\n",
    "\n",
    "        # Form R\n",
    "        R[1,2:n] = s'\n",
    "        R[2:n,2:n] = Rhat\n",
    "    end\n",
    "    \n",
    "    return R\n",
    "    \n",
    "end"
   ]
  },
  {
   "cell_type": "code",
   "execution_count": 18,
   "metadata": {},
   "outputs": [
    {
     "data": {
      "text/plain": [
       "4x4 Array{Float64,2}:\n",
       " 2.0  -1.0  2.0   1.0\n",
       " 0.0   3.0  0.0  -2.0\n",
       " 0.0   0.0  2.0   1.0\n",
       " 0.0   0.0  0.0   1.0"
      ]
     },
     "execution_count": 18,
     "metadata": {},
     "output_type": "execute_result"
    }
   ],
   "source": [
    "A = Float64[4 -2 4 2; -2 10 -2 -7; 4 -2 8 4; 2 -7 4 7]\n",
    "R = chol_rop(A)"
   ]
  },
  {
   "cell_type": "markdown",
   "metadata": {},
   "source": [
    "---\n",
    "\n",
    "## Bordered Form of Cholesky's Algorithm\n",
    "\n",
    "Partition $A = R^TR$ as:\n",
    "\n",
    "$$\n",
    "\\begin{bmatrix}\n",
    "\\hat{A} & c \\\\\n",
    "c^T & a_{nn} \\\\\n",
    "\\end{bmatrix} \n",
    "= \n",
    "\\begin{bmatrix}\n",
    "\\hat{R}^T & 0 \\\\\n",
    "h^T & r_{nn} \\\\\n",
    "\\end{bmatrix}\n",
    "\\begin{bmatrix}\n",
    "\\hat{R} & h \\\\\n",
    "0 & r_{nn} \\\\\n",
    "\\end{bmatrix}\n",
    "$$\n",
    "\n",
    "Then:\n",
    "\n",
    "$$\n",
    "\\begin{bmatrix}\n",
    "\\hat{A} & c \\\\\n",
    "c^T & a_{nn} \\\\\n",
    "\\end{bmatrix} \n",
    "= \n",
    "\\begin{bmatrix}\n",
    "\\hat{R}^T\\hat{R} & \\hat{R}^T h \\\\\n",
    "h^T\\hat{R} & h^T h + r_{nn}^2 \\\\\n",
    "\\end{bmatrix}\n",
    "$$"
   ]
  },
  {
   "cell_type": "markdown",
   "metadata": {},
   "source": [
    "Therefore,\n",
    "\n",
    "$$\n",
    "\\hat{R}^T\\hat{R} = \\hat{A}, \\qquad \\hat{R}^T h = c, \\qquad h^T h + r_{nn}^2 = a_{nn}\n",
    "$$\n",
    "\n",
    "This gives us the following **recursive algorithm**:\n",
    "\n",
    "> To compute the Cholesky factor $R$ of $A$:\n",
    ">\n",
    "- If $n = 1$, let $R = \\sqrt{A}$; otherwise:\n",
    "    1. Compute the Cholesky factor $\\hat{R}$ of $\\hat{A}$.\n",
    "    2. Solve the lower-triangular system $\\hat{R}^T h = c$ for $h$.\n",
    "    3. Let $r_{nn} = +\\sqrt{a_{nn} - h^T h}$."
   ]
  },
  {
   "cell_type": "markdown",
   "metadata": {},
   "source": [
    "---\n",
    "\n",
    "## Proof of the Cholesky Decomposition Theorem\n",
    "\n",
    "Recall:\n",
    "\n",
    "> ### Cholesky Decomposition Theorem\n",
    "> Let $A$ be positive definite.\n",
    "> Then there is a **unique upper-triangular matrix** $R$ with **positive diagonal entries** such that\n",
    "> $$A = R^T R.$$\n",
    "\n",
    "We will prove this theorem using mathematical induction. First we need to prove a couple of lemmas."
   ]
  },
  {
   "cell_type": "markdown",
   "metadata": {},
   "source": [
    "> ### Lemma 1\n",
    "> Let $A$ be positive definite and partitioned as\n",
    "$$\n",
    "A = \n",
    "\\begin{bmatrix}\n",
    "A_{11} & A_{12} \\\\\n",
    "A_{21} & A_{22}\n",
    "\\end{bmatrix}\n",
    "$$\n",
    "where $A_{11} \\in \\mathbb{R}^{n_1 \\times n_1}$ and $A_{22} \\in \\mathbb{R}^{n_2 \\times n_2}$. Then $A_{11}$ and $A_{22}$ are positive definite."
   ]
  },
  {
   "cell_type": "markdown",
   "metadata": {},
   "source": [
    "> ### Lemma 2\n",
    "> Let $A, X \\in \\mathbb{R}^{n \\times n}$, with $A$ positive definite and $X$ nonsingular.\n",
    "Then $B = X^TAX$ is positive definite."
   ]
  },
  {
   "cell_type": "markdown",
   "metadata": {},
   "source": [
    "---"
   ]
  }
 ],
 "metadata": {
  "@webio": {
   "lastCommId": null,
   "lastKernelId": null
  },
  "anaconda-cloud": {},
  "kernelspec": {
   "display_name": "Julia 1.2.0",
   "language": "julia",
   "name": "julia-1.2"
  },
  "language_info": {
   "file_extension": ".jl",
   "mimetype": "application/julia",
   "name": "julia",
   "version": "1.2.0"
  }
 },
 "nbformat": 4,
 "nbformat_minor": 1
}
