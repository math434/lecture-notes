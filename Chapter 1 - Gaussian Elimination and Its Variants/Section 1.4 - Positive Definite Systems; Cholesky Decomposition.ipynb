{
 "cells": [
  {
   "cell_type": "markdown",
   "metadata": {},
   "source": [
    "---\n",
    "# Section 1.4: Positive Definite Systems; Cholesky Decomposition\n",
    "---"
   ]
  },
  {
   "cell_type": "markdown",
   "metadata": {},
   "source": [
    "After triangular linear systems, the next easiest type of linear system to solve is the **symmetric positive definite** linear system.\n",
    "\n",
    "A matrix $A \\in \\mathbb{R}^{n \\times n}$ is **symmetric** if $A = A^T$.\n",
    "\n",
    "For example,\n",
    "\n",
    "$$\n",
    "A = \n",
    "\\begin{bmatrix}\n",
    "1 & 2 & 3 \\\\\n",
    "2 & 4 & 5 \\\\\n",
    "3 & 5 & 6\n",
    "\\end{bmatrix}\n",
    "$$\n",
    "\n",
    "is a symmetric matrix.\n",
    "\n",
    "A matrix $A \\in \\mathbb{R}^{n \\times n}$ is called **positive definite** if $A$ is symmetric and \n",
    "\n",
    "$$\n",
    "x^T A x > 0, \\qquad \\text{for all nonzero $x \\in \\mathbb{R}^n$.}\n",
    "$$"
   ]
  },
  {
   "cell_type": "markdown",
   "metadata": {},
   "source": [
    "---"
   ]
  },
  {
   "cell_type": "markdown",
   "metadata": {},
   "source": [
    "### Exercise\n",
    "\n",
    "Let $A = \\begin{bmatrix} 2 & -1 \\\\ -1 & 2 \\end{bmatrix}$ and $x = \\begin{bmatrix} x_1 \\\\ x_2 \\end{bmatrix} \\neq 0$. Prove that $x^T A x > 0$."
   ]
  },
  {
   "cell_type": "markdown",
   "metadata": {},
   "source": [
    "---"
   ]
  },
  {
   "cell_type": "markdown",
   "metadata": {},
   "source": [
    "## Properties of positive definite matrices\n",
    "\n",
    "1. If $A$ is positive definite, then $A$ is nonsingular.\n",
    "2. If $A$ is positive definite, then $Ax = b$ has a unique solution.\n",
    "3. If $A = M^TM$ for some nonsingular $M \\in \\mathbb{R}^{n \\times n}$, then $A$ is positive definite.\n",
    "4. $A$ is positive definite $\\Longleftrightarrow$ all eigenvalues of $A$ are positive."
   ]
  },
  {
   "cell_type": "code",
   "execution_count": 2,
   "metadata": {},
   "outputs": [
    {
     "data": {
      "text/plain": [
       "2-element Array{Float64,1}:\n",
       " 1.0\n",
       " 3.0"
      ]
     },
     "execution_count": 2,
     "metadata": {},
     "output_type": "execute_result"
    }
   ],
   "source": [
    "A = [2 -1; -1 2.0]\n",
    "eigvals(A)"
   ]
  },
  {
   "cell_type": "markdown",
   "metadata": {},
   "source": [
    "### Exercise\n",
    "\n",
    "Prove items 1, 2, and 3."
   ]
  },
  {
   "cell_type": "markdown",
   "metadata": {},
   "source": [
    "---"
   ]
  },
  {
   "cell_type": "markdown",
   "metadata": {},
   "source": [
    "## Randomly generating positive definite matrices"
   ]
  },
  {
   "cell_type": "code",
   "execution_count": 3,
   "metadata": {},
   "outputs": [
    {
     "data": {
      "text/plain": [
       "5x5 Array{Float64,2}:\n",
       " -0.221843   0.877864   0.989758   0.460349  -0.357775  \n",
       " -1.09154   -1.25128   -1.73068   -0.889688  -0.0973492 \n",
       "  0.471911  -0.865161   1.23667   -0.4897    -0.0838451 \n",
       " -0.914983  -0.244248  -1.3182    -0.520614   0.536899  \n",
       "  1.59931   -0.194767  -0.241892  -1.14142   -0.00382899"
      ]
     },
     "execution_count": 3,
     "metadata": {},
     "output_type": "execute_result"
    }
   ],
   "source": [
    "n = 5\n",
    "M = randn(n, n)"
   ]
  },
  {
   "cell_type": "code",
   "execution_count": 4,
   "metadata": {},
   "outputs": [
    {
     "data": {
      "text/plain": [
       "2.856744116390575"
      ]
     },
     "execution_count": 4,
     "metadata": {},
     "output_type": "execute_result"
    }
   ],
   "source": [
    "det(M)"
   ]
  },
  {
   "cell_type": "markdown",
   "metadata": {},
   "source": [
    "Thus, $M$ is an $n \\times n$ nonsingular matrix."
   ]
  },
  {
   "cell_type": "code",
   "execution_count": 5,
   "metadata": {},
   "outputs": [
    {
     "data": {
      "text/plain": [
       "5x5 Array{Float64,2}:\n",
       "  4.85836    0.674783   3.0724    -0.711218  -0.351314\n",
       "  0.674783   3.18244    2.33359    2.29051   -0.250118\n",
       "  3.0724     2.33359    7.30038    2.35217   -0.996133\n",
       " -0.711218   2.29051    2.35217    2.81714   -0.312179\n",
       " -0.351314  -0.250118  -0.996133  -0.312179   0.432785"
      ]
     },
     "execution_count": 5,
     "metadata": {},
     "output_type": "execute_result"
    }
   ],
   "source": [
    "A = M'*M"
   ]
  },
  {
   "cell_type": "code",
   "execution_count": 6,
   "metadata": {},
   "outputs": [
    {
     "data": {
      "text/plain": [
       "5x5 Array{Float64,2}:\n",
       " 0.0  0.0  0.0  0.0  0.0\n",
       " 0.0  0.0  0.0  0.0  0.0\n",
       " 0.0  0.0  0.0  0.0  0.0\n",
       " 0.0  0.0  0.0  0.0  0.0\n",
       " 0.0  0.0  0.0  0.0  0.0"
      ]
     },
     "execution_count": 6,
     "metadata": {},
     "output_type": "execute_result"
    }
   ],
   "source": [
    "A - A'"
   ]
  },
  {
   "cell_type": "code",
   "execution_count": 7,
   "metadata": {},
   "outputs": [
    {
     "data": {
      "text/plain": [
       "true"
      ]
     },
     "execution_count": 7,
     "metadata": {},
     "output_type": "execute_result"
    }
   ],
   "source": [
    "issym(A)"
   ]
  },
  {
   "cell_type": "markdown",
   "metadata": {},
   "source": [
    "Clearly $A$ is symmetric. To see that $A$ is positive definite, let's check that the eigenvalues of $A$ are all positive."
   ]
  },
  {
   "cell_type": "code",
   "execution_count": 8,
   "metadata": {},
   "outputs": [
    {
     "data": {
      "text/plain": [
       "5-element Array{Float64,1}:\n",
       "  0.26356 \n",
       "  0.287971\n",
       "  1.89649 \n",
       "  5.16426 \n",
       " 10.9788  "
      ]
     },
     "execution_count": 8,
     "metadata": {},
     "output_type": "execute_result"
    }
   ],
   "source": [
    "eigvals(A)"
   ]
  },
  {
   "cell_type": "markdown",
   "metadata": {},
   "source": [
    "Recall that $\\det(A)$ is equal to the product of the eigenvalues of $A$. Let's check this."
   ]
  },
  {
   "cell_type": "code",
   "execution_count": 9,
   "metadata": {},
   "outputs": [
    {
     "data": {
      "text/plain": [
       "8.16098694653217"
      ]
     },
     "execution_count": 9,
     "metadata": {},
     "output_type": "execute_result"
    }
   ],
   "source": [
    "det(A)"
   ]
  },
  {
   "cell_type": "code",
   "execution_count": 10,
   "metadata": {},
   "outputs": [
    {
     "data": {
      "text/plain": [
       "8.16098694653218"
      ]
     },
     "execution_count": 10,
     "metadata": {},
     "output_type": "execute_result"
    }
   ],
   "source": [
    "prod(eigvals(A))"
   ]
  },
  {
   "cell_type": "markdown",
   "metadata": {},
   "source": [
    "---"
   ]
  },
  {
   "cell_type": "code",
   "execution_count": 11,
   "metadata": {},
   "outputs": [
    {
     "data": {
      "text/plain": [
       "5x5 Array{Float64,2}:\n",
       " -0.400873  -1.64663    1.23138    -0.19809    0.447703\n",
       "  0.224895  -1.51924   -0.0424958  -0.141284   2.00022 \n",
       " -0.169671  -0.626483   0.12685    -0.574541   1.13016 \n",
       " -1.02141   -0.748702   0.597399   -1.21297   -0.433506\n",
       " -0.743997  -0.189267  -0.967215    0.586214  -1.05425 "
      ]
     },
     "execution_count": 11,
     "metadata": {},
     "output_type": "execute_result"
    }
   ],
   "source": [
    "n = 5\n",
    "A = randn(n, n)"
   ]
  },
  {
   "cell_type": "code",
   "execution_count": 12,
   "metadata": {},
   "outputs": [
    {
     "data": {
      "text/plain": [
       "5-element Array{Complex{Float64},1}:\n",
       "  -1.20404+1.47894im \n",
       "  -1.20404-1.47894im \n",
       " -0.151038+0.556597im\n",
       " -0.151038-0.556597im\n",
       "  -1.35033+0.0im     "
      ]
     },
     "execution_count": 12,
     "metadata": {},
     "output_type": "execute_result"
    }
   ],
   "source": [
    "eigvals(A)"
   ]
  },
  {
   "cell_type": "code",
   "execution_count": 13,
   "metadata": {},
   "outputs": [
    {
     "data": {
      "text/plain": [
       "5x5 Array{Float64,2}:\n",
       " -0.400873  -0.71087    0.530854   -0.60975    -0.148147 \n",
       " -0.71087   -1.51924   -0.33449    -0.444993    0.905479 \n",
       "  0.530854  -0.33449    0.12685     0.0114292   0.0814702\n",
       " -0.60975   -0.444993   0.0114292  -1.21297     0.0763538\n",
       " -0.148147   0.905479   0.0814702   0.0763538  -1.05425  "
      ]
     },
     "execution_count": 13,
     "metadata": {},
     "output_type": "execute_result"
    }
   ],
   "source": [
    "(A + A')/2"
   ]
  },
  {
   "cell_type": "code",
   "execution_count": 14,
   "metadata": {},
   "outputs": [
    {
     "data": {
      "text/plain": [
       "5x5 Symmetric{Float64,Array{Float64,2}}:\n",
       " -0.400873  -1.64663     1.23138    -0.19809    0.447703\n",
       " -1.64663   -1.51924    -0.0424958  -0.141284   2.00022 \n",
       "  1.23138   -0.0424958   0.12685    -0.574541   1.13016 \n",
       " -0.19809   -0.141284   -0.574541   -1.21297   -0.433506\n",
       "  0.447703   2.00022     1.13016    -0.433506  -1.05425 "
      ]
     },
     "execution_count": 14,
     "metadata": {},
     "output_type": "execute_result"
    }
   ],
   "source": [
    "Symmetric(A)"
   ]
  },
  {
   "cell_type": "code",
   "execution_count": 15,
   "metadata": {},
   "outputs": [
    {
     "data": {
      "text/plain": [
       "5-element Array{Float64,1}:\n",
       " -3.98489\n",
       " -1.72973\n",
       " -1.39896\n",
       "  1.2535 \n",
       "  1.79961"
      ]
     },
     "execution_count": 15,
     "metadata": {},
     "output_type": "execute_result"
    }
   ],
   "source": [
    "eigvals(Symmetric(A))"
   ]
  },
  {
   "cell_type": "markdown",
   "metadata": {},
   "source": [
    "---"
   ]
  },
  {
   "cell_type": "markdown",
   "metadata": {},
   "source": [
    "## The Cholesky Decomposition\n",
    "\n",
    "It turns out that every positive definite matrix $A$ can be written as $A = M^TM$, for some nonsingular matrix $M$.\n",
    "\n",
    "> ### Cholesky Decomposition Theorem\n",
    "> Let $A$ be positive definite.\n",
    "> Then there is a **unique upper-triangular matrix** $R$ with **positive diagonal entries** such that\n",
    "> $$A = R^T R.$$\n",
    "\n",
    "We will see a proof of this theorem later."
   ]
  },
  {
   "cell_type": "markdown",
   "metadata": {},
   "source": [
    "---"
   ]
  },
  {
   "cell_type": "markdown",
   "metadata": {},
   "source": [
    "### Computing the Cholesky factor using the `chol` command"
   ]
  },
  {
   "cell_type": "code",
   "execution_count": 16,
   "metadata": {},
   "outputs": [
    {
     "data": {
      "text/plain": [
       "5x5 Array{Float64,2}:\n",
       " 10.0935    -0.916722    5.7269    -0.544444    4.71461  \n",
       " -0.916722   2.11384    -0.788281  -0.0294271   1.56954  \n",
       "  5.7269    -0.788281    7.61159   -4.27525     1.15761  \n",
       " -0.544444  -0.0294271  -4.27525    4.00009    -0.0645487\n",
       "  4.71461    1.56954     1.15761   -0.0645487   7.30518  "
      ]
     },
     "execution_count": 16,
     "metadata": {},
     "output_type": "execute_result"
    }
   ],
   "source": [
    "n = 5\n",
    "M = randn(n, n)\n",
    "A = M'*M"
   ]
  },
  {
   "cell_type": "code",
   "execution_count": 17,
   "metadata": {},
   "outputs": [
    {
     "name": "stdout",
     "output_type": "stream",
     "text": [
      "search: chol cholfact cholfact! searchsortedlast chop chomp chmod Cshort\n",
      "\n"
     ]
    },
    {
     "data": {
      "text/markdown": [
       "```\n",
       "chol(A, [LU]) -> F\n",
       "```\n",
       "\n",
       "Compute the Cholesky factorization of a symmetric positive definite matrix `A` and return the matrix `F`. If `LU` is `Val{:U}` (Upper), `F` is of type `UpperTriangular` and `A = F'*F`. If `LU` is `Val{:L}` (Lower), `F` is of type `LowerTriangular` and `A = F*F'`. `LU` defaults to `Val{:U}`.\n"
      ],
      "text/plain": [
       "```\n",
       "chol(A, [LU]) -> F\n",
       "```\n",
       "\n",
       "Compute the Cholesky factorization of a symmetric positive definite matrix `A` and return the matrix `F`. If `LU` is `Val{:U}` (Upper), `F` is of type `UpperTriangular` and `A = F'*F`. If `LU` is `Val{:L}` (Lower), `F` is of type `LowerTriangular` and `A = F*F'`. `LU` defaults to `Val{:U}`.\n"
      ]
     },
     "execution_count": 17,
     "metadata": {},
     "output_type": "execute_result"
    }
   ],
   "source": [
    "?chol"
   ]
  },
  {
   "cell_type": "code",
   "execution_count": 21,
   "metadata": {},
   "outputs": [
    {
     "data": {
      "text/plain": [
       "5x5 LowerTriangular{Float64,Array{Float64,2}}:\n",
       "  3.17702    0.0         0.0        0.0       0.0     \n",
       " -0.288547   1.42498     0.0        0.0       0.0     \n",
       "  1.8026    -0.188175    2.0801     0.0       0.0     \n",
       " -0.171369  -0.0553517  -1.91181    0.559153  0.0     \n",
       "  1.48397    1.40193    -0.602656  -1.5824    0.519998"
      ]
     },
     "execution_count": 21,
     "metadata": {},
     "output_type": "execute_result"
    }
   ],
   "source": [
    "R = chol(A, Val{:L})"
   ]
  },
  {
   "cell_type": "code",
   "execution_count": 22,
   "metadata": {},
   "outputs": [
    {
     "data": {
      "text/plain": [
       "5x5 UpperTriangular{Float64,Array{Float64,2}}:\n",
       " 3.17702  -0.288547   1.8026    -0.171369    1.48397 \n",
       " 0.0       1.42498   -0.188175  -0.0553517   1.40193 \n",
       " 0.0       0.0        2.0801    -1.91181    -0.602656\n",
       " 0.0       0.0        0.0        0.559153   -1.5824  \n",
       " 0.0       0.0        0.0        0.0         0.519998"
      ]
     },
     "execution_count": 22,
     "metadata": {},
     "output_type": "execute_result"
    }
   ],
   "source": [
    "R = chol(A, Val{:U})"
   ]
  },
  {
   "cell_type": "code",
   "execution_count": 24,
   "metadata": {},
   "outputs": [
    {
     "data": {
      "text/plain": [
       "9.406070037511417e-16"
      ]
     },
     "execution_count": 24,
     "metadata": {},
     "output_type": "execute_result"
    }
   ],
   "source": [
    "norm(A - R'*R)"
   ]
  },
  {
   "cell_type": "markdown",
   "metadata": {},
   "source": [
    "The function `chol` will detect if $A$ is not positive definite. In fact, this is the **most efficient** method for testing if a symmetric matrix is positive definite or not."
   ]
  },
  {
   "cell_type": "code",
   "execution_count": 25,
   "metadata": {},
   "outputs": [
    {
     "data": {
      "text/plain": [
       "5x5 Array{Float64,2}:\n",
       " -1.64977    1.37744   -1.04388    0.979362  -1.37198 \n",
       "  1.37744   -0.451844  -3.46349   -0.437516   0.497021\n",
       " -1.04388   -3.46349    2.70737    0.867759   0.222996\n",
       "  0.979362  -0.437516   0.867759  -1.22629   -1.1324  \n",
       " -1.37198    0.497021   0.222996  -1.1324    -1.65552 "
      ]
     },
     "execution_count": 25,
     "metadata": {},
     "output_type": "execute_result"
    }
   ],
   "source": [
    "M = randn(n, n)\n",
    "A = M + M'"
   ]
  },
  {
   "cell_type": "code",
   "execution_count": 26,
   "metadata": {},
   "outputs": [
    {
     "data": {
      "text/plain": [
       "5-element Array{Float64,1}:\n",
       " -3.78251 \n",
       " -2.61587 \n",
       " -2.07236 \n",
       "  0.799089\n",
       "  5.3956  "
      ]
     },
     "execution_count": 26,
     "metadata": {},
     "output_type": "execute_result"
    }
   ],
   "source": [
    "eigvals(A)"
   ]
  },
  {
   "cell_type": "code",
   "execution_count": 27,
   "metadata": {},
   "outputs": [
    {
     "ename": "LoadError",
     "evalue": "LoadError: Base.LinAlg.PosDefException(1)\nwhile loading In[27], in expression starting on line 1",
     "output_type": "error",
     "traceback": [
      "LoadError: Base.LinAlg.PosDefException(1)\nwhile loading In[27], in expression starting on line 1",
      "",
      " in chol! at linalg/cholesky.jl:28",
      " in chol at linalg/cholesky.jl:83"
     ]
    }
   ],
   "source": [
    "R = chol(A)"
   ]
  },
  {
   "cell_type": "code",
   "execution_count": 28,
   "metadata": {},
   "outputs": [
    {
     "name": "stdout",
     "output_type": "stream",
     "text": [
      "search: isposdef isposdef!\n",
      "\n"
     ]
    },
    {
     "data": {
      "text/markdown": [
       "```\n",
       "isposdef(A) -> Bool\n",
       "```\n",
       "\n",
       "Test whether a matrix is positive definite.\n"
      ],
      "text/plain": [
       "```\n",
       "isposdef(A) -> Bool\n",
       "```\n",
       "\n",
       "Test whether a matrix is positive definite.\n"
      ]
     },
     "execution_count": 28,
     "metadata": {},
     "output_type": "execute_result"
    }
   ],
   "source": [
    "?isposdef"
   ]
  },
  {
   "cell_type": "code",
   "execution_count": 29,
   "metadata": {},
   "outputs": [
    {
     "data": {
      "text/plain": [
       "false"
      ]
     },
     "execution_count": 29,
     "metadata": {},
     "output_type": "execute_result"
    }
   ],
   "source": [
    "isposdef(A)"
   ]
  },
  {
   "cell_type": "markdown",
   "metadata": {},
   "source": [
    "---"
   ]
  },
  {
   "cell_type": "markdown",
   "metadata": {},
   "source": [
    "### Using the Cholesky factor of $A$ to solve $Ax = b$\n",
    "\n",
    "If we know the **Cholesky factor** $R$ of a positive definite matrix $A$ (that is, $A = R^TR$, where $R$ is upper-triangular with positive diagonal entries), we can solve $Ax = b$ in $O(n^2)$ operations.\n",
    "\n",
    "First, notice that if $A = R^TR$ and $Ax = b$, then\n",
    "\n",
    "$$R^T R x = b.$$\n",
    "\n",
    "Letting $y = Rx$, we have $R^T y = b$. Thus, we have the following algorithm for solving $Ax = b$."
   ]
  },
  {
   "cell_type": "markdown",
   "metadata": {},
   "source": [
    "#### Algorithm\n",
    "\n",
    "1. Solve $R^Ty = b$ for $y$.\n",
    "2. Solve $Rx = y$ for $x$."
   ]
  },
  {
   "cell_type": "markdown",
   "metadata": {},
   "source": [
    "#### Flop count\n",
    "\n",
    "We can solve the **lower-triangular** system $R^T y = b$ using **forward-substitution** in $n^2$ operations.\n",
    "\n",
    "We can solve the **upper-triangular** system $R x = y$ using **backward-substitution** in $n^2$ operations.\n",
    "\n",
    "Thus, we can use the Cholesky factor of $A$ to solve $Ax = b$ in\n",
    "\n",
    "$$\n",
    "n^2 + n^2 = 2n^2 = O(n^2)\n",
    "$$\n",
    "\n",
    "operations.\n"
   ]
  },
  {
   "cell_type": "markdown",
   "metadata": {},
   "source": [
    "---"
   ]
  },
  {
   "cell_type": "markdown",
   "metadata": {},
   "source": [
    "### Example"
   ]
  },
  {
   "cell_type": "code",
   "execution_count": 30,
   "metadata": {},
   "outputs": [
    {
     "data": {
      "text/plain": [
       "5-element Array{Float64,1}:\n",
       "  0.980697\n",
       "  1.83942 \n",
       "  0.965977\n",
       " -0.195124\n",
       "  1.30935 "
      ]
     },
     "execution_count": 30,
     "metadata": {},
     "output_type": "execute_result"
    }
   ],
   "source": [
    "n = 5\n",
    "M = randn(n, n)\n",
    "A = M'*M\n",
    "b = randn(n)"
   ]
  },
  {
   "cell_type": "code",
   "execution_count": 31,
   "metadata": {},
   "outputs": [
    {
     "data": {
      "text/plain": [
       "5x5 UpperTriangular{Float64,Array{Float64,2}}:\n",
       " 2.08315  1.83177  0.820076   0.891675  -0.389599\n",
       " 0.0      1.55435  0.478399  -0.852767   0.701642\n",
       " 0.0      0.0      2.49134   -0.992042   0.813113\n",
       " 0.0      0.0      0.0        1.57776    0.816253\n",
       " 0.0      0.0      0.0        0.0        1.50113 "
      ]
     },
     "execution_count": 31,
     "metadata": {},
     "output_type": "execute_result"
    }
   ],
   "source": [
    "R = chol(A)"
   ]
  },
  {
   "cell_type": "code",
   "execution_count": 32,
   "metadata": {},
   "outputs": [
    {
     "data": {
      "text/plain": [
       "5-element Array{Float64,1}:\n",
       " 0.470775 \n",
       " 0.628604 \n",
       " 0.112061 \n",
       " 0.0204849\n",
       " 0.628771 "
      ]
     },
     "execution_count": 32,
     "metadata": {},
     "output_type": "execute_result"
    }
   ],
   "source": [
    "# Solve R'*y = b\n",
    "y = R'\\b"
   ]
  },
  {
   "cell_type": "code",
   "execution_count": 33,
   "metadata": {},
   "outputs": [
    {
     "data": {
      "text/plain": [
       "5-element Array{Float64,1}:\n",
       "  0.321719\n",
       "  0.156771\n",
       " -0.172846\n",
       " -0.203716\n",
       "  0.418865"
      ]
     },
     "execution_count": 33,
     "metadata": {},
     "output_type": "execute_result"
    }
   ],
   "source": [
    "# Solve R*x = y\n",
    "x = R\\y"
   ]
  },
  {
   "cell_type": "code",
   "execution_count": 34,
   "metadata": {},
   "outputs": [
    {
     "data": {
      "text/plain": [
       "5-element Array{Float64,1}:\n",
       "  0.321719\n",
       "  0.156771\n",
       " -0.172846\n",
       " -0.203716\n",
       "  0.418865"
      ]
     },
     "execution_count": 34,
     "metadata": {},
     "output_type": "execute_result"
    }
   ],
   "source": [
    "# In one line\n",
    "x = R\\(R'\\b)"
   ]
  },
  {
   "cell_type": "code",
   "execution_count": 35,
   "metadata": {},
   "outputs": [
    {
     "data": {
      "text/plain": [
       "5-element Array{Float64,1}:\n",
       "  1.11022e-16\n",
       " -2.22045e-16\n",
       " -1.11022e-16\n",
       " -1.38778e-16\n",
       " -4.44089e-16"
      ]
     },
     "execution_count": 35,
     "metadata": {},
     "output_type": "execute_result"
    }
   ],
   "source": [
    "A*x - b"
   ]
  },
  {
   "cell_type": "markdown",
   "metadata": {},
   "source": [
    "---"
   ]
  },
  {
   "cell_type": "markdown",
   "metadata": {},
   "source": [
    "## How to calculate the Cholesky factor"
   ]
  },
  {
   "cell_type": "markdown",
   "metadata": {},
   "source": [
    "### Example\n",
    "\n",
    "We begin by writing $A = R^T R$, where $R$ is **upper-triangular**:\n",
    "\n",
    "$$ \n",
    "\\begin{bmatrix}\n",
    "4 & -2 & 4 & 2 \\\\\n",
    "-2 & 10 & -2 & -7 \\\\\n",
    "4 & -2 & 8 & 4 \\\\\n",
    "2 & -7 & 4 & 7\n",
    "\\end{bmatrix} =\n",
    "\\begin{bmatrix}\n",
    "r_{11} \\\\\n",
    "r_{12} & r_{22} \\\\\n",
    "r_{13} & r_{23} & r_{33} \\\\\n",
    "r_{14} & r_{24} & r_{34} & r_{44} \\\\\n",
    "\\end{bmatrix}\n",
    "\\begin{bmatrix}\n",
    "r_{11} & r_{12} & r_{13} & r_{14} \\\\\n",
    "       & r_{22} & r_{23} & r_{24} \\\\\n",
    "       &        & r_{33} & r_{34} \\\\\n",
    "       &        &        & r_{44} \\\\\n",
    "\\end{bmatrix}\n",
    "$$"
   ]
  },
  {
   "cell_type": "markdown",
   "metadata": {},
   "source": [
    "---"
   ]
  },
  {
   "cell_type": "code",
   "execution_count": 36,
   "metadata": {},
   "outputs": [
    {
     "data": {
      "text/plain": [
       "4x4 Array{Float64,2}:\n",
       "  4.0  -2.0   4.0   2.0\n",
       " -2.0  10.0  -2.0  -7.0\n",
       "  4.0  -2.0   8.0   4.0\n",
       "  2.0  -7.0   4.0   7.0"
      ]
     },
     "execution_count": 36,
     "metadata": {},
     "output_type": "execute_result"
    }
   ],
   "source": [
    "A = Float64[4 -2 4 2; -2 10 -2 -7; 4 -2 8 4; 2 -7 4 7]"
   ]
  },
  {
   "cell_type": "code",
   "execution_count": 37,
   "metadata": {},
   "outputs": [
    {
     "data": {
      "text/plain": [
       "4x4 UpperTriangular{Float64,Array{Float64,2}}:\n",
       " 2.0  -1.0  2.0   1.0\n",
       " 0.0   3.0  0.0  -2.0\n",
       " 0.0   0.0  2.0   1.0\n",
       " 0.0   0.0  0.0   1.0"
      ]
     },
     "execution_count": 37,
     "metadata": {},
     "output_type": "execute_result"
    }
   ],
   "source": [
    "R = chol(A)"
   ]
  },
  {
   "cell_type": "code",
   "execution_count": 38,
   "metadata": {},
   "outputs": [
    {
     "data": {
      "text/plain": [
       "4x4 Array{Float64,2}:\n",
       " 0.0  0.0  0.0  0.0\n",
       " 0.0  0.0  0.0  0.0\n",
       " 0.0  0.0  0.0  0.0\n",
       " 0.0  0.0  0.0  0.0"
      ]
     },
     "execution_count": 38,
     "metadata": {},
     "output_type": "execute_result"
    }
   ],
   "source": [
    "A - R'*R"
   ]
  },
  {
   "cell_type": "markdown",
   "metadata": {},
   "source": [
    "---"
   ]
  },
  {
   "cell_type": "markdown",
   "metadata": {},
   "source": [
    "### General Cholesky Formula"
   ]
  },
  {
   "cell_type": "markdown",
   "metadata": {},
   "source": [
    "Based on the above example, we can obtain the general formulas for the entries $r_{ij}$ of the Cholesky factor $R$ of a positive definite matrix $A$.\n",
    "\n",
    "$$\n",
    "\\begin{align}\n",
    "r_{ii} &= \\sqrt{a_{ii} - \\sum_{k=1}^{i-1} r_{ki}^2}, \\\\\n",
    "r_{ij} &= \\left(a_{ij} - \\sum_{k=1}^{i-1} r_{ki} r_{kj}\\right)\\bigg/r_{ii}, \\qquad j = i+1, \\ldots, n. \\\\\n",
    "\\end{align}\n",
    "$$\n",
    "\n",
    "From these formulas, we can see that if $A = R^TR$, where $R$ is an upper-triangular matrix $R$ with positive diagonals, then $R$ is **uniquely determined**."
   ]
  },
  {
   "cell_type": "markdown",
   "metadata": {},
   "source": [
    "---"
   ]
  },
  {
   "cell_type": "markdown",
   "metadata": {},
   "source": [
    "### Cholesky's Algorithm (inner-product form)"
   ]
  },
  {
   "cell_type": "code",
   "execution_count": 1,
   "metadata": {},
   "outputs": [
    {
     "data": {
      "text/plain": [
       "chol_ip (generic function with 1 method)"
      ]
     },
     "execution_count": 1,
     "metadata": {},
     "output_type": "execute_result"
    }
   ],
   "source": [
    "\"\"\"\n",
    " CHOL_IP   Inner-product form of Cholesky's algorithm\n",
    "    R = CHOL_IP(A) computes the Cholesky factor of A using the\n",
    "    inner-product version of Cholesky's algorithm.\n",
    "\"\"\"\n",
    "function chol_ip(A::Array{Float64,2})\n",
    "\n",
    "    # Check that A is a square and symmetric matrix\n",
    "    issym(A) || error(\"Matrix must be symmetric.\")\n",
    "        \n",
    "    # Initialize R to be the upper-triangular part of A\n",
    "    R = triu(A)\n",
    "\n",
    "    n = size(A, 1)\n",
    "\n",
    "    for i = 1:n\n",
    "\n",
    "        # R[i,i] = sqrt(A[i,i] - sum_{k=1}^{i-1} R[k,i]^2)\n",
    "        for k = 1:i-1\n",
    "            R[i,i] -= R[k,i]*R[k,i]\n",
    "        end\n",
    "\n",
    "        # Check that R[i,i] is positive before taking square root\n",
    "        if R[i,i] > 0\n",
    "            R[i,i] = sqrt(R[i,i])\n",
    "        else\n",
    "            # If R[i,i] <= 0, then A is not positive definite\n",
    "            warn(\"Matrix is not positive definite.\")\n",
    "            return R\n",
    "        end\n",
    "\n",
    "        # R[i,j] = (A[i,j] - sum_{k=1}^{i-1} R[k,i]*R[k,j]) / R[i,i]\n",
    "        for j = i+1:n\n",
    "            for k = 1:i-1\n",
    "                R[i,j] -= R[k,i]*R[k,j]\n",
    "            end\n",
    "            R[i,j] /= R[i,i]\n",
    "        end\n",
    "\n",
    "    end\n",
    "    \n",
    "    return R\n",
    "end\n"
   ]
  },
  {
   "cell_type": "code",
   "execution_count": 41,
   "metadata": {},
   "outputs": [
    {
     "ename": "LoadError",
     "evalue": "LoadError: MethodError: `chol_ip` has no method matching chol_ip(::Array{Int64,2})\nwhile loading In[41], in expression starting on line 2",
     "output_type": "error",
     "traceback": [
      "LoadError: MethodError: `chol_ip` has no method matching chol_ip(::Array{Int64,2})\nwhile loading In[41], in expression starting on line 2",
      ""
     ]
    }
   ],
   "source": [
    "A = [4 -2 4 2; -2 10 -2 -7; 4 -2 8 4; 2 -7 4 7]\n",
    "R = chol_ip(A)"
   ]
  },
  {
   "cell_type": "code",
   "execution_count": 42,
   "metadata": {},
   "outputs": [
    {
     "data": {
      "text/plain": [
       "4x4 Array{Float64,2}:\n",
       " 2.0  -1.0  2.0   1.0\n",
       " 0.0   3.0  0.0  -2.0\n",
       " 0.0   0.0  2.0   1.0\n",
       " 0.0   0.0  0.0   1.0"
      ]
     },
     "execution_count": 42,
     "metadata": {},
     "output_type": "execute_result"
    }
   ],
   "source": [
    "A = Float64[4 -2 4 2; -2 10 -2 -7; 4 -2 8 4; 2 -7 4 7]\n",
    "R = chol_ip(A)"
   ]
  },
  {
   "cell_type": "code",
   "execution_count": 2,
   "metadata": {},
   "outputs": [
    {
     "ename": "LoadError",
     "evalue": "LoadError: Matrix must be symmetric.\nwhile loading In[2], in expression starting on line 2",
     "output_type": "error",
     "traceback": [
      "LoadError: Matrix must be symmetric.\nwhile loading In[2], in expression starting on line 2",
      "",
      " in chol_ip at In[1]:9"
     ]
    }
   ],
   "source": [
    "A = rand(3, 3)\n",
    "R = chol_ip(A)"
   ]
  },
  {
   "cell_type": "code",
   "execution_count": 3,
   "metadata": {},
   "outputs": [
    {
     "name": "stderr",
     "output_type": "stream",
     "text": [
      "WARNING: Matrix is not positive definite.\n"
     ]
    },
    {
     "data": {
      "text/plain": [
       "3x3 Array{Float64,2}:\n",
       " 0.532919    3.35186  1.81124\n",
       " 0.0       -10.2648   1.01583\n",
       " 0.0         0.0      1.55676"
      ]
     },
     "execution_count": 3,
     "metadata": {},
     "output_type": "execute_result"
    }
   ],
   "source": [
    "A = rand(3, 3)\n",
    "R = chol_ip(A + A')"
   ]
  },
  {
   "cell_type": "markdown",
   "metadata": {},
   "source": [
    "---"
   ]
  },
  {
   "cell_type": "markdown",
   "metadata": {},
   "source": [
    "### Flop count for Cholesky's Algorithm\n",
    "\n",
    "```julia\n",
    "for i = 1:n\n",
    "    for k = 1:i-1\n",
    "        R[i,i] -= R[k,i]*R[k,i]\n",
    "    end\n",
    "\n",
    "    R[i,i] = sqrt(R[i,i])\n",
    "\n",
    "    for j = i+1:n\n",
    "        for k = 1:i-1\n",
    "            R[i,j] -= R[k,i]*R[k,j]\n",
    "        end\n",
    "        R[i,j] /= R[i,i]\n",
    "    end\n",
    "end\n",
    "```"
   ]
  },
  {
   "cell_type": "markdown",
   "metadata": {},
   "source": [
    "Therefore, we can calculate the total number of flops, $T$, as follows:\n",
    "\n",
    "$$\n",
    "T = \\sum_{i=1}^n \\left( \\sum_{k=1}^{i-1} 2 + 1 + \\sum_{j=i+1}^n \\left(\\sum_{k=1}^{i-1} 2 + 1 \\right) \\right) \n",
    "= -2 \\sum_{i=1}^n i^2 + (2n + 3) \\sum_{i=1}^n i - n(n+1).\n",
    "$$"
   ]
  },
  {
   "cell_type": "markdown",
   "metadata": {},
   "source": [
    "Now we use the formulas:\n",
    "\n",
    "$$\n",
    "\\sum_{i=1}^n i^2 = \\frac{n(n+1)(2n+1)}{6} = \\frac{n^3}{3} + O(n^2), \\qquad \\sum_{i=1}^n i = \\frac{n(n+1)}{2} = \\frac{n^2}{2} + O(n).\n",
    "$$\n",
    "\n",
    "An easy way to get these estimates is by using integration. For example,\n",
    "\n",
    "$$\n",
    "\\int_0^n x^2 dx \\leq \\sum_{i=0}^n i^2 \\leq \\int_0^{n+1} x^2 dx,\n",
    "$$\n",
    "\n",
    "which implies that \n",
    "\n",
    "$$\n",
    "\\frac{n^3}{3} \\leq \\sum_{i=0}^n i^2 \\leq \\frac{(n+1)^3}{3}\n",
    "$$\n",
    "\n",
    "and so\n",
    "\n",
    "$$\n",
    "\\fbox{$\\sum_{i=0}^n i^2 = \\frac{n^3}{3} + O(n^2)$.}\n",
    "$$"
   ]
  },
  {
   "cell_type": "markdown",
   "metadata": {},
   "source": [
    "Therefore,\n",
    "\n",
    "$$\n",
    "T = \\frac{n^3}{3} + O(n^2).\n",
    "$$\n",
    "\n",
    "Therefore, computing the Cholesky factor $R$ of a positive definite matrix $A$ takes approximately $\\frac{n^3}{3}$ flops."
   ]
  },
  {
   "cell_type": "markdown",
   "metadata": {},
   "source": [
    "---"
   ]
  },
  {
   "cell_type": "markdown",
   "metadata": {},
   "source": [
    "Thus, to solve $Ax=b$ for a symmetric positive definite matrix $A$, we do this:\n",
    "\n",
    "1. `R = chol(A)`\n",
    "2. Solve the upper-triangular system $R^Ty = b$ for $y$ using backward-substitution\n",
    "3. Solve the lower-triangular system $Rx = y$ for $x$ using forward-substitution\n",
    "\n",
    "which requires\n",
    "\n",
    "$$\n",
    "\\frac{n^3}{3} + O(n^2) + n^2 + n^2 = \\fbox{$\\frac{n^3}{3} + O(n^2)$}\n",
    "$$\n",
    "\n",
    "flops in total."
   ]
  },
  {
   "cell_type": "markdown",
   "metadata": {},
   "source": [
    "---"
   ]
  },
  {
   "cell_type": "markdown",
   "metadata": {},
   "source": [
    "## Outer-Product Form of Cholesky's Algorithm\n",
    "\n",
    "Partition $A = R^TR$ as:\n",
    "\n",
    "$$\n",
    "\\begin{bmatrix}\n",
    "a_{11} & b^T \\\\\n",
    "b & \\hat{A} \\\\\n",
    "\\end{bmatrix} \n",
    "= \n",
    "\\begin{bmatrix}\n",
    "r_{11} & 0 \\\\\n",
    "s & \\hat{R}^T \\\\\n",
    "\\end{bmatrix}\n",
    "\\begin{bmatrix}\n",
    "r_{11} & s^T \\\\\n",
    "0 & \\hat{R} \\\\\n",
    "\\end{bmatrix}\n",
    "$$\n",
    "\n",
    "Then:\n",
    "\n",
    "$$\n",
    "\\begin{bmatrix}\n",
    "a_{11} & b^T \\\\\n",
    "b & \\hat{A} \\\\\n",
    "\\end{bmatrix} \n",
    "= \n",
    "\\begin{bmatrix}\n",
    "r_{11}^2 & r_{11}s^T \\\\\n",
    "r_{11}s & ss^T + \\hat{R}^T\\hat{R} \\\\\n",
    "\\end{bmatrix}\n",
    "$$"
   ]
  },
  {
   "cell_type": "markdown",
   "metadata": {},
   "source": [
    "Therefore,\n",
    "\n",
    "$$\n",
    "a_{11} = r_{11}^2, \\qquad b^T = r_{11}s^T, \\qquad \\hat{A} = ss^T + \\hat{R}^T\\hat{R}.\n",
    "$$\n",
    "\n",
    "This gives us the following **recursive algorithm**:\n",
    "\n",
    "> To compute the Cholesky factor $R$ of $A$:\n",
    "1. Let $r_{11} = +\\sqrt{a_{11}}$.\n",
    "2. If $n > 1$:\n",
    "    - Let $s^T = b^T/r_{11}$.\n",
    "    - Compute the Cholesky factor $\\hat{R}$ of $\\hat{A} - ss^T$.\n",
    "    \n",
    "It is not too hard to develop a nonrecursive version of this algorithm."
   ]
  },
  {
   "cell_type": "code",
   "execution_count": 1,
   "metadata": {},
   "outputs": [
    {
     "data": {
      "text/plain": [
       "3x3 Array{Float64,2}:\n",
       " 16.0  12.0   8.0\n",
       " 12.0  18.0  15.0\n",
       "  8.0  15.0  17.0"
      ]
     },
     "execution_count": 1,
     "metadata": {},
     "output_type": "execute_result"
    }
   ],
   "source": [
    "M = triu(round(4*rand(3,3)))\n",
    "A = M'*M"
   ]
  },
  {
   "cell_type": "code",
   "execution_count": 2,
   "metadata": {},
   "outputs": [
    {
     "data": {
      "text/plain": [
       "3x3 UpperTriangular{Float64,Array{Float64,2}}:\n",
       " 4.0  3.0  2.0\n",
       " 0.0  3.0  3.0\n",
       " 0.0  0.0  2.0"
      ]
     },
     "execution_count": 2,
     "metadata": {},
     "output_type": "execute_result"
    }
   ],
   "source": [
    "chol(A)"
   ]
  },
  {
   "cell_type": "code",
   "execution_count": 5,
   "metadata": {},
   "outputs": [
    {
     "data": {
      "text/plain": [
       "3x3 Array{Float64,2}:\n",
       "  4.0   3.0  2.0\n",
       " 12.0   3.0  3.0\n",
       "  8.0  15.0  2.0"
      ]
     },
     "execution_count": 5,
     "metadata": {},
     "output_type": "execute_result"
    }
   ],
   "source": [
    "A"
   ]
  },
  {
   "cell_type": "code",
   "execution_count": 4,
   "metadata": {},
   "outputs": [
    {
     "data": {
      "text/plain": [
       "Base.LinAlg.Cholesky{Float64,Array{Float64,2}} with factor:\n",
       "3x3 UpperTriangular{Float64,Array{Float64,2}}:\n",
       " 4.0  3.0  2.0\n",
       " 0.0  3.0  3.0\n",
       " 0.0  0.0  2.0"
      ]
     },
     "execution_count": 4,
     "metadata": {},
     "output_type": "execute_result"
    }
   ],
   "source": [
    "cholfact!(A)"
   ]
  },
  {
   "cell_type": "markdown",
   "metadata": {},
   "source": [
    "---"
   ]
  },
  {
   "cell_type": "markdown",
   "metadata": {},
   "source": [
    "## A recursive Cholesky Algorithm"
   ]
  },
  {
   "cell_type": "code",
   "execution_count": 17,
   "metadata": {},
   "outputs": [
    {
     "data": {
      "text/plain": [
       "chol_rop (generic function with 1 method)"
      ]
     },
     "execution_count": 17,
     "metadata": {},
     "output_type": "execute_result"
    }
   ],
   "source": [
    "\"\"\"\n",
    " CHOL_ROP   Recursive outer-product form of Cholesky's algorithm\n",
    "    R = CHOL_ROP(A) computes the Cholesky factor of A using the\n",
    "    recursive outer-product version of Cholesky's algorithm.\n",
    "\"\"\"\n",
    "function chol_rop(A::Array{Float64,2})\n",
    "\n",
    "    # Check that A is a square and symmetric matrix\n",
    "    issym(A) || error(\"Matrix must be symmetric.\")\n",
    "        \n",
    "    # Initialize R = 0 and the same size and datatype as A\n",
    "    R = zeros(A)\n",
    "    \n",
    "    n = size(A, 1)\n",
    "\n",
    "    # Make sure A[1,1] is positive before taking the square root\n",
    "    if A[1,1] <= 0.0\n",
    "        # If A[1,1] <= 0.0, then A is not positive definite\n",
    "        error(\"Matrix is not positive definite.\")\n",
    "    else\n",
    "        R[1,1] = sqrt(A[1,1])\n",
    "    end\n",
    "\n",
    "    if n > 1\n",
    "        # Extract b and Ahat from A\n",
    "        b = A[2:n,1]\n",
    "        Ahat = A[2:n,2:n]\n",
    "\n",
    "        # Compute s and Rhat\n",
    "        s = b/R[1,1]\n",
    "        Rhat = chol_rop(Ahat - s*s')\n",
    "\n",
    "        # Form R\n",
    "        R[1,2:n] = s'\n",
    "        R[2:n,2:n] = Rhat\n",
    "    end\n",
    "    \n",
    "    return R\n",
    "    \n",
    "end"
   ]
  },
  {
   "cell_type": "code",
   "execution_count": 18,
   "metadata": {},
   "outputs": [
    {
     "data": {
      "text/plain": [
       "4x4 Array{Float64,2}:\n",
       " 2.0  -1.0  2.0   1.0\n",
       " 0.0   3.0  0.0  -2.0\n",
       " 0.0   0.0  2.0   1.0\n",
       " 0.0   0.0  0.0   1.0"
      ]
     },
     "execution_count": 18,
     "metadata": {},
     "output_type": "execute_result"
    }
   ],
   "source": [
    "A = Float64[4 -2 4 2; -2 10 -2 -7; 4 -2 8 4; 2 -7 4 7]\n",
    "R = chol_rop(A)"
   ]
  },
  {
   "cell_type": "markdown",
   "metadata": {},
   "source": [
    "---"
   ]
  },
  {
   "cell_type": "markdown",
   "metadata": {},
   "source": [
    "## Bordered Form of Cholesky's Algorithm\n",
    "\n",
    "Partition $A = R^TR$ as:\n",
    "\n",
    "$$\n",
    "\\begin{bmatrix}\n",
    "\\hat{A} & c \\\\\n",
    "c^T & a_{nn} \\\\\n",
    "\\end{bmatrix} \n",
    "= \n",
    "\\begin{bmatrix}\n",
    "\\hat{R}^T & 0 \\\\\n",
    "h^T & r_{nn} \\\\\n",
    "\\end{bmatrix}\n",
    "\\begin{bmatrix}\n",
    "\\hat{R} & h \\\\\n",
    "0 & r_{nn} \\\\\n",
    "\\end{bmatrix}\n",
    "$$\n",
    "\n",
    "Then:\n",
    "\n",
    "$$\n",
    "\\begin{bmatrix}\n",
    "\\hat{A} & c \\\\\n",
    "c^T & a_{nn} \\\\\n",
    "\\end{bmatrix} \n",
    "= \n",
    "\\begin{bmatrix}\n",
    "\\hat{R}^T\\hat{R} & \\hat{R}^T h \\\\\n",
    "h^T\\hat{R} & h^T h + r_{nn}^2 \\\\\n",
    "\\end{bmatrix}\n",
    "$$"
   ]
  },
  {
   "cell_type": "markdown",
   "metadata": {},
   "source": [
    "Therefore,\n",
    "\n",
    "$$\n",
    "\\hat{R}^T\\hat{R} = \\hat{A}, \\qquad \\hat{R}^T h = c, \\qquad h^T h + r_{nn}^2 = a_{nn}\n",
    "$$\n",
    "\n",
    "This gives us the following **recursive algorithm**:\n",
    "\n",
    "> To compute the Cholesky factor $R$ of $A$:\n",
    ">\n",
    "- If $n = 1$, let $R = \\sqrt{A}$; otherwise:\n",
    "    1. Compute the Cholesky factor $\\hat{R}$ of $\\hat{A}$.\n",
    "    2. Solve the lower-triangular system $\\hat{R}^T h = c$ for $h$.\n",
    "    3. Let $r_{nn} = +\\sqrt{a_{nn} - h^T h}$."
   ]
  },
  {
   "cell_type": "markdown",
   "metadata": {},
   "source": [
    "---"
   ]
  },
  {
   "cell_type": "markdown",
   "metadata": {},
   "source": [
    "## Proof of the Cholesky Decomposition Theorem\n",
    "\n",
    "Recall:\n",
    "\n",
    "> ### Cholesky Decomposition Theorem\n",
    "> Let $A$ be positive definite.\n",
    "> Then there is a **unique upper-triangular matrix** $R$ with **positive diagonal entries** such that\n",
    "> $$A = R^T R.$$\n",
    "\n",
    "We will prove this theorem using mathematical induction. First we need to prove a couple of lemmas."
   ]
  },
  {
   "cell_type": "markdown",
   "metadata": {},
   "source": [
    "> ### Lemma 1\n",
    "> Let $A$ be positive definite and partitioned as\n",
    "$$\n",
    "A = \n",
    "\\begin{bmatrix}\n",
    "A_{11} & A_{12} \\\\\n",
    "A_{21} & A_{22}\n",
    "\\end{bmatrix}\n",
    "$$\n",
    "where $A_{11} \\in \\mathbb{R}^{n_1 \\times n_1}$ and $A_{22} \\in \\mathbb{R}^{n_2 \\times n_2}$. Then $A_{11}$ and $A_{22}$ are positive definite."
   ]
  },
  {
   "cell_type": "markdown",
   "metadata": {},
   "source": [
    "> ### Lemma 2\n",
    "> Let $A, X \\in \\mathbb{R}^{n \\times n}$, with $A$ positive definite and $X$ nonsingular.\n",
    "Then $B = X^TAX$ is positive definite."
   ]
  },
  {
   "cell_type": "markdown",
   "metadata": {},
   "source": [
    "---"
   ]
  }
 ],
 "metadata": {
  "anaconda-cloud": {},
  "kernelspec": {
   "display_name": "Julia 0.6.4",
   "language": "julia",
   "name": "julia-0.6"
  },
  "language_info": {
   "file_extension": ".jl",
   "mimetype": "application/julia",
   "name": "julia",
   "version": "0.6.4"
  }
 },
 "nbformat": 4,
 "nbformat_minor": 1
}
