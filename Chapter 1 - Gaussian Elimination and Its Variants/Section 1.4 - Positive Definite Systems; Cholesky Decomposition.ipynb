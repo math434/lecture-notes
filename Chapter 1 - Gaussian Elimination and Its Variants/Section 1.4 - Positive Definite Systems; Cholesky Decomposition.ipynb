{
 "cells": [
  {
   "cell_type": "markdown",
   "metadata": {},
   "source": [
    "---\n",
    "# Section 1.4: Positive Definite Systems; Cholesky Decomposition\n",
    "---"
   ]
  },
  {
   "cell_type": "markdown",
   "metadata": {},
   "source": [
    "After triangular linear systems, the next easiest type of linear system to solve is the **symmetric positive definite** linear system.\n",
    "\n",
    "A matrix $A \\in \\mathbb{R}^{n \\times n}$ is **symmetric** if $A = A^T$.\n",
    "\n",
    "For example,\n",
    "\n",
    "$$\n",
    "A = \n",
    "\\begin{bmatrix}\n",
    "1 & 2 & 3 \\\\\n",
    "2 & 4 & 5 \\\\\n",
    "3 & 5 & 6\n",
    "\\end{bmatrix}\n",
    "$$\n",
    "\n",
    "is a symmetric matrix.\n",
    "\n",
    "A matrix $A \\in \\mathbb{R}^{n \\times n}$ is called **positive definite** if $A$ is symmetric and \n",
    "\n",
    "$$\n",
    "x^T A x > 0, \\qquad \\text{for all nonzero $x \\in \\mathbb{R}^n$.}\n",
    "$$"
   ]
  },
  {
   "cell_type": "markdown",
   "metadata": {},
   "source": [
    "---\n",
    "\n",
    "### Exercise:\n",
    "\n",
    "Let $A = \\begin{bmatrix} 2 & -1 \\\\ -1 & 2 \\end{bmatrix}$ and $x = \\begin{bmatrix} x_1 \\\\ x_2 \\end{bmatrix} \\neq 0$. Prove that $x^T A x > 0$."
   ]
  },
  {
   "cell_type": "markdown",
   "metadata": {},
   "source": [
    "---\n",
    "\n",
    "## Properties of positive definite matrices\n",
    "\n",
    "(1) If $A$ is positive definite, then $A$ is nonsingular.\n",
    "\n",
    "(2) If $A$ is positive definite, then $Ax = b$ has a unique solution.\n",
    "\n",
    "(3) If $A = M^TM$ for some nonsingular $M \\in \\mathbb{R}^{n \\times n}$, then $A$ is positive definite.\n",
    "\n",
    "(4) $A$ is positive definite $\\Longleftrightarrow$ all eigenvalues of $A$ are positive."
   ]
  },
  {
   "cell_type": "markdown",
   "metadata": {},
   "source": [
    "---\n",
    "### Exercise:\n",
    "\n",
    "Prove property (1) and deduce property (2)."
   ]
  },
  {
   "cell_type": "markdown",
   "metadata": {},
   "source": [
    "---\n",
    "### Exercise:\n",
    "\n",
    "Based on property (3), write a `Julia` function `A = randspd(n)` that randomly generates an $n \\times n$ symmetric positive definite matrix $A$. Check that the matrix $A$ is positive definite by using property (4)."
   ]
  },
  {
   "cell_type": "markdown",
   "metadata": {},
   "source": [
    "---\n",
    "\n",
    "## The Cholesky Decomposition\n",
    "\n",
    "It turns out that every positive definite matrix $A$ can be written as $A = M^TM$, for some nonsingular matrix $M$.\n",
    "\n",
    "> ### Cholesky Decomposition Theorem\n",
    "> Let $A$ be positive definite.\n",
    "> Then there is a **unique upper-triangular matrix** $R$ with **positive diagonal entries** such that\n",
    "> $$A = R^T R.$$\n",
    "\n",
    "We will see a proof of this theorem later."
   ]
  },
  {
   "cell_type": "markdown",
   "metadata": {},
   "source": [
    "---\n",
    "\n",
    "### Exercise:\n",
    "\n",
    "Computing the Cholesky factor of a random positive definite matrix $A$ using the `Julia` function `cholesky`. Check that the output is correct."
   ]
  },
  {
   "cell_type": "markdown",
   "metadata": {},
   "source": [
    "---\n",
    "\n",
    "### Exercise:\n",
    "\n",
    "The function `cholesky` will detect if $A$ is not positive definite. In fact, this is the **most efficient** method for testing if a symmetric matrix is positive definite or not.\n",
    "\n",
    "See what happens when you give the `cholesky` function a matrix that is symmetric but not positive definite."
   ]
  },
  {
   "cell_type": "markdown",
   "metadata": {},
   "source": [
    "---\n",
    "\n",
    "### Exercise:\n",
    "\n",
    "Let $R$ be the Cholesky factor of a positive definite matrix $A$. \n",
    "\n",
    "1. Propose an algorithm for solving $Ax = b$ using the Cholesky factorization $A = R^TR$. Your algorithm should have **two** steps, a forward-substitution and a backward-substitution.\n",
    "\n",
    "2. What is the flop count of your algorithm?\n",
    "\n",
    "3. Implement your algorithm in `Julia`. Check that the output is correct."
   ]
  },
  {
   "cell_type": "markdown",
   "metadata": {},
   "source": [
    "---\n",
    "### Exercise:\n",
    "\n",
    "Compute the Cholesky factor of $A$ by hand by writing $A = R^T R$ as follows.\n",
    "\n",
    "$$ \n",
    "\\begin{bmatrix}\n",
    " 4 & -2 &  4 \\\\\n",
    "-2 & 10 & -2 \\\\\n",
    " 4 & -2 &  8 \\\\\n",
    "\\end{bmatrix} =\n",
    "\\begin{bmatrix}\n",
    "r_{11} \\\\\n",
    "r_{12} & r_{22} \\\\\n",
    "r_{13} & r_{23} & r_{33} \\\\\n",
    "\\end{bmatrix}\n",
    "\\begin{bmatrix}\n",
    "r_{11} & r_{12} & r_{13} \\\\\n",
    "       & r_{22} & r_{23} \\\\\n",
    "       &        & r_{33} \\\\\n",
    "\\end{bmatrix}\n",
    "$$"
   ]
  },
  {
   "cell_type": "markdown",
   "metadata": {},
   "source": [
    "---\n",
    "\n",
    "### General Inner-Product Cholesky Formula\n",
    "\n",
    "The general formulas for the entries $r_{ij}$ of the Cholesky factor $R$ of a positive definite matrix $A$ are given by\n",
    "\n",
    "$$\n",
    "\\begin{align}\n",
    "r_{ii} &= \\sqrt{a_{ii} - \\sum_{k=1}^{i-1} r_{ki}^2}, \\\\\n",
    "r_{ij} &= \\left(a_{ij} - \\sum_{k=1}^{i-1} r_{ki} r_{kj}\\right)\\bigg/r_{ii}, \\qquad j = i+1, \\ldots, n. \\\\\n",
    "\\end{align}\n",
    "$$"
   ]
  },
  {
   "cell_type": "markdown",
   "metadata": {},
   "source": [
    "---\n",
    "\n",
    "### Exercise:\n",
    "\n",
    "Complete the following `Julia` function for the inner-product version of Cholesky's Algorithm."
   ]
  },
  {
   "cell_type": "code",
   "execution_count": null,
   "metadata": {},
   "outputs": [],
   "source": [
    "function chol_ip(A::Symmetric)\n",
    "        \n",
    "    # Initialize R to be the upper-triangular part of A\n",
    "    R = UpperTriangular(copy(A))\n",
    "\n",
    "    n = size(A, 1)\n",
    "\n",
    "    for i = 1:n\n",
    "        # R[i,i] = sqrt(A[i,i] - sum_{k=1}^{i-1} R[k,i]^2)\n",
    "        \n",
    "        # R[i,j] = (A[i,j] - sum_{k=1}^{i-1} R[k,i]*R[k,j]) / R[i,i]\n",
    "        \n",
    "    end\n",
    "    \n",
    "    return R\n",
    "end"
   ]
  },
  {
   "cell_type": "markdown",
   "metadata": {},
   "source": [
    "---\n",
    "\n",
    "### Exercise:\n",
    "\n",
    "Develop the **Outer-Product Form of Cholesky's Algorithm** by partitioning $A = R^TR$ as:\n",
    "\n",
    "$$\n",
    "\\begin{bmatrix}\n",
    "a_{11} & b^T \\\\\n",
    "b & \\hat{A} \\\\\n",
    "\\end{bmatrix} \n",
    "= \n",
    "\\begin{bmatrix}\n",
    "r_{11} & 0 \\\\\n",
    "s & \\hat{R}^T \\\\\n",
    "\\end{bmatrix}\n",
    "\\begin{bmatrix}\n",
    "r_{11} & s^T \\\\\n",
    "0 & \\hat{R} \\\\\n",
    "\\end{bmatrix}.\n",
    "$$\n",
    "\n",
    "1. Use block-matrix multiplication to multiply the matrices $R^T$ and $R$.\n",
    "2. Based on the equations from part (1), derive a recursive algorithm for computing $R$."
   ]
  },
  {
   "cell_type": "markdown",
   "metadata": {},
   "source": [
    "---\n",
    "\n",
    "### Exercise:\n",
    "\n",
    "Complete the following `Julia` function for the recursive version of Cholesky's Algorithm."
   ]
  },
  {
   "cell_type": "code",
   "execution_count": null,
   "metadata": {},
   "outputs": [],
   "source": [
    "function chol_rop(A::Symmetric)\n",
    "\n",
    "    n = size(A, 1)\n",
    "\n",
    "    # Initialize R = 0 and the same size and datatype as A\n",
    "    R = UpperTriangular(zeros(n, n))\n",
    "    \n",
    "    #######################\n",
    "    # Your code goes here #\n",
    "    #######################\n",
    "    \n",
    "    return R\n",
    "    \n",
    "end"
   ]
  },
  {
   "cell_type": "markdown",
   "metadata": {},
   "source": [
    "---\n",
    "\n",
    "### Exercise:\n",
    "\n",
    "Develop the **Bordered Form of Cholesky's Algorithm** by partitioning $A = R^TR$ as:\n",
    "\n",
    "$$\n",
    "\\begin{bmatrix}\n",
    "\\hat{A} & c \\\\\n",
    "c^T & a_{nn} \\\\\n",
    "\\end{bmatrix} \n",
    "= \n",
    "\\begin{bmatrix}\n",
    "\\hat{R}^T & 0 \\\\\n",
    "h^T & r_{nn} \\\\\n",
    "\\end{bmatrix}\n",
    "\\begin{bmatrix}\n",
    "\\hat{R} & h \\\\\n",
    "0 & r_{nn} \\\\\n",
    "\\end{bmatrix}\n",
    "$$\n",
    "\n",
    "1. Use block-matrix multiplication to multiply the matrices $R^T$ and $R$.\n",
    "2. Based on the equations from part (1), derive a recursive algorithm for computing $R$.\n",
    "3. Based on your recursive algorithm, determine the number of flops for computing the Cholesky decomposition of an $n \\times n$ positive definite matrix $A$."
   ]
  },
  {
   "cell_type": "markdown",
   "metadata": {},
   "source": [
    "---\n",
    "\n",
    "## Proof of the Cholesky Decomposition Theorem\n",
    "\n",
    "> ### Cholesky Decomposition Theorem\n",
    "> Let $n$ be a positive integer. If $A$ is an $n \\times n$ positive definite matrix, then there is a **unique $n \\times n$ upper-triangular matrix** $R$ with **positive diagonal entries** such that\n",
    "> $$A = R^T R.$$\n",
    "\n",
    "We will prove this theorem using mathematical induction, based on the following partitioning.\n",
    "\n",
    "$$\n",
    "\\begin{bmatrix}\n",
    "\\hat{A} & c \\\\\n",
    "c^T & a_{nn} \\\\\n",
    "\\end{bmatrix} \n",
    "= \n",
    "\\begin{bmatrix}\n",
    "\\hat{R}^T & 0 \\\\\n",
    "h^T & r_{nn} \\\\\n",
    "\\end{bmatrix}\n",
    "\\begin{bmatrix}\n",
    "\\hat{R} & h \\\\\n",
    "0 & r_{nn} \\\\\n",
    "\\end{bmatrix}\n",
    "$$\n",
    "\n",
    "First we need to prove the following lemma."
   ]
  },
  {
   "cell_type": "markdown",
   "metadata": {},
   "source": [
    "> ### Lemma\n",
    "> Let $A$ be positive definite and partitioned as\n",
    "$$\n",
    "A = \n",
    "\\begin{bmatrix}\n",
    "A_{11} & A_{12} \\\\\n",
    "A_{21} & A_{22}\n",
    "\\end{bmatrix}\n",
    "$$\n",
    "where $A_{11} \\in \\mathbb{R}^{n_1 \\times n_1}$ and $A_{22} \\in \\mathbb{R}^{n_2 \\times n_2}$. Then $A_{11}$ and $A_{22}$ are positive definite."
   ]
  },
  {
   "cell_type": "markdown",
   "metadata": {},
   "source": [
    "---\n",
    "### Exercise:\n",
    "\n",
    "Prove the lemma."
   ]
  },
  {
   "cell_type": "markdown",
   "metadata": {},
   "source": [
    "---\n",
    "### Exercise:\n",
    "\n",
    "Use the following steps to prove the theorem.\n",
    "\n",
    "1. Prove that the theorem is true for $n = 1$. This is the _base case_.\n",
    "2. Suppose that the theorem is true for $n = k$. This is the _induction hypothesis_.\n",
    "3. Let $n = k+1$ and let $A$ be an $n \\times n$ positive definite matrix.\n",
    "4. Show that there is a unique $n \\times n$ upper-triangular matrix $R$ with positive diagonal entries such that $A = R^T R$ by considering the following partitioning of $A = R^T R$,\n",
    " $$\n",
    "\\begin{bmatrix}\n",
    "\\hat{A} & c \\\\\n",
    "c^T & a_{nn} \\\\\n",
    "\\end{bmatrix} \n",
    "= \n",
    "\\begin{bmatrix}\n",
    "\\hat{R}^T & 0 \\\\\n",
    "h^T & r_{nn} \\\\\n",
    "\\end{bmatrix}\n",
    "\\begin{bmatrix}\n",
    "\\hat{R} & h \\\\\n",
    "0 & r_{nn} \\\\\n",
    "\\end{bmatrix},\n",
    "$$\n",
    " and showing that there exist unique $\\hat{R}$, $h$, and $r_{nn}$ that satisfy this equation."
   ]
  },
  {
   "cell_type": "markdown",
   "metadata": {},
   "source": [
    "---"
   ]
  }
 ],
 "metadata": {
  "@webio": {
   "lastCommId": null,
   "lastKernelId": null
  },
  "anaconda-cloud": {},
  "kernelspec": {
   "display_name": "Julia 1.2.0",
   "language": "julia",
   "name": "julia-1.2"
  },
  "language_info": {
   "file_extension": ".jl",
   "mimetype": "application/julia",
   "name": "julia",
   "version": "1.2.0"
  }
 },
 "nbformat": 4,
 "nbformat_minor": 1
}
