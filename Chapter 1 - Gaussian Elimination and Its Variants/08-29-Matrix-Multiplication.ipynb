{
 "cells": [
  {
   "cell_type": "markdown",
   "metadata": {},
   "source": [
    "---\n",
    "# Section 1.1:  Matrix Multiplication\n",
    "---"
   ]
  },
  {
   "cell_type": "markdown",
   "metadata": {},
   "source": [
    "### Example:\n",
    "\n",
    "Let\n",
    "\n",
    "$$\n",
    "A = \n",
    "\\begin{bmatrix} \n",
    "2 & 1 & 4 \\\\ \n",
    "3 & -2 & 1 \n",
    "\\end{bmatrix} \n",
    "\\in \\mathbb{R}^{2 \\times 3},\n",
    "\\qquad\n",
    "x = \n",
    "\\begin{bmatrix}\n",
    "1 \\\\ 2 \\\\ 1\n",
    "\\end{bmatrix}\n",
    "\\in \\mathbb{R}^3.\n",
    "$$\n",
    "\n",
    "Compute the matrix-vector product $Ax$ by hand and check that Julia gives the same answer."
   ]
  },
  {
   "cell_type": "code",
   "execution_count": null,
   "metadata": {},
   "outputs": [],
   "source": []
  },
  {
   "cell_type": "markdown",
   "metadata": {},
   "source": [
    "---"
   ]
  },
  {
   "cell_type": "markdown",
   "metadata": {},
   "source": [
    "In general, if $A$ is a real matrix with $m$ rows and $n$ columns, and $x$ is a real vector with $n$ entries, then\n",
    "\n",
    "$$\n",
    "A = \n",
    "\\begin{bmatrix}\n",
    "a_{11} & \\cdots & a_{1n} \\\\\n",
    "\\vdots &        & \\vdots \\\\\n",
    "a_{m1} & \\cdots & a_{mn}\n",
    "\\end{bmatrix}\n",
    "\\in \\mathbb{R}^{m \\times n}\n",
    "\\quad \\text{and} \\quad\n",
    "x = \n",
    "\\begin{bmatrix}\n",
    "x_1 \\\\ \\vdots \\\\ x_n\n",
    "\\end{bmatrix}\n",
    "\\in \\mathbb{R}^n.\n",
    "$$\n",
    "\n",
    "If $b = Ax$, then $b \\in \\mathbb{R}^m$ and\n",
    "\n",
    "$$\n",
    "b_i = \\sum_{j = 1}^n a_{ij} x_j = a_{i1}x_1 + \\cdots + a_{in}x_n,\n",
    "\\quad\n",
    "i = 1,\\ldots, m.\n",
    "$$"
   ]
  },
  {
   "cell_type": "markdown",
   "metadata": {},
   "source": [
    "Thus, $b_i$ is the **inner-product** between $\\mathrm{row}_i(A) = \\begin{bmatrix} a_{i1} & \\cdots & a_{in} \\end{bmatrix}$ and the vector $x$.\n",
    "\n",
    "Also, \n",
    "\n",
    "$$b = \\mathrm{col}_1(A) x_1 + \\cdots + \\mathrm{col}_n(A) x_n,$$\n",
    "\n",
    "so $b$ is a **linear combination** of the columns of $A$."
   ]
  },
  {
   "cell_type": "markdown",
   "metadata": {},
   "source": [
    "---"
   ]
  },
  {
   "cell_type": "markdown",
   "metadata": {},
   "source": [
    "### Exercise:\n",
    "\n",
    "Write a Julia function to multiply a matrix and a vector using for loops."
   ]
  },
  {
   "cell_type": "code",
   "execution_count": null,
   "metadata": {},
   "outputs": [],
   "source": [
    "myfun(A, x) = A*x # NOT THIS!!!!"
   ]
  },
  {
   "cell_type": "code",
   "execution_count": 1,
   "metadata": {},
   "outputs": [
    {
     "name": "stdout",
     "output_type": "stream",
     "text": [
      "search: \u001b[0m\u001b[1ms\u001b[22m\u001b[0m\u001b[1mi\u001b[22m\u001b[0m\u001b[1mz\u001b[22m\u001b[0m\u001b[1me\u001b[22m \u001b[0m\u001b[1ms\u001b[22m\u001b[0m\u001b[1mi\u001b[22m\u001b[0m\u001b[1mz\u001b[22m\u001b[0m\u001b[1me\u001b[22mof \u001b[0m\u001b[1ms\u001b[22m\u001b[0m\u001b[1mi\u001b[22m\u001b[0m\u001b[1mz\u001b[22m\u001b[0m\u001b[1me\u001b[22mhint! C\u001b[0m\u001b[1ms\u001b[22m\u001b[0m\u001b[1mi\u001b[22m\u001b[0m\u001b[1mz\u001b[22m\u001b[0m\u001b[1me\u001b[22m_t re\u001b[0m\u001b[1ms\u001b[22m\u001b[0m\u001b[1mi\u001b[22m\u001b[0m\u001b[1mz\u001b[22m\u001b[0m\u001b[1me\u001b[22m! file\u001b[0m\u001b[1ms\u001b[22m\u001b[0m\u001b[1mi\u001b[22m\u001b[0m\u001b[1mz\u001b[22m\u001b[0m\u001b[1me\u001b[22m C\u001b[0m\u001b[1ms\u001b[22ms\u001b[0m\u001b[1mi\u001b[22m\u001b[0m\u001b[1mz\u001b[22m\u001b[0m\u001b[1me\u001b[22m_t di\u001b[0m\u001b[1ms\u001b[22mplays\u001b[0m\u001b[1mi\u001b[22m\u001b[0m\u001b[1mz\u001b[22m\u001b[0m\u001b[1me\u001b[22m\n",
      "\n"
     ]
    },
    {
     "data": {
      "text/latex": [
       "\\begin{verbatim}\n",
       "size(A::AbstractArray, [dim])\n",
       "\\end{verbatim}\n",
       "Return a tuple containing the dimensions of \\texttt{A}. Optionally you can specify a dimension to just get the length of that dimension.\n",
       "\n",
       "Note that \\texttt{size} may not be defined for arrays with non-standard indices, in which case \\href{@ref}{\\texttt{axes}} may be useful. See the manual chapter on \\href{@ref man-custom-indices}{arrays with custom indices}.\n",
       "\n",
       "\\section{Examples}\n",
       "\\begin{verbatim}\n",
       "julia> A = fill(1, (2,3,4));\n",
       "\n",
       "julia> size(A)\n",
       "(2, 3, 4)\n",
       "\n",
       "julia> size(A, 2)\n",
       "3\n",
       "\\end{verbatim}\n"
      ],
      "text/markdown": [
       "```\n",
       "size(A::AbstractArray, [dim])\n",
       "```\n",
       "\n",
       "Return a tuple containing the dimensions of `A`. Optionally you can specify a dimension to just get the length of that dimension.\n",
       "\n",
       "Note that `size` may not be defined for arrays with non-standard indices, in which case [`axes`](@ref) may be useful. See the manual chapter on [arrays with custom indices](@ref man-custom-indices).\n",
       "\n",
       "# Examples\n",
       "\n",
       "```jldoctest\n",
       "julia> A = fill(1, (2,3,4));\n",
       "\n",
       "julia> size(A)\n",
       "(2, 3, 4)\n",
       "\n",
       "julia> size(A, 2)\n",
       "3\n",
       "```\n"
      ],
      "text/plain": [
       "\u001b[36m  size(A::AbstractArray, [dim])\u001b[39m\n",
       "\n",
       "  Return a tuple containing the dimensions of \u001b[36mA\u001b[39m. Optionally you can specify a\n",
       "  dimension to just get the length of that dimension.\n",
       "\n",
       "  Note that \u001b[36msize\u001b[39m may not be defined for arrays with non-standard indices, in\n",
       "  which case \u001b[36maxes\u001b[39m may be useful. See the manual chapter on arrays with custom\n",
       "  indices.\n",
       "\n",
       "\u001b[1m  Examples\u001b[22m\n",
       "\u001b[1m  ≡≡≡≡≡≡≡≡≡≡\u001b[22m\n",
       "\n",
       "\u001b[36m  julia> A = fill(1, (2,3,4));\u001b[39m\n",
       "\u001b[36m  \u001b[39m\n",
       "\u001b[36m  julia> size(A)\u001b[39m\n",
       "\u001b[36m  (2, 3, 4)\u001b[39m\n",
       "\u001b[36m  \u001b[39m\n",
       "\u001b[36m  julia> size(A, 2)\u001b[39m\n",
       "\u001b[36m  3\u001b[39m"
      ]
     },
     "execution_count": 1,
     "metadata": {},
     "output_type": "execute_result"
    }
   ],
   "source": [
    "?size"
   ]
  },
  {
   "cell_type": "code",
   "execution_count": 4,
   "metadata": {
    "scrolled": true
   },
   "outputs": [
    {
     "ename": "DimensionMismatch",
     "evalue": "DimensionMismatch(\"matrix A has dimensions (2,3), vector B has length 2\")",
     "output_type": "error",
     "traceback": [
      "DimensionMismatch(\"matrix A has dimensions (2,3), vector B has length 2\")",
      "",
      "Stacktrace:",
      " [1] generic_matvecmul!(::Array{Int64,1}, ::Char, ::Array{Int64,2}, ::Array{Int64,1}) at /Users/sabae/buildbot/worker/package_macos64/build/usr/share/julia/stdlib/v1.2/LinearAlgebra/src/matmul.jl:505",
      " [2] mul! at /Users/sabae/buildbot/worker/package_macos64/build/usr/share/julia/stdlib/v1.2/LinearAlgebra/src/matmul.jl:77 [inlined]",
      " [3] *(::Array{Int64,2}, ::Array{Int64,1}) at /Users/sabae/buildbot/worker/package_macos64/build/usr/share/julia/stdlib/v1.2/LinearAlgebra/src/matmul.jl:51",
      " [4] top-level scope at In[4]:3"
     ]
    }
   ],
   "source": [
    "A = [1 2 4; 1 2 4]\n",
    "x = [1, 2]\n",
    "\n",
    "A*x"
   ]
  },
  {
   "cell_type": "markdown",
   "metadata": {},
   "source": [
    "---"
   ]
  },
  {
   "cell_type": "markdown",
   "metadata": {},
   "source": [
    "### Exercise:\n",
    "\n",
    "Test the speed of your function to compute $b = Ax$.\n"
   ]
  },
  {
   "cell_type": "code",
   "execution_count": 6,
   "metadata": {},
   "outputs": [
    {
     "data": {
      "text/plain": [
       "2×3 Array{Int64,2}:\n",
       " 1  2  3\n",
       " 4  5  6"
      ]
     },
     "execution_count": 6,
     "metadata": {},
     "output_type": "execute_result"
    }
   ],
   "source": [
    "A = [1 2 3; 4 5 6]"
   ]
  },
  {
   "cell_type": "code",
   "execution_count": 8,
   "metadata": {},
   "outputs": [
    {
     "data": {
      "text/plain": [
       "6"
      ]
     },
     "execution_count": 8,
     "metadata": {},
     "output_type": "execute_result"
    }
   ],
   "source": [
    "A[2,3]"
   ]
  },
  {
   "cell_type": "code",
   "execution_count": 5,
   "metadata": {},
   "outputs": [
    {
     "name": "stderr",
     "output_type": "stream",
     "text": [
      "┌ Info: Precompiling BenchmarkTools [6e4b80f9-dd63-53aa-95a3-0cdb28fa8baf]\n",
      "└ @ Base loading.jl:1242\n"
     ]
    }
   ],
   "source": [
    "using BenchmarkTools"
   ]
  },
  {
   "cell_type": "code",
   "execution_count": 12,
   "metadata": {},
   "outputs": [
    {
     "data": {
      "text/plain": [
       "BenchmarkTools.Trial: \n",
       "  memory estimate:  112 bytes\n",
       "  allocs estimate:  1\n",
       "  --------------\n",
       "  minimum time:     114.214 ns (0.00% GC)\n",
       "  median time:      115.998 ns (0.00% GC)\n",
       "  mean time:        131.103 ns (9.30% GC)\n",
       "  maximum time:     54.384 μs (99.77% GC)\n",
       "  --------------\n",
       "  samples:          10000\n",
       "  evals/sample:     919"
      ]
     },
     "execution_count": 12,
     "metadata": {},
     "output_type": "execute_result"
    }
   ],
   "source": [
    "A = rand(3,2)\n",
    "x = rand(2)\n",
    "\n",
    "@benchmark A*x"
   ]
  },
  {
   "cell_type": "markdown",
   "metadata": {},
   "source": [
    "### What are your conclusions?\n",
    "\n",
    "1. "
   ]
  },
  {
   "cell_type": "markdown",
   "metadata": {},
   "source": [
    "---"
   ]
  }
 ],
 "metadata": {
  "@webio": {
   "lastCommId": null,
   "lastKernelId": null
  },
  "kernelspec": {
   "display_name": "Julia 1.2.0",
   "language": "julia",
   "name": "julia-1.2"
  },
  "language_info": {
   "file_extension": ".jl",
   "mimetype": "application/julia",
   "name": "julia",
   "version": "1.2.0"
  }
 },
 "nbformat": 4,
 "nbformat_minor": 1
}
