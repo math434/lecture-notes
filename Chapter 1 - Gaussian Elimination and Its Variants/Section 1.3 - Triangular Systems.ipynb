{
 "cells": [
  {
   "cell_type": "markdown",
   "metadata": {},
   "source": [
    "---\n",
    "# Section 1.3: Triangular Systems\n",
    "---\n",
    "\n",
    "Let $L \\in \\mathbb{R}^{n \\times n}$ be a **lower-triangular matrix** and $U \\in \\mathbb{R}^{n \\times n}$ be an **upper-triangular matrix**. Then,\n",
    "\n",
    "$$\n",
    "L = \n",
    "\\begin{bmatrix}\n",
    "l_{11} \\\\\n",
    "\\vdots & \\ddots \\\\\n",
    "l_{n1} & \\cdots & l_{nn}\n",
    "\\end{bmatrix}\n",
    "\\qquad \\text{and} \\qquad\n",
    "U = \n",
    "\\begin{bmatrix}\n",
    "u_{11} & \\cdots & u_{1n} \\\\\n",
    "& \\ddots & \\vdots \\\\\n",
    "& & u_{nn}\n",
    "\\end{bmatrix}.\n",
    "$$\n",
    "\n",
    "> ### Theorem:\n",
    "> Let $G$ be an $n \\times n$ triangular matrix. Then\n",
    "> \n",
    "> $$ \n",
    "\\text{$G$ is nonsingular} \\quad \\Longleftrightarrow \\quad g_{ii} \\neq 0, \\quad i = 1,\\ldots,n.\n",
    "$$"
   ]
  },
  {
   "cell_type": "markdown",
   "metadata": {},
   "source": [
    "---\n",
    "### Exercise: \n",
    "\n",
    "Prove the above theorem."
   ]
  },
  {
   "cell_type": "markdown",
   "metadata": {},
   "source": [
    "---\n",
    "\n",
    "### Exercise:\n",
    "Solve the following lower-triangular system $Lx = b$ and use `Julia` to check your answer.\n",
    "\n",
    "$$\n",
    "\\begin{bmatrix}\n",
    "2 & 0 & 0 & 0 \\\\\n",
    "-1 & 2 & 0 & 0 \\\\\n",
    "3 & 1 & -1 & 0 \\\\\n",
    "4 & 1 & -3 & 3\n",
    "\\end{bmatrix}\n",
    "\\begin{bmatrix}\n",
    "x_1 \\\\ x_2 \\\\ x_3 \\\\ x_4\n",
    "\\end{bmatrix} =\n",
    "\\begin{bmatrix}\n",
    "2 \\\\ 3 \\\\ 2 \\\\ 9\n",
    "\\end{bmatrix}.\n",
    "$$"
   ]
  },
  {
   "cell_type": "markdown",
   "metadata": {},
   "source": [
    "---\n",
    "\n",
    "In general, the solution of a lower-triangular system $Lx = b$ is given by\n",
    "\n",
    "$$\n",
    "x_i = \\left( b_i - \\sum_{j=1}^{i-1} l_{ij}x_j \\right) \\bigg/ l_{ii}, \\quad i = 1, \\ldots, n.\n",
    "$$"
   ]
  },
  {
   "cell_type": "markdown",
   "metadata": {},
   "source": [
    "---\n",
    "\n",
    "### Exercise:\n",
    "\n",
    "Write a `Julia` function, `x = row_fs(L, b)`, that returns the solution $x$ of a lower-triangular system $Lx = b$ using _forward substitution_. Make sure to include a check that the matrix $L$ is nonsingular. Test your code for accuracy and efficiency."
   ]
  },
  {
   "cell_type": "markdown",
   "metadata": {},
   "source": [
    "---\n",
    "\n",
    "### Exercise:\n",
    "\n",
    "Determine the total number of flops to solve a triangular linear system."
   ]
  },
  {
   "cell_type": "markdown",
   "metadata": {},
   "source": [
    "---\n",
    "\n",
    "## Column-oriented forward substitution\n",
    "\n",
    "Notice that the algorithm above is **row-oriented**, which is good for computer languages that store matrices in row-major order (like C/C++ or Python), but is bad for column-major order languages (like Fortran, MATLAB, or Julia).\n",
    "\n",
    "We can produce a forward-substitution algorithm that is **column-oriented** by using the concept of **block-matrix multiplication**."
   ]
  },
  {
   "cell_type": "markdown",
   "metadata": {},
   "source": [
    "---\n",
    "\n",
    "### Exercise:\n",
    "\n",
    "Let the lower-triangular linear system $Lx = b$ be partitioned as\n",
    "\n",
    "$$\n",
    "\\begin{bmatrix}\n",
    "l_{11} & 0 \\\\\n",
    "\\hat{l} & \\hat{L} \\\\\n",
    "\\end{bmatrix}\n",
    "\\begin{bmatrix}\n",
    "x_1 \\\\ \\hat{x}\n",
    "\\end{bmatrix} = \n",
    "\\begin{bmatrix}\n",
    "b_1 \\\\ \\hat{b}\n",
    "\\end{bmatrix}\n",
    "$$\n",
    "\n",
    "where $\\hat{L}$ is an $(n-1) \\times (n-1)$ *lower-triangular* matrix and $\\hat{x}$ and $\\hat{b}$ are vectors of length $n - 1$.\n",
    "\n",
    "1. Perform block-matrix multiplication.\n",
    "\n",
    "2. Determine a _recursive algorithm_ for solving the linear system $Lx = b$.\n",
    "\n",
    "3. Implement your recursive algorithm in `Julia` (name your function `col_rfs`).\n",
    "\n",
    "4. Test your code for accuracy and efficiency."
   ]
  },
  {
   "cell_type": "markdown",
   "metadata": {},
   "source": [
    "---\n",
    "\n",
    "### Exercise:\n",
    "\n",
    "Use column-oriented forward substitution to solve the lower-triangular system.\n",
    "\n",
    "$$\n",
    "\\begin{bmatrix}\n",
    "2 & 0 & 0 & 0 \\\\\n",
    "-1 & 2 & 0 & 0 \\\\\n",
    "3 & 1 & -1 & 0 \\\\\n",
    "4 & 1 & -3 & 3\n",
    "\\end{bmatrix}\n",
    "\\begin{bmatrix}\n",
    "x_1 \\\\ x_2 \\\\ x_3 \\\\ x_4\n",
    "\\end{bmatrix} =\n",
    "\\begin{bmatrix}\n",
    "2 \\\\ 3 \\\\ 2 \\\\ 9\n",
    "\\end{bmatrix}\n",
    "$$\n"
   ]
  },
  {
   "cell_type": "markdown",
   "metadata": {},
   "source": [
    "---\n",
    "\n",
    "### Exercise:\n",
    "\n",
    "Inspired by your calculations in the previous exercise, write a non-recursive column-oriented forward-substitution code in `Julia` (name your function `col_fs`). Test your function for accuracy and efficiency."
   ]
  },
  {
   "cell_type": "markdown",
   "metadata": {},
   "source": [
    "---\n",
    "\n",
    "### Exercise:\n",
    "\n",
    "How do your `row_fs` and `col_fs` functions compare to `Julia`'s built-in `x = L\\b`?"
   ]
  },
  {
   "cell_type": "markdown",
   "metadata": {},
   "source": [
    "---\n",
    "\n",
    "### Exercise:\n",
    "\n",
    "Write a `Julia` function `col_fs!(b, L)` that **overwrites** the array `b` with the solution of the linear sytem $Lx = b$. Test the efficiency of your function."
   ]
  },
  {
   "cell_type": "markdown",
   "metadata": {},
   "source": [
    "---"
   ]
  }
 ],
 "metadata": {
  "@webio": {
   "lastCommId": null,
   "lastKernelId": null
  },
  "kernelspec": {
   "display_name": "Julia 1.2.0",
   "language": "julia",
   "name": "julia-1.2"
  },
  "language_info": {
   "file_extension": ".jl",
   "mimetype": "application/julia",
   "name": "julia",
   "version": "1.2.0"
  }
 },
 "nbformat": 4,
 "nbformat_minor": 1
}
