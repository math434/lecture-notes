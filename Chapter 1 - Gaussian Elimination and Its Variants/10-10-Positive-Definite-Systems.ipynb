{
 "cells": [
  {
   "cell_type": "markdown",
   "metadata": {},
   "source": [
    "# Random Groups (10/10 class):\n",
    "\n",
    "(Communicator, Submitter, Facilitator)\n",
    "\n",
    "1. \"Flavio\", \"James H\", \"Michael\"\n",
    "2. \"Chase\", \"Jennifer\", \"Cameron\"\n",
    "3. \"Caitlin\", \"Amy\", \"Luis\"\n",
    "4. \"Max\", \"Sam\", \"Sean\"\n",
    "5. \"James S\", \"Lauren\", \"Eli\"\n",
    "6. \"Killian\", \"Olsi\"\n",
    "\n",
    "# [Desmos code: 7NU 6MH](https://student.desmos.com?prepopulateCode=7nu6mh)"
   ]
  },
  {
   "cell_type": "markdown",
   "metadata": {},
   "source": [
    "---\n",
    "# Section 1.4: Positive Definite Systems; Cholesky Decomposition\n",
    "---"
   ]
  },
  {
   "cell_type": "markdown",
   "metadata": {},
   "source": [
    "After triangular linear systems, the next easiest type of linear system to solve is the **symmetric positive definite** linear system.\n",
    "\n",
    "A matrix $A \\in \\mathbb{R}^{n \\times n}$ is **symmetric** if $A = A^T$.\n",
    "\n",
    "For example,\n",
    "\n",
    "$$\n",
    "A = \n",
    "\\begin{bmatrix}\n",
    "1 & 2 & 3 \\\\\n",
    "2 & 4 & 5 \\\\\n",
    "3 & 5 & 6\n",
    "\\end{bmatrix}\n",
    "$$\n",
    "\n",
    "is a symmetric matrix.\n",
    "\n",
    "A matrix $A \\in \\mathbb{R}^{n \\times n}$ is called **positive definite** if $A$ is symmetric and \n",
    "\n",
    "$$\n",
    "x^T A x > 0, \\qquad \\text{for all nonzero $x \\in \\mathbb{R}^n$.}\n",
    "$$"
   ]
  },
  {
   "cell_type": "markdown",
   "metadata": {},
   "source": [
    "---\n",
    "\n",
    "### Exercise:\n",
    "\n",
    "Let $A = \\begin{bmatrix} 2 & -1 \\\\ -1 & 2 \\end{bmatrix}$ and $x = \\begin{bmatrix} x_1 \\\\ x_2 \\end{bmatrix} \\neq 0$. Prove that $x^T A x > 0$."
   ]
  },
  {
   "cell_type": "markdown",
   "metadata": {},
   "source": [
    "### Proof:\n",
    "\n",
    "Write $x^T = \\begin{bmatrix} x_1 & x_2 \\end{bmatrix}.$ Then we have $x^TAx = \\begin{bmatrix} x_1 & x_2 \\end{bmatrix} \\begin{bmatrix} 2&-1\\\\-1&2 \\end{bmatrix} \\begin{bmatrix} x_1 \\\\ x_2 \\end{bmatrix} =  \\begin{bmatrix} x_1 & x_2 \\end{bmatrix}  \\begin{bmatrix} 2x_1-x_2 \\\\ -x_1+2x_2 \\end{bmatrix} = 2x_1^2+2x_2^2-2x_1x_2 = (x_1-x_2)^2 + x_1^2+x_2^2 > 0, $ since $x \\neq 0$ and all squares are non-negative. $\\square$"
   ]
  },
  {
   "cell_type": "markdown",
   "metadata": {},
   "source": [
    "---\n",
    "\n",
    "## Properties of positive definite matrices\n",
    "\n",
    "(1) If $A$ is positive definite, then $A$ is nonsingular.\n",
    "\n",
    "(2) If $A$ is positive definite, then $Ax = b$ has a unique solution.\n",
    "\n",
    "(3) If $A = M^TM$ for some nonsingular $M \\in \\mathbb{R}^{n \\times n}$, then $A$ is positive definite.\n",
    "\n",
    "(4) $A$ is positive definite $\\Longleftrightarrow$ all eigenvalues of $A$ are positive."
   ]
  },
  {
   "cell_type": "markdown",
   "metadata": {},
   "source": [
    "---\n",
    "### Exercise:\n",
    "\n",
    "Prove property (1) and deduce property (2)."
   ]
  },
  {
   "cell_type": "markdown",
   "metadata": {},
   "source": [
    "### Proof:\n",
    "\n",
    "(1) Since $A$ is positive definite, all eigenvalues of $A$ are positive.  <br />\n",
    "Therefore none of A's eigenvalues can be 0 and $Ax=0$ has no non-trivial solution, <br />\n",
    "so $A$ is invertible (or non-singular). <br /><br />\n",
    "\n",
    "(2) Since $A$ positive definite, it is non-singular and <br />\n",
    "$Ax=b$ has a unique solution $x = A^{-1}b$"
   ]
  },
  {
   "cell_type": "markdown",
   "metadata": {},
   "source": [
    "---\n",
    "\n",
    "## Properties of positive definite matrices\n",
    "\n",
    "(1) If $A$ is positive definite, then $A$ is nonsingular.\n",
    "\n",
    "(2) If $A$ is positive definite, then $Ax = b$ has a unique solution.\n",
    "\n",
    "(3) If $A = M^TM$ for some nonsingular $M \\in \\mathbb{R}^{n \\times n}$, then $A$ is positive definite.\n",
    "\n",
    "(4) $A$ is positive definite $\\Longleftrightarrow$ all eigenvalues of $A$ are positive."
   ]
  },
  {
   "cell_type": "code",
   "execution_count": null,
   "metadata": {},
   "outputs": [],
   "source": [
    "using LinearAlgebra\n",
    "\n",
    "A = [2 -1; -1 2.0]"
   ]
  },
  {
   "cell_type": "code",
   "execution_count": null,
   "metadata": {},
   "outputs": [],
   "source": [
    "eigvals(A)"
   ]
  },
  {
   "cell_type": "markdown",
   "metadata": {},
   "source": [
    "---\n",
    "### Exercise:\n",
    "\n",
    "Based on property (3), write a `Julia` function `A = randspd(n)` that randomly generates an $n \\times n$ symmetric positive definite matrix $A$. Check that the matrix $A$ is positive definite by using property (4)."
   ]
  },
  {
   "cell_type": "code",
   "execution_count": null,
   "metadata": {},
   "outputs": [],
   "source": [
    "using LinearAlgebra\n",
    "\n",
    "function randspd(n)\n",
    "    M = rand(n,n)\n",
    "    #A = transpose(M)*M\n",
    "    A = M'M\n",
    "    #print(det(A))\n",
    "    return(A)\n",
    "end\n",
    "C = randspd(5)"
   ]
  },
  {
   "cell_type": "code",
   "execution_count": null,
   "metadata": {},
   "outputs": [],
   "source": [
    "issymmetric(C)"
   ]
  },
  {
   "cell_type": "code",
   "execution_count": null,
   "metadata": {},
   "outputs": [],
   "source": [
    "eigvals(C)"
   ]
  },
  {
   "cell_type": "code",
   "execution_count": null,
   "metadata": {},
   "outputs": [],
   "source": [
    "C = Symmetric(C)"
   ]
  },
  {
   "cell_type": "code",
   "execution_count": null,
   "metadata": {},
   "outputs": [],
   "source": [
    "issymmetric(C)"
   ]
  },
  {
   "cell_type": "code",
   "execution_count": null,
   "metadata": {},
   "outputs": [],
   "source": [
    "A = rand(5,5)"
   ]
  },
  {
   "cell_type": "code",
   "execution_count": null,
   "metadata": {},
   "outputs": [],
   "source": [
    "B = Symmetric(A)"
   ]
  },
  {
   "cell_type": "code",
   "execution_count": null,
   "metadata": {},
   "outputs": [],
   "source": [
    "B.data"
   ]
  },
  {
   "cell_type": "code",
   "execution_count": null,
   "metadata": {},
   "outputs": [],
   "source": [
    "B.uplo"
   ]
  },
  {
   "cell_type": "markdown",
   "metadata": {},
   "source": [
    "---\n",
    "\n",
    "## The Cholesky Decomposition\n",
    "\n",
    "It turns out that every positive definite matrix $A$ can be written as $A = M^TM$, for some nonsingular matrix $M$.\n",
    "\n",
    "> ### Cholesky Decomposition Theorem\n",
    "> Let $A$ be positive definite.\n",
    "> Then there is a **unique upper-triangular matrix** $R$ with **positive diagonal entries** such that\n",
    "> $$A = R^T R.$$\n",
    "\n",
    "We will see a proof of this theorem later."
   ]
  },
  {
   "cell_type": "markdown",
   "metadata": {},
   "source": [
    "---\n",
    "\n",
    "### Exercise: \n",
    "\n",
    "Computing the Cholesky factor of a random positive definite matrix $A$ using the `Julia` function `cholesky`. Check that the output is correct."
   ]
  },
  {
   "cell_type": "code",
   "execution_count": null,
   "metadata": {},
   "outputs": [],
   "source": [
    "?cholesky"
   ]
  },
  {
   "cell_type": "code",
   "execution_count": null,
   "metadata": {},
   "outputs": [],
   "source": [
    "C = randspd(5)"
   ]
  },
  {
   "cell_type": "code",
   "execution_count": null,
   "metadata": {},
   "outputs": [],
   "source": [
    "F = cholesky(C)"
   ]
  },
  {
   "cell_type": "code",
   "execution_count": null,
   "metadata": {},
   "outputs": [],
   "source": [
    "R = F.U"
   ]
  },
  {
   "cell_type": "code",
   "execution_count": null,
   "metadata": {},
   "outputs": [],
   "source": [
    "R'R - C"
   ]
  },
  {
   "cell_type": "code",
   "execution_count": null,
   "metadata": {},
   "outputs": [],
   "source": [
    "A = [2 -1; -1 2.0]\n",
    "\n",
    "F = cholesky(A)"
   ]
  },
  {
   "cell_type": "markdown",
   "metadata": {},
   "source": [
    "---\n",
    "\n",
    "### Exercise: \n",
    "\n",
    "The function `cholesky` will detect if $A$ is not positive definite. In fact, this is the **most efficient** method for testing if a symmetric matrix is positive definite or not.\n",
    "\n",
    "See what happens when you give the `cholesky` function a matrix that is symmetric but not positive definite."
   ]
  },
  {
   "cell_type": "code",
   "execution_count": null,
   "metadata": {},
   "outputs": [],
   "source": [
    "A = rand(5,5)"
   ]
  },
  {
   "cell_type": "code",
   "execution_count": null,
   "metadata": {},
   "outputs": [],
   "source": [
    "F = cholesky(A)"
   ]
  },
  {
   "cell_type": "code",
   "execution_count": null,
   "metadata": {},
   "outputs": [],
   "source": [
    "B = Symmetric(rand(5,5))"
   ]
  },
  {
   "cell_type": "code",
   "execution_count": null,
   "metadata": {},
   "outputs": [],
   "source": [
    "eigvals(B)"
   ]
  },
  {
   "cell_type": "code",
   "execution_count": null,
   "metadata": {},
   "outputs": [],
   "source": [
    "F = cholesky(B)"
   ]
  },
  {
   "cell_type": "code",
   "execution_count": null,
   "metadata": {},
   "outputs": [],
   "source": [
    "C = rand(5,5)"
   ]
  },
  {
   "cell_type": "code",
   "execution_count": null,
   "metadata": {},
   "outputs": [],
   "source": [
    "eigvals(C)"
   ]
  },
  {
   "cell_type": "code",
   "execution_count": null,
   "metadata": {},
   "outputs": [],
   "source": [
    "im*im"
   ]
  },
  {
   "cell_type": "code",
   "execution_count": null,
   "metadata": {},
   "outputs": [],
   "source": [
    "sqrt(-1.0 + 0im)"
   ]
  },
  {
   "cell_type": "markdown",
   "metadata": {},
   "source": [
    "---\n",
    "\n",
    "### Exercise: \n",
    "\n",
    "Let $R$ be the Cholesky factor of a positive definite matrix $A$. \n",
    "\n",
    "1. Propose an algorithm for solving $Ax = b$ using the Cholesky factorization $A = R^TR$. Your algorithm should have **two** steps, a forward-substitution and a backward-substitution.\n",
    "\n",
    "2. What is the flop count of your algorithm?\n",
    "\n",
    "3. Implement your algorithm in `Julia`. Check that the output is correct."
   ]
  },
  {
   "cell_type": "code",
   "execution_count": null,
   "metadata": {},
   "outputs": [],
   "source": [
    "using LinearAlgebra\n",
    "\n",
    "n = 5\n",
    "M = rand(n,n)\n",
    "A = M'M\n",
    "x = rand(n)\n",
    "b = A*x\n",
    "\n",
    "F = cholesky(A)\n",
    "R = F.U\n",
    "\n",
    "y = R'\\b\n",
    "xhat = R\\y\n",
    "\n",
    "# xhat = R\\(R'\\b) # one-liner"
   ]
  },
  {
   "cell_type": "code",
   "execution_count": null,
   "metadata": {},
   "outputs": [],
   "source": [
    "x"
   ]
  },
  {
   "cell_type": "code",
   "execution_count": null,
   "metadata": {},
   "outputs": [],
   "source": [
    "# Compute the relative error of xhat\n",
    "norm(x - xhat)/norm(x)"
   ]
  },
  {
   "cell_type": "code",
   "execution_count": null,
   "metadata": {},
   "outputs": [],
   "source": [
    "norm(b - A*xhat)/norm(b)"
   ]
  },
  {
   "cell_type": "code",
   "execution_count": null,
   "metadata": {},
   "outputs": [],
   "source": [
    "cond(A)"
   ]
  },
  {
   "cell_type": "markdown",
   "metadata": {},
   "source": [
    "Later in the course we will see the following bound on the error of solving $Ax = b$ numerically.\n",
    "\n",
    "Let $\\hat{x}$ be an approximation to the solution of $Ax = b$, where $A$ is nonsingular and $b \\ne 0$. Then\n",
    "$$\n",
    "\\frac{\\|x - \\hat{x}\\|}{\\|x\\|} \\le \\kappa(A)\\frac{\\|b - A\\hat{x}\\|}{\\|b\\|}.\n",
    "$$\n",
    "\n",
    "Here, $\\|x\\|$ is the **norm** of $x$ and $\\kappa(A)$ is the **condition number** of $A$."
   ]
  },
  {
   "cell_type": "markdown",
   "metadata": {},
   "source": [
    "$\\|x\\|_2 = \\sqrt{x_1^2 + \\cdots + x_n^2}$"
   ]
  },
  {
   "cell_type": "markdown",
   "metadata": {},
   "source": [
    "---\n",
    "### Exercise:\n",
    "\n",
    "Compute the Cholesky factor of $A$ by hand by writing $A = R^T R$ as follows.\n",
    "\n",
    "$$ \n",
    "\\begin{bmatrix}\n",
    " 4 & -2 &  4 \\\\\n",
    "-2 & 10 & -2 \\\\\n",
    " 4 & -2 &  8 \\\\\n",
    "\\end{bmatrix} =\n",
    "\\begin{bmatrix}\n",
    "r_{11} \\\\\n",
    "r_{12} & r_{22} \\\\\n",
    "r_{13} & r_{23} & r_{33} \\\\\n",
    "\\end{bmatrix}\n",
    "\\begin{bmatrix}\n",
    "r_{11} & r_{12} & r_{13} \\\\\n",
    "       & r_{22} & r_{23} \\\\\n",
    "       &        & r_{33} \\\\\n",
    "\\end{bmatrix}\n",
    "$$"
   ]
  },
  {
   "cell_type": "markdown",
   "metadata": {},
   "source": [
    "$$\\begin{bmatrix}\n",
    "r_{11} \\\\\n",
    "r_{12} & r_{22} \\\\\n",
    "r_{13} & r_{23} & r_{33} \\\\\n",
    "\\end{bmatrix}\n",
    "\\begin{bmatrix}\n",
    "r_{11} & r_{12} & r_{13} \\\\\n",
    "       & r_{22} & r_{23} \\\\\n",
    "       &        & r_{33} \\\\\n",
    "\\end{bmatrix}\n",
    "=\n",
    "\\begin{bmatrix}\n",
    "r_{11}^2 & r_{11}r_{12} & r_{11}r_{13} \\\\\n",
    "r_{12}r_{11} & r_{12}^2+r_{22}^2 & r_{12}r_{13}+r_{22}r_{23} \\\\\n",
    "r_{13}r_{11} & r_{13}r_{12}+r_{23}r_{22} & r_{13}^2 + r_{23}^2+r_{33}^2 \\\\\n",
    "\\end{bmatrix}\n",
    "$$\n",
    "\n",
    "$4 = r_{11}^2 \\rightarrow r_{11} = 2$\n",
    "\n",
    "$-2 = r_{11}r_{12} \\rightarrow 2r_{12} = -2 \\rightarrow r_{12} = -1$\n",
    "\n",
    "$4 = r_{11}r_{13} \\rightarrow 2r_{13} = 4 \\rightarrow r_{13} = 2$\n",
    "\n",
    "$10 = r_{12}^2 + r_{22}^2 \\rightarrow 1 + r_{22}^2 = 10 \\rightarrow r_{22} = 3$\n",
    "\n",
    "$-2 = r_{12}r_{13} + r_{22}r_{23} \\rightarrow -1(2) + 3r_{23} = -2 \\rightarrow r_{23} = 0$\n",
    "\n",
    "$8 = r_{13}^2 + r_{23}^2 + r_{33}^2 \\rightarrow 2^2 + 0^2 + r_{33}^2 = 8 \\rightarrow r_{33} = 2$\n",
    "\n",
    "\n",
    "$$\n",
    "A = \n",
    "\\begin{bmatrix}\n",
    "2 \\\\\n",
    "-1 & 3 \\\\\n",
    "2 & 0 & 2\\\\\n",
    "\\end{bmatrix}\n",
    "\\begin{bmatrix}\n",
    "2 & -1 & 2 \\\\\n",
    "       & 3 & 0 \\\\\n",
    "       &        & 2\n",
    "\\end{bmatrix}\n",
    "$$"
   ]
  },
  {
   "cell_type": "markdown",
   "metadata": {},
   "source": [
    "---\n",
    "\n",
    "### General Inner-Product Cholesky Formula\n",
    "\n",
    "The general formulas for the entries $r_{ij}$ of the Cholesky factor $R$ of a positive definite matrix $A$ are given by\n",
    "\n",
    "$$\n",
    "\\begin{align}\n",
    "r_{ii} &= \\sqrt{a_{ii} - \\sum_{k=1}^{i-1} r_{ki}^2}, \\\\\n",
    "r_{ij} &= \\left(a_{ij} - \\sum_{k=1}^{i-1} r_{ki} r_{kj}\\right)\\bigg/r_{ii}, \\qquad j = i+1, \\ldots, n. \\\\\n",
    "\\end{align}\n",
    "$$"
   ]
  },
  {
   "cell_type": "markdown",
   "metadata": {},
   "source": [
    "---\n",
    "\n",
    "### Exercise:\n",
    "\n",
    "Complete the following `Julia` function for the inner-product version of Cholesky's Algorithm."
   ]
  },
  {
   "cell_type": "code",
   "execution_count": null,
   "metadata": {},
   "outputs": [],
   "source": [
    "function chol_ip(A::Symmetric)\n",
    "        \n",
    "    # Initialize R to be the upper-triangular part of A\n",
    "    if A.uplo == 'U'\n",
    "        R = UpperTriangular(copy(A.data))\n",
    "    else\n",
    "        R = UpperTriangular(copy(A.data)')\n",
    "    end\n",
    "\n",
    "    n = size(A, 1)\n",
    "\n",
    "    for i = 1:n\n",
    "        # R[i,i] = sqrt(A[i,i] - sum_{k=1}^{i-1} R[k,i]^2)\n",
    "        \n",
    "        # R[i,j] = (A[i,j] - sum_{k=1}^{i-1} R[k,i]*R[k,j]) / R[i,i]\n",
    "        \n",
    "    end\n",
    "    \n",
    "    return R\n",
    "end"
   ]
  },
  {
   "cell_type": "markdown",
   "metadata": {},
   "source": [
    "---"
   ]
  },
  {
   "cell_type": "code",
   "execution_count": null,
   "metadata": {},
   "outputs": [],
   "source": [
    "A = Symmetric(rand(4,4))"
   ]
  },
  {
   "cell_type": "code",
   "execution_count": null,
   "metadata": {},
   "outputs": [],
   "source": [
    "A.data"
   ]
  },
  {
   "cell_type": "code",
   "execution_count": null,
   "metadata": {},
   "outputs": [],
   "source": [
    "A.uplo"
   ]
  },
  {
   "cell_type": "code",
   "execution_count": null,
   "metadata": {},
   "outputs": [],
   "source": [
    "R = UpperTriangular(copy(A))"
   ]
  },
  {
   "cell_type": "code",
   "execution_count": null,
   "metadata": {},
   "outputs": [],
   "source": [
    "R[1,2] = 0"
   ]
  },
  {
   "cell_type": "code",
   "execution_count": null,
   "metadata": {},
   "outputs": [],
   "source": [
    "R.data"
   ]
  },
  {
   "cell_type": "code",
   "execution_count": null,
   "metadata": {},
   "outputs": [],
   "source": [
    "A[1,2] = 0"
   ]
  },
  {
   "cell_type": "code",
   "execution_count": null,
   "metadata": {},
   "outputs": [],
   "source": [
    "# Another option is to use the triu function\n",
    "R = triu(A)"
   ]
  },
  {
   "cell_type": "markdown",
   "metadata": {},
   "source": [
    "---"
   ]
  },
  {
   "cell_type": "markdown",
   "metadata": {},
   "source": [
    "### Slightly modified student submission"
   ]
  },
  {
   "cell_type": "code",
   "execution_count": null,
   "metadata": {},
   "outputs": [],
   "source": [
    "function chol_ip(A::Symmetric)\n",
    "        \n",
    "    # Initialize R to be the upper-triangular part of A\n",
    "    # R = triu(A) # instead of using the UpperTriangular function\n",
    "    if A.uplo == 'U'\n",
    "        R = UpperTriangular(copy(A.data)) \n",
    "    else\n",
    "        R = UpperTriangular(copy(A.data)')\n",
    "    end\n",
    "    \n",
    "    n = size(A, 1)\n",
    "    \n",
    "    for i = 1:n\n",
    "        #R[i,i] = A[i,i] # Not needed since R is initialized as \n",
    "                         # the upper-triangular part of A\n",
    "        for k = 1:i-1\n",
    "            R[i,i] -= R[k,i]*R[k,i]\n",
    "        end\n",
    "        if R[i,i] <= 0.0\n",
    "            error(\"Matrix is not positive definite.\")\n",
    "        end\n",
    "        R[i,i] = sqrt(R[i,i])\n",
    "        \n",
    "        for j = i+1:n\n",
    "            #R[i,j] = A[i,j] # Not needed since R is initialized as \n",
    "                             # the upper-triangular part of A\n",
    "            for k = 1:i-1\n",
    "                R[i,j] -= R[k,i]*R[k,j]\n",
    "            end\n",
    "            R[i,j] /= R[i,i]\n",
    "        end\n",
    "    end\n",
    "    \n",
    "    return R\n",
    "end"
   ]
  },
  {
   "cell_type": "markdown",
   "metadata": {},
   "source": [
    "### Testing for correctness for positive definite matrix"
   ]
  },
  {
   "cell_type": "code",
   "execution_count": null,
   "metadata": {},
   "outputs": [],
   "source": [
    "using LinearAlgebra\n",
    "\n",
    "function randspd(n)\n",
    "    M = rand(n,n)\n",
    "    return Symmetric(M'M)\n",
    "end\n",
    "A = randspd(5)"
   ]
  },
  {
   "cell_type": "code",
   "execution_count": null,
   "metadata": {},
   "outputs": [],
   "source": [
    "R = chol_ip(A)"
   ]
  },
  {
   "cell_type": "code",
   "execution_count": null,
   "metadata": {},
   "outputs": [],
   "source": [
    "A - R'R"
   ]
  },
  {
   "cell_type": "markdown",
   "metadata": {},
   "source": [
    "### Testing on matrix that is not positive definite"
   ]
  },
  {
   "cell_type": "code",
   "execution_count": null,
   "metadata": {},
   "outputs": [],
   "source": [
    "A = Symmetric(rand(5,5))\n",
    "eigvals(A)"
   ]
  },
  {
   "cell_type": "code",
   "execution_count": null,
   "metadata": {},
   "outputs": [],
   "source": [
    "chol_ip(A)"
   ]
  },
  {
   "cell_type": "markdown",
   "metadata": {},
   "source": [
    "### Speed test"
   ]
  },
  {
   "cell_type": "code",
   "execution_count": null,
   "metadata": {},
   "outputs": [],
   "source": [
    "using BenchmarkTools\n",
    "\n",
    "A = randspd(1000)\n",
    "\n",
    "@benchmark chol_ip(A)"
   ]
  },
  {
   "cell_type": "code",
   "execution_count": null,
   "metadata": {},
   "outputs": [],
   "source": [
    "@benchmark cholesky(A)"
   ]
  },
  {
   "cell_type": "markdown",
   "metadata": {},
   "source": [
    "---\n",
    "\n",
    "### Exercise: (Desmos Input 1)\n",
    "\n",
    "Develop the **Outer-Product Form of Cholesky's Algorithm** by partitioning $A = R^TR$ as:\n",
    "\n",
    "$$\n",
    "\\begin{bmatrix}\n",
    "a_{11} & b^T \\\\\n",
    "b & \\hat{A} \\\\\n",
    "\\end{bmatrix} \n",
    "= \n",
    "\\begin{bmatrix}\n",
    "r_{11} & 0 \\\\\n",
    "s & \\hat{R}^T \\\\\n",
    "\\end{bmatrix}\n",
    "\\begin{bmatrix}\n",
    "r_{11} & s^T \\\\\n",
    "0 & \\hat{R} \\\\\n",
    "\\end{bmatrix}.\n",
    "$$\n",
    "\n",
    "1. Use block-matrix multiplication to multiply the matrices $R^T$ and $R$.\n",
    "2. Based on the equations from part (1), derive a recursive algorithm for computing $R$."
   ]
  },
  {
   "cell_type": "markdown",
   "metadata": {},
   "source": [
    "### Solution:\n",
    "\n",
    "$r_{11}=\\sqrt{a_{11}}$  \n",
    "$s=\\frac{b}{r_{11}}$  \n",
    "Solve recursively:\n",
    "$\\hat{A}-ss^{T}=\\hat{R}^T\\hat{R}$"
   ]
  },
  {
   "cell_type": "markdown",
   "metadata": {},
   "source": [
    "---\n",
    "\n",
    "### Exercise: (Desmos Input 2)\n",
    "\n",
    "Complete the following `Julia` function for the recursive version of Cholesky's Algorithm."
   ]
  },
  {
   "cell_type": "markdown",
   "metadata": {},
   "source": [
    "### In-class debugging ..."
   ]
  },
  {
   "cell_type": "code",
   "execution_count": null,
   "metadata": {},
   "outputs": [],
   "source": [
    "A = ones(1,1)"
   ]
  },
  {
   "cell_type": "code",
   "execution_count": null,
   "metadata": {},
   "outputs": [],
   "source": [
    "issymmetric(A)"
   ]
  },
  {
   "cell_type": "code",
   "execution_count": null,
   "metadata": {},
   "outputs": [],
   "source": [
    "A = [1.0]"
   ]
  },
  {
   "cell_type": "code",
   "execution_count": null,
   "metadata": {},
   "outputs": [],
   "source": [
    "issymmetric(A)"
   ]
  },
  {
   "cell_type": "code",
   "execution_count": null,
   "metadata": {},
   "outputs": [],
   "source": [
    "A = reshape([1.0], 1, 1)"
   ]
  },
  {
   "cell_type": "code",
   "execution_count": null,
   "metadata": {},
   "outputs": [],
   "source": [
    "A = Symmetric(A)"
   ]
  },
  {
   "cell_type": "markdown",
   "metadata": {},
   "source": [
    "### Recursive function"
   ]
  },
  {
   "cell_type": "code",
   "execution_count": null,
   "metadata": {},
   "outputs": [],
   "source": [
    "function chol_rop(A)\n",
    "\n",
    "    issymmetric(A) || error(\"Matrix is not symmetric.\")\n",
    "    A[1,1] > 0.0 || error(\"Matrix is not positive definite.\")\n",
    "\n",
    "    n = size(A, 1)\n",
    "\n",
    "    # Initialize R = 0 and the same size as A\n",
    "    R = zeros(n, n)\n",
    "\n",
    "    # Base case\n",
    "    R[1,1] = sqrt(A[1,1])\n",
    "    \n",
    "    # General case\n",
    "    if n > 1\n",
    "        b = A[2:n,1]\n",
    "        Ahat = A[2:n,2:n]\n",
    "\n",
    "        s = b/R[1,1]\n",
    "        Rhat = chol_rop(Ahat - s*s')\n",
    "\n",
    "        # put everything in the matrix R\n",
    "        R[1,2:n] = s'\n",
    "        R[2:n,2:n] = Rhat\n",
    "    end\n",
    "    \n",
    "    return R\n",
    "    \n",
    "end"
   ]
  },
  {
   "cell_type": "markdown",
   "metadata": {},
   "source": [
    "### Testing for correctness for positive definite matrix"
   ]
  },
  {
   "cell_type": "code",
   "execution_count": null,
   "metadata": {},
   "outputs": [],
   "source": [
    "using LinearAlgebra\n",
    "\n",
    "function randspd(n)\n",
    "    M = rand(n,n)\n",
    "    return M'M\n",
    "end\n",
    "A = randspd(5)"
   ]
  },
  {
   "cell_type": "code",
   "execution_count": null,
   "metadata": {},
   "outputs": [],
   "source": [
    "R = chol_rop(A)"
   ]
  },
  {
   "cell_type": "code",
   "execution_count": null,
   "metadata": {},
   "outputs": [],
   "source": [
    "A - R'R"
   ]
  },
  {
   "cell_type": "markdown",
   "metadata": {},
   "source": [
    "### Testing on matrix that is not positive definite"
   ]
  },
  {
   "cell_type": "code",
   "execution_count": null,
   "metadata": {},
   "outputs": [],
   "source": [
    "A = rand(5,5)\n",
    "A = A+A'\n",
    "eigvals(A)"
   ]
  },
  {
   "cell_type": "code",
   "execution_count": null,
   "metadata": {},
   "outputs": [],
   "source": [
    "R = chol_rop(A)"
   ]
  },
  {
   "cell_type": "markdown",
   "metadata": {},
   "source": [
    "---\n",
    "\n",
    "### Exercise:\n",
    "\n",
    "Develop the **Bordered Form of Cholesky's Algorithm** by partitioning $A = R^TR$ as:\n",
    "\n",
    "$$\n",
    "\\begin{bmatrix}\n",
    "\\hat{A} & c \\\\\n",
    "c^T & a_{nn} \\\\\n",
    "\\end{bmatrix} \n",
    "= \n",
    "\\begin{bmatrix}\n",
    "\\hat{R}^T & 0 \\\\\n",
    "h^T & r_{nn} \\\\\n",
    "\\end{bmatrix}\n",
    "\\begin{bmatrix}\n",
    "\\hat{R} & h \\\\\n",
    "0 & r_{nn} \\\\\n",
    "\\end{bmatrix}\n",
    "$$\n",
    "\n",
    "1. Use block-matrix multiplication to multiply the matrices $R^T$ and $R$.\n",
    "2. Based on the equations from part (1), derive a recursive algorithm for computing $R$.\n",
    "3. Based on your recursive algorithm, determine the number of flops for computing the Cholesky decomposition of an $n \\times n$ positive definite matrix $A$."
   ]
  },
  {
   "cell_type": "markdown",
   "metadata": {},
   "source": [
    "---\n",
    "\n",
    "## Proof of the Cholesky Decomposition Theorem\n",
    "\n",
    "> ### Cholesky Decomposition Theorem\n",
    "> Let $n$ be a positive integer. If $A$ is an $n \\times n$ positive definite matrix, then there is a **unique $n \\times n$ upper-triangular matrix** $R$ with **positive diagonal entries** such that\n",
    "> $$A = R^T R.$$\n",
    "\n",
    "We will prove this theorem using mathematical induction, based on the following partitioning.\n",
    "\n",
    "$$\n",
    "\\begin{bmatrix}\n",
    "\\hat{A} & c \\\\\n",
    "c^T & a_{nn} \\\\\n",
    "\\end{bmatrix} \n",
    "= \n",
    "\\begin{bmatrix}\n",
    "\\hat{R}^T & 0 \\\\\n",
    "h^T & r_{nn} \\\\\n",
    "\\end{bmatrix}\n",
    "\\begin{bmatrix}\n",
    "\\hat{R} & h \\\\\n",
    "0 & r_{nn} \\\\\n",
    "\\end{bmatrix}\n",
    "$$\n",
    "\n",
    "First we need to prove the following lemma."
   ]
  },
  {
   "cell_type": "markdown",
   "metadata": {},
   "source": [
    "> ### Lemma\n",
    "> Let $A$ be positive definite and partitioned as\n",
    "$$\n",
    "A = \n",
    "\\begin{bmatrix}\n",
    "A_{11} & A_{12} \\\\\n",
    "A_{21} & A_{22}\n",
    "\\end{bmatrix}\n",
    "$$\n",
    "where $A_{11} \\in \\mathbb{R}^{n_1 \\times n_1}$ and $A_{22} \\in \\mathbb{R}^{n_2 \\times n_2}$. Then $A_{11}$ and $A_{22}$ are positive definite."
   ]
  },
  {
   "cell_type": "markdown",
   "metadata": {},
   "source": [
    "---\n",
    "### Exercise:\n",
    "\n",
    "Prove the lemma."
   ]
  },
  {
   "cell_type": "markdown",
   "metadata": {},
   "source": [
    "---\n",
    "### Exercise:\n",
    "\n",
    "Use the following steps to prove the theorem.\n",
    "\n",
    "1. Prove that the theorem is true for $n = 1$. This is the _base case_.\n",
    "2. Suppose that the theorem is true for $n = k$. This is the _induction hypothesis_.\n",
    "3. Let $n = k+1$ and let $A$ be an $n \\times n$ positive definite matrix.\n",
    "4. Show that there is a unique $n \\times n$ upper-triangular matrix $R$ with positive diagonal entries such that $A = R^T R$ by considering the following partitioning of $A = R^T R$,\n",
    " $$\n",
    "\\begin{bmatrix}\n",
    "\\hat{A} & c \\\\\n",
    "c^T & a_{nn} \\\\\n",
    "\\end{bmatrix} \n",
    "= \n",
    "\\begin{bmatrix}\n",
    "\\hat{R}^T & 0 \\\\\n",
    "h^T & r_{nn} \\\\\n",
    "\\end{bmatrix}\n",
    "\\begin{bmatrix}\n",
    "\\hat{R} & h \\\\\n",
    "0 & r_{nn} \\\\\n",
    "\\end{bmatrix},\n",
    "$$\n",
    " and showing that there exist unique $\\hat{R}$, $h$, and $r_{nn}$ that satisfy this equation."
   ]
  },
  {
   "cell_type": "markdown",
   "metadata": {},
   "source": [
    "---"
   ]
  }
 ],
 "metadata": {
  "@webio": {
   "lastCommId": null,
   "lastKernelId": null
  },
  "anaconda-cloud": {},
  "kernelspec": {
   "display_name": "Julia 1.2.0",
   "language": "julia",
   "name": "julia-1.2"
  },
  "language_info": {
   "file_extension": ".jl",
   "mimetype": "application/julia",
   "name": "julia",
   "version": "1.2.0"
  }
 },
 "nbformat": 4,
 "nbformat_minor": 4
}
