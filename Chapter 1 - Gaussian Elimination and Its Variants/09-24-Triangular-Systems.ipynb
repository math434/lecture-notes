{
 "cells": [
  {
   "cell_type": "markdown",
   "metadata": {},
   "source": [
    "Random Groups (09/24 class):\n",
    "--\n",
    "\n",
    "1. \"Killian\", \"Sean\", \"Caitlin\"\n",
    "2. \"Chase\", \"Luis\", \"Olsi\"\n",
    "3. \"James S\", \"Flavio\", \"Lauren\"\n",
    "4. \"Amy\", \"James H\", \"Michael\"\n",
    "5. \"Max\", \"Jennifer\", \"Jacob\"\n",
    "6. \"Sam\", \"Eli\", \"Cameron\"\n",
    "\n",
    "\n",
    "https://student.desmos.com/?prepopulateCode=x48wcx"
   ]
  },
  {
   "cell_type": "markdown",
   "metadata": {},
   "source": [
    "---\n",
    "# Section 1.3: Triangular Systems\n",
    "---\n",
    "\n",
    "Let $L \\in \\mathbb{R}^{n \\times n}$ be a **lower-triangular matrix** and $U \\in \\mathbb{R}^{n \\times n}$ be an **upper-triangular matrix**. Then,\n",
    "\n",
    "$$\n",
    "L = \n",
    "\\begin{bmatrix}\n",
    "l_{11} \\\\\n",
    "\\vdots & \\ddots \\\\\n",
    "l_{n1} & \\cdots & l_{nn}\n",
    "\\end{bmatrix}\n",
    "\\qquad \\text{and} \\qquad\n",
    "U = \n",
    "\\begin{bmatrix}\n",
    "u_{11} & \\cdots & u_{1n} \\\\\n",
    "& \\ddots & \\vdots \\\\\n",
    "& & u_{nn}\n",
    "\\end{bmatrix}.\n",
    "$$\n",
    "\n",
    "> ### Theorem:\n",
    "> Let $G$ be an $n \\times n$ triangular matrix. Then\n",
    "> \n",
    "> $$ \n",
    "\\text{$G$ is nonsingular} \\quad \\Longleftrightarrow \\quad g_{ii} \\neq 0, \\quad i = 1,\\ldots,n.\n",
    "$$"
   ]
  },
  {
   "cell_type": "markdown",
   "metadata": {},
   "source": [
    "---\n",
    "### Exercise: \n",
    "\n",
    "Prove the above theorem."
   ]
  },
  {
   "cell_type": "markdown",
   "metadata": {},
   "source": [
    "### Proof:\n",
    "\n",
    "Since $G$ is triangular, the determinant of $G$ is the product of its diagonal entries; that is, $\\det(G) = g_{11} g_{22} \\cdots g_{nn}$. Thus, $G$ is nonsingular if and only if $g_{11} g_{22} \\cdots g_{nn} \\ne 0$, which holds if and only if $g_{ii} \\ne 0$ for $i = 1,\\ldots,n$. $\\blacksquare$"
   ]
  },
  {
   "cell_type": "markdown",
   "metadata": {},
   "source": [
    "---\n",
    "\n",
    "### Exercise:\n",
    "Solve the following lower-triangular system $Lx = b$ and use `Julia` to check your answer.\n",
    "\n",
    "$$\n",
    "\\begin{bmatrix}\n",
    "2 & 0 & 0 & 0 \\\\\n",
    "-1 & 2 & 0 & 0 \\\\\n",
    "3 & 1 & -1 & 0 \\\\\n",
    "4 & 1 & -3 & 3\n",
    "\\end{bmatrix}\n",
    "\\begin{bmatrix}\n",
    "x_1 \\\\ x_2 \\\\ x_3 \\\\ x_4\n",
    "\\end{bmatrix} =\n",
    "\\begin{bmatrix}\n",
    "2 \\\\ 3 \\\\ 2 \\\\ 9\n",
    "\\end{bmatrix}.\n",
    "$$"
   ]
  },
  {
   "cell_type": "code",
   "execution_count": 23,
   "metadata": {},
   "outputs": [
    {
     "data": {
      "text/plain": [
       "4-element Array{Float64,1}:\n",
       " 1.0\n",
       " 2.0\n",
       " 3.0\n",
       " 4.0"
      ]
     },
     "execution_count": 23,
     "metadata": {},
     "output_type": "execute_result"
    }
   ],
   "source": [
    "L = [2 0 0 0; -1 2 0 0; 3 1 -1 0; 4 1 -3 3.0]\n",
    "b = [2, 3, 2, 9.0]\n",
    "\n",
    "x = L\\b"
   ]
  },
  {
   "cell_type": "markdown",
   "metadata": {},
   "source": [
    "---\n",
    "\n",
    "In general, the solution of a lower-triangular system $Lx = b$ is given by\n",
    "\n",
    "$$\n",
    "x_i = \\left( b_i - \\sum_{j=1}^{i-1} l_{ij}x_j \\right) \\bigg/ l_{ii}, \\quad i = 1, \\ldots, n.\n",
    "$$"
   ]
  },
  {
   "cell_type": "markdown",
   "metadata": {},
   "source": [
    "---\n",
    "\n",
    "### Exercise:\n",
    "\n",
    "Write a `Julia` function, `x = row_fs(L, b)`, that returns the solution $x$ of a lower-triangular system $Lx = b$ using _forward substitution_. Make sure to include a check that the matrix $L$ is nonsingular. Test your code for accuracy and efficiency."
   ]
  },
  {
   "cell_type": "code",
   "execution_count": 24,
   "metadata": {},
   "outputs": [
    {
     "data": {
      "text/plain": [
       "4-element Array{Float64,1}:\n",
       " 1.0\n",
       " 2.0\n",
       " 3.0\n",
       " 4.0"
      ]
     },
     "execution_count": 24,
     "metadata": {},
     "output_type": "execute_result"
    }
   ],
   "source": [
    "using LinearAlgebra\n",
    "\n",
    "function row_fs(L, b)\n",
    "    \n",
    "    if !istril(L)\n",
    "        error(\"L is not lower triangular\")\n",
    "    end\n",
    "    \n",
    "    n = size(L,1)\n",
    "    \n",
    "    x = copy(b) # OR: x = zeros(n)\n",
    "    \n",
    "    for i = 1:n\n",
    "        # x[i] = b[i] # if x initialized as zeros(n)\n",
    "        for j = 1:i-1\n",
    "            x[i] -= L[i,j]*x[j]\n",
    "        end\n",
    "        if L[i,i] == 0.0\n",
    "            error(\"L is singular\")\n",
    "        end\n",
    "        x[i] /= L[i,i]\n",
    "    end\n",
    "    \n",
    "    return x\n",
    "end\n",
    "\n",
    "L = [2 0 0 0; -1 2 0 0; 3 1 -1 0; 4 1 -3 3.0]\n",
    "b = [2, 3, 2, 9.0]\n",
    "\n",
    "x = row_fs(L, b)"
   ]
  },
  {
   "cell_type": "code",
   "execution_count": 25,
   "metadata": {},
   "outputs": [
    {
     "data": {
      "text/plain": [
       "Array{Float64,2}"
      ]
     },
     "execution_count": 25,
     "metadata": {},
     "output_type": "execute_result"
    }
   ],
   "source": [
    "typeof(L)"
   ]
  },
  {
   "cell_type": "code",
   "execution_count": 26,
   "metadata": {},
   "outputs": [
    {
     "data": {
      "text/plain": [
       "true"
      ]
     },
     "execution_count": 26,
     "metadata": {},
     "output_type": "execute_result"
    }
   ],
   "source": [
    "istril(L)"
   ]
  },
  {
   "cell_type": "code",
   "execution_count": 27,
   "metadata": {},
   "outputs": [
    {
     "data": {
      "text/html": [
       "14 methods for generic function <b>istril</b>:<ul><li> istril(A::<b>BitArray{2}</b>) in LinearAlgebra at <a href=\"file:///Users/sabae/buildbot/worker/package_macos64/build/usr/share/julia/stdlib/v1.2/LinearAlgebra/src/bitarray.jl\" target=\"_blank\">/Users/sabae/buildbot/worker/package_macos64/build/usr/share/julia/stdlib/v1.2/LinearAlgebra/src/bitarray.jl:165</a></li> <li> istril(M::<b>SymTridiagonal</b>) in LinearAlgebra at <a href=\"file:///Users/sabae/buildbot/worker/package_macos64/build/usr/share/julia/stdlib/v1.2/LinearAlgebra/src/tridiag.jl\" target=\"_blank\">/Users/sabae/buildbot/worker/package_macos64/build/usr/share/julia/stdlib/v1.2/LinearAlgebra/src/tridiag.jl:274</a></li> <li> istril(M::<b>Tridiagonal</b>) in LinearAlgebra at <a href=\"file:///Users/sabae/buildbot/worker/package_macos64/build/usr/share/julia/stdlib/v1.2/LinearAlgebra/src/tridiag.jl\" target=\"_blank\">/Users/sabae/buildbot/worker/package_macos64/build/usr/share/julia/stdlib/v1.2/LinearAlgebra/src/tridiag.jl:575</a></li> <li> istril(A::<b>LowerTriangular</b>) in LinearAlgebra at <a href=\"file:///Users/sabae/buildbot/worker/package_macos64/build/usr/share/julia/stdlib/v1.2/LinearAlgebra/src/triangular.jl\" target=\"_blank\">/Users/sabae/buildbot/worker/package_macos64/build/usr/share/julia/stdlib/v1.2/LinearAlgebra/src/triangular.jl:281</a></li> <li> istril(A::<b>UnitLowerTriangular</b>) in LinearAlgebra at <a href=\"file:///Users/sabae/buildbot/worker/package_macos64/build/usr/share/julia/stdlib/v1.2/LinearAlgebra/src/triangular.jl\" target=\"_blank\">/Users/sabae/buildbot/worker/package_macos64/build/usr/share/julia/stdlib/v1.2/LinearAlgebra/src/triangular.jl:282</a></li> <li> istril(A::<b>Adjoint</b>) in LinearAlgebra at <a href=\"file:///Users/sabae/buildbot/worker/package_macos64/build/usr/share/julia/stdlib/v1.2/LinearAlgebra/src/triangular.jl\" target=\"_blank\">/Users/sabae/buildbot/worker/package_macos64/build/usr/share/julia/stdlib/v1.2/LinearAlgebra/src/triangular.jl:285</a></li> <li> istril(A::<b>Transpose</b>) in LinearAlgebra at <a href=\"file:///Users/sabae/buildbot/worker/package_macos64/build/usr/share/julia/stdlib/v1.2/LinearAlgebra/src/triangular.jl\" target=\"_blank\">/Users/sabae/buildbot/worker/package_macos64/build/usr/share/julia/stdlib/v1.2/LinearAlgebra/src/triangular.jl:286</a></li> <li> istril(D::<b>Diagonal</b>) in LinearAlgebra at <a href=\"file:///Users/sabae/buildbot/worker/package_macos64/build/usr/share/julia/stdlib/v1.2/LinearAlgebra/src/diagonal.jl\" target=\"_blank\">/Users/sabae/buildbot/worker/package_macos64/build/usr/share/julia/stdlib/v1.2/LinearAlgebra/src/diagonal.jl:131</a></li> <li> istril(M::<b>Bidiagonal</b>) in LinearAlgebra at <a href=\"file:///Users/sabae/buildbot/worker/package_macos64/build/usr/share/julia/stdlib/v1.2/LinearAlgebra/src/bidiag.jl\" target=\"_blank\">/Users/sabae/buildbot/worker/package_macos64/build/usr/share/julia/stdlib/v1.2/LinearAlgebra/src/bidiag.jl:250</a></li> <li> istril(A::<b>SparseArrays.SparseMatrixCSC</b>) in SparseArrays at <a href=\"file:///Users/sabae/buildbot/worker/package_macos64/build/usr/share/julia/stdlib/v1.2/SparseArrays/src/sparsematrix.jl\" target=\"_blank\">/Users/sabae/buildbot/worker/package_macos64/build/usr/share/julia/stdlib/v1.2/SparseArrays/src/sparsematrix.jl:3234</a></li> <li> istril(A::<b>AbstractArray{T,2} where T</b>) in LinearAlgebra at <a href=\"file:///Users/sabae/buildbot/worker/package_macos64/build/usr/share/julia/stdlib/v1.2/LinearAlgebra/src/generic.jl\" target=\"_blank\">/Users/sabae/buildbot/worker/package_macos64/build/usr/share/julia/stdlib/v1.2/LinearAlgebra/src/generic.jl:1162</a></li> <li> istril(A::<b>AbstractArray{T,2} where T</b>, k::<b>Integer</b>) in LinearAlgebra at <a href=\"file:///Users/sabae/buildbot/worker/package_macos64/build/usr/share/julia/stdlib/v1.2/LinearAlgebra/src/generic.jl\" target=\"_blank\">/Users/sabae/buildbot/worker/package_macos64/build/usr/share/julia/stdlib/v1.2/LinearAlgebra/src/generic.jl:1162</a></li> <li> istril(x::<b>Number</b>) in LinearAlgebra at <a href=\"file:///Users/sabae/buildbot/worker/package_macos64/build/usr/share/julia/stdlib/v1.2/LinearAlgebra/src/generic.jl\" target=\"_blank\">/Users/sabae/buildbot/worker/package_macos64/build/usr/share/julia/stdlib/v1.2/LinearAlgebra/src/generic.jl:1171</a></li> <li> istril(::<b>UniformScaling</b>) in LinearAlgebra at <a href=\"file:///Users/sabae/buildbot/worker/package_macos64/build/usr/share/julia/stdlib/v1.2/LinearAlgebra/src/uniformscaling.jl\" target=\"_blank\">/Users/sabae/buildbot/worker/package_macos64/build/usr/share/julia/stdlib/v1.2/LinearAlgebra/src/uniformscaling.jl:104</a></li> </ul>"
      ],
      "text/plain": [
       "# 14 methods for generic function \"istril\":\n",
       "[1] istril(A::BitArray{2}) in LinearAlgebra at /Users/sabae/buildbot/worker/package_macos64/build/usr/share/julia/stdlib/v1.2/LinearAlgebra/src/bitarray.jl:165\n",
       "[2] istril(M::SymTridiagonal) in LinearAlgebra at /Users/sabae/buildbot/worker/package_macos64/build/usr/share/julia/stdlib/v1.2/LinearAlgebra/src/tridiag.jl:274\n",
       "[3] istril(M::Tridiagonal) in LinearAlgebra at /Users/sabae/buildbot/worker/package_macos64/build/usr/share/julia/stdlib/v1.2/LinearAlgebra/src/tridiag.jl:575\n",
       "[4] istril(A::LowerTriangular) in LinearAlgebra at /Users/sabae/buildbot/worker/package_macos64/build/usr/share/julia/stdlib/v1.2/LinearAlgebra/src/triangular.jl:281\n",
       "[5] istril(A::UnitLowerTriangular) in LinearAlgebra at /Users/sabae/buildbot/worker/package_macos64/build/usr/share/julia/stdlib/v1.2/LinearAlgebra/src/triangular.jl:282\n",
       "[6] istril(A::Adjoint) in LinearAlgebra at /Users/sabae/buildbot/worker/package_macos64/build/usr/share/julia/stdlib/v1.2/LinearAlgebra/src/triangular.jl:285\n",
       "[7] istril(A::Transpose) in LinearAlgebra at /Users/sabae/buildbot/worker/package_macos64/build/usr/share/julia/stdlib/v1.2/LinearAlgebra/src/triangular.jl:286\n",
       "[8] istril(D::Diagonal) in LinearAlgebra at /Users/sabae/buildbot/worker/package_macos64/build/usr/share/julia/stdlib/v1.2/LinearAlgebra/src/diagonal.jl:131\n",
       "[9] istril(M::Bidiagonal) in LinearAlgebra at /Users/sabae/buildbot/worker/package_macos64/build/usr/share/julia/stdlib/v1.2/LinearAlgebra/src/bidiag.jl:250\n",
       "[10] istril(A::SparseArrays.SparseMatrixCSC) in SparseArrays at /Users/sabae/buildbot/worker/package_macos64/build/usr/share/julia/stdlib/v1.2/SparseArrays/src/sparsematrix.jl:3234\n",
       "[11] istril(A::AbstractArray{T,2} where T) in LinearAlgebra at /Users/sabae/buildbot/worker/package_macos64/build/usr/share/julia/stdlib/v1.2/LinearAlgebra/src/generic.jl:1162\n",
       "[12] istril(A::AbstractArray{T,2} where T, k::Integer) in LinearAlgebra at /Users/sabae/buildbot/worker/package_macos64/build/usr/share/julia/stdlib/v1.2/LinearAlgebra/src/generic.jl:1162\n",
       "[13] istril(x::Number) in LinearAlgebra at /Users/sabae/buildbot/worker/package_macos64/build/usr/share/julia/stdlib/v1.2/LinearAlgebra/src/generic.jl:1171\n",
       "[14] istril(::UniformScaling) in LinearAlgebra at /Users/sabae/buildbot/worker/package_macos64/build/usr/share/julia/stdlib/v1.2/LinearAlgebra/src/uniformscaling.jl:104"
      ]
     },
     "execution_count": 27,
     "metadata": {},
     "output_type": "execute_result"
    }
   ],
   "source": [
    "methods(istril)"
   ]
  },
  {
   "cell_type": "code",
   "execution_count": 28,
   "metadata": {},
   "outputs": [
    {
     "data": {
      "text/html": [
       "istril(A::<b>AbstractArray{T,2} where T</b>) in LinearAlgebra at <a href=\"file:///Users/sabae/buildbot/worker/package_macos64/build/usr/share/julia/stdlib/v1.2/LinearAlgebra/src/generic.jl\" target=\"_blank\">/Users/sabae/buildbot/worker/package_macos64/build/usr/share/julia/stdlib/v1.2/LinearAlgebra/src/generic.jl:1162</a>"
      ],
      "text/plain": [
       "istril(A::AbstractArray{T,2} where T) in LinearAlgebra at /Users/sabae/buildbot/worker/package_macos64/build/usr/share/julia/stdlib/v1.2/LinearAlgebra/src/generic.jl:1162"
      ]
     },
     "execution_count": 28,
     "metadata": {},
     "output_type": "execute_result"
    }
   ],
   "source": [
    "@which istril(L)"
   ]
  },
  {
   "cell_type": "markdown",
   "metadata": {},
   "source": [
    "---\n",
    "If you open the file `julia/stdlib/v1.2/LinearAlgebra/src/generic.jl` and go to line 1162, you will see\n",
    "\n",
    "```julia\n",
    "function istril(A::AbstractMatrix, k::Integer = 0)\n",
    "    require_one_based_indexing(A)\n",
    "    m, n = size(A)\n",
    "    for j in max(1, k + 2):n\n",
    "        for i in 1:min(j - k - 1, m)\n",
    "            iszero(A[i, j]) || return false\n",
    "        end\n",
    "    end\n",
    "    return true\n",
    "end\n",
    "istril(x::Number) = true\n",
    "```\n",
    "---"
   ]
  },
  {
   "cell_type": "code",
   "execution_count": 29,
   "metadata": {},
   "outputs": [],
   "source": [
    "#@edit istril(L)"
   ]
  },
  {
   "cell_type": "code",
   "execution_count": 30,
   "metadata": {},
   "outputs": [
    {
     "data": {
      "text/plain": [
       "5×5 LowerTriangular{Float64,Array{Float64,2}}:\n",
       " 0.964521    ⋅         ⋅         ⋅          ⋅      \n",
       " 0.671654   0.996841   ⋅         ⋅          ⋅      \n",
       " 0.517177   0.573759  0.591542   ⋅          ⋅      \n",
       " 0.299998   0.383062  0.84302   0.0517429   ⋅      \n",
       " 0.0950405  0.850467  0.542229  0.474453   0.360129"
      ]
     },
     "execution_count": 30,
     "metadata": {},
     "output_type": "execute_result"
    }
   ],
   "source": [
    "n = 5\n",
    "L = LowerTriangular(rand(n,n))"
   ]
  },
  {
   "cell_type": "code",
   "execution_count": 31,
   "metadata": {},
   "outputs": [
    {
     "data": {
      "text/plain": [
       "5×5 Array{Float64,2}:\n",
       " 0.964521   0.0904625  0.0609714  0.598802   0.692204\n",
       " 0.671654   0.996841   0.341189   0.416217   0.764619\n",
       " 0.517177   0.573759   0.591542   0.62617    0.277068\n",
       " 0.299998   0.383062   0.84302    0.0517429  0.122271\n",
       " 0.0950405  0.850467   0.542229   0.474453   0.360129"
      ]
     },
     "execution_count": 31,
     "metadata": {},
     "output_type": "execute_result"
    }
   ],
   "source": [
    "L.data"
   ]
  },
  {
   "cell_type": "code",
   "execution_count": 32,
   "metadata": {},
   "outputs": [
    {
     "data": {
      "text/plain": [
       "0.0"
      ]
     },
     "execution_count": 32,
     "metadata": {},
     "output_type": "execute_result"
    }
   ],
   "source": [
    "L[1,2]"
   ]
  },
  {
   "cell_type": "code",
   "execution_count": 33,
   "metadata": {},
   "outputs": [
    {
     "data": {
      "text/plain": [
       "LowerTriangular{Float64,Array{Float64,2}}"
      ]
     },
     "execution_count": 33,
     "metadata": {},
     "output_type": "execute_result"
    }
   ],
   "source": [
    "typeof(L)"
   ]
  },
  {
   "cell_type": "code",
   "execution_count": 34,
   "metadata": {},
   "outputs": [
    {
     "data": {
      "text/html": [
       "istril(A::<b>LowerTriangular</b>) in LinearAlgebra at <a href=\"file:///Users/sabae/buildbot/worker/package_macos64/build/usr/share/julia/stdlib/v1.2/LinearAlgebra/src/triangular.jl\" target=\"_blank\">/Users/sabae/buildbot/worker/package_macos64/build/usr/share/julia/stdlib/v1.2/LinearAlgebra/src/triangular.jl:281</a>"
      ],
      "text/plain": [
       "istril(A::LowerTriangular) in LinearAlgebra at /Users/sabae/buildbot/worker/package_macos64/build/usr/share/julia/stdlib/v1.2/LinearAlgebra/src/triangular.jl:281"
      ]
     },
     "execution_count": 34,
     "metadata": {},
     "output_type": "execute_result"
    }
   ],
   "source": [
    "@which istril(L)"
   ]
  },
  {
   "cell_type": "markdown",
   "metadata": {},
   "source": [
    "---\n",
    "If you open the file `julia/stdlib/v1.2/LinearAlgebra/src/triangular.jl` and go to line 281, you will see\n",
    "\n",
    "```julia\n",
    "istril(A::LowerTriangular) = true\n",
    "istril(A::UnitLowerTriangular) = true\n",
    "istriu(A::UpperTriangular) = true\n",
    "istriu(A::UnitUpperTriangular) = true\n",
    "istril(A::Adjoint) = istriu(A.parent)\n",
    "istril(A::Transpose) = istriu(A.parent)\n",
    "istriu(A::Adjoint) = istril(A.parent)\n",
    "istriu(A::Transpose) = istril(A.parent)\n",
    "```\n",
    "---"
   ]
  },
  {
   "cell_type": "code",
   "execution_count": 35,
   "metadata": {},
   "outputs": [
    {
     "data": {
      "text/plain": [
       "5×5 Adjoint{Float64,LowerTriangular{Float64,Array{Float64,2}}}:\n",
       " 0.964521  0.671654  0.517177  0.299998   0.0950405\n",
       " 0.0       0.996841  0.573759  0.383062   0.850467 \n",
       " 0.0       0.0       0.591542  0.84302    0.542229 \n",
       " 0.0       0.0       0.0       0.0517429  0.474453 \n",
       " 0.0       0.0       0.0       0.0        0.360129 "
      ]
     },
     "execution_count": 35,
     "metadata": {},
     "output_type": "execute_result"
    }
   ],
   "source": [
    "L'"
   ]
  },
  {
   "cell_type": "code",
   "execution_count": 36,
   "metadata": {},
   "outputs": [
    {
     "data": {
      "text/plain": [
       "5×5 Array{Float64,2}:\n",
       " 0.838769    0.0        0.0       0.0       0.0    \n",
       " 0.513315    0.876622   0.0       0.0       0.0    \n",
       " 0.688326    0.0799426  0.547035  0.0       0.0    \n",
       " 0.00574107  0.652881   0.217803  0.478076  0.0    \n",
       " 0.015003    0.316821   0.25829   0.812704  0.45937"
      ]
     },
     "execution_count": 36,
     "metadata": {},
     "output_type": "execute_result"
    }
   ],
   "source": [
    "L = tril(rand(n,n))"
   ]
  },
  {
   "cell_type": "markdown",
   "metadata": {},
   "source": [
    "---\n",
    "\n",
    "## Column-oriented forward substitution\n",
    "\n",
    "Notice that the algorithm above is **row-oriented**, which is good for computer languages that store matrices in row-major order (like C/C++ or Python), but is bad for column-major order languages (like Fortran, MATLAB, or Julia).\n",
    "\n",
    "We can produce a forward-substitution algorithm that is **column-oriented** by using the concept of **block-matrix multiplication**."
   ]
  },
  {
   "cell_type": "markdown",
   "metadata": {},
   "source": [
    "---\n",
    "\n",
    "### Exercise:\n",
    "\n",
    "Let the lower-triangular linear system $Lx = b$ be partitioned as\n",
    "\n",
    "$$\n",
    "\\begin{bmatrix}\n",
    "l_{11} & 0 \\\\\n",
    "\\hat{l} & \\hat{L} \\\\\n",
    "\\end{bmatrix}\n",
    "\\begin{bmatrix}\n",
    "x_1 \\\\ \\hat{x}\n",
    "\\end{bmatrix} = \n",
    "\\begin{bmatrix}\n",
    "b_1 \\\\ \\hat{b}\n",
    "\\end{bmatrix}\n",
    "$$\n",
    "\n",
    "where $\\hat{L}$ is an $(n-1) \\times (n-1)$ *lower-triangular* matrix and $\\hat{x}$ and $\\hat{b}$ are vectors of length $n - 1$.\n",
    "\n",
    "1. Perform block-matrix multiplication.\n",
    "\n",
    "2. Determine a _recursive algorithm_ for solving the linear system $Lx = b$.\n",
    "\n",
    "3. Implement your recursive algorithm in `Julia` (name your function `col_rfs`).\n",
    "\n",
    "4. Test your code for accuracy and efficiency."
   ]
  },
  {
   "cell_type": "markdown",
   "metadata": {},
   "source": [
    "---\n",
    "### How to enter unicode characters:\n",
    "- `\\alpha + TAB = α`\n",
    "- `l\\hat + TAB = l̂`\n",
    "- `x\\_1 + TAB = x₁`\n",
    "---"
   ]
  },
  {
   "cell_type": "code",
   "execution_count": 37,
   "metadata": {},
   "outputs": [
    {
     "data": {
      "text/plain": [
       "4-element Array{Float64,1}:\n",
       " 1.0\n",
       " 2.0\n",
       " 3.0\n",
       " 4.0"
      ]
     },
     "execution_count": 37,
     "metadata": {},
     "output_type": "execute_result"
    }
   ],
   "source": [
    "#Amy, Killian, Cameron\n",
    "function col_rfs(L, b)\n",
    "    n = size(L,1)\n",
    "    \n",
    "    l11 = L[1,1]\n",
    "    b1 = b[1]\n",
    "    lhat = L[2:n, 1]\n",
    "    Lhat = L[2:n, 2:n]\n",
    "    bhat = b[2:n]\n",
    "    \n",
    "    x1 = b1/l11\n",
    "    bt = bhat - lhat*x1\n",
    "    \n",
    "    ##base case:\n",
    "    if size(L,1) == 1\n",
    "        return x1\n",
    "    end\n",
    "    \n",
    "    #recursive case:\n",
    "    xhat = col_rfs(Lhat, bt) \n",
    "    \n",
    "    x = [x1; xhat]\n",
    "    return x\n",
    "    \n",
    "end\n",
    "\n",
    "L = [2 0 0 0; -1 2 0 0; 3 1 -1 0; 4 1 -3 3.0]\n",
    "b = [2, 3, 2, 9.0]\n",
    "\n",
    "x = col_rfs(L, b)"
   ]
  },
  {
   "cell_type": "markdown",
   "metadata": {},
   "source": [
    "---\n",
    "### Recursive algorithm\n",
    "\n",
    "The partition\n",
    "\n",
    "$$\n",
    "\\begin{bmatrix}\n",
    "l_{11} & 0 \\\\\n",
    "\\hat{l} & \\hat{L} \\\\\n",
    "\\end{bmatrix}\n",
    "\\begin{bmatrix}\n",
    "x_1 \\\\ \\hat{x}\n",
    "\\end{bmatrix} = \n",
    "\\begin{bmatrix}\n",
    "b_1 \\\\ \\hat{b}\n",
    "\\end{bmatrix}\n",
    "$$\n",
    "\n",
    "gives us the following recursive algorithm:\n",
    "\n",
    "1. $x_1 = b_1/l_{11}$\n",
    "2. Solve $\\hat{L} \\hat{x} = \\hat{b} - x_1 \\hat{l}$ for $\\hat{x}$."
   ]
  },
  {
   "cell_type": "markdown",
   "metadata": {},
   "source": [
    "---\n",
    "\n",
    "### Exercise:\n",
    "\n",
    "Use column-oriented forward substitution to solve the lower-triangular system.\n",
    "\n",
    "$$\n",
    "\\begin{bmatrix}\n",
    "2 & 0 & 0 & 0 \\\\\n",
    "-1 & 2 & 0 & 0 \\\\\n",
    "3 & 1 & -1 & 0 \\\\\n",
    "4 & 1 & -3 & 3\n",
    "\\end{bmatrix}\n",
    "\\begin{bmatrix}\n",
    "x_1 \\\\ x_2 \\\\ x_3 \\\\ x_4\n",
    "\\end{bmatrix} =\n",
    "\\begin{bmatrix}\n",
    "2 \\\\ 3 \\\\ 2 \\\\ 9\n",
    "\\end{bmatrix}\n",
    "$$\n"
   ]
  },
  {
   "cell_type": "markdown",
   "metadata": {},
   "source": [
    "### Solution:\n",
    "\n",
    "Then $x_1 = 2/2 = 1$ and\n",
    "\n",
    "$$\n",
    "\\begin{bmatrix}\n",
    " 2 & 0 & 0 \\\\\n",
    " 1 & -1 & 0 \\\\\n",
    " 1 & -3 & 3\n",
    "\\end{bmatrix}\n",
    "\\begin{bmatrix}\n",
    "x_2 \\\\ x_3 \\\\ x_4\n",
    "\\end{bmatrix} =\n",
    "\\begin{bmatrix}\n",
    "3 \\\\ 2 \\\\ 9\n",
    "\\end{bmatrix}\n",
    "- \n",
    "x_1 \\cdot\n",
    "\\begin{bmatrix}\n",
    "-1 \\\\ 3 \\\\ 4\n",
    "\\end{bmatrix}\n",
    "=\n",
    "\\begin{bmatrix}\n",
    "4 \\\\ -1 \\\\ 5\n",
    "\\end{bmatrix}.\n",
    "$$"
   ]
  },
  {
   "cell_type": "markdown",
   "metadata": {},
   "source": [
    "Then $x_2 = 4/2 = 2$ and\n",
    "\n",
    "$$\n",
    "\\begin{bmatrix}\n",
    " -1 & 0 \\\\\n",
    " -3 & 3\n",
    "\\end{bmatrix}\n",
    "\\begin{bmatrix}\n",
    "x_3 \\\\ x_4\n",
    "\\end{bmatrix} =\n",
    "\\begin{bmatrix}\n",
    "-1 \\\\ 5\n",
    "\\end{bmatrix}\n",
    "- \n",
    "x_2 \\cdot\n",
    "\\begin{bmatrix}\n",
    "1 \\\\ 1\n",
    "\\end{bmatrix}\n",
    "=\n",
    "\\begin{bmatrix}\n",
    "-3 \\\\ 3\n",
    "\\end{bmatrix}.\n",
    "$$"
   ]
  },
  {
   "cell_type": "markdown",
   "metadata": {},
   "source": [
    "Then $x_3 = -3/-1 = 3$ and\n",
    "\n",
    "$$\n",
    "\\begin{bmatrix}\n",
    " 3\n",
    "\\end{bmatrix}\n",
    "\\begin{bmatrix}\n",
    "x_4\n",
    "\\end{bmatrix} =\n",
    "\\begin{bmatrix}\n",
    "3\n",
    "\\end{bmatrix}\n",
    "- \n",
    "x_3 \\cdot\n",
    "\\begin{bmatrix}\n",
    "-3\n",
    "\\end{bmatrix}\n",
    "=\n",
    "\\begin{bmatrix}\n",
    "12\n",
    "\\end{bmatrix}.\n",
    "$$"
   ]
  },
  {
   "cell_type": "markdown",
   "metadata": {},
   "source": [
    "Then $x_4 = 12/3 = 4$. Thus, $x = \\begin{bmatrix} 1 \\\\ 2 \\\\ 3 \\\\ 4 \\end{bmatrix}.$"
   ]
  },
  {
   "cell_type": "markdown",
   "metadata": {},
   "source": [
    "---\n",
    "\n",
    "### Exercise:\n",
    "\n",
    "Inspired by your calculations in the previous exercise, write a non-recursive column-oriented forward-substitution code in `Julia` (name your function `col_fs`). Test your function for accuracy and efficiency."
   ]
  },
  {
   "cell_type": "markdown",
   "metadata": {},
   "source": [
    "```julia\n",
    "# Caitlin, Killian, Sean\n",
    "function col_fs(L, b)\n",
    "    if !istril(L)\n",
    "        error(\"L is not lower triangular\")\n",
    "    end\n",
    "    n = size(L)[1]\n",
    "    x = zeros(n)\n",
    "    c = copy(b)\n",
    "    for j in 1:n\n",
    "        x[j] = c[j] / L[j,j]\n",
    "        for i in j+1:n\n",
    "            c[i] = c[i] - L[i,j]*x[j]\n",
    "        end\n",
    "    end\n",
    "    return x\n",
    "end\n",
    "```"
   ]
  },
  {
   "cell_type": "code",
   "execution_count": 38,
   "metadata": {},
   "outputs": [
    {
     "name": "stdout",
     "output_type": "stream",
     "text": [
      "x = row_fs(L, b) = [1.0, 2.0, 3.0, 4.0]\n",
      "x = col_fs(L, b) = [1.0, 2.0, 3.0, 4.0]\n"
     ]
    }
   ],
   "source": [
    "using LinearAlgebra\n",
    "\n",
    "function row_fs(L, b)\n",
    "    if !istril(L)\n",
    "        error(\"L is not lower triangular\")\n",
    "    end\n",
    "    n = size(L,1)\n",
    "    x = copy(b)\n",
    "    for i = 1:n\n",
    "        for j = 1:i-1\n",
    "            x[i] -= L[i,j]*x[j]\n",
    "        end\n",
    "        if L[i,i] == 0.0\n",
    "            error(\"L is singular\")\n",
    "        end\n",
    "        x[i] /= L[i,i]\n",
    "    end\n",
    "    return x\n",
    "end\n",
    "\n",
    "function col_fs(L, b)\n",
    "    if !istril(L)\n",
    "        error(\"L is not lower triangular\")\n",
    "    end\n",
    "    n = size(L,1)\n",
    "    x = copy(b)\n",
    "    for j = 1:n\n",
    "        if L[j,j] == 0.0\n",
    "            error(\"L is singular\")\n",
    "        end\n",
    "        x[j] /= L[j,j]\n",
    "        for i = j+1:n\n",
    "            x[i] -= L[i,j]*x[j]\n",
    "        end\n",
    "    end\n",
    "    return x\n",
    "end\n",
    "\n",
    "L = [2 0 0 0; -1 2 0 0; 3 1 -1 0; 4 1 -3 3.0]\n",
    "b = [2, 3, 2, 9.0]\n",
    "\n",
    "@show x = row_fs(L, b)\n",
    "@show x = col_fs(L, b);"
   ]
  },
  {
   "cell_type": "markdown",
   "metadata": {},
   "source": [
    "---\n",
    "\n",
    "### Exercise 3:\n",
    "\n",
    "How do your `row_fs` and `col_fs` functions compare to `Julia`'s built-in `x = L\\b`?"
   ]
  },
  {
   "cell_type": "code",
   "execution_count": 39,
   "metadata": {},
   "outputs": [
    {
     "name": "stdout",
     "output_type": "stream",
     "text": [
      "  1.099 ms (1 allocation: 7.94 KiB)\n",
      "  714.426 μs (1 allocation: 7.94 KiB)\n",
      "  616.124 μs (1 allocation: 7.94 KiB)\n"
     ]
    }
   ],
   "source": [
    "using BenchmarkTools\n",
    "\n",
    "n = 1000\n",
    "L = LowerTriangular(rand(n,n))\n",
    "b = rand(n)\n",
    "\n",
    "@btime x = row_fs(L,b)\n",
    "@btime x = col_fs(L,b)\n",
    "@btime x = L\\b;"
   ]
  },
  {
   "cell_type": "markdown",
   "metadata": {},
   "source": [
    "---"
   ]
  }
 ],
 "metadata": {
  "@webio": {
   "lastCommId": null,
   "lastKernelId": null
  },
  "kernelspec": {
   "display_name": "Julia 1.2.0",
   "language": "julia",
   "name": "julia-1.2"
  },
  "language_info": {
   "file_extension": ".jl",
   "mimetype": "application/julia",
   "name": "julia",
   "version": "1.2.0"
  }
 },
 "nbformat": 4,
 "nbformat_minor": 1
}
