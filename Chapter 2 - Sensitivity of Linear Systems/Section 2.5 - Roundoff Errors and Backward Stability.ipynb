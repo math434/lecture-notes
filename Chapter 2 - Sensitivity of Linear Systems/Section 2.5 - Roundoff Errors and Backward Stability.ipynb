{
 "cells": [
  {
   "cell_type": "markdown",
   "metadata": {},
   "source": [
    "---\n",
    "# Section 2.5: Roundoff Errors and Backward Stability\n",
    "---"
   ]
  },
  {
   "cell_type": "markdown",
   "metadata": {},
   "source": [
    "## Base-10 floating point numbers\n",
    "\n",
    "Consider the following 6 digit numbers written using base-10 floating-point notation:\n",
    "\n",
    "$$\n",
    "\\begin{align}\n",
    "1.23456 \\times 10^3    &= 1234.56 \\\\\n",
    "1.23456 \\times 10^{-2} &= 0.0123456 \\\\\n",
    "\\end{align}\n",
    "$$\n",
    "\n",
    "We can use this floating-point notation to write down both large and small numbers very compactly:\n",
    "\n",
    "$$\n",
    "1.23 \\times 10^{50}, \\qquad -1.234 \\times 10^{-100}.\n",
    "$$\n",
    "\n",
    "The first is a number with 3 significant digits, and the second has 4 significant digits."
   ]
  },
  {
   "cell_type": "markdown",
   "metadata": {},
   "source": [
    "---"
   ]
  },
  {
   "cell_type": "markdown",
   "metadata": {},
   "source": [
    "## Roundoff error\n",
    "\n",
    "Base-10 with 4 significant digits:\n",
    "\n",
    "$$\n",
    "(1.112 \\times 10^1) \\times (1.112 \\times 10^2) = \\fbox{1.236}544 \\times 10^3 \\xrightarrow{\\text{roundoff}} 1.237 \\times 10^3\n",
    "$$\n",
    "\n",
    "Therefore, we have made the following error:\n",
    "\n",
    "$$\n",
    "\\delta x = 1.237 \\times 10^3 - 1.236544 \\times 10^3 = 0.456\n",
    "$$\n",
    "\n",
    "The relative error is:\n",
    "\n",
    "$$\n",
    "\\frac{\\delta x}{x} = \\frac{.456}{1.236544 \\times 10^3} \\approx 4 \\times 10^{-4} = 0.04 \\%\n",
    "$$"
   ]
  },
  {
   "cell_type": "markdown",
   "metadata": {},
   "source": [
    "---"
   ]
  },
  {
   "cell_type": "markdown",
   "metadata": {},
   "source": [
    "## Floating-point arithmetic\n",
    "\n",
    "Real numbers are stored on a computer using a base-2 floating-point notation that follows the IEEE floating-point standard:\n",
    "\n",
    "1. **half precision** using 16 bits (`Float16`)\n",
    "2. **single precision** using 32 bits (`Float32`)\n",
    "3. **double precision** using 64 bits (`Float64`)\n",
    "\n",
    "Julia also has an **arbitrary precision** floating-point data type called `BigFloat`. It is excellent if you need more precision, but it is also much slower."
   ]
  },
  {
   "cell_type": "code",
   "execution_count": 1,
   "metadata": {
    "collapsed": false
   },
   "outputs": [
    {
     "name": "stdout",
     "output_type": "stream",
     "text": [
      "search: AbstractFloat\n",
      "\n"
     ]
    },
    {
     "data": {
      "text/markdown": [
       "No documentation found.\n",
       "\n",
       "**Summary:**\n",
       "\n",
       "```julia\n",
       "abstract AbstractFloat <: Real\n",
       "```\n",
       "\n",
       "**Subtypes:**\n",
       "\n",
       "```julia\n",
       "BigFloat\n",
       "Float16\n",
       "Float32\n",
       "Float64\n",
       "```\n"
      ],
      "text/plain": [
       "No documentation found.\n",
       "\n",
       "**Summary:**\n",
       "\n",
       "```julia\n",
       "abstract AbstractFloat <: Real\n",
       "```\n",
       "\n",
       "**Subtypes:**\n",
       "\n",
       "```julia\n",
       "BigFloat\n",
       "Float16\n",
       "Float32\n",
       "Float64\n",
       "```\n"
      ]
     },
     "execution_count": 1,
     "metadata": {},
     "output_type": "execute_result"
    }
   ],
   "source": [
    "?AbstractFloat"
   ]
  },
  {
   "cell_type": "markdown",
   "metadata": {},
   "source": [
    "---"
   ]
  },
  {
   "cell_type": "markdown",
   "metadata": {},
   "source": [
    "## Description of IEEE double floating-point format (`Float64`)\n",
    "\n",
    "Suppose $x$ is a floating-point number stored in the following 64-bits:\n",
    "\n",
    "| 1 | 2 | $\\cdots$ | 12 | 13 | $\\cdots$ | 64 |\n",
    "|:-:|:-:|:--------:|:--:|:--:|:--------:|:--:|\n",
    "|$s$|$e_{10}$| $\\cdots$ |$e_0$|$f_1$|$\\cdots$|$f_{52}$|\n",
    "\n",
    "- 1 bit $s$ represents the **sign**\n",
    "- 11 bits $e_{10} \\cdots e_{0}$ represent the **exponent**\n",
    "- 52 bits $f_1 \\cdots f_{52}$ represent the **fraction** (a.k.a. the **mantissa** or **significand**)\n",
    "\n",
    "Then\n",
    "\n",
    "$$ x = (-1)^s \\left[1.f_1 \\cdots f_{52}\\right]_2 \\times 2^{(e-1023)}.$$"
   ]
  },
  {
   "cell_type": "markdown",
   "metadata": {},
   "source": [
    "Note that $x$ is **normalized** to have its first digit nonzero.\n",
    "\n",
    "The exponent $e$ is defined by\n",
    "\n",
    "$$e = \\left[e_{10} \\cdots e_{0}\\right]_2 = e_{10} 2^{10} + \\cdots + e_1 2^1 + e_0 2^0.$$\n",
    "  \n",
    "Thus, $e \\in \\left[0, 2^{11}-1\\right] = [0, 2047]$. Since $e = 0$ and $e = 2047$ are reserved for special floating-point values, we actually have $e \\in [1, 2046]$. \n",
    "\n",
    "The \"$-1023$\" in the exponent is called the **bias**:  $e-1023 \\in [-1022,1023]$\n",
    "\n",
    "Finally, we have\n",
    "\n",
    "$$\\left[1.f_1 \\cdots f_{52}\\right]_2 = 1 + \\frac{f_1}{2^1} + \\frac{f_2}{2^2} + \\cdots + \\frac{f_{52}}{2^{52}}.$$"
   ]
  },
  {
   "cell_type": "markdown",
   "metadata": {},
   "source": [
    "---"
   ]
  },
  {
   "cell_type": "markdown",
   "metadata": {},
   "source": [
    "## Example\n",
    "\n",
    "The 64-bit floating point number\n",
    "\n",
    "$$\n",
    "\\begin{array}{|c|c|c|}\n",
    "\\hline\n",
    "1 & 10000000010 & 1011010000000000000000000000000000000000000000000000 \\\\\n",
    "\\hline\n",
    "\\end{array}\n",
    "$$\n",
    "\n",
    "is\n",
    "\n",
    "$$\n",
    "\\begin{split}\n",
    "x & = -[1.101101]_2 \\times 2^{(1026-1023)} \\\\\n",
    "  & = -[1.101101]_2 \\times 2^{3} \\\\\n",
    "  & = -[1101.101]_2 \\\\\n",
    "  & = -\\left(1 \\cdot 8 + 1 \\cdot 4 + 0 \\cdot 2 + 1 \\cdot 1 + 1 \\cdot \\frac{1}{2} + 0 \\cdot \\frac{1}{4} + 1 \\cdot \\frac{1}{8}\\right)  \\\\\n",
    "  & = -13.625\n",
    "\\end{split}\n",
    "$$"
   ]
  },
  {
   "cell_type": "code",
   "execution_count": 2,
   "metadata": {
    "collapsed": false
   },
   "outputs": [
    {
     "name": "stdout",
     "output_type": "stream",
     "text": [
      "search: bits bitstype isbits flipbits! combinations bitbroadcast\n",
      "\n"
     ]
    },
    {
     "data": {
      "text/markdown": [
       "```\n",
       "bits(n)\n",
       "```\n",
       "\n",
       "A string giving the literal bit representation of a number.\n"
      ],
      "text/plain": [
       "```\n",
       "bits(n)\n",
       "```\n",
       "\n",
       "A string giving the literal bit representation of a number.\n"
      ]
     },
     "execution_count": 2,
     "metadata": {},
     "output_type": "execute_result"
    }
   ],
   "source": [
    "?bits"
   ]
  },
  {
   "cell_type": "code",
   "execution_count": 3,
   "metadata": {
    "collapsed": false
   },
   "outputs": [
    {
     "data": {
      "text/plain": [
       "-13.625"
      ]
     },
     "execution_count": 3,
     "metadata": {},
     "output_type": "execute_result"
    }
   ],
   "source": [
    "x = -13.625"
   ]
  },
  {
   "cell_type": "code",
   "execution_count": 4,
   "metadata": {
    "collapsed": false
   },
   "outputs": [
    {
     "data": {
      "text/plain": [
       "\"1100000000101011010000000000000000000000000000000000000000000000\""
      ]
     },
     "execution_count": 4,
     "metadata": {},
     "output_type": "execute_result"
    }
   ],
   "source": [
    "b = bits(-13.625)"
   ]
  },
  {
   "cell_type": "code",
   "execution_count": 5,
   "metadata": {
    "collapsed": false
   },
   "outputs": [
    {
     "data": {
      "text/plain": [
       "('1',\"10000000010\",\"1011010000000000000000000000000000000000000000000000\")"
      ]
     },
     "execution_count": 5,
     "metadata": {},
     "output_type": "execute_result"
    }
   ],
   "source": [
    "s, e, f = b[1], b[2:12], b[13:64]"
   ]
  },
  {
   "cell_type": "code",
   "execution_count": 6,
   "metadata": {
    "collapsed": false
   },
   "outputs": [
    {
     "data": {
      "text/plain": [
       "0x0402"
      ]
     },
     "execution_count": 6,
     "metadata": {},
     "output_type": "execute_result"
    }
   ],
   "source": [
    "0b10000000010"
   ]
  },
  {
   "cell_type": "code",
   "execution_count": 7,
   "metadata": {
    "collapsed": false
   },
   "outputs": [
    {
     "data": {
      "text/plain": [
       "1026"
      ]
     },
     "execution_count": 7,
     "metadata": {},
     "output_type": "execute_result"
    }
   ],
   "source": [
    "Int(ans)"
   ]
  },
  {
   "cell_type": "markdown",
   "metadata": {},
   "source": [
    "---"
   ]
  },
  {
   "cell_type": "markdown",
   "metadata": {},
   "source": [
    "## Example\n",
    "\n",
    "Even if a number can be represented exactly in base-10 with a finite number of digits, it may require an infinite number of digits in base-2.\n",
    "\n",
    "$$\n",
    "0.1 = \\left[0.000110011001\\ldots\\right]_2 = \\left[1.\\overline{1001}\\right]_2 \\times 2^{-4}\n",
    "$$\n",
    "\n",
    "Therefore, $0.1$ cannot be represented exactly as a floating-point number."
   ]
  },
  {
   "cell_type": "code",
   "execution_count": 1,
   "metadata": {
    "collapsed": false
   },
   "outputs": [
    {
     "data": {
      "text/plain": [
       "0.1"
      ]
     },
     "execution_count": 1,
     "metadata": {},
     "output_type": "execute_result"
    }
   ],
   "source": [
    "x = 0.1"
   ]
  },
  {
   "cell_type": "code",
   "execution_count": 2,
   "metadata": {
    "collapsed": false
   },
   "outputs": [
    {
     "data": {
      "text/plain": [
       "('0',\"01111111011\",\"1001100110011001100110011001100110011001100110011010\")"
      ]
     },
     "execution_count": 2,
     "metadata": {},
     "output_type": "execute_result"
    }
   ],
   "source": [
    "b = bits(x)\n",
    "s, e, f = b[1], b[2:12], b[13:64]"
   ]
  },
  {
   "cell_type": "code",
   "execution_count": 3,
   "metadata": {
    "collapsed": false
   },
   "outputs": [
    {
     "data": {
      "text/plain": [
       "1.000000000000000055511151231257827021181583404541015625000000000000000000000000e-01"
      ]
     },
     "execution_count": 3,
     "metadata": {},
     "output_type": "execute_result"
    }
   ],
   "source": [
    "big(0.1)"
   ]
  },
  {
   "cell_type": "code",
   "execution_count": 4,
   "metadata": {
    "collapsed": false
   },
   "outputs": [
    {
     "data": {
      "text/plain": [
       "1.000000000000000000000000000000000000000000000000000000000000000000000000000002e-01"
      ]
     },
     "execution_count": 4,
     "metadata": {},
     "output_type": "execute_result"
    }
   ],
   "source": [
    "big(1)/10"
   ]
  },
  {
   "cell_type": "code",
   "execution_count": 5,
   "metadata": {
    "collapsed": false
   },
   "outputs": [
    {
     "data": {
      "text/plain": [
       "5.551115123125782393969367238496382179237673776462814776562549859295662966997906e-17"
      ]
     },
     "execution_count": 5,
     "metadata": {},
     "output_type": "execute_result"
    }
   ],
   "source": [
    "(big(0.1) - big(1)/10)/0.1"
   ]
  },
  {
   "cell_type": "markdown",
   "metadata": {},
   "source": [
    "---"
   ]
  },
  {
   "cell_type": "markdown",
   "metadata": {},
   "source": [
    "## Largest `Float64`\n",
    "\n",
    "$$\\left(2 - 2^{-52}\\right) \\times 2^{1023} \\approx 2 \\times 10^{308}$$"
   ]
  },
  {
   "cell_type": "code",
   "execution_count": 6,
   "metadata": {
    "collapsed": false
   },
   "outputs": [
    {
     "name": "stdout",
     "output_type": "stream",
     "text": [
      "search: realmax realmin readdlm ReadOnlyMemoryError\n",
      "\n"
     ]
    },
    {
     "data": {
      "text/markdown": [
       "```\n",
       "realmax(T)\n",
       "```\n",
       "\n",
       "The highest finite value representable by the given floating-point DataType `T`.\n"
      ],
      "text/plain": [
       "```\n",
       "realmax(T)\n",
       "```\n",
       "\n",
       "The highest finite value representable by the given floating-point DataType `T`.\n"
      ]
     },
     "execution_count": 6,
     "metadata": {},
     "output_type": "execute_result"
    }
   ],
   "source": [
    "?realmax"
   ]
  },
  {
   "cell_type": "code",
   "execution_count": 7,
   "metadata": {
    "collapsed": false
   },
   "outputs": [
    {
     "data": {
      "text/plain": [
       "5.875653789111587590936911998878442589938516392745498308333779606469323584389875e+1388255822130839282"
      ]
     },
     "execution_count": 7,
     "metadata": {},
     "output_type": "execute_result"
    }
   ],
   "source": [
    "realmax(BigFloat)"
   ]
  },
  {
   "cell_type": "code",
   "execution_count": 8,
   "metadata": {
    "collapsed": false
   },
   "outputs": [
    {
     "data": {
      "text/plain": [
       "1.7976931348623157e308"
      ]
     },
     "execution_count": 8,
     "metadata": {},
     "output_type": "execute_result"
    }
   ],
   "source": [
    "x = realmax(Float64)"
   ]
  },
  {
   "cell_type": "code",
   "execution_count": 9,
   "metadata": {
    "collapsed": false
   },
   "outputs": [
    {
     "data": {
      "text/plain": [
       "('0',\"11111111110\",\"1111111111111111111111111111111111111111111111111111\")"
      ]
     },
     "execution_count": 9,
     "metadata": {},
     "output_type": "execute_result"
    }
   ],
   "source": [
    "b = bits(x)\n",
    "s, e, f = b[1], b[2:12], b[13:64]"
   ]
  },
  {
   "cell_type": "markdown",
   "metadata": {},
   "source": [
    "---"
   ]
  },
  {
   "cell_type": "markdown",
   "metadata": {},
   "source": [
    "## Exercise\n",
    "\n",
    "Suggest some calculations with `x = realmax(Float64)` that lead to strange results."
   ]
  },
  {
   "cell_type": "code",
   "execution_count": 10,
   "metadata": {
    "collapsed": false
   },
   "outputs": [
    {
     "data": {
      "text/plain": [
       "1.7976931348623157e308"
      ]
     },
     "execution_count": 10,
     "metadata": {},
     "output_type": "execute_result"
    }
   ],
   "source": [
    "x = realmax(Float64)"
   ]
  },
  {
   "cell_type": "code",
   "execution_count": 11,
   "metadata": {
    "collapsed": false
   },
   "outputs": [
    {
     "data": {
      "text/plain": [
       "Inf"
      ]
     },
     "execution_count": 11,
     "metadata": {},
     "output_type": "execute_result"
    }
   ],
   "source": [
    "2*x"
   ]
  },
  {
   "cell_type": "code",
   "execution_count": 12,
   "metadata": {
    "collapsed": false
   },
   "outputs": [
    {
     "data": {
      "text/plain": [
       "\"0111111111110000000000000000000000000000000000000000000000000000\""
      ]
     },
     "execution_count": 12,
     "metadata": {},
     "output_type": "execute_result"
    }
   ],
   "source": [
    "bits(Inf)"
   ]
  },
  {
   "cell_type": "code",
   "execution_count": 13,
   "metadata": {
    "collapsed": false
   },
   "outputs": [
    {
     "data": {
      "text/plain": [
       "1.7976931348623157e308"
      ]
     },
     "execution_count": 13,
     "metadata": {},
     "output_type": "execute_result"
    }
   ],
   "source": [
    "x + 1"
   ]
  },
  {
   "cell_type": "code",
   "execution_count": 14,
   "metadata": {
    "collapsed": false
   },
   "outputs": [
    {
     "data": {
      "text/plain": [
       "0.0"
      ]
     },
     "execution_count": 14,
     "metadata": {},
     "output_type": "execute_result"
    }
   ],
   "source": [
    "(x + 1) - x"
   ]
  },
  {
   "cell_type": "code",
   "execution_count": 15,
   "metadata": {
    "collapsed": false
   },
   "outputs": [
    {
     "data": {
      "text/plain": [
       "5.562684646268003e-309"
      ]
     },
     "execution_count": 15,
     "metadata": {},
     "output_type": "execute_result"
    }
   ],
   "source": [
    "1/x"
   ]
  },
  {
   "cell_type": "code",
   "execution_count": 16,
   "metadata": {
    "collapsed": false
   },
   "outputs": [
    {
     "data": {
      "text/plain": [
       "0.0"
      ]
     },
     "execution_count": 16,
     "metadata": {},
     "output_type": "execute_result"
    }
   ],
   "source": [
    "1/(2*x)"
   ]
  },
  {
   "cell_type": "code",
   "execution_count": 17,
   "metadata": {
    "collapsed": false
   },
   "outputs": [
    {
     "data": {
      "text/plain": [
       "2.781342323134e-309"
      ]
     },
     "execution_count": 17,
     "metadata": {},
     "output_type": "execute_result"
    }
   ],
   "source": [
    "(1/x)/2"
   ]
  },
  {
   "cell_type": "code",
   "execution_count": 18,
   "metadata": {
    "collapsed": false
   },
   "outputs": [
    {
     "name": "stdout",
     "output_type": "stream",
     "text": [
      "search: promote promote_type promote_rule promote_shape pointer_from_objref\n",
      "\n"
     ]
    },
    {
     "data": {
      "text/markdown": [
       "```\n",
       "promote(xs...)\n",
       "```\n",
       "\n",
       "Convert all arguments to their common promotion type (if any), and return them all (as a tuple).\n"
      ],
      "text/plain": [
       "```\n",
       "promote(xs...)\n",
       "```\n",
       "\n",
       "Convert all arguments to their common promotion type (if any), and return them all (as a tuple).\n"
      ]
     },
     "execution_count": 18,
     "metadata": {},
     "output_type": "execute_result"
    }
   ],
   "source": [
    "?promote"
   ]
  },
  {
   "cell_type": "markdown",
   "metadata": {},
   "source": [
    "---"
   ]
  },
  {
   "cell_type": "markdown",
   "metadata": {},
   "source": [
    "## Smallest (normalized) `Float64`\n",
    "\n",
    "$$2^{-1022} \\approx 2 \\times 10^{-308}$$"
   ]
  },
  {
   "cell_type": "code",
   "execution_count": 19,
   "metadata": {
    "collapsed": false
   },
   "outputs": [
    {
     "data": {
      "text/plain": [
       "2.2250738585072014e-308"
      ]
     },
     "execution_count": 19,
     "metadata": {},
     "output_type": "execute_result"
    }
   ],
   "source": [
    "x = realmin(Float64)"
   ]
  },
  {
   "cell_type": "code",
   "execution_count": 20,
   "metadata": {
    "collapsed": false
   },
   "outputs": [
    {
     "data": {
      "text/plain": [
       "('0',\"00000000001\",\"0000000000000000000000000000000000000000000000000000\")"
      ]
     },
     "execution_count": 20,
     "metadata": {},
     "output_type": "execute_result"
    }
   ],
   "source": [
    "b = bits(x)\n",
    "s, e, f = b[1], b[2:12], b[13:64]"
   ]
  },
  {
   "cell_type": "markdown",
   "metadata": {},
   "source": [
    "---"
   ]
  },
  {
   "cell_type": "markdown",
   "metadata": {},
   "source": [
    "## Exercise\n",
    "\n",
    "Suggest some calculations with `x = realmin(Float64)` that lead to strange results."
   ]
  },
  {
   "cell_type": "code",
   "execution_count": 21,
   "metadata": {
    "collapsed": false
   },
   "outputs": [
    {
     "data": {
      "text/plain": [
       "2.2250738585072014e-308"
      ]
     },
     "execution_count": 21,
     "metadata": {},
     "output_type": "execute_result"
    }
   ],
   "source": [
    "x = realmin(Float64)"
   ]
  },
  {
   "cell_type": "code",
   "execution_count": 22,
   "metadata": {
    "collapsed": false
   },
   "outputs": [
    {
     "data": {
      "text/plain": [
       "1.1125369292536007e-308"
      ]
     },
     "execution_count": 22,
     "metadata": {},
     "output_type": "execute_result"
    }
   ],
   "source": [
    "x/2"
   ]
  },
  {
   "cell_type": "code",
   "execution_count": 23,
   "metadata": {
    "collapsed": false
   },
   "outputs": [
    {
     "data": {
      "text/plain": [
       "4.49423283715579e307"
      ]
     },
     "execution_count": 23,
     "metadata": {},
     "output_type": "execute_result"
    }
   ],
   "source": [
    "1/x"
   ]
  },
  {
   "cell_type": "code",
   "execution_count": 24,
   "metadata": {
    "collapsed": false
   },
   "outputs": [
    {
     "data": {
      "text/plain": [
       "Inf"
      ]
     },
     "execution_count": 24,
     "metadata": {},
     "output_type": "execute_result"
    }
   ],
   "source": [
    "x^(-1000)"
   ]
  },
  {
   "cell_type": "code",
   "execution_count": 25,
   "metadata": {
    "collapsed": false
   },
   "outputs": [
    {
     "data": {
      "text/plain": [
       "0.0"
      ]
     },
     "execution_count": 25,
     "metadata": {},
     "output_type": "execute_result"
    }
   ],
   "source": [
    "x^1000"
   ]
  },
  {
   "cell_type": "code",
   "execution_count": 27,
   "metadata": {
    "collapsed": false
   },
   "outputs": [
    {
     "data": {
      "text/plain": [
       "1.4916681462400413e-154"
      ]
     },
     "execution_count": 27,
     "metadata": {},
     "output_type": "execute_result"
    }
   ],
   "source": [
    "sqrt(x)"
   ]
  },
  {
   "cell_type": "code",
   "execution_count": 34,
   "metadata": {
    "collapsed": false
   },
   "outputs": [
    {
     "data": {
      "text/plain": [
       "2.0e-323"
      ]
     },
     "execution_count": 34,
     "metadata": {},
     "output_type": "execute_result"
    }
   ],
   "source": [
    "x/2^50"
   ]
  },
  {
   "cell_type": "markdown",
   "metadata": {},
   "source": [
    "---"
   ]
  },
  {
   "cell_type": "markdown",
   "metadata": {},
   "source": [
    "## Denormalized `Float64`\n",
    "\n",
    "The IEEE floating-point standard also allows **denormalized** numbers that are smaller than `realmin(Float64)`. Denormalized floats are represented by $e = 0$."
   ]
  },
  {
   "cell_type": "code",
   "execution_count": 35,
   "metadata": {
    "collapsed": false
   },
   "outputs": [
    {
     "name": "stdout",
     "output_type": "stream",
     "text": [
      " 2.2250738585072014e-308 = 2.0^(-1022)\n",
      " 1.1125369292536007e-308 = 2.0^(-1023)\n",
      " 5.5626846462680035e-309 = 2.0^(-1024)\n",
      " 2.7813423231340017e-309 = 2.0^(-1025)\n",
      " 1.3906711615670009e-309 = 2.0^(-1026)\n",
      " 6.9533558078350043e-310 = 2.0^(-1027)\n",
      " 3.4766779039175022e-310 = 2.0^(-1028)\n",
      " 1.7383389519587511e-310 = 2.0^(-1029)\n",
      " 8.6916947597937554e-311 = 2.0^(-1030)\n",
      " 4.3458473798968777e-311 = 2.0^(-1031)\n",
      " 2.1729236899484389e-311 = 2.0^(-1032)\n",
      " 1.0864618449742194e-311 = 2.0^(-1033)\n",
      " 5.4323092248710971e-312 = 2.0^(-1034)\n",
      " 2.7161546124355486e-312 = 2.0^(-1035)\n",
      " 1.3580773062177743e-312 = 2.0^(-1036)\n",
      " 6.7903865310888714e-313 = 2.0^(-1037)\n",
      " 3.3951932655444357e-313 = 2.0^(-1038)\n",
      " 1.6975966327722179e-313 = 2.0^(-1039)\n",
      " 8.4879831638610893e-314 = 2.0^(-1040)\n",
      " 4.2439915819305446e-314 = 2.0^(-1041)\n",
      " 2.1219957909652723e-314 = 2.0^(-1042)\n",
      " 1.0609978954826362e-314 = 2.0^(-1043)\n",
      " 5.3049894774131808e-315 = 2.0^(-1044)\n",
      " 2.6524947387065904e-315 = 2.0^(-1045)\n",
      " 1.3262473693532952e-315 = 2.0^(-1046)\n",
      " 6.6312368467664760e-316 = 2.0^(-1047)\n",
      " 3.3156184233832380e-316 = 2.0^(-1048)\n",
      " 1.6578092116916190e-316 = 2.0^(-1049)\n",
      " 8.2890460584580950e-317 = 2.0^(-1050)\n",
      " 4.1445230292290475e-317 = 2.0^(-1051)\n",
      " 2.0722615146145237e-317 = 2.0^(-1052)\n",
      " 1.0361307573072619e-317 = 2.0^(-1053)\n",
      " 5.1806537865363094e-318 = 2.0^(-1054)\n",
      " 2.5903268932681547e-318 = 2.0^(-1055)\n",
      " 1.2951634466340773e-318 = 2.0^(-1056)\n",
      " 6.4758172331703867e-319 = 2.0^(-1057)\n",
      " 3.2379086165851934e-319 = 2.0^(-1058)\n",
      " 1.6189543082925967e-319 = 2.0^(-1059)\n",
      " 8.0947715414629834e-320 = 2.0^(-1060)\n",
      " 4.0473857707314917e-320 = 2.0^(-1061)\n",
      " 2.0236928853657458e-320 = 2.0^(-1062)\n",
      " 1.0118464426828729e-320 = 2.0^(-1063)\n",
      " 5.0592322134143646e-321 = 2.0^(-1064)\n",
      " 2.5296161067071823e-321 = 2.0^(-1065)\n",
      " 1.2648080533535912e-321 = 2.0^(-1066)\n",
      " 6.3240402667679558e-322 = 2.0^(-1067)\n",
      " 3.1620201333839779e-322 = 2.0^(-1068)\n",
      " 1.5810100666919889e-322 = 2.0^(-1069)\n",
      " 7.9050503334599447e-323 = 2.0^(-1070)\n",
      " 3.9525251667299724e-323 = 2.0^(-1071)\n",
      " 1.9762625833649862e-323 = 2.0^(-1072)\n",
      " 9.8813129168249309e-324 = 2.0^(-1073)\n",
      " 4.9406564584124654e-324 = 2.0^(-1074)\n"
     ]
    },
    {
     "data": {
      "text/plain": [
       "(0.0,-1075)"
      ]
     },
     "execution_count": 35,
     "metadata": {},
     "output_type": "execute_result"
    }
   ],
   "source": [
    "# Let's compute the smallest Float64 that is not zero\n",
    "\n",
    "e = -1022\n",
    "x = 2.0^e\n",
    "\n",
    "while x != 0.0\n",
    "    @printf \"%24.16e = 2.0^(%5d)\\n\" x e\n",
    "    x /= 2.0\n",
    "    e -= 1\n",
    "end\n",
    "\n",
    "x, e"
   ]
  },
  {
   "cell_type": "code",
   "execution_count": 37,
   "metadata": {
    "collapsed": false
   },
   "outputs": [
    {
     "data": {
      "text/plain": [
       "2.0e-323"
      ]
     },
     "execution_count": 37,
     "metadata": {},
     "output_type": "execute_result"
    }
   ],
   "source": [
    "2.0^-1072"
   ]
  },
  {
   "cell_type": "code",
   "execution_count": 39,
   "metadata": {
    "collapsed": false
   },
   "outputs": [
    {
     "data": {
      "text/plain": [
       "5.0e-324"
      ]
     },
     "execution_count": 39,
     "metadata": {},
     "output_type": "execute_result"
    }
   ],
   "source": [
    "x = 2.0^-1074"
   ]
  },
  {
   "cell_type": "code",
   "execution_count": 40,
   "metadata": {
    "collapsed": false
   },
   "outputs": [
    {
     "data": {
      "text/plain": [
       "0.0"
      ]
     },
     "execution_count": 40,
     "metadata": {},
     "output_type": "execute_result"
    }
   ],
   "source": [
    "x/2"
   ]
  },
  {
   "cell_type": "code",
   "execution_count": 38,
   "metadata": {
    "collapsed": false
   },
   "outputs": [
    {
     "data": {
      "text/plain": [
       "('0',\"00000000000\",\"0000000000000000000000000000000000000000000000000001\")"
      ]
     },
     "execution_count": 38,
     "metadata": {},
     "output_type": "execute_result"
    }
   ],
   "source": [
    "b = bits(x)\n",
    "s, e, f = b[1], b[2:12], b[13:64]"
   ]
  },
  {
   "cell_type": "code",
   "execution_count": 41,
   "metadata": {
    "collapsed": false
   },
   "outputs": [
    {
     "data": {
      "text/plain": [
       "0.0"
      ]
     },
     "execution_count": 41,
     "metadata": {},
     "output_type": "execute_result"
    }
   ],
   "source": [
    "x = 2.0^-1075"
   ]
  },
  {
   "cell_type": "code",
   "execution_count": 42,
   "metadata": {
    "collapsed": false
   },
   "outputs": [
    {
     "data": {
      "text/plain": [
       "('0',\"00000000000\",\"0000000000000000000000000000000000000000000000000000\")"
      ]
     },
     "execution_count": 42,
     "metadata": {},
     "output_type": "execute_result"
    }
   ],
   "source": [
    "b = bits(x)\n",
    "s, e, f = b[1], b[2:12], b[13:64]"
   ]
  },
  {
   "cell_type": "code",
   "execution_count": 43,
   "metadata": {
    "collapsed": false
   },
   "outputs": [
    {
     "data": {
      "text/plain": [
       "5.0e-324"
      ]
     },
     "execution_count": 43,
     "metadata": {},
     "output_type": "execute_result"
    }
   ],
   "source": [
    "x = 2.0^-1074"
   ]
  },
  {
   "cell_type": "code",
   "execution_count": 44,
   "metadata": {
    "collapsed": false
   },
   "outputs": [
    {
     "data": {
      "text/plain": [
       "Inf"
      ]
     },
     "execution_count": 44,
     "metadata": {},
     "output_type": "execute_result"
    }
   ],
   "source": [
    "1/x"
   ]
  },
  {
   "cell_type": "code",
   "execution_count": 45,
   "metadata": {
    "collapsed": false
   },
   "outputs": [
    {
     "data": {
      "text/plain": [
       "4.49423283715579e307"
      ]
     },
     "execution_count": 45,
     "metadata": {},
     "output_type": "execute_result"
    }
   ],
   "source": [
    "1/realmin(Float64)"
   ]
  },
  {
   "cell_type": "code",
   "execution_count": 47,
   "metadata": {
    "collapsed": false
   },
   "outputs": [
    {
     "data": {
      "text/plain": [
       "Inf"
      ]
     },
     "execution_count": 47,
     "metadata": {},
     "output_type": "execute_result"
    }
   ],
   "source": [
    "1/(realmin(Float64)/2^2)"
   ]
  },
  {
   "cell_type": "markdown",
   "metadata": {},
   "source": [
    "---"
   ]
  },
  {
   "cell_type": "markdown",
   "metadata": {},
   "source": [
    "## Smallest (denormalized) `Float64`\n",
    "\n",
    "$$2^{-1074} \\approx 5 \\times 10^{-324}$$"
   ]
  },
  {
   "cell_type": "markdown",
   "metadata": {},
   "source": [
    "---"
   ]
  },
  {
   "cell_type": "markdown",
   "metadata": {},
   "source": [
    "## Other special floats\n",
    "\n",
    "- `0.0` and `-0.0`: $$e_{10} \\cdots e_0 = 0 \\cdots 0 \\quad \\text{and} \\quad f_1 \\cdots f_{52} = 0 \\cdots 0$$\n",
    "- `Inf` and `-Inf`: $$e_{10} \\cdots e_0 = 1 \\cdots 1 \\quad \\text{and} \\quad f_1 \\cdots f_{52} = 0 \\cdots 0$$\n",
    "- `NaN` (not-a-number): $$e_{10} \\cdots e_0 = 1 \\cdots 1 \\quad \\text{and} \\quad f_1 \\cdots f_{52} \\neq 0$$\n",
    "\n",
    "From [Julia Manual: Mathematical Operations and Elementary Functions](http://julia.readthedocs.org/en/latest/manual/mathematical-operations/):\n",
    "\n",
    "- Positive zero is equal but not greater than negative zero.\n",
    "- `Inf` is equal to itself and greater than everything else except `NaN`.\n",
    "- `-Inf` is equal to itself and less then everything else except `NaN`.\n",
    "- `NaN` is not equal to, not less than, and not greater than anything, including itself."
   ]
  },
  {
   "cell_type": "code",
   "execution_count": 48,
   "metadata": {
    "collapsed": false
   },
   "outputs": [
    {
     "data": {
      "text/plain": [
       "\"0000000000000000000000000000000000000000000000000000000000000000\""
      ]
     },
     "execution_count": 48,
     "metadata": {},
     "output_type": "execute_result"
    }
   ],
   "source": [
    "bits(0.0)"
   ]
  },
  {
   "cell_type": "code",
   "execution_count": 49,
   "metadata": {
    "collapsed": false
   },
   "outputs": [
    {
     "data": {
      "text/plain": [
       "\"1000000000000000000000000000000000000000000000000000000000000000\""
      ]
     },
     "execution_count": 49,
     "metadata": {},
     "output_type": "execute_result"
    }
   ],
   "source": [
    "bits(-0.0)"
   ]
  },
  {
   "cell_type": "code",
   "execution_count": 52,
   "metadata": {
    "collapsed": false
   },
   "outputs": [
    {
     "data": {
      "text/plain": [
       "true"
      ]
     },
     "execution_count": 52,
     "metadata": {},
     "output_type": "execute_result"
    }
   ],
   "source": [
    "-0.0 == 0.0"
   ]
  },
  {
   "cell_type": "code",
   "execution_count": 51,
   "metadata": {
    "collapsed": false
   },
   "outputs": [
    {
     "data": {
      "text/plain": [
       "false"
      ]
     },
     "execution_count": 51,
     "metadata": {},
     "output_type": "execute_result"
    }
   ],
   "source": [
    "-0.0 === 0.0"
   ]
  },
  {
   "cell_type": "code",
   "execution_count": 53,
   "metadata": {
    "collapsed": false
   },
   "outputs": [
    {
     "name": "stdout",
     "output_type": "stream",
     "text": [
      "search: === == .== !==\n",
      "\n"
     ]
    },
    {
     "data": {
      "text/markdown": [
       "```\n",
       "is(x, y) -> Bool\n",
       "===(x,y) -> Bool\n",
       "≡(x,y) -> Bool\n",
       "```\n",
       "\n",
       "Determine whether `x` and `y` are identical, in the sense that no program could distinguish them. Compares mutable objects by address in memory, and compares immutable objects (such as numbers) by contents at the bit level. This function is sometimes called `egal`.\n",
       "\n",
       "```rst\n",
       "..  ===(x, y)\n",
       "           ≡(x,y)\n",
       "\n",
       "See the :func:`is` operator\n",
       "```\n"
      ],
      "text/plain": [
       "```\n",
       "is(x, y) -> Bool\n",
       "===(x,y) -> Bool\n",
       "≡(x,y) -> Bool\n",
       "```\n",
       "\n",
       "Determine whether `x` and `y` are identical, in the sense that no program could distinguish them. Compares mutable objects by address in memory, and compares immutable objects (such as numbers) by contents at the bit level. This function is sometimes called `egal`.\n",
       "\n",
       "```rst\n",
       "..  ===(x, y)\n",
       "           ≡(x,y)\n",
       "\n",
       "See the :func:`is` operator\n",
       "```\n"
      ]
     },
     "execution_count": 53,
     "metadata": {},
     "output_type": "execute_result"
    }
   ],
   "source": [
    "?==="
   ]
  },
  {
   "cell_type": "code",
   "execution_count": 54,
   "metadata": {
    "collapsed": false
   },
   "outputs": [
    {
     "data": {
      "text/plain": [
       "\"0111111111110000000000000000000000000000000000000000000000000000\""
      ]
     },
     "execution_count": 54,
     "metadata": {},
     "output_type": "execute_result"
    }
   ],
   "source": [
    "bits(Inf)"
   ]
  },
  {
   "cell_type": "code",
   "execution_count": 55,
   "metadata": {
    "collapsed": false
   },
   "outputs": [
    {
     "data": {
      "text/plain": [
       "\"1111111111110000000000000000000000000000000000000000000000000000\""
      ]
     },
     "execution_count": 55,
     "metadata": {},
     "output_type": "execute_result"
    }
   ],
   "source": [
    "bits(-Inf)"
   ]
  },
  {
   "cell_type": "code",
   "execution_count": 56,
   "metadata": {
    "collapsed": false
   },
   "outputs": [
    {
     "data": {
      "text/plain": [
       "\"0111111111111000000000000000000000000000000000000000000000000000\""
      ]
     },
     "execution_count": 56,
     "metadata": {},
     "output_type": "execute_result"
    }
   ],
   "source": [
    "bits(NaN)"
   ]
  },
  {
   "cell_type": "code",
   "execution_count": 57,
   "metadata": {
    "collapsed": false
   },
   "outputs": [
    {
     "data": {
      "text/plain": [
       "NaN"
      ]
     },
     "execution_count": 57,
     "metadata": {},
     "output_type": "execute_result"
    }
   ],
   "source": [
    "NaN"
   ]
  },
  {
   "cell_type": "code",
   "execution_count": 58,
   "metadata": {
    "collapsed": false
   },
   "outputs": [
    {
     "data": {
      "text/plain": [
       "false"
      ]
     },
     "execution_count": 58,
     "metadata": {},
     "output_type": "execute_result"
    }
   ],
   "source": [
    "NaN == NaN"
   ]
  },
  {
   "cell_type": "code",
   "execution_count": 59,
   "metadata": {
    "collapsed": false
   },
   "outputs": [
    {
     "data": {
      "text/plain": [
       "true"
      ]
     },
     "execution_count": 59,
     "metadata": {},
     "output_type": "execute_result"
    }
   ],
   "source": [
    "NaN != NaN"
   ]
  },
  {
   "cell_type": "code",
   "execution_count": 60,
   "metadata": {
    "collapsed": false
   },
   "outputs": [
    {
     "data": {
      "text/plain": [
       "4-element Array{Float64,1}:\n",
       "   1.0\n",
       "   2.0\n",
       "   3.0\n",
       " NaN  "
      ]
     },
     "execution_count": 60,
     "metadata": {},
     "output_type": "execute_result"
    }
   ],
   "source": [
    "x = [1, 2, 3, NaN]"
   ]
  },
  {
   "cell_type": "code",
   "execution_count": 61,
   "metadata": {
    "collapsed": false
   },
   "outputs": [
    {
     "data": {
      "text/plain": [
       "NaN"
      ]
     },
     "execution_count": 61,
     "metadata": {},
     "output_type": "execute_result"
    }
   ],
   "source": [
    "sum(x)"
   ]
  },
  {
   "cell_type": "code",
   "execution_count": 62,
   "metadata": {
    "collapsed": false
   },
   "outputs": [
    {
     "data": {
      "text/plain": [
       "NaN"
      ]
     },
     "execution_count": 62,
     "metadata": {},
     "output_type": "execute_result"
    }
   ],
   "source": [
    "0.0/0.0"
   ]
  },
  {
   "cell_type": "code",
   "execution_count": 66,
   "metadata": {
    "collapsed": false
   },
   "outputs": [
    {
     "data": {
      "text/plain": [
       "5x5 Array{Float64,2}:\n",
       " 0.602226  0.248673     0.994511  0.701301  0.00587779\n",
       " 0.591325  0.729359     0.931586  0.534998  0.647471  \n",
       " 0.525481  0.506816   NaN         0.611615  0.163879  \n",
       " 0.979074  0.0712258    0.538318  0.147754  0.749601  \n",
       " 0.576588  0.0828709    0.765546  0.161188  0.314293  "
      ]
     },
     "execution_count": 66,
     "metadata": {},
     "output_type": "execute_result"
    }
   ],
   "source": [
    "A = rand(5, 5)\n",
    "A[3,3] = NaN\n",
    "A"
   ]
  },
  {
   "cell_type": "code",
   "execution_count": 67,
   "metadata": {
    "collapsed": false
   },
   "outputs": [
    {
     "data": {
      "text/plain": [
       "5-element Array{Float64,1}:\n",
       "   0.951309\n",
       "   0.925458\n",
       " NaN       \n",
       "   0.902684\n",
       "   0.791582"
      ]
     },
     "execution_count": 67,
     "metadata": {},
     "output_type": "execute_result"
    }
   ],
   "source": [
    "x = rand(5)\n",
    "\n",
    "A*x"
   ]
  },
  {
   "cell_type": "markdown",
   "metadata": {},
   "source": [
    "---"
   ]
  },
  {
   "cell_type": "markdown",
   "metadata": {},
   "source": [
    "## Exercise\n",
    "\n",
    "Suggest some calculations involving `0.0`, `-0.0`, `Inf`, `-Inf`, and `NaN`."
   ]
  },
  {
   "cell_type": "code",
   "execution_count": 70,
   "metadata": {
    "collapsed": false
   },
   "outputs": [
    {
     "data": {
      "text/plain": [
       "-Inf"
      ]
     },
     "execution_count": 70,
     "metadata": {},
     "output_type": "execute_result"
    }
   ],
   "source": [
    "-1/2^1000"
   ]
  },
  {
   "cell_type": "code",
   "execution_count": 71,
   "metadata": {
    "collapsed": false
   },
   "outputs": [
    {
     "data": {
      "text/plain": [
       "-0.0"
      ]
     },
     "execution_count": 71,
     "metadata": {},
     "output_type": "execute_result"
    }
   ],
   "source": [
    "1/-Inf"
   ]
  },
  {
   "cell_type": "code",
   "execution_count": 75,
   "metadata": {
    "collapsed": false
   },
   "outputs": [
    {
     "data": {
      "text/plain": [
       "0.0"
      ]
     },
     "execution_count": 75,
     "metadata": {},
     "output_type": "execute_result"
    }
   ],
   "source": [
    "sign(0.0)"
   ]
  },
  {
   "cell_type": "code",
   "execution_count": 76,
   "metadata": {
    "collapsed": false
   },
   "outputs": [
    {
     "name": "stdout",
     "output_type": "stream",
     "text": [
      "search: sign signif signed Signed signbit significand Unsigned unsigned flipsign\n",
      "\n"
     ]
    },
    {
     "data": {
      "text/markdown": [
       "```\n",
       "sign(x)\n",
       "```\n",
       "\n",
       "Return zero if `x==0` and $x/|x|$ otherwise (i.e., ±1 for real `x`).\n"
      ],
      "text/plain": [
       "```\n",
       "sign(x)\n",
       "```\n",
       "\n",
       "Return zero if `x==0` and $x/|x|$ otherwise (i.e., ±1 for real `x`).\n"
      ]
     },
     "execution_count": 76,
     "metadata": {},
     "output_type": "execute_result"
    }
   ],
   "source": [
    "?sign"
   ]
  },
  {
   "cell_type": "code",
   "execution_count": 77,
   "metadata": {
    "collapsed": false
   },
   "outputs": [
    {
     "data": {
      "text/plain": [
       "-0.0"
      ]
     },
     "execution_count": 77,
     "metadata": {},
     "output_type": "execute_result"
    }
   ],
   "source": [
    "sign(-0.0)"
   ]
  },
  {
   "cell_type": "code",
   "execution_count": 78,
   "metadata": {
    "collapsed": false
   },
   "outputs": [
    {
     "data": {
      "text/plain": [
       "true"
      ]
     },
     "execution_count": 78,
     "metadata": {},
     "output_type": "execute_result"
    }
   ],
   "source": [
    "NaN === NaN"
   ]
  },
  {
   "cell_type": "markdown",
   "metadata": {},
   "source": [
    "---"
   ]
  },
  {
   "cell_type": "markdown",
   "metadata": {},
   "source": [
    "## Machine epsilon `eps(Float64)`\n",
    "\n",
    "`1.0 + eps(Float64)` is the first `Float64` that is larger than `1.0`:\n",
    "\n",
    "$$\\mathtt{eps(Float64)} = 2^{-52} \\approx 2.2 \\times 10^{-16}$$"
   ]
  },
  {
   "cell_type": "code",
   "execution_count": 80,
   "metadata": {
    "collapsed": false
   },
   "outputs": [
    {
     "data": {
      "text/plain": [
       "1.0000000000000002"
      ]
     },
     "execution_count": 80,
     "metadata": {},
     "output_type": "execute_result"
    }
   ],
   "source": [
    "x = nextfloat(1.0)"
   ]
  },
  {
   "cell_type": "code",
   "execution_count": 81,
   "metadata": {
    "collapsed": false
   },
   "outputs": [
    {
     "data": {
      "text/plain": [
       "\"0011111111110000000000000000000000000000000000000000000000000000\""
      ]
     },
     "execution_count": 81,
     "metadata": {},
     "output_type": "execute_result"
    }
   ],
   "source": [
    "bits(1.0)"
   ]
  },
  {
   "cell_type": "code",
   "execution_count": 82,
   "metadata": {
    "collapsed": false
   },
   "outputs": [
    {
     "data": {
      "text/plain": [
       "\"0011111111110000000000000000000000000000000000000000000000000001\""
      ]
     },
     "execution_count": 82,
     "metadata": {},
     "output_type": "execute_result"
    }
   ],
   "source": [
    "bits(x)"
   ]
  },
  {
   "cell_type": "code",
   "execution_count": 84,
   "metadata": {
    "collapsed": false
   },
   "outputs": [
    {
     "data": {
      "text/plain": [
       "2.220446049250313e-16"
      ]
     },
     "execution_count": 84,
     "metadata": {},
     "output_type": "execute_result"
    }
   ],
   "source": [
    "x - 1.0"
   ]
  },
  {
   "cell_type": "code",
   "execution_count": 85,
   "metadata": {
    "collapsed": false
   },
   "outputs": [
    {
     "name": "stdout",
     "output_type": "stream",
     "text": [
      "search: eps RepString @elapsed indexpids expanduser escape_string peakflops\n",
      "\n"
     ]
    },
    {
     "data": {
      "text/markdown": [
       "```\n",
       "eps(::DateTime) -> Millisecond\n",
       "eps(::Date) -> Day\n",
       "```\n",
       "\n",
       "Returns `Millisecond(1)` for `DateTime` values and `Day(1)` for `Date` values.\n",
       "\n",
       "```\n",
       "eps(x)\n",
       "```\n",
       "\n",
       "The distance between `x` and the next larger representable floating-point value of the same `DataType` as `x`.\n",
       "\n",
       "```\n",
       "eps(T)\n",
       "```\n",
       "\n",
       "The distance between 1.0 and the next larger representable floating-point value of `DataType` `T`. Only floating-point types are sensible arguments.\n",
       "\n",
       "```\n",
       "eps()\n",
       "```\n",
       "\n",
       "The distance between 1.0 and the next larger representable floating-point value of `Float64`.\n"
      ],
      "text/plain": [
       "```\n",
       "eps(::DateTime) -> Millisecond\n",
       "eps(::Date) -> Day\n",
       "```\n",
       "\n",
       "Returns `Millisecond(1)` for `DateTime` values and `Day(1)` for `Date` values.\n",
       "\n",
       "```\n",
       "eps(x)\n",
       "```\n",
       "\n",
       "The distance between `x` and the next larger representable floating-point value of the same `DataType` as `x`.\n",
       "\n",
       "```\n",
       "eps(T)\n",
       "```\n",
       "\n",
       "The distance between 1.0 and the next larger representable floating-point value of `DataType` `T`. Only floating-point types are sensible arguments.\n",
       "\n",
       "```\n",
       "eps()\n",
       "```\n",
       "\n",
       "The distance between 1.0 and the next larger representable floating-point value of `Float64`.\n"
      ]
     },
     "execution_count": 85,
     "metadata": {},
     "output_type": "execute_result"
    }
   ],
   "source": [
    "?eps"
   ]
  },
  {
   "cell_type": "code",
   "execution_count": 86,
   "metadata": {
    "collapsed": false
   },
   "outputs": [
    {
     "data": {
      "text/plain": [
       "2.220446049250313e-16"
      ]
     },
     "execution_count": 86,
     "metadata": {},
     "output_type": "execute_result"
    }
   ],
   "source": [
    "eps()"
   ]
  },
  {
   "cell_type": "code",
   "execution_count": 87,
   "metadata": {
    "collapsed": false
   },
   "outputs": [
    {
     "data": {
      "text/plain": [
       "Float16(0.000977)"
      ]
     },
     "execution_count": 87,
     "metadata": {},
     "output_type": "execute_result"
    }
   ],
   "source": [
    "eps(Float16)"
   ]
  },
  {
   "cell_type": "code",
   "execution_count": 88,
   "metadata": {
    "collapsed": false
   },
   "outputs": [
    {
     "data": {
      "text/plain": [
       "1.1920929f-7"
      ]
     },
     "execution_count": 88,
     "metadata": {},
     "output_type": "execute_result"
    }
   ],
   "source": [
    "eps(Float32)"
   ]
  },
  {
   "cell_type": "code",
   "execution_count": 91,
   "metadata": {
    "collapsed": false
   },
   "outputs": [
    {
     "data": {
      "text/plain": [
       "Float64"
      ]
     },
     "execution_count": 91,
     "metadata": {},
     "output_type": "execute_result"
    }
   ],
   "source": [
    "typeof(1e2)"
   ]
  },
  {
   "cell_type": "code",
   "execution_count": 93,
   "metadata": {
    "collapsed": false
   },
   "outputs": [
    {
     "data": {
      "text/plain": [
       "Float32"
      ]
     },
     "execution_count": 93,
     "metadata": {},
     "output_type": "execute_result"
    }
   ],
   "source": [
    "typeof(1f2)"
   ]
  },
  {
   "cell_type": "code",
   "execution_count": 94,
   "metadata": {
    "collapsed": false
   },
   "outputs": [
    {
     "data": {
      "text/plain": [
       "true"
      ]
     },
     "execution_count": 94,
     "metadata": {},
     "output_type": "execute_result"
    }
   ],
   "source": [
    "1.0 + eps() > 1.0"
   ]
  },
  {
   "cell_type": "code",
   "execution_count": 95,
   "metadata": {
    "collapsed": false
   },
   "outputs": [
    {
     "data": {
      "text/plain": [
       "false"
      ]
     },
     "execution_count": 95,
     "metadata": {},
     "output_type": "execute_result"
    }
   ],
   "source": [
    "1.0 + eps()/2 > 1.0"
   ]
  },
  {
   "cell_type": "code",
   "execution_count": 96,
   "metadata": {
    "collapsed": false
   },
   "outputs": [
    {
     "data": {
      "text/plain": [
       "true"
      ]
     },
     "execution_count": 96,
     "metadata": {},
     "output_type": "execute_result"
    }
   ],
   "source": [
    "1.0 + eps()/2 == 1.0"
   ]
  },
  {
   "cell_type": "code",
   "execution_count": 98,
   "metadata": {
    "collapsed": false
   },
   "outputs": [
    {
     "data": {
      "text/plain": [
       "1.0000000000000002"
      ]
     },
     "execution_count": 98,
     "metadata": {},
     "output_type": "execute_result"
    }
   ],
   "source": [
    "x = 1.0 + eps()"
   ]
  },
  {
   "cell_type": "code",
   "execution_count": 99,
   "metadata": {
    "collapsed": false
   },
   "outputs": [
    {
     "data": {
      "text/plain": [
       "('0',\"01111111111\",\"0000000000000000000000000000000000000000000000000001\")"
      ]
     },
     "execution_count": 99,
     "metadata": {},
     "output_type": "execute_result"
    }
   ],
   "source": [
    "b = bits(x)\n",
    "s, e, f = b[1], b[2:12], b[13:64]"
   ]
  },
  {
   "cell_type": "code",
   "execution_count": 100,
   "metadata": {
    "collapsed": false
   },
   "outputs": [
    {
     "data": {
      "text/plain": [
       "('0',\"01111111111\",\"0000000000000000000000000000000000000000000000000000\")"
      ]
     },
     "execution_count": 100,
     "metadata": {},
     "output_type": "execute_result"
    }
   ],
   "source": [
    "x = 1.0\n",
    "b = bits(x)\n",
    "s, e, f = b[1], b[2:12], b[13:64]"
   ]
  },
  {
   "cell_type": "markdown",
   "metadata": {},
   "source": [
    "---"
   ]
  },
  {
   "cell_type": "markdown",
   "metadata": {},
   "source": [
    "## The unit roundoff $u$\n",
    "\n",
    "$u = $ `eps(Float64)/2.0` is the largest possible relative error due to roundoff:\n",
    "\n",
    "$$u = 2^{-53} \\approx 1.1 \\times 10^{-16}$$\n",
    "\n",
    "It is for this reason that `Float64` accuracy is limited to **16 decimal places**."
   ]
  },
  {
   "cell_type": "code",
   "execution_count": 101,
   "metadata": {
    "collapsed": false
   },
   "outputs": [
    {
     "data": {
      "text/plain": [
       "1.1102230246251565e-16"
      ]
     },
     "execution_count": 101,
     "metadata": {},
     "output_type": "execute_result"
    }
   ],
   "source": [
    "u = eps()/2.0"
   ]
  },
  {
   "cell_type": "markdown",
   "metadata": {},
   "source": [
    "---"
   ]
  },
  {
   "cell_type": "markdown",
   "metadata": {},
   "source": [
    "## Floating-point error bounds\n",
    "\n",
    "Let $\\varepsilon =$ relative error computing $C$ using floats.\n",
    "\n",
    "Then\n",
    "\n",
    "$$\n",
    "\\frac{\\mathrm{fl}(C) - C}{C} = \\varepsilon \n",
    "\\qquad \\implies \\qquad\n",
    "\\mathrm{fl}(C) = C(1 + \\varepsilon)\n",
    "$$"
   ]
  },
  {
   "cell_type": "markdown",
   "metadata": {},
   "source": [
    "IEEE floating-point standard guarantees:\n",
    "\n",
    "$$\n",
    "\\begin{split}\n",
    "\\mathrm{fl}(x \\pm y) &= (x \\pm y)(1 + \\varepsilon_1) \\\\\n",
    "\\mathrm{fl}(x \\times y) &= (x \\times y)(1 + \\varepsilon_2) \\\\\n",
    "\\mathrm{fl}(x \\div y) &= (x \\div y)(1 + \\varepsilon_3) \\\\\n",
    "\\end{split}\n",
    "$$\n",
    "\n",
    "where $|\\varepsilon_i| \\leq u$, for $i = 1,2,3$, where $u$ is the unit roundoff.\n"
   ]
  },
  {
   "cell_type": "markdown",
   "metadata": {},
   "source": [
    "---"
   ]
  },
  {
   "cell_type": "markdown",
   "metadata": {},
   "source": [
    "## Roundoff error accumulation\n",
    "\n",
    "Suppose we already have errors in $x$ and $y$:\n",
    "\n",
    "$$\n",
    "\\hat{x} = x(1 + \\varepsilon_1), \\qquad |\\varepsilon_1| \\ll 1\n",
    "$$\n",
    "\n",
    "$$\n",
    "\\hat{y} = y(1 + \\varepsilon_2), \\qquad |\\varepsilon_2| \\ll 1\n",
    "$$"
   ]
  },
  {
   "cell_type": "markdown",
   "metadata": {},
   "source": [
    "**Multiplication:**\n",
    "\n",
    "$$\n",
    "\\begin{split}\n",
    "\\hat{x}\\hat{y} \n",
    "&= x(1 + \\varepsilon_1) y(1 + \\varepsilon_2)\\\\\n",
    "&= xy (1 + \\varepsilon_1 + \\varepsilon_2 + \\varepsilon_1 \\varepsilon_2)\\\\\n",
    "&= xy (1 + \\hat{\\varepsilon}),\\\\\n",
    "\\end{split}\n",
    "$$\n",
    "\n",
    "where $\\hat{\\varepsilon} = \\varepsilon_1 + \\varepsilon_2 + \\varepsilon_1 \\varepsilon_2$, so $|\\hat{\\varepsilon}| \\ll 1$.\n",
    "\n",
    "Now let's compare the true value of $xy$ with the computed value of $\\mathrm{fl}(\\hat{x}\\hat{y})$.\n",
    "\n",
    "We have\n",
    "\n",
    "$$\n",
    "\\begin{split}\n",
    "\\mathrm{fl}(\\hat{x}\\hat{y}) \n",
    "&= \\hat{x}\\hat{y}(1 + \\varepsilon_3) \\qquad \\qquad (|\\varepsilon_3| \\leq u) \\\\\n",
    "&= xy (1 + \\hat{\\varepsilon})(1 + \\varepsilon_3) \\\\\n",
    "&= xy (1 + \\hat\\varepsilon + \\varepsilon_3 + \\hat\\varepsilon \\varepsilon_3)\\\\\n",
    "&= xy (1 + \\varepsilon),\\\\\n",
    "\\end{split}\n",
    "$$\n",
    "\n",
    "where $\\varepsilon = \\hat\\varepsilon + \\varepsilon_3 + \\hat\\varepsilon \\varepsilon_3$, so $|\\varepsilon| \\ll 1$."
   ]
  },
  {
   "cell_type": "markdown",
   "metadata": {},
   "source": [
    "**Division:**\n",
    "\n",
    "$$\n",
    "\\frac{\\hat{x}}{\\hat{y}} = \\frac{x(1 + \\varepsilon_1)}{y(1 + \\varepsilon_2)}\n",
    "\\approx \\frac{x}{y}(1 + \\varepsilon_1)(1 - \\varepsilon_2)\n",
    "= \\frac{x}{y} (1 + \\varepsilon_1 - \\varepsilon_2 - \\varepsilon_1 \\varepsilon_2)\\\\\n",
    "= \\frac{x}{y} (1 + \\hat{\\varepsilon}),\\\\\n",
    "$$\n",
    "\n",
    "where $\\hat{\\varepsilon} = \\varepsilon_1 - \\varepsilon_2 - \\varepsilon_1 \\varepsilon_2$, so $|\\hat{\\varepsilon}| \\ll 1$.\n",
    "\n",
    "Therefore, using a similar argument as above, we have\n",
    "\n",
    "$$\n",
    "\\mathrm{fl}\\left(\\frac{\\hat{x}}{\\hat{y}}\\right) = \\frac{x}{y} (1 + \\varepsilon), \\qquad \\text{where $|\\varepsilon| \\ll 1$}.\n",
    "$$"
   ]
  },
  {
   "cell_type": "markdown",
   "metadata": {},
   "source": [
    "**Addition and subtraction:**\n",
    "\n",
    "$$\n",
    "\\begin{split}\n",
    "\\hat{x} + \\hat{y} \n",
    "&= x(1 + \\varepsilon_1) + y(1 + \\varepsilon_2) \\\\\n",
    "&= (x + y) + x \\varepsilon_1 + y \\varepsilon_2 \\\\\n",
    "&= (x + y)\\left(1 + \\frac{x}{x+y} \\varepsilon_1 + \\frac{y}{x+y} \\varepsilon_2 \\right) \\\\\n",
    "&= (x + y)\\left(1 + \\hat\\varepsilon \\right), \\\\\n",
    "\\end{split}\n",
    "$$\n",
    "\n",
    "where $\\hat\\varepsilon = \\frac{x}{x+y} \\varepsilon_1 + \\frac{y}{x+y} \\varepsilon_2$.\n",
    "\n",
    "If $x + y$ is very small compared to $x$ or $y$, then $\\hat\\varepsilon$ could be very large."
   ]
  },
  {
   "cell_type": "markdown",
   "metadata": {},
   "source": [
    "---"
   ]
  },
  {
   "cell_type": "markdown",
   "metadata": {},
   "source": [
    "### Example:\n",
    "\n",
    "Suppose\n",
    "\n",
    "$$\n",
    "\\begin{align}\n",
    "x &= 1.23450, & \\hat{x} &= 1.23451, \\\\\n",
    "y &= -1.23460, & \\hat{y} &= -1.23459. \\\\\n",
    "\\end{align}\n",
    "$$\n",
    "\n",
    "Then:\n",
    "\n",
    "$$\n",
    "\\hat{x} = x(1 + \\varepsilon_1), \\qquad \\text{where $|\\varepsilon_1| \\approx 8 \\times 10^{-6}$};\n",
    "$$\n",
    "\n",
    "$$\n",
    "\\hat{y} = y(1 + \\varepsilon_2), \\qquad \\text{where $|\\varepsilon_2| \\approx 8 \\times 10^{-6}$}.\n",
    "$$"
   ]
  },
  {
   "cell_type": "code",
   "execution_count": 3,
   "metadata": {
    "collapsed": false
   },
   "outputs": [
    {
     "data": {
      "text/plain": [
       "8.100445524556916e-6"
      ]
     },
     "execution_count": 3,
     "metadata": {},
     "output_type": "execute_result"
    }
   ],
   "source": [
    "x = 1.23450\n",
    "xhat = 1.23451\n",
    "ɛ₁ = (x - xhat)/x\n",
    "abs(ɛ₁)"
   ]
  },
  {
   "cell_type": "code",
   "execution_count": 4,
   "metadata": {
    "collapsed": false
   },
   "outputs": [
    {
     "data": {
      "text/plain": [
       "8.09978940534867e-6"
      ]
     },
     "execution_count": 4,
     "metadata": {},
     "output_type": "execute_result"
    }
   ],
   "source": [
    "y = -1.23460\n",
    "yhat = -1.23459\n",
    "ɛ₂ = (y - yhat)/y\n",
    "abs(ɛ₂)"
   ]
  },
  {
   "cell_type": "code",
   "execution_count": 5,
   "metadata": {
    "collapsed": false
   },
   "outputs": [
    {
     "data": {
      "text/plain": [
       "-8.000000000008001e-5"
      ]
     },
     "execution_count": 5,
     "metadata": {},
     "output_type": "execute_result"
    }
   ],
   "source": [
    "xhat + yhat"
   ]
  },
  {
   "cell_type": "code",
   "execution_count": 6,
   "metadata": {
    "collapsed": false
   },
   "outputs": [
    {
     "data": {
      "text/plain": [
       "-9.999999999998899e-5"
      ]
     },
     "execution_count": 6,
     "metadata": {},
     "output_type": "execute_result"
    }
   ],
   "source": [
    "x + y"
   ]
  },
  {
   "cell_type": "code",
   "execution_count": 7,
   "metadata": {
    "collapsed": false
   },
   "outputs": [
    {
     "data": {
      "text/plain": [
       "0.19999999999911183"
      ]
     },
     "execution_count": 7,
     "metadata": {},
     "output_type": "execute_result"
    }
   ],
   "source": [
    "ɛ = ((x + y) - (xhat + yhat))/(x + y)"
   ]
  },
  {
   "cell_type": "markdown",
   "metadata": {},
   "source": [
    "Therefore,\n",
    "\n",
    "$$\n",
    "\\hat{x} + \\hat{y} = (x+y)(1 + \\varepsilon), \\qquad \\text{where $|\\varepsilon| \\approx 2 \\times 10^{-1}$}!!!\n",
    "$$\n",
    "\n",
    "This is called **catastrophic cancellation** and can lead to a sudden loss of accuracy in a calculation."
   ]
  },
  {
   "cell_type": "markdown",
   "metadata": {},
   "source": [
    "---"
   ]
  },
  {
   "cell_type": "markdown",
   "metadata": {},
   "source": [
    "## Backward error analysis\n",
    "\n",
    "We say that a computation $C(x_1,\\ldots,x_n)$ is **backwards stable** if\n",
    "\n",
    "$$\n",
    "\\mathrm{fl}(C(x_1,\\ldots,x_n)) = C(\\bar{x_1},\\ldots,\\bar{x_n}),\n",
    "$$\n",
    "\n",
    "where the error in $\\bar{x_1},\\ldots,\\bar{x_n}$ is a **small multiple** of the unit roundoff $u$."
   ]
  },
  {
   "cell_type": "markdown",
   "metadata": {},
   "source": [
    "---"
   ]
  },
  {
   "cell_type": "markdown",
   "metadata": {},
   "source": [
    "## Example:\n",
    "\n",
    "Suppose the computation $C(A, b)$ returns the solution $x$ to $Ax = b$ and \n",
    "\n",
    "$$\n",
    "\\hat{x} = \\mathrm{fl}(C(A, b)) = C(\\hat{A}, \\hat{b}).\n",
    "$$\n",
    "\n",
    "Then $\\hat{A} \\hat{x} = \\hat{b}$.\n",
    "\n",
    "If $C(A, b)$ is **backwards stable**, then $(A + \\delta A)\\hat{x} = b + \\delta b$, where\n",
    "\n",
    "$$\n",
    "\\frac{\\lVert \\delta A \\rVert}{\\lVert A \\rVert} \\quad \\text{and} \\quad\n",
    "\\frac{\\lVert \\delta b \\rVert}{\\lVert b \\rVert} \\quad \\text{are small multiples of $u$}.\n",
    "$$\n",
    "\n",
    "If $A$ is also **well-conditioned**, then\n",
    "\n",
    "$$\n",
    "\\frac{\\lVert \\delta x \\rVert}{\\lVert x \\rVert}\n",
    "\\leq \n",
    "\\kappa(A) \\left( \\frac{\\lVert \\delta A \\rVert}{\\lVert A \\rVert} + \\frac{\\lVert \\delta b \\rVert}{\\lVert b \\rVert} \\right)\n",
    "$$\n",
    "\n",
    "implies that $\\frac{\\lVert \\delta x \\rVert}{\\lVert x \\rVert}$ is also a small multiple of $u$, so $\\hat{x}$ is an **accurate approximation** of the true solution $x$."
   ]
  },
  {
   "cell_type": "markdown",
   "metadata": {},
   "source": [
    "---"
   ]
  },
  {
   "cell_type": "markdown",
   "metadata": {},
   "source": [
    "## Residual test\n",
    "\n",
    "After computing $\\hat{x} = \\mathrm{fl}(C(A, b))$, we can check that the computation is **backward stable** by finding the **residual**,\n",
    "\n",
    "$$\n",
    "\\hat{r} = b - A \\hat{x}.\n",
    "$$\n",
    "\n",
    "Then $A \\hat{x} = b + \\delta b$, where $\\delta b = -\\hat{r}$.\n",
    "\n",
    "If $\\frac{\\lVert \\delta b \\rVert}{\\lVert b \\rVert}$ is a small multiple of $u$, then computation of $\\hat{x}$ was **backward stable**."
   ]
  },
  {
   "cell_type": "markdown",
   "metadata": {},
   "source": [
    "---"
   ]
  },
  {
   "cell_type": "markdown",
   "metadata": {},
   "source": [
    "## Summary\n",
    "\n",
    "To verify accuracy of $\\hat{x}$, we need to check **two things**:\n",
    "\n",
    "1. $\\hat{x} = \\mathrm{fl}(C(A, b))$ is **backward stable**.\n",
    "2. $A$ is **well-conditioned**."
   ]
  },
  {
   "cell_type": "markdown",
   "metadata": {},
   "source": [
    "---"
   ]
  }
 ],
 "metadata": {
  "anaconda-cloud": {},
  "kernelspec": {
   "display_name": "Julia 0.4.7",
   "language": "julia",
   "name": "julia-0.4"
  },
  "language_info": {
   "file_extension": ".jl",
   "mimetype": "application/julia",
   "name": "julia",
   "version": "0.4.7"
  }
 },
 "nbformat": 4,
 "nbformat_minor": 0
}
