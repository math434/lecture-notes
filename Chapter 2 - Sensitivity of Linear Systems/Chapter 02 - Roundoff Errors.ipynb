{
 "cells": [
  {
   "cell_type": "markdown",
   "metadata": {},
   "source": [
    "## Floating-point arithmetic\n",
    "\n",
    "Real numbers are stored on a computer following the IEEE floating-point standard:\n",
    "\n",
    "1. **half precision** using 16 bits (Julia type: `Float16`)\n",
    "2. **single precision** using 32 bits (Julia type: `Float32`)\n",
    "3. **double precision** using 64 bits (Julia type: `Float64`)\n",
    "\n",
    "Julia also has an **arbitrary precision** floating-point data type called `BigFloat`. It is excellent if you need more precision, but it is also much slower."
   ]
  },
  {
   "cell_type": "code",
   "execution_count": 1,
   "metadata": {
    "collapsed": false
   },
   "outputs": [
    {
     "name": "stderr",
     "output_type": "stream",
     "text": [
      "INFO: Loading help data...\n"
     ]
    },
    {
     "name": "stdout",
     "output_type": "stream",
     "text": [
      "DataType   : FloatingPoint\n",
      "  supertype: Real\n",
      "  subtypes : {BigFloat,Float16,Float32,Float64}\n"
     ]
    }
   ],
   "source": [
    "?FloatingPoint"
   ]
  },
  {
   "cell_type": "markdown",
   "metadata": {},
   "source": [
    "## Description of IEEE double floating-point format (`Float64`)\n",
    "\n",
    "Suppose $x$ is a floating-point number stored in the following 64-bits:\n",
    "\n",
    "| 1 | 2 | $\\cdots$ | 12 | 13 | $\\cdots$ | 64 |\n",
    "|:-:|:-:|:--------:|:--:|:--:|:--------:|:--:|\n",
    "|$s$|$e_{10}$| $\\cdots$ |$e_0$|$f_1$|$\\cdots$|$f_{52}$|\n",
    "\n",
    "- 1 bit $s$ represents the **sign**\n",
    "- 11 bits $e_{10} \\cdots e_{0}$ represent the **exponent**\n",
    "- 52 bits $f_1 \\cdots f_{52}$ represent the **fraction** (a.k.a. the mantissa or significand)\n",
    "\n",
    "Then\n",
    "\n",
    "$$ x = (-1)^s \\left[1.f_1 \\cdots f_{52}\\right]_2 \\times 2^{(e-1023)}.$$\n",
    "\n",
    "Notes: \n",
    "\n",
    "- $x$ is **normalized** to have its first digit nonzero.\n",
    "- $e = \\left[e_{10} \\cdots e_{0}\\right]_2 = e_{10} 2^{10} + \\cdots + e_1 2^1 + e_0 2^0 \\in \\left[0, 2^{11}-1\\right] = [0, 2047]$\n",
    "- $e = 0$ and $e = 2047$ are reserved for special floating-point values, so \n",
    "\n",
    "$$e \\in [1, 2046]$$\n",
    "\n",
    "- the \"$-1023$\" in the exponent is called the **bias**:  $e-1023 \\in [-1022,1023]$\n",
    "- $\\left[1.f_1 \\cdots f_{52}\\right]_2 = 1 + \\frac{f_1}{2^1} + \\frac{f_2}{2^2} + \\cdots + \\frac{f_{52}}{2^{52}}$\n"
   ]
  },
  {
   "cell_type": "markdown",
   "metadata": {},
   "source": [
    "## Example\n",
    "\n",
    "$$\n",
    "\\begin{split}\n",
    "x & = -[1.101101]_2 \\times 2^{(1026-1023)} \\\\\n",
    "  & = -[1.101101]_2 \\times 2^{3} \\\\\n",
    "  & = -[1101.101]_2 \\\\\n",
    "  & = -\\left(1 \\cdot 8 + 1 \\cdot 4 + 0 \\cdot 2 + 1 \\cdot 1 + 1 \\cdot \\frac{1}{2} + 0 \\cdot \\frac{1}{4} + 1 \\cdot \\frac{1}{8}\\right)  \\\\\n",
    "  & = -13.625\n",
    "\\end{split}\n",
    "$$"
   ]
  },
  {
   "cell_type": "code",
   "execution_count": 2,
   "metadata": {
    "collapsed": false
   },
   "outputs": [
    {
     "name": "stdout",
     "output_type": "stream",
     "text": [
      "Base.bits(n)\n",
      "\n",
      "   A string giving the literal bit representation of a number.\n"
     ]
    }
   ],
   "source": [
    "?bits"
   ]
  },
  {
   "cell_type": "code",
   "execution_count": 3,
   "metadata": {
    "collapsed": false
   },
   "outputs": [
    {
     "data": {
      "text/plain": [
       "\"1100000000101011010000000000000000000000000000000000000000000000\""
      ]
     },
     "execution_count": 3,
     "metadata": {},
     "output_type": "execute_result"
    }
   ],
   "source": [
    "x = -13.625\n",
    "bits(x)"
   ]
  },
  {
   "cell_type": "code",
   "execution_count": 4,
   "metadata": {
    "collapsed": false
   },
   "outputs": [
    {
     "data": {
      "text/plain": [
       "('1',\"10000000010\",\"1011010000000000000000000000000000000000000000000000\")"
      ]
     },
     "execution_count": 4,
     "metadata": {},
     "output_type": "execute_result"
    }
   ],
   "source": [
    "s = bits(x)[1]\n",
    "e = bits(x)[2:12]\n",
    "f = bits(x)[13:64]\n",
    "s, e, f"
   ]
  },
  {
   "cell_type": "code",
   "execution_count": 5,
   "metadata": {
    "collapsed": false
   },
   "outputs": [
    {
     "data": {
      "text/plain": [
       "1026"
      ]
     },
     "execution_count": 5,
     "metadata": {},
     "output_type": "execute_result"
    }
   ],
   "source": [
    "int(0b10000000010)"
   ]
  },
  {
   "cell_type": "markdown",
   "metadata": {},
   "source": [
    "## Example\n",
    "\n",
    "Even if a number can be represented exactly in base-10 with a finite number of digits, it may require an infinite number of digits in base-2.\n",
    "\n",
    "$$\n",
    "0.1 = \\left[0.000110011001\\ldots\\right]_2 = \\left[1.\\overline{1001}\\right]_2 \\times 2^{-4}\n",
    "$$\n",
    "\n",
    "Therefore, $0.1$ cannot be represented exactly as a floating-point number."
   ]
  },
  {
   "cell_type": "code",
   "execution_count": 6,
   "metadata": {
    "collapsed": false
   },
   "outputs": [
    {
     "data": {
      "text/plain": [
       "('0',\"01111111011\",\"1001100110011001100110011001100110011001100110011010\")"
      ]
     },
     "execution_count": 6,
     "metadata": {},
     "output_type": "execute_result"
    }
   ],
   "source": [
    "x = 0.1\n",
    "s = bits(x)[1]\n",
    "e = bits(x)[2:12]\n",
    "f = bits(x)[13:64]\n",
    "s, e, f"
   ]
  },
  {
   "cell_type": "code",
   "execution_count": 7,
   "metadata": {
    "collapsed": false
   },
   "outputs": [
    {
     "data": {
      "text/plain": [
       "-4"
      ]
     },
     "execution_count": 7,
     "metadata": {},
     "output_type": "execute_result"
    }
   ],
   "source": [
    "int(0b01111111011) - 1023"
   ]
  },
  {
   "cell_type": "code",
   "execution_count": 8,
   "metadata": {
    "collapsed": false
   },
   "outputs": [
    {
     "data": {
      "text/plain": [
       "1.000000000000000055511151231257827021181583404541015625e-01 with 256 bits of precision"
      ]
     },
     "execution_count": 8,
     "metadata": {},
     "output_type": "execute_result"
    }
   ],
   "source": [
    "x = big(0.1)"
   ]
  },
  {
   "cell_type": "markdown",
   "metadata": {},
   "source": [
    "## Limits of floating-point numbers\n",
    "\n",
    "- **Largest** `Float64` $= \\left(2 - 2^{-52}\\right) \\times 2^{1023} \\approx 2 \\times 10^{308}$\n",
    "- **Smallest positive normalized** `Float64` $= 2^{-1022} \\approx 2 \\times 10^{-308}$"
   ]
  },
  {
   "cell_type": "code",
   "execution_count": 9,
   "metadata": {
    "collapsed": false
   },
   "outputs": [
    {
     "data": {
      "text/plain": [
       "1.7976931348623157e308"
      ]
     },
     "execution_count": 9,
     "metadata": {},
     "output_type": "execute_result"
    }
   ],
   "source": [
    "x = realmax(Float64)"
   ]
  },
  {
   "cell_type": "code",
   "execution_count": 10,
   "metadata": {
    "collapsed": false
   },
   "outputs": [
    {
     "data": {
      "text/plain": [
       "\"0111111111101111111111111111111111111111111111111111111111111111\""
      ]
     },
     "execution_count": 10,
     "metadata": {},
     "output_type": "execute_result"
    }
   ],
   "source": [
    "bits(x)"
   ]
  },
  {
   "cell_type": "code",
   "execution_count": 11,
   "metadata": {
    "collapsed": false
   },
   "outputs": [
    {
     "data": {
      "text/plain": [
       "2.2250738585072014e-308"
      ]
     },
     "execution_count": 11,
     "metadata": {},
     "output_type": "execute_result"
    }
   ],
   "source": [
    "x = realmin(Float64)"
   ]
  },
  {
   "cell_type": "code",
   "execution_count": 12,
   "metadata": {
    "collapsed": false
   },
   "outputs": [
    {
     "data": {
      "text/plain": [
       "\"0000000000010000000000000000000000000000000000000000000000000000\""
      ]
     },
     "execution_count": 12,
     "metadata": {},
     "output_type": "execute_result"
    }
   ],
   "source": [
    "bits(x)"
   ]
  },
  {
   "cell_type": "markdown",
   "metadata": {},
   "source": [
    "The IEEE floating-point standard also allows **de-normalized** numbers that are smaller than `realmin(Float64)`. De-normalized floats are represented by $e = 0$."
   ]
  },
  {
   "cell_type": "code",
   "execution_count": 3,
   "metadata": {
    "collapsed": false
   },
   "outputs": [
    {
     "name": "stdout",
     "output_type": "stream",
     "text": [
      " 2.2250738585072014e-308 = 2.0^(-1022)\n",
      " 1.1125369292536007e-308 = 2.0^(-1023)\n",
      " 5.5626846462680035e-309 = 2.0^(-1024)\n",
      " 2.7813423231340017e-309 = 2.0^(-1025)\n",
      " 1.3906711615670009e-309 = 2.0^(-1026)\n",
      " 6.9533558078350043e-310 = 2.0^(-1027)\n",
      " 3.4766779039175022e-310 = 2.0^(-1028)\n",
      " 1.7383389519587511e-310 = 2.0^(-1029)\n",
      " 8.6916947597937554e-311 = 2.0^(-1030)\n",
      " 4.3458473798968777e-311 = 2.0^(-1031)\n",
      " 2.1729236899484389e-311 = 2.0^(-1032)\n",
      " 1.0864618449742194e-311 = 2.0^(-1033)\n",
      " 5.4323092248710971e-312 = 2.0^(-1034)\n",
      " 2.7161546124355486e-312 = 2.0^(-1035)\n",
      " 1.3580773062177743e-312 = 2.0^(-1036)\n",
      " 6.7903865310888714e-313 = 2.0^(-1037)\n",
      " 3.3951932655444357e-313 = 2.0^(-1038)\n",
      " 1.6975966327722179e-313 = 2.0^(-1039)\n",
      " 8.4879831638610893e-314 = 2.0^(-1040)\n",
      " 4.2439915819305446e-314 = 2.0^(-1041)\n",
      " 2.1219957909652723e-314 = 2.0^(-1042)\n",
      " 1.0609978954826362e-314 = 2.0^(-1043)\n",
      " 5.3049894774131808e-315 = 2.0^(-1044)\n",
      " 2.6524947387065904e-315 = 2.0^(-1045)\n",
      " 1.3262473693532952e-315 = 2.0^(-1046)\n",
      " 6.6312368467664760e-316 = 2.0^(-1047)\n",
      " 3.3156184233832380e-316 = 2.0^(-1048)\n",
      " 1.6578092116916190e-316 = 2.0^(-1049)\n",
      " 8.2890460584580950e-317 = 2.0^(-1050)\n",
      " 4.1445230292290475e-317 = 2.0^(-1051)\n",
      " 2.0722615146145237e-317 = 2.0^(-1052)\n",
      " 1.0361307573072619e-317 = 2.0^(-1053)\n",
      " 5.1806537865363094e-318 = 2.0^(-1054)\n",
      " 2.5903268932681547e-318 = 2.0^(-1055)\n",
      " 1.2951634466340773e-318 = 2.0^(-1056)\n",
      " 6.4758172331703867e-319 = 2.0^(-1057)\n",
      " 3.2379086165851934e-319 = 2.0^(-1058)\n",
      " 1.6189543082925967e-319 = 2.0^(-1059)\n",
      " 8.0947715414629834e-320 = 2.0^(-1060)\n",
      " 4.0473857707314917e-320 = 2.0^(-1061)\n",
      " 2.0236928853657458e-320 = 2.0^(-1062)\n",
      " 1.0118464426828729e-320 = 2.0^(-1063)\n",
      " 5.0592322134143646e-321 = 2.0^(-1064)\n",
      " 2.5296161067071823e-321 = 2.0^(-1065)\n",
      " 1.2648080533535912e-321 = 2.0^(-1066)\n",
      " 6.3240402667679558e-322 = 2.0^(-1067)\n",
      " 3.1620201333839779e-322 = 2.0^(-1068)\n",
      " 1.5810100666919889e-322 = 2.0^(-1069)\n",
      " 7.9050503334599447e-323 = 2.0^(-1070)\n",
      " 3.9525251667299724e-323 = 2.0^(-1071)\n",
      " 1.9762625833649862e-323 = 2.0^(-1072)\n",
      " 9.8813129168249309e-324 = 2.0^(-1073)\n",
      " 4.9406564584124654e-324 = 2.0^(-1074)\n"
     ]
    },
    {
     "data": {
      "text/plain": [
       "(0.0,-1075)"
      ]
     },
     "execution_count": 3,
     "metadata": {},
     "output_type": "execute_result"
    }
   ],
   "source": [
    "# Let's compute the smallest Float64 that is not zero\n",
    "\n",
    "e = -1022\n",
    "x = 2.0^e\n",
    "\n",
    "while x != 0.0\n",
    "    @printf \"%24.16e = 2.0^(%5d)\\n\" x e\n",
    "    x /= 2.0\n",
    "    e -= 1\n",
    "end\n",
    "\n",
    "x, e"
   ]
  },
  {
   "cell_type": "code",
   "execution_count": 14,
   "metadata": {
    "collapsed": false
   },
   "outputs": [
    {
     "data": {
      "text/plain": [
       "(5.0e-324,0.0)"
      ]
     },
     "execution_count": 14,
     "metadata": {},
     "output_type": "execute_result"
    }
   ],
   "source": [
    "2.0^-1074, 2.0^-1075"
   ]
  },
  {
   "cell_type": "markdown",
   "metadata": {},
   "source": [
    "Therefore:\n",
    "\n",
    "- **Smallest positive de-normalized** `Float64` $= 2^{-1074} \\approx 5 \\times 10^{-324}$"
   ]
  },
  {
   "cell_type": "code",
   "execution_count": 15,
   "metadata": {
    "collapsed": false
   },
   "outputs": [
    {
     "data": {
      "text/plain": [
       "\"0000000000000000000000000000000000000000000000000000000000000001\""
      ]
     },
     "execution_count": 15,
     "metadata": {},
     "output_type": "execute_result"
    }
   ],
   "source": [
    "bits(2.0^-1074)"
   ]
  },
  {
   "cell_type": "markdown",
   "metadata": {},
   "source": [
    "## Other special floats\n",
    "\n",
    "- `0.0` and `-0.0`: $$e_{10} \\cdots e_0 = 0 \\cdots 0 \\quad \\text{and} \\quad f_1 \\cdots f_{52} = 0 \\cdots 0$$\n",
    "- `Inf` and `-Inf`: $$e_{10} \\cdots e_0 = 1 \\cdots 1 \\quad \\text{and} \\quad f_1 \\cdots f_{52} = 0 \\cdots 0$$\n",
    "- `NaN` (not-a-number): $$e_{10} \\cdots e_0 = 1 \\cdots 1 \\quad \\text{and} \\quad f_1 \\cdots f_{52} \\neq 0$$\n",
    "\n",
    "From [Julia Manual: Mathematical Operations and Elementary Functions](http://julia.readthedocs.org/en/latest/manual/mathematical-operations/):\n",
    "\n",
    "- `Inf` is equal to itself and greater than everything else except `NaN`.\n",
    "- `-Inf` is equal to itself and less then everything else except `NaN`.\n",
    "- `NaN` is not equal to, not less than, and not greater than anything, including itself."
   ]
  },
  {
   "cell_type": "code",
   "execution_count": 16,
   "metadata": {
    "collapsed": false
   },
   "outputs": [
    {
     "data": {
      "text/plain": [
       "\"0000000000000000000000000000000000000000000000000000000000000000\""
      ]
     },
     "execution_count": 16,
     "metadata": {},
     "output_type": "execute_result"
    }
   ],
   "source": [
    "bits(0.0)"
   ]
  },
  {
   "cell_type": "code",
   "execution_count": 17,
   "metadata": {
    "collapsed": false
   },
   "outputs": [
    {
     "data": {
      "text/plain": [
       "\"1000000000000000000000000000000000000000000000000000000000000000\""
      ]
     },
     "execution_count": 17,
     "metadata": {},
     "output_type": "execute_result"
    }
   ],
   "source": [
    "bits(-0.0)"
   ]
  },
  {
   "cell_type": "code",
   "execution_count": 18,
   "metadata": {
    "collapsed": false
   },
   "outputs": [
    {
     "data": {
      "text/plain": [
       "\"0111111111110000000000000000000000000000000000000000000000000000\""
      ]
     },
     "execution_count": 18,
     "metadata": {},
     "output_type": "execute_result"
    }
   ],
   "source": [
    "bits(Inf)"
   ]
  },
  {
   "cell_type": "code",
   "execution_count": 19,
   "metadata": {
    "collapsed": false
   },
   "outputs": [
    {
     "data": {
      "text/plain": [
       "\"1111111111110000000000000000000000000000000000000000000000000000\""
      ]
     },
     "execution_count": 19,
     "metadata": {},
     "output_type": "execute_result"
    }
   ],
   "source": [
    "bits(-Inf)"
   ]
  },
  {
   "cell_type": "code",
   "execution_count": 20,
   "metadata": {
    "collapsed": false
   },
   "outputs": [
    {
     "data": {
      "text/plain": [
       "\"0111111111111000000000000000000000000000000000000000000000000000\""
      ]
     },
     "execution_count": 20,
     "metadata": {},
     "output_type": "execute_result"
    }
   ],
   "source": [
    "bits(NaN)"
   ]
  },
  {
   "cell_type": "code",
   "execution_count": 21,
   "metadata": {
    "collapsed": false
   },
   "outputs": [
    {
     "data": {
      "text/plain": [
       "0.0"
      ]
     },
     "execution_count": 21,
     "metadata": {},
     "output_type": "execute_result"
    }
   ],
   "source": [
    "1.0*0.0"
   ]
  },
  {
   "cell_type": "code",
   "execution_count": 22,
   "metadata": {
    "collapsed": false
   },
   "outputs": [
    {
     "data": {
      "text/plain": [
       "-0.0"
      ]
     },
     "execution_count": 22,
     "metadata": {},
     "output_type": "execute_result"
    }
   ],
   "source": [
    "-1.0*0.0"
   ]
  },
  {
   "cell_type": "code",
   "execution_count": 23,
   "metadata": {
    "collapsed": false
   },
   "outputs": [
    {
     "data": {
      "text/plain": [
       "Inf"
      ]
     },
     "execution_count": 23,
     "metadata": {},
     "output_type": "execute_result"
    }
   ],
   "source": [
    "1.0/0.0"
   ]
  },
  {
   "cell_type": "code",
   "execution_count": 24,
   "metadata": {
    "collapsed": false
   },
   "outputs": [
    {
     "data": {
      "text/plain": [
       "-Inf"
      ]
     },
     "execution_count": 24,
     "metadata": {},
     "output_type": "execute_result"
    }
   ],
   "source": [
    "-1.0/0.0"
   ]
  },
  {
   "cell_type": "code",
   "execution_count": 25,
   "metadata": {
    "collapsed": false
   },
   "outputs": [
    {
     "data": {
      "text/plain": [
       "0.0"
      ]
     },
     "execution_count": 25,
     "metadata": {},
     "output_type": "execute_result"
    }
   ],
   "source": [
    "1.0/Inf"
   ]
  },
  {
   "cell_type": "code",
   "execution_count": 26,
   "metadata": {
    "collapsed": false
   },
   "outputs": [
    {
     "data": {
      "text/plain": [
       "-0.0"
      ]
     },
     "execution_count": 26,
     "metadata": {},
     "output_type": "execute_result"
    }
   ],
   "source": [
    "-1.0/Inf"
   ]
  },
  {
   "cell_type": "code",
   "execution_count": 27,
   "metadata": {
    "collapsed": false
   },
   "outputs": [
    {
     "data": {
      "text/plain": [
       "NaN"
      ]
     },
     "execution_count": 27,
     "metadata": {},
     "output_type": "execute_result"
    }
   ],
   "source": [
    "0.0/0.0"
   ]
  },
  {
   "cell_type": "code",
   "execution_count": 28,
   "metadata": {
    "collapsed": false
   },
   "outputs": [
    {
     "data": {
      "text/plain": [
       "false"
      ]
     },
     "execution_count": 28,
     "metadata": {},
     "output_type": "execute_result"
    }
   ],
   "source": [
    "-0.0 < 0.0"
   ]
  },
  {
   "cell_type": "code",
   "execution_count": 5,
   "metadata": {
    "collapsed": false
   },
   "outputs": [
    {
     "data": {
      "text/plain": [
       "-1.0e-308"
      ]
     },
     "execution_count": 5,
     "metadata": {},
     "output_type": "execute_result"
    }
   ],
   "source": [
    "1.0/-1e308"
   ]
  },
  {
   "cell_type": "markdown",
   "metadata": {},
   "source": [
    "## Machine epsilon `eps(Float64)` and the unit roundoff $\\eta$\n",
    "\n",
    "- `1.0 + eps(Float64)` is the first `Float64` that is larger than `1.0`\n",
    "\n",
    "$$\\mathtt{eps(Float64)} = 2^{-52} \\approx 2.2 \\times 10^{-16}$$\n",
    "\n",
    "- $\\eta = $ `eps(Float64)/2.0` is the largest possible relative error due to roundoff\n",
    "\n",
    "$$\\eta = 2^{-53} \\approx 1.1 \\times 10^{-16}$$"
   ]
  },
  {
   "cell_type": "code",
   "execution_count": 30,
   "metadata": {
    "collapsed": false
   },
   "outputs": [
    {
     "data": {
      "text/plain": [
       "2.220446049250313e-16"
      ]
     },
     "execution_count": 30,
     "metadata": {},
     "output_type": "execute_result"
    }
   ],
   "source": [
    "eps(Float64)"
   ]
  },
  {
   "cell_type": "code",
   "execution_count": 31,
   "metadata": {
    "collapsed": false
   },
   "outputs": [
    {
     "data": {
      "text/plain": [
       "true"
      ]
     },
     "execution_count": 31,
     "metadata": {},
     "output_type": "execute_result"
    }
   ],
   "source": [
    "1.0 + eps(Float64) > 1.0"
   ]
  },
  {
   "cell_type": "code",
   "execution_count": 32,
   "metadata": {
    "collapsed": false
   },
   "outputs": [
    {
     "data": {
      "text/plain": [
       "true"
      ]
     },
     "execution_count": 32,
     "metadata": {},
     "output_type": "execute_result"
    }
   ],
   "source": [
    "1.0 + eps(Float64)/2.0 == 1.0"
   ]
  },
  {
   "cell_type": "markdown",
   "metadata": {},
   "source": [
    "## Roundoff error example\n",
    "\n",
    "Suppose we are using a base-10 floating-point system with 4 significant digits, using `RoundNearest`:\n",
    "\n",
    "$$\n",
    "\\begin{split}\n",
    "\\left( 1.112 \\times 10^1 \\right) \\times \\left( 1.112 \\times 10^2 \\right)\n",
    "& = 1.236544 \\times 10^3 \\\\\n",
    "& \\rightarrow 1.237 \\times 10^3 = 1237\n",
    "\\end{split}\n",
    "$$\n",
    "\n",
    "The absolute error is $1237 - 1236.544 = 0.456$.\n",
    "\n",
    "The relative error is $$\\frac{0.456}{1236.544} \\approx 0.0004 = 0.04 \\%$$"
   ]
  },
  {
   "cell_type": "code",
   "execution_count": 33,
   "metadata": {
    "collapsed": false
   },
   "outputs": [
    {
     "data": {
      "text/plain": [
       "0.0003687697324155064"
      ]
     },
     "execution_count": 33,
     "metadata": {},
     "output_type": "execute_result"
    }
   ],
   "source": [
    "0.456/1236.544"
   ]
  },
  {
   "cell_type": "code",
   "execution_count": 34,
   "metadata": {
    "collapsed": false
   },
   "outputs": [
    {
     "data": {
      "image/png": "[encoded data removed]",
      "text/plain": [
       "Figure(PyObject <matplotlib.figure.Figure object at 0x118991e90>)"
      ]
     },
     "metadata": {},
     "output_type": "display_data"
    },
    {
     "data": {
      "text/plain": [
       "PyObject <matplotlib.text.Text object at 0x118adfc50>"
      ]
     },
     "execution_count": 34,
     "metadata": {},
     "output_type": "execute_result"
    }
   ],
   "source": [
    "# Compute the effect of roundoff error\n",
    "\n",
    "η = eps(Float32)/2.0         # Compute the unit roundoff for Float32\n",
    "\n",
    "x = linspace(-10, 10, 10000)   # 1000-element Array{Float64,1} from -10 to 10\n",
    "y = float32(x)               # Convert x to Float32 and su\n",
    "abserr = abs(y - x)          # Compute the absolute roundoff errors\n",
    "relerr = abserr./abs(x)      # Compute the relative roundoff errors\n",
    "\n",
    "using PyPlot  # Loading PyPlot takes some time -- be patient\n",
    "subplot(1, 2, 1)\n",
    "plot(x, abserr)\n",
    "axis([minimum(x), maximum(x), minimum(abserr), maximum(abserr)])\n",
    "title(\"absolute error\")\n",
    "\n",
    "subplot(1, 2, 2)\n",
    "plot(x, relerr)\n",
    "plot(x, η*ones(x), \"r\")\n",
    "axis([minimum(x), maximum(x), minimum(abserr), maximum(abserr)])\n",
    "title(\"relative error\")"
   ]
  },
  {
   "cell_type": "code",
   "execution_count": 35,
   "metadata": {
    "collapsed": false
   },
   "outputs": [
    {
     "name": "stdout",
     "output_type": "stream",
     "text": [
      "Base.with_rounding(f::Function, T, mode)\n",
      "\n",
      "   Change the rounding mode of floating point type \"T\" for the\n",
      "   duration of \"f\". It is logically equivalent to:\n",
      "\n",
      "      old = get_rounding(T)\n",
      "      set_rounding(T, mode)\n",
      "      f()\n",
      "      set_rounding(T, old)\n",
      "\n",
      "   See \"get_rounding\" for available rounding modes.\n"
     ]
    }
   ],
   "source": [
    "?with_rounding"
   ]
  },
  {
   "cell_type": "code",
   "execution_count": 36,
   "metadata": {
    "collapsed": false
   },
   "outputs": [
    {
     "name": "stdout",
     "output_type": "stream",
     "text": [
      "Base.get_rounding(T)\n",
      "\n",
      "   Get the current floating point rounding mode for type \"T\". Valid\n",
      "   modes are \"RoundNearest\", \"RoundToZero\", \"RoundUp\",\n",
      "   \"RoundDown\", and \"RoundFromZero\" (\"BigFloat\" only).\n"
     ]
    }
   ],
   "source": [
    "?get_rounding"
   ]
  },
  {
   "cell_type": "code",
   "execution_count": 37,
   "metadata": {
    "collapsed": false
   },
   "outputs": [
    {
     "data": {
      "text/plain": [
       "(RoundingMode(0),RoundingMode(1),RoundingMode(2),RoundingMode(3),RoundingMode(4))"
      ]
     },
     "execution_count": 37,
     "metadata": {},
     "output_type": "execute_result"
    }
   ],
   "source": [
    "RoundNearest, RoundToZero, RoundUp, RoundDown, RoundFromZero"
   ]
  },
  {
   "cell_type": "code",
   "execution_count": 38,
   "metadata": {
    "collapsed": false
   },
   "outputs": [
    {
     "data": {
      "text/plain": [
       "RoundingMode(0)"
      ]
     },
     "execution_count": 38,
     "metadata": {},
     "output_type": "execute_result"
    }
   ],
   "source": [
    "get_rounding(Float64)"
   ]
  },
  {
   "cell_type": "markdown",
   "metadata": {},
   "source": [
    "Therefore, the default rounding mode is `RoundNearest` (round to the nearest floating-point number). This implies that\n",
    "\n",
    "$$ \\frac{|x - \\mathrm{fl}(x)|}{|x|} \\leq \\frac{1}{2} 2^{-52} = \\eta.$$\n",
    "\n",
    "If `RoundToZero` is used (a.k.a. **chopping**), then\n",
    "\n",
    "$$ \\frac{|x - \\mathrm{fl}(x)|}{|x|} \\leq 2^{-52} = 2 \\eta.$$\n",
    "\n",
    "`RoundNearest` is used since it produces smaller roundoff errors."
   ]
  },
  {
   "cell_type": "code",
   "execution_count": 39,
   "metadata": {
    "collapsed": false
   },
   "outputs": [
    {
     "name": "stdout",
     "output_type": "stream",
     "text": [
      "Base.set_rounding(T, mode)\n",
      "\n",
      "   Set the rounding mode of floating point type \"T\". Note that this\n",
      "   may affect other types, for instance changing the rounding mode of\n",
      "   \"Float64\" will change the rounding mode of \"Float32\". See\n",
      "   \"get_rounding\" for available modes\n"
     ]
    }
   ],
   "source": [
    "?set_rounding"
   ]
  },
  {
   "cell_type": "markdown",
   "metadata": {},
   "source": [
    "## Roundoff error accumulation\n",
    "\n",
    "When performing arithmetic operations on floats, extra **guard digits** are used to ensure **exact rounding**. This guarantees that the relative error of a floating-point operation (**flop**) is small. More precisely, for floating-point numbers $x$ and $y$, we have\n",
    "\n",
    "$$\n",
    "\\begin{split}\n",
    "\\mathrm{fl}(x \\pm y) &= (x \\pm y)(1 + \\varepsilon_1) \\\\\n",
    "\\mathrm{fl}(x \\times y) &= (x \\times y)(1 + \\varepsilon_2) \\\\\n",
    "\\mathrm{fl}(x \\div y) &= (x \\div y)(1 + \\varepsilon_3) \\\\\n",
    "\\end{split}\n",
    "$$\n",
    "\n",
    "where $|\\varepsilon_i| \\leq \\eta$, for $i = 1,2,3$, where $\\eta$ is the unit roundoff.\n",
    "\n",
    "Although the relative error of each flop is small, it is possible to have the roundoff error accumulate and create significant error in the final result. If $E_n$ is the error after $n$ flops, then:\n",
    "\n",
    "- **linear roundoff error accumulation** is when $E_n \\approx c_0 n E_0$\n",
    "- **exponential roundoff error accumulation** is when $E_n \\approx c_1^n E_0$, for some $c_1 > 1$\n",
    "\n",
    "In general, linear roundoff error accumulation is unavoidable. On the other hand, exponential roundoff error accumulation is not acceptable and is an indication of an **unstable algorithm**. (See Example 1.6 in Ascher-Greif for an example of exponential roundoff error accumulation, and see Exercise 5 in Section 1.4 for a numerically stable method to accomplish the same task.)"
   ]
  },
  {
   "cell_type": "markdown",
   "metadata": {},
   "source": [
    "## General advice\n",
    "\n",
    "1. Adding $x + y$ when $|x| \\gg |y|$ can cause the information in $y$ to be 'lost' in the summation (see example below).\n",
    "\n",
    "2. Dividing by very small numbers or multiplying by very large numbers can greatly **magnify error** (as we saw when approximating a derivative in Chapter 1).\n",
    "\n",
    "3. Subtracting numbers that are almost equal produces **cancellation error** (see example below).\n",
    "\n",
    "4. An **overflow** occurs when the result is too large in magnitude to be representable as a float. Result will become either `Inf` or `-Inf`. Overflows should be avoided (see example below).\n",
    "\n",
    "4. An **underflow** occurs when the result is too small in magnitude to be representable as a float. Result will become either `0.0` or `-0.0`.\n"
   ]
  },
  {
   "cell_type": "markdown",
   "metadata": {},
   "source": [
    "## Example (summation order)\n",
    "\n",
    "This next example shows that summation order can make a difference. We will compute\n",
    "\n",
    "$$\n",
    "s = \\sum_{n = 1}^{1,000,000} \\frac{1}{n}\n",
    "$$\n",
    "\n",
    "in two different ways: from largest to smallest and from smallest to largest."
   ]
  },
  {
   "cell_type": "code",
   "execution_count": 40,
   "metadata": {
    "collapsed": false
   },
   "outputs": [
    {
     "name": "stdout",
     "output_type": "stream",
     "text": [
      "14.357358 (badsum)\n",
      "14.392652 (goodsum)\n",
      "14.392727 (truesum)\n",
      "0.03536892 (badsum error)\n",
      "7.534027e-5 (goodsum error)\n"
     ]
    }
   ],
   "source": [
    "# We will use Float32 to emphasize the loss of accuracy.\n",
    "# Note:  Float32 should normally never be used.\n",
    "\n",
    "# Summing from largest to smallest:  n = 1, 2, ..., 1000000\n",
    "badsum = float32(0.0)\n",
    "for n = 1:1000000\n",
    "    badsum += float32(1/n)\n",
    "end\n",
    "println(badsum, \" (badsum)\")\n",
    "\n",
    "# Summing from smallest to largest:  n = 1000000, 999999, ..., 1\n",
    "goodsum = float32(0.0)\n",
    "for n = 1000000:-1:1\n",
    "    goodsum += float32(1/n)\n",
    "end\n",
    "println(goodsum, \" (goodsum)\")\n",
    "\n",
    "# The 'exact' answer using BigFloat extended precision (slow)\n",
    "s = big(0.0)\n",
    "for n = 1000000:-1:1\n",
    "    s += big(1/n)\n",
    "end\n",
    "truesum = float32(s)\n",
    "println(truesum, \" (truesum)\")\n",
    "\n",
    "println(abs(truesum - badsum), \" (badsum error)\")\n",
    "println(abs(truesum - goodsum), \" (goodsum error)\")"
   ]
  },
  {
   "cell_type": "markdown",
   "metadata": {},
   "source": [
    "## Example (cancellation error)\n",
    "\n",
    "It is easy to show that \n",
    "\n",
    "$$\n",
    "\\ln\\left( x - \\sqrt{x^2-1} \\right) = -\\ln\\left( x + \\sqrt{x^2-1} \\right).\n",
    "$$\n",
    "\n",
    "Indeed,\n",
    "\n",
    "$$\n",
    "\\begin{split}\n",
    "\\ln\\left( x - \\sqrt{x^2-1} \\right) \n",
    "& = \\ln\\left( \\frac{x - \\sqrt{x^2-1}}{1} \\cdot \\frac{x + \\sqrt{x^2-1}}{x + \\sqrt{x^2-1}} \\right) \\\\\n",
    "& = \\ln\\left( \\frac{x^2 - \\left(x^2-1\\right)}{x + \\sqrt{x^2-1}} \\right) \\\\\n",
    "& = \\ln\\left( \\frac{1}{x + \\sqrt{x^2-1}} \\right) \\\\\n",
    "& = -\\ln\\left( x + \\sqrt{x^2-1} \\right). \\\\\n",
    "\\end{split}\n",
    "$$\n",
    "\n",
    "Which formula is more suitable for numerical computation?"
   ]
  },
  {
   "cell_type": "code",
   "execution_count": 41,
   "metadata": {
    "collapsed": false
   },
   "outputs": [
    {
     "name": "stdout",
     "output_type": "stream",
     "text": [
      "-14.50865012405984 (badres)\n",
      "-14.508657738523969 (goodres)\n",
      "-14.508657738523969 (trueres)\n",
      "5.248220935854038e-7 (badres error)\n",
      "0.0 (goodres error)\n"
     ]
    }
   ],
   "source": [
    "x = 1e6\n",
    "\n",
    "badres  =  log(x - sqrt(x^2 - 1))\n",
    "goodres = -log(x + sqrt(x^2 - 1))\n",
    "\n",
    "x = big(x)\n",
    "trueres = float64(-log(x + sqrt(x^2 - 1)))\n",
    "\n",
    "println(badres, \" (badres)\")\n",
    "println(goodres, \" (goodres)\")\n",
    "println(trueres, \" (trueres)\")\n",
    "\n",
    "println(abs(badres - trueres)/abs(trueres), \" (badres error)\")\n",
    "println(abs(goodres - trueres)/abs(trueres), \" (goodres error)\")"
   ]
  },
  {
   "cell_type": "markdown",
   "metadata": {},
   "source": [
    "## Example (avoiding overflow)\n",
    "\n",
    "Overflow is possible when squaring a large number. This needs to be avoided when computing the Euclidean norm (a.k.a. the $\\ell_2$-norm) of a vector $x$:\n",
    "\n",
    "$$\n",
    "\\|x\\|_2 = \\sqrt{x_1^2 + x_2^2 + \\cdots + x_n^2}.\n",
    "$$\n",
    "\n",
    "If some $x_i$ is very large, it is possible that $x_i^2$ will overflow, causing the final result to be `Inf`. We can avoid this as follows.\n",
    "\n",
    "Let \n",
    "$$\\bar{x} = \\max_{i=1:n} |x_i|.$$\n",
    "Then\n",
    "$$\n",
    "\\|x\\|_2 = \\bar{x} \\sqrt{\\left(\\frac{x_1}{\\bar{x}}\\right)^2 + \\left(\\frac{x_2}{\\bar{x}}\\right)^2 + \\cdots + \\left(\\frac{x_n}{\\bar{x}}\\right)^2}.\n",
    "$$\n",
    "Since $|x_i/\\bar{x}| \\leq 1$ for all $i$, no overflow will occur. Underflow may occur, but this is harmless.\n"
   ]
  },
  {
   "cell_type": "code",
   "execution_count": 42,
   "metadata": {
    "collapsed": false
   },
   "outputs": [
    {
     "name": "stdout",
     "output_type": "stream",
     "text": [
      "badres = Inf\n",
      "goodres = 5.603757056896095e201\n",
      "norm(x) = 5.603757056896095e201\n"
     ]
    }
   ],
   "source": [
    "n = 100\n",
    "x = 10e200*rand(n)\n",
    "\n",
    "# Overflow occurs\n",
    "s = 0.0\n",
    "for i = 1:n\n",
    "    s += x[i]^2\n",
    "end\n",
    "badres = sqrt(s)\n",
    "println(\"badres = \", badres)\n",
    "\n",
    "# Overflow is avoided\n",
    "xbar = maximum(abs(x))\n",
    "xscaled = x/xbar\n",
    "s = 0.0\n",
    "for i = 1:n\n",
    "    s += xscaled[i]^2\n",
    "end\n",
    "goodres = xbar*sqrt(s)\n",
    "println(\"goodres = \", goodres)\n",
    "\n",
    "# Use the built-in norm function to check\n",
    "println(\"norm(x) = \", norm(x))"
   ]
  }
 ],
 "metadata": {
  "kernelspec": {
   "display_name": "Julia 0.3.11",
   "language": "julia",
   "name": "julia-0.3"
  },
  "language_info": {
   "file_extension": ".jl",
   "mimetype": "application/julia",
   "name": "julia",
   "version": "0.3.11"
  }
 },
 "nbformat": 4,
 "nbformat_minor": 0
}
