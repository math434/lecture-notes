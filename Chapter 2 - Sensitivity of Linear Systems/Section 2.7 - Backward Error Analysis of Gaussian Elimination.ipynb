{
 "cells": [
  {
   "cell_type": "markdown",
   "metadata": {},
   "source": [
    "---\n",
    "# Section 2.7: Backward Error Analysis of Gaussian Elimination\n",
    "---"
   ]
  },
  {
   "cell_type": "markdown",
   "metadata": {},
   "source": [
    "## New notation\n",
    "\n",
    "Let $C \\in \\mathbb{R}^{m \\times n}$. Then $|C|$ is the $n \\times m$ matrix with entries $|c_{ij}|$ and is call the **absolute value** of $C$.\n",
    "\n",
    "If $C, F \\in \\mathbb{R}^{m \\times n}$, then $C \\leq F$ means $c_{ij} \\leq f_{ij}$, for all $ij$.\n",
    "\n",
    "We let $u$ be the **unit-roundoff**, and we use $O(u^2)$ to denotes terms of order $u^2$.\n"
   ]
  },
  {
   "cell_type": "code",
   "execution_count": 3,
   "metadata": {
    "collapsed": false
   },
   "outputs": [
    {
     "data": {
      "text/plain": [
       "3x4 Array{Float64,2}:\n",
       " -0.848063   1.21423  -0.206843  -0.523583\n",
       "  0.926336   1.77458  -0.76953   -0.515686\n",
       " -1.13226   -0.16834   1.37858    0.675889"
      ]
     },
     "execution_count": 3,
     "metadata": {},
     "output_type": "execute_result"
    }
   ],
   "source": [
    "A = randn(3,4)"
   ]
  },
  {
   "cell_type": "code",
   "execution_count": 4,
   "metadata": {
    "collapsed": false
   },
   "outputs": [
    {
     "data": {
      "text/plain": [
       "3x4 Array{Float64,2}:\n",
       " 0.848063  1.21423  0.206843  0.523583\n",
       " 0.926336  1.77458  0.76953   0.515686\n",
       " 1.13226   0.16834  1.37858   0.675889"
      ]
     },
     "execution_count": 4,
     "metadata": {},
     "output_type": "execute_result"
    }
   ],
   "source": [
    "abs(A)"
   ]
  },
  {
   "cell_type": "code",
   "execution_count": 5,
   "metadata": {
    "collapsed": false
   },
   "outputs": [
    {
     "data": {
      "text/plain": [
       "3x4 Array{Float64,2}:\n",
       " -0.511478   -1.97839   -0.108385  -0.0894161\n",
       " -0.0468618  -1.4463    -0.295998  -0.041554 \n",
       "  0.167924    0.127315   1.74904    2.13797  "
      ]
     },
     "execution_count": 5,
     "metadata": {},
     "output_type": "execute_result"
    }
   ],
   "source": [
    "B = randn(3, 4)"
   ]
  },
  {
   "cell_type": "code",
   "execution_count": 7,
   "metadata": {
    "collapsed": false
   },
   "outputs": [
    {
     "data": {
      "text/plain": [
       "3x4 BitArray{2}:\n",
       "  true  false  true  true\n",
       " false  false  true  true\n",
       "  true   true  true  true"
      ]
     },
     "execution_count": 7,
     "metadata": {},
     "output_type": "execute_result"
    }
   ],
   "source": [
    "A .<= B"
   ]
  },
  {
   "cell_type": "code",
   "execution_count": 8,
   "metadata": {
    "collapsed": false
   },
   "outputs": [
    {
     "data": {
      "text/plain": [
       "3x3 Array{Float64,2}:\n",
       " 0.747636  0.814108  0.550448\n",
       " 0.36057   0.399952  0.352151\n",
       " 0.136097  0.64486   0.451272"
      ]
     },
     "execution_count": 8,
     "metadata": {},
     "output_type": "execute_result"
    }
   ],
   "source": [
    "A = rand(3,3)"
   ]
  },
  {
   "cell_type": "code",
   "execution_count": 9,
   "metadata": {
    "collapsed": false
   },
   "outputs": [
    {
     "data": {
      "text/plain": [
       "3x3 Array{Float64,2}:\n",
       " 1.49527   1.62822   1.1009  \n",
       " 0.721141  0.799905  0.704303\n",
       " 0.272194  1.28972   0.902543"
      ]
     },
     "execution_count": 9,
     "metadata": {},
     "output_type": "execute_result"
    }
   ],
   "source": [
    "B = 2*A"
   ]
  },
  {
   "cell_type": "code",
   "execution_count": 10,
   "metadata": {
    "collapsed": false
   },
   "outputs": [
    {
     "data": {
      "text/plain": [
       "3x3 BitArray{2}:\n",
       " true  true  true\n",
       " true  true  true\n",
       " true  true  true"
      ]
     },
     "execution_count": 10,
     "metadata": {},
     "output_type": "execute_result"
    }
   ],
   "source": [
    "A .<= B"
   ]
  },
  {
   "cell_type": "markdown",
   "metadata": {},
   "source": [
    "---"
   ]
  },
  {
   "cell_type": "markdown",
   "metadata": {},
   "source": [
    ">### Theorem: (Backward Error of LU)\n",
    ">\n",
    "Let $\\hat{L}$ and $\\hat{U}$ be the $LU$-factors of $A$ computed by Gaussian elimination in floating-point arithmetic without row-exchanges. \n",
    ">\n",
    "Then\n",
    ">\n",
    "$$A + E = \\hat{L} \\hat{U}$$\n",
    ">\n",
    "where\n",
    ">\n",
    "$$\\lvert E \\rvert \\leq 2nu \\lvert \\hat{L} \\rvert \\lvert \\hat{U} \\rvert + O(u^2)$$\n",
    ">\n",
    "and\n",
    ">\n",
    "$$\\lVert E \\rVert_\\infty \\leq 2nu \\lVert \\hat{L} \\rVert_\\infty \\lVert \\hat{U} \\rVert_\\infty + O(u^2).$$\n"
   ]
  },
  {
   "cell_type": "markdown",
   "metadata": {},
   "source": [
    "---"
   ]
  },
  {
   "cell_type": "markdown",
   "metadata": {},
   "source": [
    ">### Theorem: (Solving $Ax=b$ via Gaussian Elimination)\n",
    ">\n",
    "Let $\\hat{L}$ and $\\hat{U}$ be the $LU$-factors of $A$ computed by Gaussian elimination in floating-point arithmetic without row-exchanges. \n",
    ">\n",
    "Let $\\hat{x}$ be the solution obtained from solving $Ax = b$ in floating-point arithmetic using forward substitution with $\\hat{L}$ and backward substitution with $\\hat{U}$.\n",
    ">\n",
    "Then\n",
    ">\n",
    "$$(A + \\delta A)\\hat{x} = b$$\n",
    ">\n",
    "where\n",
    ">\n",
    "$$\\lvert \\delta A \\rvert \\leq 6nu \\lvert \\hat{L} \\rvert \\lvert \\hat{U} \\rvert + O(u^2)$$\n",
    ">\n",
    "and\n",
    ">\n",
    "$$\\lVert \\delta A \\rVert_\\infty \\leq 6nu \\lVert \\hat{L} \\rVert_\\infty \\lVert \\hat{U} \\rVert_\\infty + O(u^2).$$\n"
   ]
  },
  {
   "cell_type": "markdown",
   "metadata": {},
   "source": [
    "---"
   ]
  },
  {
   "cell_type": "markdown",
   "metadata": {},
   "source": [
    "## Backward stability\n",
    "\n",
    "- If $\\lVert \\hat{L} \\rVert_\\infty \\lVert \\hat{U} \\rVert_\\infty$ is small compared to $\\lVert A \\rVert_\\infty$, then computation is **backwards stable**.\n",
    "\n",
    "- Using **partial pivoting** we have\n",
    "\n",
    "    $$\\lVert \\hat{L} \\rVert_\\infty \\leq n$$\n",
    "\n",
    "    In this case, if $\\lVert \\hat{U} \\rVert_\\infty$ is small compared to $\\lVert A \\rVert_\\infty$, then computation is **backwards stable**.\n",
    "    "
   ]
  },
  {
   "cell_type": "markdown",
   "metadata": {},
   "source": [
    "---"
   ]
  },
  {
   "cell_type": "markdown",
   "metadata": {},
   "source": [
    "## Exercise:\n",
    "\n",
    "Compute $U$ of the $LU$-decomposition (using **partial pivoting**) of the matrix $A$.\n",
    "\n",
    "$$\n",
    "A = \n",
    "\\begin{bmatrix}\n",
    "1 & & & 1 \\\\\n",
    "-1 & 1 & & 1 \\\\\n",
    "-1 & -1 & 1 & 1 \\\\\n",
    "-1 & -1 & -\n",
    "1 & 1 \\\\\n",
    "\\end{bmatrix}\n",
    "$$"
   ]
  },
  {
   "cell_type": "markdown",
   "metadata": {},
   "source": [
    "---"
   ]
  },
  {
   "cell_type": "markdown",
   "metadata": {},
   "source": [
    "- Therefore, it is possible that\n",
    "\n",
    "    $$\\frac{\\lVert \\hat{U} \\rVert_\\infty}{\\lVert A \\rVert_\\infty} \\approx 2^{n-1}.$$\n",
    "    \n",
    "    So Gaussian elimination with partial pivoting is *not* guaranteed to be backwards stable."
   ]
  },
  {
   "cell_type": "markdown",
   "metadata": {},
   "source": [
    "---"
   ]
  },
  {
   "cell_type": "markdown",
   "metadata": {},
   "source": [
    "## Complete pivoting\n",
    "\n",
    "- With **complete pivoting**, we will interchange both rows and columns at each step to bring the entry having the largest magnitude to the current pivot location."
   ]
  },
  {
   "cell_type": "markdown",
   "metadata": {},
   "source": [
    "---"
   ]
  },
  {
   "cell_type": "markdown",
   "metadata": {},
   "source": [
    "## Exercise:\n",
    "\n",
    "Compute $U$ of the $LU$-decomposition (using **complete pivoting**) of the matrix $A$.\n",
    "\n",
    "$$\n",
    "A = \n",
    "\\begin{bmatrix}\n",
    "1 & & & 1 \\\\\n",
    "-1 & 1 & & 1 \\\\\n",
    "-1 & -1 & 1 & 1 \\\\\n",
    "-1 & -1 & -\n",
    "1 & 1 \\\\\n",
    "\\end{bmatrix}\n",
    "$$"
   ]
  },
  {
   "cell_type": "markdown",
   "metadata": {},
   "source": [
    "---"
   ]
  },
  {
   "cell_type": "markdown",
   "metadata": {},
   "source": [
    "- Gaussian elimination with **complete pivoting** is considered to be backward stable since the worst known case is \n",
    "\n",
    "    $$\\frac{\\lVert \\hat{U} \\rVert_\\infty}{\\lVert A \\rVert_\\infty} = O(n).$$\n",
    "\n",
    "- **Complete pivoting** is significantly more expensive than partial pivoting, so partial pivoting is preferred in practice since we typically have\n",
    "\n",
    "    $$\\frac{\\lVert \\hat{U} \\rVert_\\infty}{\\lVert A \\rVert_\\infty} \\approx \\sqrt{n}$$\n",
    "    \n",
    "    when using partial pivoting."
   ]
  },
  {
   "cell_type": "markdown",
   "metadata": {},
   "source": [
    "---"
   ]
  },
  {
   "cell_type": "markdown",
   "metadata": {},
   "source": [
    "## Residual test and iterative refinement\n",
    "\n",
    "For the reasons mentioned above, the main method for solving $Ax = b$ is Gaussian elimination with partial pivoting.\n",
    "\n",
    "We can easily check the computation of $\\hat{x}$ was backward stable by computing the residual:\n",
    "\n",
    "$$\n",
    "\\hat{r} = b - A \\hat{x}.\n",
    "$$\n",
    "\n",
    "If $\\frac{\\| \\hat{r} \\|}{\\|b\\|}$ is not tiny, we can often improve the solution using **iterative refinement**:\n",
    "\n",
    "1. Solve $A z = \\hat{r}$ using the $LU$-decomposition of $A$ that has already been computed; obtain the numerical solution $\\hat{z}$.\n",
    "\n",
    "2. Update $\\hat{x} \\gets \\hat{x} + \\hat{z}$.\n",
    "\n",
    "3. If $\\frac{\\| \\hat{r} \\|}{\\|b\\|}$ is still large, repeat."
   ]
  },
  {
   "cell_type": "markdown",
   "metadata": {},
   "source": [
    "If $A \\hat{z} = \\hat{r}$, then\n",
    "\n",
    "$$\n",
    "A\\left(\\hat{x} + \\hat{z}\\right) = A\\hat{x} + A\\hat{z} = A\\hat{x} + \\hat{r} = b,\n",
    "$$\n",
    "\n",
    "so $\\hat{x} + \\hat{z}$ is the exact solution of $Ax = b$."
   ]
  },
  {
   "cell_type": "markdown",
   "metadata": {},
   "source": [
    "---"
   ]
  },
  {
   "cell_type": "markdown",
   "metadata": {},
   "source": [
    "## Example:"
   ]
  },
  {
   "cell_type": "code",
   "execution_count": 2,
   "metadata": {
    "collapsed": false
   },
   "outputs": [
    {
     "data": {
      "text/plain": [
       "1680.5802894816281"
      ]
     },
     "execution_count": 2,
     "metadata": {},
     "output_type": "execute_result"
    }
   ],
   "source": [
    "# Random problem with exact solution x\n",
    "n = 1000\n",
    "\n",
    "A = randn(n, n)\n",
    "x = randn(n)\n",
    "b = A*x\n",
    "\n",
    "# Check condition number of A\n",
    "cond(A)"
   ]
  },
  {
   "cell_type": "code",
   "execution_count": 3,
   "metadata": {
    "collapsed": false
   },
   "outputs": [
    {
     "name": "stdout",
     "output_type": "stream",
     "text": [
      "norm(rhat) / norm(b) = 2.03359045540268e-14\n",
      "norm(x - xhat) / norm(x) = 2.998733377545764e-13\n"
     ]
    }
   ],
   "source": [
    "# Compute the LU-decomposition of A\n",
    "F = lufact(A)\n",
    "\n",
    "xhat = F\\b\n",
    "\n",
    "rhat = b - A*xhat\n",
    "\n",
    "@show norm(rhat)/norm(b)\n",
    "@show norm(x - xhat)/norm(x);"
   ]
  },
  {
   "cell_type": "code",
   "execution_count": 4,
   "metadata": {
    "collapsed": false
   },
   "outputs": [
    {
     "name": "stdout",
     "output_type": "stream",
     "text": [
      "norm(rhat) / norm(b) = 7.393186803817699e-16\n",
      "norm(x - xhat) / norm(x) = 3.7295850248037734e-14\n"
     ]
    }
   ],
   "source": [
    "# Iterative refinement\n",
    "zhat = F\\rhat\n",
    "xhat += zhat\n",
    "\n",
    "# Check new relative residual error\n",
    "rhat = b - A*xhat\n",
    "\n",
    "@show norm(rhat)/norm(b)\n",
    "@show norm(x - xhat)/norm(x);"
   ]
  },
  {
   "cell_type": "code",
   "execution_count": 5,
   "metadata": {
    "collapsed": false
   },
   "outputs": [
    {
     "name": "stdout",
     "output_type": "stream",
     "text": [
      "norm(rhat) / norm(b) = 8.099272783180609e-16\n",
      "norm(x - xhat) / norm(x) = 3.035039873014575e-14\n"
     ]
    }
   ],
   "source": [
    "# Iterative refinement\n",
    "zhat = F\\rhat\n",
    "xhat += zhat\n",
    "\n",
    "# Check new relative residual error\n",
    "rhat = b - A*xhat\n",
    "\n",
    "@show norm(rhat)/norm(b)\n",
    "@show norm(x - xhat)/norm(x);"
   ]
  },
  {
   "cell_type": "code",
   "execution_count": 6,
   "metadata": {
    "collapsed": false
   },
   "outputs": [
    {
     "name": "stdout",
     "output_type": "stream",
     "text": [
      "norm(rhat) / norm(b) = 7.620877838603847e-16\n",
      "norm(x - xhat) / norm(x) = 2.48447839734057e-14\n"
     ]
    }
   ],
   "source": [
    "# Iterative refinement\n",
    "zhat = F\\rhat\n",
    "xhat += zhat\n",
    "\n",
    "# Check new relative residual error\n",
    "rhat = b - A*xhat\n",
    "\n",
    "@show norm(rhat)/norm(b)\n",
    "@show norm(x - xhat)/norm(x);"
   ]
  },
  {
   "cell_type": "code",
   "execution_count": 7,
   "metadata": {
    "collapsed": false
   },
   "outputs": [
    {
     "name": "stdout",
     "output_type": "stream",
     "text": [
      "norm(rhat) / norm(b) = 7.505024437522235e-16\n",
      "norm(x - xhat) / norm(x) = 2.2420919862687017e-14\n"
     ]
    }
   ],
   "source": [
    "# Iterative refinement\n",
    "zhat = F\\rhat\n",
    "xhat += zhat\n",
    "\n",
    "# Check new relative residual error\n",
    "rhat = b - A*xhat\n",
    "\n",
    "@show norm(rhat)/norm(b)\n",
    "@show norm(x - xhat)/norm(x);"
   ]
  },
  {
   "cell_type": "code",
   "execution_count": 8,
   "metadata": {
    "collapsed": false
   },
   "outputs": [
    {
     "name": "stdout",
     "output_type": "stream",
     "text": [
      "norm(rhat) / norm(b) = 7.758999768518375e-16\n",
      "norm(x - xhat) / norm(x) = 2.1251441423502763e-14\n"
     ]
    }
   ],
   "source": [
    "# Iterative refinement\n",
    "zhat = F\\rhat\n",
    "xhat += zhat\n",
    "\n",
    "# Check new relative residual error\n",
    "rhat = b - A*xhat\n",
    "\n",
    "@show norm(rhat)/norm(b)\n",
    "@show norm(x - xhat)/norm(x);"
   ]
  },
  {
   "cell_type": "code",
   "execution_count": 9,
   "metadata": {
    "collapsed": false
   },
   "outputs": [
    {
     "name": "stdout",
     "output_type": "stream",
     "text": [
      "norm(rhat) / norm(b) = 7.765632337331197e-16\n",
      "norm(x - xhat) / norm(x) = 3.471375126785491e-14\n"
     ]
    }
   ],
   "source": [
    "# Iterative refinement\n",
    "zhat = F\\rhat\n",
    "xhat += zhat\n",
    "\n",
    "# Check new relative residual error\n",
    "rhat = b - A*xhat\n",
    "\n",
    "@show norm(rhat)/norm(b)\n",
    "@show norm(x - xhat)/norm(x);"
   ]
  },
  {
   "cell_type": "markdown",
   "metadata": {},
   "source": [
    "---"
   ]
  },
  {
   "cell_type": "markdown",
   "metadata": {},
   "source": [
    "## Stability of Cholesky's method\n",
    "\n",
    "Cholesky's method of decomposing a positive definite matrix $A$ as $A = R^T R$ is guaranteed to be backward stable since\n",
    "\n",
    "$$\n",
    "A + E = \\hat{R}^T \\hat{R}, \\qquad \\text{where $\\|E\\|_F \\approx Cn\\|A\\|_F$},\n",
    "$$\n",
    "\n",
    "and $C$ is a small constant."
   ]
  },
  {
   "cell_type": "markdown",
   "metadata": {},
   "source": [
    "---"
   ]
  },
  {
   "cell_type": "markdown",
   "metadata": {},
   "source": [
    "## Rule of thumb\n",
    "\n",
    "If we solve $Ax = b$ numerically using Gaussian elimination with partial pivoting or Cholesky's method (if $A$ is positive definite), and the entries of $A$ and $b$ are accurate to $s$ decimal places, then $\\hat{x}$ will agree with $x$ to $s - t$ decimal places if $\\kappa(A) \\approx 10^t$."
   ]
  },
  {
   "cell_type": "markdown",
   "metadata": {},
   "source": [
    "---"
   ]
  },
  {
   "cell_type": "code",
   "execution_count": 10,
   "metadata": {
    "collapsed": false
   },
   "outputs": [
    {
     "data": {
      "text/plain": [
       "10714.213153569788"
      ]
     },
     "execution_count": 10,
     "metadata": {},
     "output_type": "execute_result"
    }
   ],
   "source": [
    "# Random problem with exact solution x\n",
    "n = 1000\n",
    "\n",
    "A = randn(n, n)\n",
    "x = randn(n)\n",
    "b = A*x\n",
    "\n",
    "# Check that A is well-conditioned\n",
    "cond(A)"
   ]
  },
  {
   "cell_type": "code",
   "execution_count": 11,
   "metadata": {
    "collapsed": false
   },
   "outputs": [
    {
     "data": {
      "text/plain": [
       "4.029960282180421"
      ]
     },
     "execution_count": 11,
     "metadata": {},
     "output_type": "execute_result"
    }
   ],
   "source": [
    "t = log10(ans)"
   ]
  },
  {
   "cell_type": "code",
   "execution_count": 12,
   "metadata": {
    "collapsed": false
   },
   "outputs": [
    {
     "data": {
      "text/plain": [
       "16"
      ]
     },
     "execution_count": 12,
     "metadata": {},
     "output_type": "execute_result"
    }
   ],
   "source": [
    "s = 16"
   ]
  },
  {
   "cell_type": "code",
   "execution_count": 13,
   "metadata": {
    "collapsed": false
   },
   "outputs": [
    {
     "data": {
      "text/plain": [
       "2.0022064351149773e-14"
      ]
     },
     "execution_count": 13,
     "metadata": {},
     "output_type": "execute_result"
    }
   ],
   "source": [
    "# Numerically solve Ax = b and compute the residual\n",
    "xhat = A\\b\n",
    "\n",
    "rhat = b - A*xhat\n",
    "\n",
    "norm(rhat)/norm(b)"
   ]
  },
  {
   "cell_type": "code",
   "execution_count": 14,
   "metadata": {
    "collapsed": false
   },
   "outputs": [
    {
     "data": {
      "text/plain": [
       "3.4310056876432743e-13"
      ]
     },
     "execution_count": 14,
     "metadata": {},
     "output_type": "execute_result"
    }
   ],
   "source": [
    "# Actual relative error\n",
    "norm(x - xhat)/norm(x)"
   ]
  },
  {
   "cell_type": "code",
   "execution_count": 15,
   "metadata": {
    "collapsed": false
   },
   "outputs": [
    {
     "data": {
      "text/plain": [
       "11.970039717819578"
      ]
     },
     "execution_count": 15,
     "metadata": {},
     "output_type": "execute_result"
    }
   ],
   "source": [
    "s - t"
   ]
  },
  {
   "cell_type": "code",
   "execution_count": 16,
   "metadata": {
    "collapsed": false
   },
   "outputs": [
    {
     "name": "stdout",
     "output_type": "stream",
     "text": [
      "x[1] = -0.419744314967749\n",
      "x̂[1] = -0.419744314967903\n"
     ]
    }
   ],
   "source": [
    "@printf \"x[1] = %.15f\\n\" x[1]\n",
    "@printf \"x̂[1] = %.15f\\n\" xhat[1]"
   ]
  },
  {
   "cell_type": "markdown",
   "metadata": {},
   "source": [
    "---"
   ]
  }
 ],
 "metadata": {
  "anaconda-cloud": {},
  "kernelspec": {
   "display_name": "Julia 0.4.7",
   "language": "julia",
   "name": "julia-0.4"
  },
  "language_info": {
   "file_extension": ".jl",
   "mimetype": "application/julia",
   "name": "julia",
   "version": "0.4.7"
  }
 },
 "nbformat": 4,
 "nbformat_minor": 0
}
