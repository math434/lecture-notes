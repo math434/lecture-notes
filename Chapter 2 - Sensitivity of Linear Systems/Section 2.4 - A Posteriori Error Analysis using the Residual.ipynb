{
 "cells": [
  {
   "cell_type": "markdown",
   "metadata": {},
   "source": [
    "---\n",
    "# Section 2.4: A Posteriori Error Analysis using the Residual\n",
    "---"
   ]
  },
  {
   "cell_type": "markdown",
   "metadata": {},
   "source": [
    "## The residual\n",
    "\n",
    "Suppose we solve the linear system $Ax = b$ numerically and we obtain the computed solution $\\hat{x}$.\n",
    "\n",
    "We define the **residual** of $\\hat{x}$ to be\n",
    "\n",
    "$$\n",
    "\\hat{r} = b - A\\hat{x}.\n",
    "$$\n",
    "\n",
    "If the residual is zero (i.e., $\\hat{r} = 0$), then $A \\hat{x} = b$."
   ]
  },
  {
   "cell_type": "markdown",
   "metadata": {},
   "source": [
    "---"
   ]
  },
  {
   "cell_type": "markdown",
   "metadata": {},
   "source": [
    "## A nonzero residual\n",
    "\n",
    "Typically, due to making calculations in finite precision, $\\hat{r} \\neq 0$, so $A \\hat{x} \\neq b$.\n",
    "\n",
    "However,\n",
    "\n",
    "$$\n",
    "b - \\hat{r} = b - (b - A \\hat{x}) = A \\hat{x},\n",
    "$$\n",
    "\n",
    "so $\\hat{x}$ is the **exact solution** of\n",
    "\n",
    "$$\n",
    "A \\hat{x} = b + \\delta b,\n",
    "$$\n",
    "\n",
    "where $\\delta b = -\\hat{r}$."
   ]
  },
  {
   "cell_type": "markdown",
   "metadata": {},
   "source": [
    "---"
   ]
  },
  {
   "cell_type": "markdown",
   "metadata": {},
   "source": [
    "## An _a posteriori_ error bound\n",
    "\n",
    "Therefore, if $A$ is **well-conditioned** (i.e., $\\kappa(A)$ is not large) and $\\frac{\\lVert \\delta b \\rVert}{\\lVert b \\rVert} = \\frac{\\lVert \\hat{r} \\rVert}{\\lVert b \\rVert}$ is small, then the **Relative error bound I theorem** tells us that\n",
    "\n",
    "$$\n",
    "\\frac{\\lVert x - \\hat{x} \\rVert}{\\lVert x \\rVert} \n",
    "= \\frac{\\lVert \\delta x \\rVert}{\\lVert x \\rVert} \n",
    "\\leq \\kappa(A) \\frac{\\lVert \\delta b \\rVert}{\\lVert b \\rVert} \n",
    "= \\kappa(A) \\frac{\\lVert \\hat{r} \\rVert}{\\lVert b \\rVert},\n",
    "$$\n",
    "\n",
    "so the relative error of $\\hat{x}$ will also be small."
   ]
  },
  {
   "cell_type": "markdown",
   "metadata": {},
   "source": [
    "---"
   ]
  },
  {
   "cell_type": "markdown",
   "metadata": {},
   "source": [
    "## A numerical example"
   ]
  },
  {
   "cell_type": "code",
   "execution_count": 1,
   "metadata": {
    "collapsed": false
   },
   "outputs": [
    {
     "data": {
      "text/plain": [
       "1734.1253128334213"
      ]
     },
     "execution_count": 1,
     "metadata": {},
     "output_type": "execute_result"
    }
   ],
   "source": [
    "# Random problem with exact solution x\n",
    "n = 1000\n",
    "\n",
    "A = randn(n, n)\n",
    "x = randn(n)\n",
    "b = A*x\n",
    "\n",
    "# Check that A is well-conditioned\n",
    "cond(A)"
   ]
  },
  {
   "cell_type": "code",
   "execution_count": 2,
   "metadata": {
    "collapsed": false
   },
   "outputs": [
    {
     "data": {
      "text/plain": [
       "1.8118910905133628e-11"
      ]
     },
     "execution_count": 2,
     "metadata": {},
     "output_type": "execute_result"
    }
   ],
   "source": [
    "# Numerically solve Ax = b and compute the residual\n",
    "xhat = A\\b\n",
    "\n",
    "rhat = b - A*xhat\n",
    "\n",
    "norm(rhat)"
   ]
  },
  {
   "cell_type": "code",
   "execution_count": 3,
   "metadata": {
    "collapsed": false
   },
   "outputs": [
    {
     "data": {
      "text/plain": [
       "0.0"
      ]
     },
     "execution_count": 3,
     "metadata": {},
     "output_type": "execute_result"
    }
   ],
   "source": [
    "norm(b - A*x)"
   ]
  },
  {
   "cell_type": "code",
   "execution_count": 4,
   "metadata": {
    "collapsed": false
   },
   "outputs": [
    {
     "data": {
      "text/plain": [
       "3.3300421556481287e-13"
      ]
     },
     "execution_count": 4,
     "metadata": {},
     "output_type": "execute_result"
    }
   ],
   "source": [
    "# Actual relative error\n",
    "norm(x - xhat)/norm(x)"
   ]
  },
  {
   "cell_type": "code",
   "execution_count": 5,
   "metadata": {
    "collapsed": false
   },
   "outputs": [
    {
     "data": {
      "text/plain": [
       "3.119809942268603e-11"
      ]
     },
     "execution_count": 5,
     "metadata": {},
     "output_type": "execute_result"
    }
   ],
   "source": [
    "# A posteriori error bound on the relative error\n",
    "cond(A)*norm(rhat)/norm(b)"
   ]
  },
  {
   "cell_type": "markdown",
   "metadata": {},
   "source": [
    "---"
   ]
  }
 ],
 "metadata": {
  "kernelspec": {
   "display_name": "Julia 0.4.7",
   "language": "julia",
   "name": "julia-0.4"
  },
  "language_info": {
   "file_extension": ".jl",
   "mimetype": "application/julia",
   "name": "julia",
   "version": "0.4.7"
  }
 },
 "nbformat": 4,
 "nbformat_minor": 0
}
