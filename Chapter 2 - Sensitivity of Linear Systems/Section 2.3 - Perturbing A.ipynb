{
 "cells": [
  {
   "cell_type": "markdown",
   "metadata": {},
   "source": [
    "---\n",
    "# Section 2.3: Perturbing $A$\n",
    "---"
   ]
  },
  {
   "cell_type": "markdown",
   "metadata": {},
   "source": [
    "In this section, we will solve\n",
    "\n",
    "$$\n",
    "Ax = b\n",
    "$$\n",
    "\n",
    "where $A$ is nonsingular, but we obtain a solution $\\hat{x}$ that satisfies\n",
    "\n",
    "$$\n",
    "(A + \\delta A) \\hat{x} = b.\n",
    "$$\n",
    "\n",
    "That is, we have a solution to a system where the matrix $A$ has been perturbed by $\\delta A$."
   ]
  },
  {
   "cell_type": "markdown",
   "metadata": {},
   "source": [
    "---"
   ]
  },
  {
   "cell_type": "markdown",
   "metadata": {},
   "source": [
    "## When is $A + \\delta A$ nonsingular?\n",
    "\n",
    "The first question is whether or not the perturbed matrix $A + \\delta A$ is nonsingular.\n",
    "\n",
    "Let's see what happens if $A + \\delta A$ is singular.\n",
    "\n",
    "In that case, there is a vector $y \\neq 0$ such that\n",
    "\n",
    "$$\n",
    "(A + \\delta A)y = 0.\n",
    "$$\n",
    "\n",
    "Since $A$ is nonsingular, we have\n",
    "\n",
    "$$\n",
    "y = -A^{-1} \\delta A y.\n",
    "$$\n",
    "\n",
    "Taking norms of both sides, we have\n",
    "\n",
    "$$\n",
    "\\lVert y \\rVert = \\lVert A^{-1} \\delta A y \\rVert \\leq \\lVert A^{-1} \\rVert \\lVert \\delta A \\rVert \\lVert y \\rVert.\n",
    "$$"
   ]
  },
  {
   "cell_type": "markdown",
   "metadata": {},
   "source": [
    "Since $y \\neq 0$, we know that $\\lVert y \\rVert \\neq 0$, so we can divide both sides of this inequality by $\\lVert y \\rVert$ to obtain\n",
    "\n",
    "$$\n",
    "1 \\leq \\lVert A^{-1} \\rVert \\lVert \\delta A \\rVert.\n",
    "$$\n",
    "\n",
    "Now we divide both sides by the condition number of $A$, $\\kappa(A) = \\lVert A \\rVert \\lVert A^{-1} \\rVert$, to get\n",
    "\n",
    "$$\n",
    "\\frac{1}{\\kappa(A)} \\leq \\frac{\\lVert \\delta A \\rVert}{\\lVert A \\rVert}.\n",
    "$$\n",
    "\n",
    "Thus, we have the following theorem.\n"
   ]
  },
  {
   "cell_type": "markdown",
   "metadata": {},
   "source": [
    "> ### Theorem: (Nonsingular $A + \\delta A$)\n",
    "Let $A$ be nonsingular. If\n",
    ">\n",
    "$$\n",
    "\\frac{\\lVert \\delta A \\rVert}{\\lVert A \\rVert} < \\frac{1}{\\kappa(A)},\n",
    "$$\n",
    ">\n",
    "then $A + \\delta A$ is nonsingular."
   ]
  },
  {
   "cell_type": "markdown",
   "metadata": {},
   "source": [
    "---"
   ]
  },
  {
   "cell_type": "markdown",
   "metadata": {},
   "source": [
    "## Bounding the relative error $\\frac{\\lVert \\delta x \\rVert}{\\lVert x \\rVert}$\n",
    "\n",
    "Suppose that $A$ is nonsingular, $b \\neq 0$, $Ax = b$, and\n",
    "\n",
    "$$\n",
    "(A + \\delta A)(x + \\delta x) = b.\n",
    "$$\n",
    "\n",
    "We would also like to know that $A + \\delta A$ is nonsingular, so we will assume that\n",
    "\n",
    "$$\n",
    "\\frac{\\lVert \\delta A \\rVert}{\\lVert A \\rVert} < \\frac{1}{\\kappa(A)}.\n",
    "$$"
   ]
  },
  {
   "cell_type": "markdown",
   "metadata": {},
   "source": [
    "Partially expanding $(A + \\delta A)(x + \\delta x) = b$, we have\n",
    "\n",
    "$$\n",
    "Ax + A \\delta x + \\delta A (x + \\delta x) = b.\n",
    "$$\n",
    "\n",
    "Since $Ax = b$, we can simplify this to\n",
    "\n",
    "$$\n",
    "A \\delta x + \\delta A (x + \\delta x) = 0.\n",
    "$$\n",
    "\n",
    "Using the fact that $A$ is nonsingular, we have\n",
    "\n",
    "$$\n",
    "\\delta x = - A^{-1} \\delta A (x + \\delta x).\n",
    "$$\n",
    "\n"
   ]
  },
  {
   "cell_type": "markdown",
   "metadata": {},
   "source": [
    "Taking norms of both sides and applying norm inequalities, we obtain\n",
    "\n",
    "$$\n",
    "\\begin{align}\n",
    "\\lVert \\delta x \\rVert \n",
    "&\\leq \\lVert A^{-1} \\rVert \\lVert \\delta A \\rVert \\lVert x + \\delta x \\rVert \\\\\n",
    "&\\leq \\lVert A^{-1} \\rVert \\lVert \\delta A \\rVert \\big( \\lVert x \\rVert + \\lVert \\delta x \\rVert \\big) \\qquad \\text{(triangle inequality)}\\\\\n",
    "&= \\lVert A^{-1} \\rVert \\lVert A \\rVert \\frac{\\lVert \\delta A \\rVert}{\\lVert A \\rVert} \\big( \\lVert x \\rVert + \\lVert \\delta x \\rVert \\big) \\\\\n",
    "&= \\kappa(A) \\frac{\\lVert \\delta A \\rVert}{\\lVert A \\rVert} \\big( \\lVert x \\rVert + \\lVert \\delta x \\rVert \\big). \\\\\n",
    "\\end{align}\n",
    "$$\n",
    "\n"
   ]
  },
  {
   "cell_type": "markdown",
   "metadata": {},
   "source": [
    "Therefore, \n",
    "\n",
    "$$\n",
    "\\lVert \\delta x \\rVert - \\kappa(A) \\frac{\\lVert \\delta A \\rVert}{\\lVert A \\rVert} \\lVert \\delta x \\rVert\n",
    "\\leq \\kappa(A) \\frac{\\lVert \\delta A \\rVert}{\\lVert A \\rVert} \\lVert x \\rVert.\n",
    "$$\n",
    "\n",
    "Since $b \\neq 0$, we must have $x \\neq 0$, so we can divide both sides of this inequality by $\\lVert x \\rVert \\neq 0$ to obtain\n",
    "\n",
    "$$\n",
    "\\left( 1 - \\kappa(A) \\frac{\\lVert \\delta A \\rVert}{\\lVert A \\rVert} \\right) \\frac{\\lVert \\delta x \\rVert}{\\lVert x \\rVert}\n",
    "\\leq \\kappa(A) \\frac{\\lVert \\delta A \\rVert}{\\lVert A \\rVert} .\n",
    "$$"
   ]
  },
  {
   "cell_type": "markdown",
   "metadata": {},
   "source": [
    "Note that our assumption that $\\frac{\\lVert \\delta A \\rVert}{\\lVert A \\rVert} < \\frac{1}{\\kappa(A)}$ implies that \n",
    "\n",
    "$$\n",
    "1 - \\kappa(A) \\frac{\\lVert \\delta A \\rVert}{\\lVert A \\rVert} > 0.\n",
    "$$\n",
    "\n",
    "Therefore,\n",
    "\n",
    "$$\n",
    "\\frac{\\lVert \\delta x \\rVert}{\\lVert x \\rVert}\n",
    "\\leq \\frac{\\kappa(A) \\frac{\\lVert \\delta A \\rVert}{\\lVert A \\rVert}}{1 - \\kappa(A) \\frac{\\lVert \\delta A \\rVert}{\\lVert A \\rVert}},\n",
    "$$\n",
    "\n",
    "giving us a bound on the relative error $\\frac{\\lVert \\delta x \\rVert}{\\lVert x \\rVert}$."
   ]
  },
  {
   "cell_type": "markdown",
   "metadata": {},
   "source": [
    "Thus we have proved the following theorem.\n",
    "\n",
    "> ### Theorem: (Relative error bound II)\n",
    "Let $A$ be nonsingular, $b \\neq 0$, and $Ax = b$. If \n",
    ">\n",
    "$$\\frac{\\lVert \\delta A \\rVert}{\\lVert A \\rVert} < \\frac{1}{\\kappa(A)} \\qquad \\text{and} \\qquad (A + \\delta A)(x + \\delta x) = b,$$\n",
    ">\n",
    "then\n",
    ">\n",
    "$$\n",
    "\\frac{\\lVert \\delta x \\rVert}{\\lVert x \\rVert}\n",
    "\\leq \\frac{\\kappa(A) \\frac{\\lVert \\delta A \\rVert}{\\lVert A \\rVert}}{1 - \\kappa(A) \\frac{\\lVert \\delta A \\rVert}{\\lVert A \\rVert}}.\n",
    "$$"
   ]
  },
  {
   "cell_type": "markdown",
   "metadata": {},
   "source": [
    "**Note:**\n",
    "\n",
    "If $A$ is well-conditioned (i.e., $\\kappa(A)$ is not large), and the relative error of $A$ is much less than $\\kappa(A)^{-1}$, then \n",
    "\n",
    "$$\n",
    "1 - \\kappa(A) \\frac{\\lVert \\delta A \\rVert}{\\lVert A \\rVert} \\approx 1.\n",
    "$$"
   ]
  },
  {
   "cell_type": "markdown",
   "metadata": {},
   "source": [
    "---"
   ]
  },
  {
   "cell_type": "markdown",
   "metadata": {},
   "source": [
    "## Perturbing $A$ and $b$\n",
    "\n",
    "> ### Theorem: (Relative error bound III)\n",
    "Let $A$ be nonsingular, $b \\neq 0$, and $Ax = b$. If \n",
    ">\n",
    "$$\\frac{\\lVert \\delta A \\rVert}{\\lVert A \\rVert} < \\frac{1}{\\kappa(A)} \\qquad \\text{and} \\qquad (A + \\delta A)(x + \\delta x) = (b + \\delta b),$$\n",
    ">\n",
    "then\n",
    ">\n",
    "$$\n",
    "\\frac{\\lVert \\delta x \\rVert}{\\lVert x \\rVert}\n",
    "\\leq \n",
    "\\frac{\\kappa(A) \\left( \\frac{\\lVert \\delta A \\rVert}{\\lVert A \\rVert} + \\frac{\\lVert \\delta b \\rVert}{\\lVert b \\rVert} \\right)}\n",
    "     {1 - \\kappa(A) \\frac{\\lVert \\delta A \\rVert}{\\lVert A \\rVert}}.\n",
    "$$"
   ]
  },
  {
   "cell_type": "markdown",
   "metadata": {},
   "source": [
    "---"
   ]
  }
 ],
 "metadata": {
  "kernelspec": {
   "display_name": "Julia 0.4.7",
   "language": "julia",
   "name": "julia-0.4"
  },
  "language_info": {
   "file_extension": ".jl",
   "mimetype": "application/julia",
   "name": "julia",
   "version": "0.4.7"
  }
 },
 "nbformat": 4,
 "nbformat_minor": 0
}
