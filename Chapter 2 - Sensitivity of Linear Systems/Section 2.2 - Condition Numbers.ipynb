{
 "cells": [
  {
   "cell_type": "markdown",
   "metadata": {},
   "source": [
    "---\n",
    "# Section 2.2: Condition Numbers\n",
    "---"
   ]
  },
  {
   "cell_type": "markdown",
   "metadata": {},
   "source": [
    "Let $A$ be a nonsingular matrix, and suppose we solve $Ax = b$:\n",
    "\n",
    "$$\n",
    "\\begin{bmatrix}\n",
    "a_1^T \\\\\n",
    "a_2^T \\\\\n",
    "\\end{bmatrix}\n",
    "x = \n",
    "\\begin{bmatrix}\n",
    "b_1 \\\\\n",
    "b_2 \\\\\n",
    "\\end{bmatrix}\n",
    "$$\n",
    "\n",
    "Due to errors in the data and in the computation using finite precision, we get a solution $\\hat{x}$ that satisfies $A \\hat{x} = b + \\delta b$ instead:\n",
    "\n",
    "$$\n",
    "\\begin{bmatrix}\n",
    "a_1^T \\\\\n",
    "a_2^T \\\\\n",
    "\\end{bmatrix}\n",
    "\\hat{x} = \n",
    "\\begin{bmatrix}\n",
    "b_1 + \\delta b_1 \\\\\n",
    "b_2 + \\delta b_2 \\\\\n",
    "\\end{bmatrix}\n",
    "$$\n"
   ]
  },
  {
   "cell_type": "markdown",
   "metadata": {},
   "source": [
    "---"
   ]
  },
  {
   "cell_type": "code",
   "execution_count": null,
   "metadata": {
    "collapsed": true
   },
   "outputs": [],
   "source": [
    "# You may need to run this command to use PyPlot\n",
    "\n",
    "#Pkg.add(\"PyPlot\")"
   ]
  },
  {
   "cell_type": "code",
   "execution_count": 2,
   "metadata": {},
   "outputs": [
    {
     "data": {
      "image/png": "[encoded data removed]",
      "text/plain": [
       "PyPlot.Figure(PyObject <matplotlib.figure.Figure object at 0x325ee09d0>)"
      ]
     },
     "metadata": {},
     "output_type": "display_data"
    },
    {
     "name": "stdout",
     "output_type": "stream",
     "text": [
      "norm(δb) = 1.0307764064044151\n",
      "norm(xhat - xtrue) = 0.3535533905932738\n"
     ]
    }
   ],
   "source": [
    "using PyPlot\n",
    "\n",
    "x = linspace(-10, 10, 1000)\n",
    "\n",
    "A = [5 1; 0 1]\n",
    "xtrue = [1, 2]\n",
    "b = A*xtrue\n",
    "\n",
    "δb = [-1, .25]\n",
    "\n",
    "bhat = b + δb\n",
    "xhat = A\\bhat\n",
    "\n",
    "@show norm(δb)\n",
    "@show norm(xhat - xtrue)\n",
    "\n",
    "plot(xtrue[1], xtrue[2], \"ro\")\n",
    "for i = 1:2\n",
    "    plot(x, (b[i] - A[i,1]*x)/A[i,2], \"r\")\n",
    "end\n",
    "\n",
    "plot(xhat[1], xhat[2], \"bo\")\n",
    "for i = 1:2\n",
    "    plot(x, (bhat[i] - A[i,1]*x)/A[i,2], \"b--\")\n",
    "end\n",
    "\n",
    "plot([-10, 10], [0, 0], \"k\")\n",
    "plot([0, 0], [-10, 10], \"k\")\n",
    "\n",
    "ylim([-10, 10])\n",
    "\n",
    "axis(\"off\");"
   ]
  },
  {
   "cell_type": "markdown",
   "metadata": {},
   "source": [
    "In this case, a small $\\delta b$ resulted in $\\hat{x} \\approx x$.  That is,\n",
    "\n",
    "$$\n",
    "\\lVert \\delta b \\rVert \\text{ small} \\quad \\implies \\quad \\lVert \\delta x \\rVert = \\lVert \\hat{x} - x \\rVert \\text{ small}.\n",
    "$$\n",
    "\n",
    "When this happens, we say that the matrix $A$ is **well-conditioned**."
   ]
  },
  {
   "cell_type": "markdown",
   "metadata": {},
   "source": [
    "---"
   ]
  },
  {
   "cell_type": "code",
   "execution_count": 1,
   "metadata": {},
   "outputs": [
    {
     "data": {
      "image/png": "[encoded data removed]",
      "text/plain": [
       "PyPlot.Figure(PyObject <matplotlib.figure.Figure object at 0x31d135c10>)"
      ]
     },
     "metadata": {},
     "output_type": "display_data"
    },
    {
     "name": "stdout",
     "output_type": "stream",
     "text": [
      "norm(δb) = 0.3535533905932738\n",
      "norm(xhat - xtrue) = 5.006246098625196\n"
     ]
    }
   ],
   "source": [
    "using PyPlot\n",
    "\n",
    "x = linspace(-10, 10, 1000)\n",
    "\n",
    "A = [.1 1; 0 1]\n",
    "xtrue = [1, 2]\n",
    "b = A*xtrue\n",
    "\n",
    "δb = [-.25, .25]\n",
    "\n",
    "bhat = b + δb\n",
    "xhat = A\\bhat\n",
    "\n",
    "@show norm(δb)\n",
    "@show norm(xhat - xtrue)\n",
    "\n",
    "plot(xtrue[1], xtrue[2], \"ro\")\n",
    "for i = 1:2\n",
    "    plot(x, (b[i] - A[i,1]*x)/A[i,2], \"r\")\n",
    "end\n",
    "\n",
    "plot(xhat[1], xhat[2], \"bo\")\n",
    "for i = 1:2\n",
    "    plot(x, (bhat[i] - A[i,1]*x)/A[i,2], \"b--\")\n",
    "end\n",
    "\n",
    "plot([-10, 10], [0, 0], \"k\")\n",
    "plot([0, 0], [-10, 10], \"k\")\n",
    "\n",
    "ylim([-10, 10])\n",
    "\n",
    "axis(\"off\");"
   ]
  },
  {
   "cell_type": "markdown",
   "metadata": {},
   "source": [
    "This time, even though $\\lVert \\delta b \\rVert$ was small, we got a large error $\\lVert \\delta x \\rVert = \\lVert \\hat{x} - x \\rVert$.\n",
    "\n",
    "When this happens, we say that the matrix $A$ is **ill-conditioned**."
   ]
  },
  {
   "cell_type": "markdown",
   "metadata": {},
   "source": [
    "---"
   ]
  },
  {
   "cell_type": "markdown",
   "metadata": {},
   "source": [
    "## The condition number of $A$\n",
    "\n",
    "We want to estimate the **relative error** in computing $x$,\n",
    "\n",
    "$$\n",
    "\\frac{\\lVert \\delta x \\rVert}{\\lVert x \\rVert},\n",
    "$$\n",
    "\n",
    "in terms of the **relative error** in $b$,\n",
    "\n",
    "$$\n",
    "\\frac{\\lVert \\delta b \\rVert}{\\lVert b \\rVert},\n",
    "$$\n",
    "\n",
    "where\n",
    "\n",
    "$$\n",
    "Ax = b \\qquad \\text{and} \\qquad A(x + \\delta x) = b + \\delta b.\n",
    "$$"
   ]
  },
  {
   "cell_type": "markdown",
   "metadata": {},
   "source": [
    "First note that $A \\delta x = \\delta b$, so we have\n",
    "\n",
    "$$\n",
    "\\delta x = A^{-1} \\delta b.\n",
    "$$\n",
    "\n",
    "Therefore,\n",
    "\n",
    "$$\n",
    "\\lVert \\delta x \\rVert = \\lVert A^{-1} \\delta b \\rVert \\leq \n",
    "\\lVert A^{-1} \\rVert \\lVert \\delta b \\rVert.\n",
    "$$\n",
    "\n",
    "Also, $Ax = b$ implies that\n",
    "\n",
    "$$\n",
    "\\lVert b \\rVert = \\lVert Ax \\rVert \\leq \\lVert A \\rVert \\lVert x \\rVert.\n",
    "$$\n",
    "\n"
   ]
  },
  {
   "cell_type": "markdown",
   "metadata": {},
   "source": [
    "Thus,\n",
    "\n",
    "$$\n",
    "\\begin{align}\n",
    "\\frac{\\lVert \\delta x \\rVert}{\\lVert x \\rVert}\n",
    "&= \\frac{1}{\\lVert x \\rVert} \\lVert \\delta x \\rVert \\\\\n",
    "&\\leq \\frac{\\lVert A \\rVert}{\\lVert b \\rVert} \\lVert A^{-1} \\rVert \\lVert \\delta b \\rVert \\\\\n",
    "&= \\lVert A \\rVert \\lVert A^{-1} \\rVert \\frac{\\lVert \\delta b \\rVert}{\\lVert b \\rVert}. \\\\\n",
    "\\end{align}\n",
    "$$"
   ]
  },
  {
   "cell_type": "markdown",
   "metadata": {},
   "source": [
    "This tells us that if the relative error in $b$ is small, then the relative error in $x$ will be small (as long as $\\lVert A \\rVert \\lVert A^{-1} \\rVert$ is small).\n",
    "\n",
    "This key quantity of $\\lVert A \\rVert \\lVert A^{-1} \\rVert$ is called the **condition number** of $A$:\n",
    "\n",
    "$$\n",
    "\\kappa(A) = \\lVert A \\rVert \\lVert A^{-1} \\rVert.\n",
    "$$"
   ]
  },
  {
   "cell_type": "markdown",
   "metadata": {},
   "source": [
    "> ### Theorem: (Relative error bound I)\n",
    "> \n",
    "Let $A$ be nonsingular, $b \\neq 0$, and $Ax = b$. If \n",
    ">\n",
    "$$A(x + \\delta x) = b + \\delta b,$$\n",
    ">\n",
    "then\n",
    ">\n",
    "$$\n",
    "\\frac{\\lVert \\delta x \\rVert}{\\lVert x \\rVert}\n",
    "\\leq \\kappa(A) \\frac{\\lVert \\delta b \\rVert}{\\lVert b \\rVert}.\n",
    "$$\n"
   ]
  },
  {
   "cell_type": "markdown",
   "metadata": {},
   "source": [
    "If $\\kappa(A)$ is **small**, then\n",
    "\n",
    "$$\n",
    "\\frac{\\lVert \\delta b \\rVert}{\\lVert b \\rVert} \\text{ small} \\quad \\implies \\quad \\frac{\\lVert \\delta x \\rVert}{\\lVert x \\rVert} \\text{ small},\n",
    "$$\n",
    "\n",
    "so $A$ is **well-conditioned**.\n"
   ]
  },
  {
   "cell_type": "markdown",
   "metadata": {},
   "source": [
    "If $\\kappa(A)$ is **large**, then it is possible to have \n",
    "\n",
    "$$\n",
    "\\frac{\\lVert \\delta b \\rVert}{\\lVert b \\rVert} \\text{ small} \\quad \\text{and} \\quad \\frac{\\lVert \\delta x \\rVert}{\\lVert x \\rVert} \\text{ large},\n",
    "$$\n",
    "\n",
    "so $A$ is **badly conditioned**."
   ]
  },
  {
   "cell_type": "markdown",
   "metadata": {},
   "source": [
    "---"
   ]
  },
  {
   "cell_type": "markdown",
   "metadata": {},
   "source": [
    "## `cond`"
   ]
  },
  {
   "cell_type": "code",
   "execution_count": 2,
   "metadata": {},
   "outputs": [
    {
     "name": "stdout",
     "output_type": "stream",
     "text": [
      "search: cond Conda condskeel Condition contour3D contourf3D macroexpand\n",
      "\n"
     ]
    },
    {
     "data": {
      "text/markdown": [
       "```\n",
       "cond(M, [p])\n",
       "```\n",
       "\n",
       "Condition number of the matrix `M`, computed using the operator `p`-norm. Valid values for `p` are `1`, `2` (default), or `Inf`.\n"
      ],
      "text/plain": [
       "```\n",
       "cond(M, [p])\n",
       "```\n",
       "\n",
       "Condition number of the matrix `M`, computed using the operator `p`-norm. Valid values for `p` are `1`, `2` (default), or `Inf`.\n"
      ]
     },
     "execution_count": 2,
     "metadata": {},
     "output_type": "execute_result"
    }
   ],
   "source": [
    "?cond"
   ]
  },
  {
   "cell_type": "code",
   "execution_count": 3,
   "metadata": {},
   "outputs": [
    {
     "data": {
      "text/plain": [
       "5.20798724079689"
      ]
     },
     "execution_count": 3,
     "metadata": {},
     "output_type": "execute_result"
    }
   ],
   "source": [
    "# The well-conditioned A\n",
    "A = [5 1; 0 1]\n",
    "cond(A)"
   ]
  },
  {
   "cell_type": "code",
   "execution_count": 4,
   "metadata": {},
   "outputs": [
    {
     "data": {
      "text/plain": [
       "5.20798724079689"
      ]
     },
     "execution_count": 4,
     "metadata": {},
     "output_type": "execute_result"
    }
   ],
   "source": [
    "norm(A)*norm(inv(A))"
   ]
  },
  {
   "cell_type": "code",
   "execution_count": 5,
   "metadata": {},
   "outputs": [
    {
     "data": {
      "text/plain": [
       "20.050124999218763"
      ]
     },
     "execution_count": 5,
     "metadata": {},
     "output_type": "execute_result"
    }
   ],
   "source": [
    "# The ill-conditioned A\n",
    "A = [.1 1; 0 1]\n",
    "cond(A)"
   ]
  },
  {
   "cell_type": "markdown",
   "metadata": {},
   "source": [
    "---"
   ]
  },
  {
   "cell_type": "markdown",
   "metadata": {},
   "source": [
    "## An extreme example\n",
    "\n",
    "$$\n",
    "A = \n",
    "\\begin{bmatrix}\n",
    "1000 & 999 \\\\\n",
    "999 & 998 \\\\\n",
    "\\end{bmatrix},\n",
    "\\qquad\n",
    "A^{-1} = \n",
    "\\begin{bmatrix}\n",
    "-998 & 999 \\\\\n",
    "999 & -1000 \\\\\n",
    "\\end{bmatrix}\n",
    "$$"
   ]
  },
  {
   "cell_type": "code",
   "execution_count": 6,
   "metadata": {},
   "outputs": [
    {
     "data": {
      "text/plain": [
       "2x2 Array{Int64,2}:\n",
       " 1000  999\n",
       "  999  998"
      ]
     },
     "execution_count": 6,
     "metadata": {},
     "output_type": "execute_result"
    }
   ],
   "source": [
    "A = [1000 999; 999 998]"
   ]
  },
  {
   "cell_type": "code",
   "execution_count": 7,
   "metadata": {},
   "outputs": [
    {
     "data": {
      "text/plain": [
       "-0.9999999999763531"
      ]
     },
     "execution_count": 7,
     "metadata": {},
     "output_type": "execute_result"
    }
   ],
   "source": [
    "det(A)"
   ]
  },
  {
   "cell_type": "code",
   "execution_count": 8,
   "metadata": {},
   "outputs": [
    {
     "data": {
      "text/plain": [
       "3.9920059997083056e6"
      ]
     },
     "execution_count": 8,
     "metadata": {},
     "output_type": "execute_result"
    }
   ],
   "source": [
    "cond(A)"
   ]
  },
  {
   "cell_type": "markdown",
   "metadata": {},
   "source": [
    "Thus,\n",
    "\n",
    "$$\n",
    "\\kappa(A) \\approx 4 \\times 10^6.\n",
    "$$\n",
    "\n",
    "This is a very ill-conditioned matrix."
   ]
  },
  {
   "cell_type": "code",
   "execution_count": 9,
   "metadata": {},
   "outputs": [
    {
     "data": {
      "text/plain": [
       "2-element Array{Int64,1}:\n",
       " 1999\n",
       " 1997"
      ]
     },
     "execution_count": 9,
     "metadata": {},
     "output_type": "execute_result"
    }
   ],
   "source": [
    "x = [1; 1]\n",
    "b = A*x"
   ]
  },
  {
   "cell_type": "code",
   "execution_count": 10,
   "metadata": {},
   "outputs": [
    {
     "data": {
      "text/plain": [
       "2-element Array{Float64,1}:\n",
       "  1998.0\n",
       " -1998.0"
      ]
     },
     "execution_count": 10,
     "metadata": {},
     "output_type": "execute_result"
    }
   ],
   "source": [
    "δb = [-1; 1]\n",
    "xhat = A\\(b + δb)"
   ]
  },
  {
   "cell_type": "code",
   "execution_count": 11,
   "metadata": {},
   "outputs": [
    {
     "data": {
      "text/plain": [
       "2-element Array{Float64,1}:\n",
       "  1997.0\n",
       " -1999.0"
      ]
     },
     "execution_count": 11,
     "metadata": {},
     "output_type": "execute_result"
    }
   ],
   "source": [
    "δx = xhat - x"
   ]
  },
  {
   "cell_type": "code",
   "execution_count": 12,
   "metadata": {},
   "outputs": [
    {
     "data": {
      "text/plain": [
       "0.0005005004378126367"
      ]
     },
     "execution_count": 12,
     "metadata": {},
     "output_type": "execute_result"
    }
   ],
   "source": [
    "norm(δb)/norm(b)"
   ]
  },
  {
   "cell_type": "code",
   "execution_count": 13,
   "metadata": {},
   "outputs": [
    {
     "data": {
      "text/plain": [
       "1998.0002502975044"
      ]
     },
     "execution_count": 13,
     "metadata": {},
     "output_type": "execute_result"
    }
   ],
   "source": [
    "norm(δx)/norm(x)"
   ]
  },
  {
   "cell_type": "markdown",
   "metadata": {},
   "source": [
    "So we see that the relative error in $b$ is very small, but the relative error in $x$ is very large."
   ]
  },
  {
   "cell_type": "markdown",
   "metadata": {},
   "source": [
    "**Note**:\n",
    "\n",
    "The worst-case scenario is always possible. We just choose $x$ such that\n",
    "\n",
    "$$\n",
    "\\frac{\\lVert Ax \\rVert}{\\lVert x \\rVert} = \n",
    "\\max_{y \\neq 0} \\frac{\\lVert Ay \\rVert}{\\lVert y \\rVert} = \\lVert A \\rVert,\n",
    "$$\n",
    "\n",
    "and choose $\\delta b$ such that\n",
    "\n",
    "$$\n",
    "\\frac{\\lVert A^{-1}\\delta b \\rVert}{\\lVert \\delta b \\rVert} = \n",
    "\\max_{y \\neq 0} \\frac{\\lVert A^{-1}y \\rVert}{\\lVert y \\rVert} = \\lVert A^{-1} \\rVert.\n",
    "$$\n",
    "\n",
    "Then let $b = Ax$ and $\\delta x = A^{-1} \\delta b$, and we obtain\n",
    "\n",
    "$$\n",
    "\\frac{\\lVert \\delta x \\rVert}{\\lVert x \\rVert}\n",
    "= \\kappa(A) \\frac{\\lVert \\delta b \\rVert}{\\lVert b \\rVert}.\n",
    "$$\n"
   ]
  },
  {
   "cell_type": "markdown",
   "metadata": {},
   "source": [
    "---"
   ]
  }
 ],
 "metadata": {
  "anaconda-cloud": {},
  "kernelspec": {
   "display_name": "Julia 0.6.4",
   "language": "julia",
   "name": "julia-0.6"
  },
  "language_info": {
   "file_extension": ".jl",
   "mimetype": "application/julia",
   "name": "julia",
   "version": "0.6.4"
  }
 },
 "nbformat": 4,
 "nbformat_minor": 1
}
