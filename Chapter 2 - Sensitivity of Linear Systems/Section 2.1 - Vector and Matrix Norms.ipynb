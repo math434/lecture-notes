{
 "cells": [
  {
   "cell_type": "markdown",
   "metadata": {},
   "source": [
    "---\n",
    "# Section 2.1: Vector and Matrix Norms\n",
    "---"
   ]
  },
  {
   "cell_type": "markdown",
   "metadata": {},
   "source": [
    "## Motivation\n",
    "\n",
    "When solving $Ax = b$ numerically, we get a solution $\\hat{x}$ that satisfies\n",
    "\n",
    "$$\n",
    "\\hat{A} \\hat{x} = \\hat{b}.\n",
    "$$\n",
    "\n",
    "We hope that $\\hat{A} \\approx A$ and $\\hat{b} \\approx b$.\n",
    "\n",
    "It is for this reason that we need a way to measure the distance between both matrices and vectors."
   ]
  },
  {
   "cell_type": "markdown",
   "metadata": {},
   "source": [
    "---"
   ]
  },
  {
   "cell_type": "markdown",
   "metadata": {},
   "source": [
    "## Vector norms\n",
    "\n",
    "A (vector) **norm** is a function \n",
    "\n",
    "$$\n",
    "\\|\\cdot\\| : \\mathbb{R}^n \\rightarrow \\mathbb{R}\n",
    "$$\n",
    "\n",
    "that satisfies\n",
    "\n",
    "1. $\\|x\\| > 0$ if $x \\neq 0$ and $\\|0\\| = 0$\n",
    "2. $\\|\\alpha x\\| = |\\alpha| \\|x\\|$\n",
    "3. $\\|x + y\\| \\leq \\|x\\| + \\|y\\| \\qquad$ (triangle inequality)\n",
    "\n",
    "The **distance** between vectors $x$ and $y$ can then be measured by\n",
    "\n",
    "$$\n",
    "\\mathrm{dist}(x,y) = \\| x - y \\|.\n",
    "$$"
   ]
  },
  {
   "cell_type": "markdown",
   "metadata": {},
   "source": [
    "---"
   ]
  },
  {
   "cell_type": "markdown",
   "metadata": {},
   "source": [
    "## The $p$-norm\n",
    "\n",
    "$$\n",
    "\\|x\\|_p = \\left( \\sum_{i=1}^n \\left|x_i\\right|^p \\right)^{1/p}, \\quad 1 \\leq p \\leq \\infty.\n",
    "$$\n",
    "\n",
    "Some examples are:\n",
    "\n",
    "$$\n",
    "\\begin{array}{llclll}\n",
    "\\|x\\|_1 &=& \\displaystyle{\\sum_{i=1}^n |x_i|} &=& \\texttt{norm(x, 1)} \\qquad &\\text{(Manhattan norm)} \\\\\n",
    "\\|x\\|_2 &=& \\displaystyle{\\sqrt{\\sum_{i=1}^n |x_i|^2}} &=& \\texttt{norm(x)} \\qquad &\\text{(Euclidean norm)} \\\\\n",
    "\\|x\\|_\\infty &=& \\displaystyle{\\max_{i=1,\\ldots,n} |x_i|} &=& \\texttt{norm(x, inf)} \\qquad &\\text{(max-norm)} \\\\\n",
    "\\end{array}\n",
    "$$\n",
    "\n",
    "The **unit $p$-norm ball** is the set of vectors having $p$-norm at most $1$:\n",
    "\n",
    "$$\n",
    "B_p = \\big\\{ x \\in \\mathbb{R}^n : \\lVert x \\rVert_p \\leq 1 \\big\\}.\n",
    "$$"
   ]
  },
  {
   "cell_type": "markdown",
   "metadata": {},
   "source": [
    "---"
   ]
  },
  {
   "cell_type": "markdown",
   "metadata": {},
   "source": [
    "## `norm` of a vector"
   ]
  },
  {
   "cell_type": "code",
   "execution_count": 1,
   "metadata": {
    "collapsed": false
   },
   "outputs": [
    {
     "name": "stdout",
     "output_type": "stream",
     "text": [
      "search: norm normpath normalize_string vecnorm issubnormal UniformScaling\n",
      "\n"
     ]
    },
    {
     "data": {
      "text/markdown": [
       "```rst\n",
       "..  norm(A, [p])\n",
       "\n",
       "Compute the ``p``-norm of a vector or the operator norm of a matrix ``A``, defaulting to the ``p=2``-norm.\n",
       "\n",
       "For vectors, ``p`` can assume any numeric value (even though not all values produce a mathematically valid vector norm). In particular, ``norm(A, Inf)`` returns the largest value in ``abs(A)``, whereas ``norm(A, -Inf)`` returns the smallest.\n",
       "\n",
       "For matrices, the matrix norm induced by the vector ``p``-norm is used, where valid values of ``p`` are ``1``, ``2``, or ``Inf``. (Note that for sparse matrices, ``p=2`` is currently not implemented.) Use :func:`vecnorm` to compute the Frobenius norm.\n",
       "```\n"
      ],
      "text/plain": [
       "```rst\n",
       "..  norm(A, [p])\n",
       "\n",
       "Compute the ``p``-norm of a vector or the operator norm of a matrix ``A``, defaulting to the ``p=2``-norm.\n",
       "\n",
       "For vectors, ``p`` can assume any numeric value (even though not all values produce a mathematically valid vector norm). In particular, ``norm(A, Inf)`` returns the largest value in ``abs(A)``, whereas ``norm(A, -Inf)`` returns the smallest.\n",
       "\n",
       "For matrices, the matrix norm induced by the vector ``p``-norm is used, where valid values of ``p`` are ``1``, ``2``, or ``Inf``. (Note that for sparse matrices, ``p=2`` is currently not implemented.) Use :func:`vecnorm` to compute the Frobenius norm.\n",
       "```\n"
      ]
     },
     "execution_count": 1,
     "metadata": {},
     "output_type": "execute_result"
    }
   ],
   "source": [
    "?norm"
   ]
  },
  {
   "cell_type": "code",
   "execution_count": 2,
   "metadata": {
    "collapsed": false
   },
   "outputs": [
    {
     "data": {
      "text/plain": [
       "3-element Array{Float64,1}:\n",
       "  1.0\n",
       " -2.0\n",
       "  1.0"
      ]
     },
     "execution_count": 2,
     "metadata": {},
     "output_type": "execute_result"
    }
   ],
   "source": [
    "x = Float64[1, -2, 1]"
   ]
  },
  {
   "cell_type": "code",
   "execution_count": 3,
   "metadata": {
    "collapsed": false
   },
   "outputs": [
    {
     "data": {
      "text/plain": [
       "3-element Array{Float64,1}:\n",
       "  0.9\n",
       " -1.9\n",
       "  1.1"
      ]
     },
     "execution_count": 3,
     "metadata": {},
     "output_type": "execute_result"
    }
   ],
   "source": [
    "y = Float64[0.9, -1.9, 1.1]"
   ]
  },
  {
   "cell_type": "code",
   "execution_count": 4,
   "metadata": {
    "collapsed": false
   },
   "outputs": [
    {
     "data": {
      "text/plain": [
       "4.0"
      ]
     },
     "execution_count": 4,
     "metadata": {},
     "output_type": "execute_result"
    }
   ],
   "source": [
    "# The 1-norm of x\n",
    "norm(x, 1)"
   ]
  },
  {
   "cell_type": "code",
   "execution_count": 5,
   "metadata": {
    "collapsed": false
   },
   "outputs": [
    {
     "data": {
      "text/plain": [
       "2.0"
      ]
     },
     "execution_count": 5,
     "metadata": {},
     "output_type": "execute_result"
    }
   ],
   "source": [
    "# The 0-norm counts the number of nonzero entries in x\n",
    "norm([1, 0, 0, 0, 1], 0)"
   ]
  },
  {
   "cell_type": "code",
   "execution_count": 6,
   "metadata": {
    "collapsed": false
   },
   "outputs": [
    {
     "data": {
      "text/plain": [
       "0.30000000000000016"
      ]
     },
     "execution_count": 6,
     "metadata": {},
     "output_type": "execute_result"
    }
   ],
   "source": [
    "# The Manhattan distance between x and y\n",
    "norm(x - y, 1)"
   ]
  },
  {
   "cell_type": "code",
   "execution_count": 9,
   "metadata": {
    "collapsed": false
   },
   "outputs": [
    {
     "data": {
      "text/plain": [
       "2.449489742783178"
      ]
     },
     "execution_count": 9,
     "metadata": {},
     "output_type": "execute_result"
    }
   ],
   "source": [
    "# The Euclidean norm of x\n",
    "norm(x, 2)"
   ]
  },
  {
   "cell_type": "code",
   "execution_count": 10,
   "metadata": {
    "collapsed": false
   },
   "outputs": [
    {
     "data": {
      "text/plain": [
       "2.449489742783178"
      ]
     },
     "execution_count": 10,
     "metadata": {},
     "output_type": "execute_result"
    }
   ],
   "source": [
    "# The default norm is the Euclidean norm\n",
    "norm(x)"
   ]
  },
  {
   "cell_type": "code",
   "execution_count": 13,
   "metadata": {
    "collapsed": false
   },
   "outputs": [
    {
     "data": {
      "text/plain": [
       "0.1732050807568878"
      ]
     },
     "execution_count": 13,
     "metadata": {},
     "output_type": "execute_result"
    }
   ],
   "source": [
    "# The Euclidean distance between x and y\n",
    "norm(x - y)"
   ]
  },
  {
   "cell_type": "code",
   "execution_count": 14,
   "metadata": {
    "collapsed": false
   },
   "outputs": [
    {
     "data": {
      "text/plain": [
       "2.0"
      ]
     },
     "execution_count": 14,
     "metadata": {},
     "output_type": "execute_result"
    }
   ],
   "source": [
    "# The max-norm of x\n",
    "norm(x, Inf)"
   ]
  },
  {
   "cell_type": "code",
   "execution_count": 15,
   "metadata": {
    "collapsed": false
   },
   "outputs": [
    {
     "data": {
      "text/plain": [
       "0.10000000000000009"
      ]
     },
     "execution_count": 15,
     "metadata": {},
     "output_type": "execute_result"
    }
   ],
   "source": [
    "# The max-norm distance between x and y\n",
    "norm(x - y, Inf)"
   ]
  },
  {
   "cell_type": "markdown",
   "metadata": {},
   "source": [
    "---"
   ]
  },
  {
   "cell_type": "markdown",
   "metadata": {},
   "source": [
    "## The $A$-norm\n",
    "\n",
    "$$\n",
    "\\|x\\|_A = \\sqrt{x^T A x}\n",
    "$$\n",
    "\n",
    "where $A$ is an $n \\times n$ positive definite matrix.\n",
    "\n",
    "For example, when $A = I$, we have the usual Euclidean norm:\n",
    "\n",
    "$$\n",
    "\\|x\\|_I = \\|x\\|_2.\n",
    "$$"
   ]
  },
  {
   "cell_type": "markdown",
   "metadata": {},
   "source": [
    "---"
   ]
  },
  {
   "cell_type": "markdown",
   "metadata": {},
   "source": [
    "## The resistance distance on a social network\n",
    "\n",
    "A practical example of the $A$-norm is the **resistance distance** between individuals on a **social network**. \n",
    "\n",
    "A social network can be represented as a **graph** where individuals are **nodes** which are connected by an **edge** if they are friends.\n",
    "\n",
    "This graph can be represented using an **adjacency matrix** $A = [a_{ij}]$ where $a_{ij} = 1$ if $i$ and $j$ are friends, otherwise $a_{ij} = 0$; you cannot be friends with yourself, so $a_{ii} = 0$.\n",
    "\n",
    "The **Laplacian matrix** $L = [l_{ij}]$ of the graph has $l_{ii} = \\deg(i)$ (i.e., the number of friends of $i$), and $l_{ij} = -a_{ij}$ for $i \\neq j$. That is,\n",
    "\n",
    "$$\n",
    "L = \\mathrm{Diag}(Ae) - A,\n",
    "$$\n",
    "\n",
    "where $e$ is the vector of all ones, and $\\mathrm{Diag}(Ae)$ is the diagonal matrix with the vector $Ae$ on its diagonal.\n",
    "\n",
    "The **resistance distance** between $i$ and $j$ is then given by\n",
    "\n",
    "$$\n",
    "\\mathrm{dist}(i,j) = \\|e_i - e_j\\|_B,  \\qquad \\text{where $B = (L + ee^T)^{-1}$}.\n",
    "$$\n",
    "\n",
    "Here $e_i$ and $e_j$ are the $i^\\mathrm{th}$ and $j^\\mathrm{th}$ columns of the identity matrix. (Note: it can be shown that $L + ee^T$ is positive definite, which implies that $(L + ee^T)^{-1}$ is positive definite.)"
   ]
  },
  {
   "cell_type": "code",
   "execution_count": 20,
   "metadata": {
    "collapsed": false
   },
   "outputs": [
    {
     "data": {
      "text/plain": [
       "8x8 Array{Int64,2}:\n",
       " 0  1  0  0  0  0  1  1\n",
       " 1  0  1  0  1  1  1  0\n",
       " 0  1  0  0  0  0  1  1\n",
       " 0  0  0  0  1  0  1  1\n",
       " 0  1  0  1  0  0  0  1\n",
       " 0  1  0  0  0  0  0  1\n",
       " 1  1  1  1  0  0  0  1\n",
       " 1  0  1  1  1  1  1  0"
      ]
     },
     "execution_count": 20,
     "metadata": {},
     "output_type": "execute_result"
    }
   ],
   "source": [
    "n = 8\n",
    "A = Symmetric(rand(n, n))\n",
    "A = round(Int64, A)\n",
    "A = A - diagm(diag(A))  # Make the diagonal zero"
   ]
  },
  {
   "cell_type": "code",
   "execution_count": 21,
   "metadata": {
    "collapsed": false
   },
   "outputs": [
    {
     "data": {
      "text/plain": [
       "8x8 Array{Float64,2}:\n",
       "  3.0  -1.0   0.0   0.0   0.0   0.0  -1.0  -1.0\n",
       " -1.0   5.0  -1.0   0.0  -1.0  -1.0  -1.0   0.0\n",
       "  0.0  -1.0   3.0   0.0   0.0   0.0  -1.0  -1.0\n",
       "  0.0   0.0   0.0   3.0  -1.0   0.0  -1.0  -1.0\n",
       "  0.0  -1.0   0.0  -1.0   3.0   0.0   0.0  -1.0\n",
       "  0.0  -1.0   0.0   0.0   0.0   2.0   0.0  -1.0\n",
       " -1.0  -1.0  -1.0  -1.0   0.0   0.0   5.0  -1.0\n",
       " -1.0   0.0  -1.0  -1.0  -1.0  -1.0  -1.0   6.0"
      ]
     },
     "execution_count": 21,
     "metadata": {},
     "output_type": "execute_result"
    }
   ],
   "source": [
    "e = ones(n)\n",
    "L = diagm(A*e) - A"
   ]
  },
  {
   "cell_type": "code",
   "execution_count": 22,
   "metadata": {
    "collapsed": false
   },
   "outputs": [
    {
     "data": {
      "text/plain": [
       "8x8 Array{Float64,2}:\n",
       " 4.0  0.0  1.0  1.0  1.0  1.0  0.0  0.0\n",
       " 0.0  6.0  0.0  1.0  0.0  0.0  0.0  1.0\n",
       " 1.0  0.0  4.0  1.0  1.0  1.0  0.0  0.0\n",
       " 1.0  1.0  1.0  4.0  0.0  1.0  0.0  0.0\n",
       " 1.0  0.0  1.0  0.0  4.0  1.0  1.0  0.0\n",
       " 1.0  0.0  1.0  1.0  1.0  3.0  1.0  0.0\n",
       " 0.0  0.0  0.0  0.0  1.0  1.0  6.0  0.0\n",
       " 0.0  1.0  0.0  0.0  0.0  0.0  0.0  7.0"
      ]
     },
     "execution_count": 22,
     "metadata": {},
     "output_type": "execute_result"
    }
   ],
   "source": [
    "L + e*e'"
   ]
  },
  {
   "cell_type": "code",
   "execution_count": 23,
   "metadata": {
    "collapsed": false
   },
   "outputs": [
    {
     "data": {
      "text/plain": [
       "true"
      ]
     },
     "execution_count": 23,
     "metadata": {},
     "output_type": "execute_result"
    }
   ],
   "source": [
    "isposdef(L + e*e')"
   ]
  },
  {
   "cell_type": "code",
   "execution_count": 24,
   "metadata": {
    "collapsed": false
   },
   "outputs": [
    {
     "data": {
      "text/plain": [
       "8x8 Array{Float64,2}:\n",
       "  0.300768     0.00935015  -0.032565    …   0.0192905    -0.00133574 \n",
       "  0.00935015   0.179827     0.00935015     -0.00108723   -0.0256896  \n",
       " -0.032565     0.00935015   0.300768        0.0192905    -0.00133574 \n",
       " -0.0547652   -0.0532741   -0.0547652       0.00636804    0.00761059 \n",
       " -0.0572502   -0.00804548  -0.0572502      -0.0398546     0.00114935 \n",
       " -0.0584928    0.0145688   -0.0584928   …  -0.062966     -0.00208126 \n",
       "  0.0192905   -0.00108723   0.0192905       0.183803      0.000155318\n",
       " -0.00133574  -0.0256896   -0.00133574      0.000155318   0.146527   "
      ]
     },
     "execution_count": 24,
     "metadata": {},
     "output_type": "execute_result"
    }
   ],
   "source": [
    "B = inv(L + e*e')"
   ]
  },
  {
   "cell_type": "code",
   "execution_count": 26,
   "metadata": {
    "collapsed": false
   },
   "outputs": [
    {
     "data": {
      "text/plain": [
       "8x8 UpperTriangular{Float64,Array{Float64,2}}:\n",
       " 0.548423  0.0170491  -0.0593793  -0.0998593  …   0.0351745   -0.00243559 \n",
       " 0.0       0.423718    0.0244562  -0.121712      -0.00398124  -0.0605311  \n",
       " 0.0       0.0         0.544651   -0.105973       0.0394317    3.98128e-19\n",
       " 0.0       0.0         0.0         0.525374       0.0258381   -1.65094e-18\n",
       " 0.0       0.0         0.0         0.0           -0.062107    -4.10753e-19\n",
       " 0.0       0.0         0.0         0.0        …  -0.0990148   -1.07352e-19\n",
       " 0.0       0.0         0.0         0.0            0.408248    -8.85247e-20\n",
       " 0.0       0.0         0.0         0.0            0.0          0.377964   "
      ]
     },
     "execution_count": 26,
     "metadata": {},
     "output_type": "execute_result"
    }
   ],
   "source": [
    "chol(B)"
   ]
  },
  {
   "cell_type": "code",
   "execution_count": 28,
   "metadata": {
    "collapsed": false
   },
   "outputs": [
    {
     "data": {
      "text/plain": [
       "8-element Array{Float64,1}:\n",
       " 0.526246\n",
       " 0.432251\n",
       " 0.333333\n",
       " 0.277964\n",
       " 0.182884\n",
       " 0.163128\n",
       " 0.125   \n",
       " 0.131742"
      ]
     },
     "execution_count": 28,
     "metadata": {},
     "output_type": "execute_result"
    }
   ],
   "source": [
    "eigvals(B)"
   ]
  },
  {
   "cell_type": "code",
   "execution_count": 27,
   "metadata": {
    "collapsed": false
   },
   "outputs": [
    {
     "data": {
      "text/plain": [
       "false"
      ]
     },
     "execution_count": 27,
     "metadata": {},
     "output_type": "execute_result"
    }
   ],
   "source": [
    "isposdef(B)"
   ]
  },
  {
   "cell_type": "code",
   "execution_count": 29,
   "metadata": {
    "collapsed": false
   },
   "outputs": [
    {
     "data": {
      "text/plain": [
       "8x8 Array{Float64,2}:\n",
       " 0.0       0.679629  0.816497  0.849902  …  0.928169  0.667825  0.670796\n",
       " 0.679629  0.0       0.679629  0.773569     0.770995  0.604818  0.6146  \n",
       " 0.816497  0.679629  0.0       0.849902     0.928169  0.667825  0.670796\n",
       " 0.849902  0.773569  0.849902  0.0          0.962518  0.695055  0.665838\n",
       " 0.848731  0.707809  0.848731  0.723093     0.938465  0.754048  0.670302\n",
       " 0.928169  0.770995  0.928169  0.962518  …  0.0       0.868032  0.770995\n",
       " 0.667825  0.604818  0.667825  0.695055     0.868032  0.0       0.574474\n",
       " 0.670796  0.6146    0.670796  0.665838     0.770995  0.574474  0.0     "
      ]
     },
     "execution_count": 29,
     "metadata": {},
     "output_type": "execute_result"
    }
   ],
   "source": [
    "# Define the resistance norm\n",
    "resnorm(x) = sqrt(x'*B*x)[1]\n",
    "\n",
    "# Form the matrix of distances between all nodes\n",
    "I = eye(n)\n",
    "D = Float64[resnorm(I[:,i] - I[:,j]) for i = 1:n, j = 1:n]"
   ]
  },
  {
   "cell_type": "code",
   "execution_count": 30,
   "metadata": {
    "collapsed": false
   },
   "outputs": [
    {
     "data": {
      "text/plain": [
       "0.8499015652667136"
      ]
     },
     "execution_count": 30,
     "metadata": {},
     "output_type": "execute_result"
    }
   ],
   "source": [
    "D[3,4]"
   ]
  },
  {
   "cell_type": "code",
   "execution_count": 31,
   "metadata": {
    "collapsed": false
   },
   "outputs": [
    {
     "data": {
      "text/plain": [
       "0.9281689935476016"
      ]
     },
     "execution_count": 31,
     "metadata": {},
     "output_type": "execute_result"
    }
   ],
   "source": [
    "D[3,6]"
   ]
  },
  {
   "cell_type": "markdown",
   "metadata": {},
   "source": [
    "---"
   ]
  },
  {
   "cell_type": "markdown",
   "metadata": {},
   "source": [
    "## The Euclidean norm is a norm\n",
    "\n",
    "To prove that the **Euclidean norm** is indeed a norm, we need to show it satisfies the **triangle inequality**:\n",
    "\n",
    "$$\n",
    "\\|x + y\\|_2 \\leq \\|x\\|_2 + \\|y\\|_2.\n",
    "$$\n",
    "\n",
    "We will prove this using the following fundamental result.\n",
    "\n",
    "> ### Theorem: (Cauchy-Schwarz Inequality)\n",
    ">\n",
    "$$\n",
    "\\left|x^Ty\\right| \\leq \\|x\\|_2 \\|y\\|_2, \\qquad \\forall x, y \\in \\mathbb{R}^n.\n",
    "$$"
   ]
  },
  {
   "cell_type": "markdown",
   "metadata": {},
   "source": [
    "### Proof of the triangle inequality.\n",
    "\n",
    "Let $x, y \\in \\mathbb{R}^n$\n",
    "\n",
    "$$\n",
    "\\begin{align}\n",
    "\\|x + y\\|_2^2 \n",
    "&= (x+y)^T(x+y) \\\\\n",
    "&= x^Tx + x^Ty + y^Tx + y^Ty \\\\\n",
    "&= \\|x\\|_2^2 + 2x^Ty + \\|y\\|_2^2 \\\\\n",
    "&\\leq \\|x\\|_2^2 + 2\\|x\\|_2\\|y\\|_2 + \\|y\\|_2^2 \\qquad \\text{(Cauchy-Schwarz inequality)} \\\\\n",
    "&= \\big(\\|x\\|_2 + \\|y\\|_2\\big)^2. \\\\\n",
    "\\end{align}\n",
    "$$\n",
    "\n",
    "Taking the square root of both sides, we obtain $\\|x + y\\|_2 \\leq \\|x\\|_2 + \\|y\\|_2$. $\\blacksquare$"
   ]
  },
  {
   "cell_type": "markdown",
   "metadata": {},
   "source": [
    "---"
   ]
  },
  {
   "cell_type": "markdown",
   "metadata": {},
   "source": [
    "Now let's see a proof of the Cauchy-Schwarz inequality.\n",
    "\n",
    "### Proof of Cauchy-Schwarz.\n",
    "\n",
    "Let $t \\in \\mathbb{R}$. Then\n",
    "\n",
    "$$\n",
    "\\begin{align}\n",
    "0 \\leq \\|x + ty\\|_2^2 \n",
    "&= (x + ty)^T(x + ty) \\\\\n",
    "&= x^T x + 2tx^Ty + t^2y^Ty \\\\\n",
    "&= \\|x\\|_2^2 + \\big(2x^Ty\\big) t + \\|y\\|_2^2 t^2  \\\\\n",
    "&= c + bt + at^2,\n",
    "\\end{align}\n",
    "$$\n",
    "\n",
    "where \n",
    "\n",
    "$$\n",
    "a = \\|y\\|_2^2, \\qquad\n",
    "b = 2x^Ty, \\qquad \n",
    "c = \\|x\\|_2^2.\n",
    "$$"
   ]
  },
  {
   "cell_type": "markdown",
   "metadata": {},
   "source": [
    "$\\therefore$ $at^2 + bt + c \\geq 0$, $\\forall t \\in \\mathbb{R}$.\n",
    "\n",
    "This implies that the equation\n",
    "\n",
    "$$\n",
    "at^2 + bt + c = 0\n",
    "$$\n",
    "\n",
    "either has no solution or exactly one solution. By the **quadratic formula**,\n",
    "\n",
    "$$\n",
    "t = \\frac{-b \\pm \\sqrt{b^2 - 4ac}}{2a},\n",
    "$$\n",
    "\n",
    "we must have $b^2 - 4ac \\leq 0$."
   ]
  },
  {
   "cell_type": "markdown",
   "metadata": {},
   "source": [
    "Thus, \n",
    "\n",
    "$$\n",
    "\\big(2x^Ty\\big)^2 - 4 \\|y\\|_2^2 \\|x\\|_2^2 \\leq 0,\n",
    "$$\n",
    "\n",
    "which simplifies to\n",
    "\n",
    "$$\n",
    "\\left|x^Ty\\right| \\leq \\|x\\|_2 \\|y\\|_2. \\qquad \\blacksquare\n",
    "$$"
   ]
  },
  {
   "cell_type": "markdown",
   "metadata": {},
   "source": [
    "---"
   ]
  },
  {
   "cell_type": "markdown",
   "metadata": {},
   "source": [
    "## Matrix norms\n",
    "\n",
    "A **matrix norm** is a function \n",
    "\n",
    "$$\n",
    "\\|\\cdot\\| : \\mathbb{R}^{n \\times n} \\rightarrow \\mathbb{R}\n",
    "$$\n",
    "\n",
    "that satisfies\n",
    "\n",
    "1. $\\|A\\| > 0$ if $A \\neq 0$ and $\\|0\\| = 0$\n",
    "2. $\\|\\alpha A\\| = |\\alpha| \\|A\\|$\n",
    "3. $\\|A + B\\| \\leq \\|A\\| + \\|B\\|$\n",
    "4. $\\|AB\\| \\leq \\|A\\|\\|B\\| \\qquad$ (submultiplicativity)\n",
    "\n",
    "The **distance** between matrices $A$ and $B$ can then be measured by\n",
    "\n",
    "$$\n",
    "\\mathrm{dist}(A, B) = \\| A - B \\|.\n",
    "$$"
   ]
  },
  {
   "cell_type": "markdown",
   "metadata": {},
   "source": [
    "---"
   ]
  },
  {
   "cell_type": "markdown",
   "metadata": {},
   "source": [
    "### The Frobenius norm\n",
    "\n",
    "$$\n",
    "\\|A\\|_F = \\sqrt{\\sum_{i=1}^n \\sum_{j=1}^n |a_{ij}|^2} = \\texttt{vecnorm(A)}\n",
    "$$"
   ]
  },
  {
   "cell_type": "code",
   "execution_count": 2,
   "metadata": {
    "collapsed": false
   },
   "outputs": [
    {
     "data": {
      "text/plain": [
       "2x2 Array{Float64,2}:\n",
       " 1.0  2.0\n",
       " 3.0  4.0"
      ]
     },
     "execution_count": 2,
     "metadata": {},
     "output_type": "execute_result"
    }
   ],
   "source": [
    "A = [1 2; 3 4.0]"
   ]
  },
  {
   "cell_type": "code",
   "execution_count": 3,
   "metadata": {
    "collapsed": false
   },
   "outputs": [
    {
     "data": {
      "text/plain": [
       "5.477225575051661"
      ]
     },
     "execution_count": 3,
     "metadata": {},
     "output_type": "execute_result"
    }
   ],
   "source": [
    "vecnorm(A)"
   ]
  },
  {
   "cell_type": "code",
   "execution_count": 4,
   "metadata": {
    "collapsed": false
   },
   "outputs": [
    {
     "data": {
      "text/plain": [
       "5.477225575051661"
      ]
     },
     "execution_count": 4,
     "metadata": {},
     "output_type": "execute_result"
    }
   ],
   "source": [
    "sqrt(30)"
   ]
  },
  {
   "cell_type": "code",
   "execution_count": 5,
   "metadata": {
    "collapsed": false
   },
   "outputs": [
    {
     "name": "stdout",
     "output_type": "stream",
     "text": [
      "search: vecnorm\n",
      "\n"
     ]
    },
    {
     "data": {
      "text/markdown": [
       "```\n",
       "vecnorm(A, [p])\n",
       "```\n",
       "\n",
       "For any iterable container `A` (including arrays of any dimension) of numbers (or any element type for which `norm` is defined), compute the `p`-norm (defaulting to `p=2`) as if `A` were a vector of the corresponding length.\n",
       "\n",
       "For example, if `A` is a matrix and `p=2`, then this is equivalent to the Frobenius norm.\n"
      ],
      "text/plain": [
       "```\n",
       "vecnorm(A, [p])\n",
       "```\n",
       "\n",
       "For any iterable container `A` (including arrays of any dimension) of numbers (or any element type for which `norm` is defined), compute the `p`-norm (defaulting to `p=2`) as if `A` were a vector of the corresponding length.\n",
       "\n",
       "For example, if `A` is a matrix and `p=2`, then this is equivalent to the Frobenius norm.\n"
      ]
     },
     "execution_count": 5,
     "metadata": {},
     "output_type": "execute_result"
    }
   ],
   "source": [
    "?vecnorm"
   ]
  },
  {
   "cell_type": "markdown",
   "metadata": {},
   "source": [
    "---"
   ]
  },
  {
   "cell_type": "markdown",
   "metadata": {},
   "source": [
    "### Exercise\n",
    "\n",
    "Compute $\\lVert I \\rVert_F$, where $I$ is the $n \\times n$ identity matrix."
   ]
  },
  {
   "cell_type": "markdown",
   "metadata": {},
   "source": [
    "$\\|I\\|_F = \\sqrt{n}$"
   ]
  },
  {
   "cell_type": "markdown",
   "metadata": {},
   "source": [
    "---"
   ]
  },
  {
   "cell_type": "code",
   "execution_count": 7,
   "metadata": {
    "collapsed": false
   },
   "outputs": [
    {
     "data": {
      "text/plain": [
       "4x4 Array{Float64,2}:\n",
       " 1.0  0.0  0.0  0.0\n",
       " 0.0  1.0  0.0  0.0\n",
       " 0.0  0.0  1.0  0.0\n",
       " 0.0  0.0  0.0  1.0"
      ]
     },
     "execution_count": 7,
     "metadata": {},
     "output_type": "execute_result"
    }
   ],
   "source": [
    "I = eye(4)"
   ]
  },
  {
   "cell_type": "code",
   "execution_count": 8,
   "metadata": {
    "collapsed": false
   },
   "outputs": [
    {
     "data": {
      "text/plain": [
       "2.0"
      ]
     },
     "execution_count": 8,
     "metadata": {},
     "output_type": "execute_result"
    }
   ],
   "source": [
    "vecnorm(I)"
   ]
  },
  {
   "cell_type": "markdown",
   "metadata": {},
   "source": [
    "---"
   ]
  },
  {
   "cell_type": "markdown",
   "metadata": {},
   "source": [
    "## Induced Matrix Norms\n",
    "\n",
    "Let $\\|\\cdot\\| : \\mathbb{R}^n \\rightarrow \\mathbb{R}$ be a vector norm.\n",
    "\n",
    "The **induced matrix norm** (a.k.a. the **operator norm**) is defined as\n",
    "\n",
    "$$\n",
    "\\|A\\| = \\max_{x \\neq 0} \\frac{\\|Ax\\|}{\\|x\\|} = \\max_{\\|x\\| = 1} \\|Ax\\|.\n",
    "$$\n",
    "\n",
    "The induced matrix norm is a norm."
   ]
  },
  {
   "cell_type": "markdown",
   "metadata": {},
   "source": [
    "---"
   ]
  },
  {
   "cell_type": "markdown",
   "metadata": {},
   "source": [
    "## Exercise\n",
    "\n",
    "Let $\\|\\cdot\\|$ be an induced matrix norm. Compute $\\|I\\|$."
   ]
  },
  {
   "cell_type": "markdown",
   "metadata": {},
   "source": [
    "$\\|I\\| = 1$"
   ]
  },
  {
   "cell_type": "markdown",
   "metadata": {},
   "source": [
    "---"
   ]
  },
  {
   "cell_type": "markdown",
   "metadata": {},
   "source": [
    "## Examples\n",
    "\n",
    "$$\n",
    "\\begin{array}{llclll}\n",
    "\\|A\\|_p &=& \\displaystyle{\\max_{x \\neq 0} \\frac{\\|Ax\\|_p}{\\|x\\|_p}} &=& \\texttt{norm(A, p)} \\qquad &\\text{($p$-norm)} \\\\\n",
    "\\|A\\|_1 &=& \\displaystyle{\\max_{1 \\leq j \\leq n} \\sum_{i=1}^n |a_{ij}|} &=& \\texttt{norm(A, 1)} \\qquad &\\text{(max-column-sum)} \\\\\n",
    "\\|A\\|_2 &=& \\displaystyle{\\sqrt{\\lambda_{\\max}\\left(A^TA\\right)}} &=& \\texttt{norm(A)} \\qquad &\\text{(spectral norm)} \\\\\n",
    "\\|A\\|_\\infty &=& \\displaystyle{\\max_{1 \\leq i \\leq n} \\sum_{j=1}^n |a_{ij}|} &=& \\texttt{norm(A, Inf)} \\qquad &\\text{(max-row-sum)} \\\\\n",
    "\\end{array}\n",
    "$$\n",
    "\n",
    "**Note:** $\\lambda_{\\max}\\left(A^TA\\right)$ is the **largest eigenvalue** of the symmetric matrix $A^TA$; $\\sqrt{\\lambda_{\\max}\\left(A^TA\\right)}$ is the **largest singular value** of the matrix $A$.\n",
    "\n",
    "However, the Frobenius norm is **not** an induced matrix norm."
   ]
  },
  {
   "cell_type": "code",
   "execution_count": 16,
   "metadata": {
    "collapsed": false
   },
   "outputs": [
    {
     "data": {
      "text/plain": [
       "3.25661653798294"
      ]
     },
     "execution_count": 16,
     "metadata": {},
     "output_type": "execute_result"
    }
   ],
   "source": [
    "A = [1 3; -2 0.0]\n",
    "\n",
    "sqrt(maximum(eigvals(A'*A)))"
   ]
  },
  {
   "cell_type": "code",
   "execution_count": 18,
   "metadata": {
    "collapsed": false
   },
   "outputs": [
    {
     "data": {
      "text/plain": [
       "3.2566165379829384"
      ]
     },
     "execution_count": 18,
     "metadata": {},
     "output_type": "execute_result"
    }
   ],
   "source": [
    "maximum(svdvals(A))"
   ]
  },
  {
   "cell_type": "markdown",
   "metadata": {},
   "source": [
    "---"
   ]
  },
  {
   "cell_type": "markdown",
   "metadata": {},
   "source": [
    "## `norm` of a matrix"
   ]
  },
  {
   "cell_type": "code",
   "execution_count": 20,
   "metadata": {
    "collapsed": false
   },
   "outputs": [
    {
     "data": {
      "text/plain": [
       "3x3 Array{Float64,2}:\n",
       " 1.0  2.0  3.0\n",
       " 4.0  5.0  6.0\n",
       " 7.0  8.0  9.0"
      ]
     },
     "execution_count": 20,
     "metadata": {},
     "output_type": "execute_result"
    }
   ],
   "source": [
    "A = [1 2 3; 4 5 6; 7 8 9.0]"
   ]
  },
  {
   "cell_type": "code",
   "execution_count": 21,
   "metadata": {
    "collapsed": false
   },
   "outputs": [
    {
     "data": {
      "text/plain": [
       "18.0"
      ]
     },
     "execution_count": 21,
     "metadata": {},
     "output_type": "execute_result"
    }
   ],
   "source": [
    "# max-column-sum\n",
    "norm(A, 1)"
   ]
  },
  {
   "cell_type": "code",
   "execution_count": 22,
   "metadata": {
    "collapsed": false
   },
   "outputs": [
    {
     "data": {
      "text/plain": [
       "24.0"
      ]
     },
     "execution_count": 22,
     "metadata": {},
     "output_type": "execute_result"
    }
   ],
   "source": [
    "# max-row-sum\n",
    "norm(A, Inf)"
   ]
  },
  {
   "cell_type": "code",
   "execution_count": 24,
   "metadata": {
    "collapsed": false
   },
   "outputs": [
    {
     "data": {
      "text/plain": [
       "16.84810335261421"
      ]
     },
     "execution_count": 24,
     "metadata": {},
     "output_type": "execute_result"
    }
   ],
   "source": [
    "# spectral norm\n",
    "norm(A)"
   ]
  },
  {
   "cell_type": "code",
   "execution_count": 25,
   "metadata": {
    "collapsed": false
   },
   "outputs": [
    {
     "data": {
      "text/plain": [
       "3-element Array{Float64,1}:\n",
       " 16.8481     \n",
       "  1.06837    \n",
       "  4.41842e-16"
      ]
     },
     "execution_count": 25,
     "metadata": {},
     "output_type": "execute_result"
    }
   ],
   "source": [
    "# The spectral norm of A is the \n",
    "# maximum singular value of A\n",
    "svdvals(A)"
   ]
  },
  {
   "cell_type": "code",
   "execution_count": 28,
   "metadata": {
    "collapsed": false
   },
   "outputs": [
    {
     "data": {
      "text/plain": [
       "3-element Array{Float64,1}:\n",
       "  0.0    \n",
       "  1.06837\n",
       " 16.8481 "
      ]
     },
     "execution_count": 28,
     "metadata": {},
     "output_type": "execute_result"
    }
   ],
   "source": [
    "# The singular values of A are the square root of the\n",
    "# eigenvalues of A'*A\n",
    "λ = max(eigvals(A'*A), 0)\n",
    "sqrt(λ)"
   ]
  },
  {
   "cell_type": "markdown",
   "metadata": {},
   "source": [
    "---"
   ]
  },
  {
   "cell_type": "markdown",
   "metadata": {},
   "source": [
    "## Induced Matrix Norm Inequality\n",
    "\n",
    "> ### Theorem: (Induced Matrix Norm Inequality)\n",
    ">\n",
    "> Let $\\|\\cdot\\| : \\mathbb{R}^n \\rightarrow \\mathbb{R}$ be a vector norm. Then the corresponding induced matrix norm satisfies\n",
    ">\n",
    "$$\\|Ax\\| \\leq \\|A\\|\\|x\\|,\\qquad \\text{for all $A \\in \\mathbb{R}^{n \\times n}$ and $x \\in \\mathbb{R}^n$.}$$"
   ]
  },
  {
   "cell_type": "markdown",
   "metadata": {},
   "source": [
    "---"
   ]
  }
 ],
 "metadata": {
  "anaconda-cloud": {},
  "kernelspec": {
   "display_name": "Julia 0.4.7",
   "language": "julia",
   "name": "julia-0.4"
  },
  "language_info": {
   "file_extension": ".jl",
   "mimetype": "application/julia",
   "name": "julia",
   "version": "0.4.7"
  }
 },
 "nbformat": 4,
 "nbformat_minor": 0
}
