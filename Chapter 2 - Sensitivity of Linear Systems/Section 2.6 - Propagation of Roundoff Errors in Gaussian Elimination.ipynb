{
 "cells": [
  {
   "cell_type": "markdown",
   "metadata": {},
   "source": [
    "---\n",
    "# Section 2.6: Propagation of Roundoff Errors in Gaussian Elimination\n",
    "---"
   ]
  },
  {
   "cell_type": "markdown",
   "metadata": {},
   "source": [
    "The $n \\times n$ Hilbert matrix $H$ is defined by\n",
    "$$h_{ij} = \\frac{1}{i+j-1}, \\quad i,j = 1,\\ldots,n.$$\n",
    "This matrix is known to be very ill-conditioned.\n",
    "\n",
    "Catastrophic cancellation during Gaussian elimination can occur on such badly conditioned matrices."
   ]
  },
  {
   "cell_type": "code",
   "execution_count": 1,
   "metadata": {
    "collapsed": false
   },
   "outputs": [
    {
     "data": {
      "text/plain": [
       "7x7 Array{Rational{BigInt},2}:\n",
       " 1//1  1//2  1//3  1//4   1//5   1//6   1//7 \n",
       " 1//2  1//3  1//4  1//5   1//6   1//7   1//8 \n",
       " 1//3  1//4  1//5  1//6   1//7   1//8   1//9 \n",
       " 1//4  1//5  1//6  1//7   1//8   1//9   1//10\n",
       " 1//5  1//6  1//7  1//8   1//9   1//10  1//11\n",
       " 1//6  1//7  1//8  1//9   1//10  1//11  1//12\n",
       " 1//7  1//8  1//9  1//10  1//11  1//12  1//13"
      ]
     },
     "execution_count": 1,
     "metadata": {},
     "output_type": "execute_result"
    }
   ],
   "source": [
    "n = 7\n",
    "H = Rational{BigInt}[1//(i+j-1) for i=1:n, j=1:n]"
   ]
  },
  {
   "cell_type": "markdown",
   "metadata": {},
   "source": [
    "The inverse of $H$ is integer."
   ]
  },
  {
   "cell_type": "code",
   "execution_count": 5,
   "metadata": {
    "collapsed": false
   },
   "outputs": [
    {
     "data": {
      "text/plain": [
       "7x7 Array{Rational{BigInt},2}:\n",
       "     49//1     -1176//1       8820//1  …      -38808//1      12012//1\n",
       "  -1176//1     37632//1    -317520//1        1596672//1    -504504//1\n",
       "   8820//1   -317520//1    2857680//1      -15717240//1    5045040//1\n",
       " -29400//1   1128960//1  -10584000//1       62092800//1  -20180160//1\n",
       "  48510//1  -1940400//1   18711000//1     -115259760//1   37837800//1\n",
       " -38808//1   1596672//1  -15717240//1  …   100590336//1  -33297264//1\n",
       "  12012//1   -504504//1    5045040//1      -33297264//1   11099088//1"
      ]
     },
     "execution_count": 5,
     "metadata": {},
     "output_type": "execute_result"
    }
   ],
   "source": [
    "inv(H)"
   ]
  },
  {
   "cell_type": "code",
   "execution_count": 4,
   "metadata": {
    "collapsed": false
   },
   "outputs": [
    {
     "data": {
      "text/plain": [
       "7x7 Array{Int64,2}:\n",
       "     49     -1176       8820     -29400       48510      -38808      12012\n",
       "  -1176     37632    -317520    1128960    -1940400     1596672    -504504\n",
       "   8820   -317520    2857680  -10584000    18711000   -15717240    5045040\n",
       " -29400   1128960  -10584000   40320000   -72765000    62092800  -20180160\n",
       "  48510  -1940400   18711000  -72765000   133402500  -115259760   37837800\n",
       " -38808   1596672  -15717240   62092800  -115259760   100590336  -33297264\n",
       "  12012   -504504    5045040  -20180160    37837800   -33297264   11099088"
      ]
     },
     "execution_count": 4,
     "metadata": {},
     "output_type": "execute_result"
    }
   ],
   "source": [
    "invH = round(Int, inv(H))"
   ]
  },
  {
   "cell_type": "code",
   "execution_count": 7,
   "metadata": {
    "collapsed": false
   },
   "outputs": [
    {
     "data": {
      "text/plain": [
       "7x7 Array{Rational{BigInt},2}:\n",
       " 1//1  0//1  0//1  0//1  0//1  0//1  0//1\n",
       " 0//1  1//1  0//1  0//1  0//1  0//1  0//1\n",
       " 0//1  0//1  1//1  0//1  0//1  0//1  0//1\n",
       " 0//1  0//1  0//1  1//1  0//1  0//1  0//1\n",
       " 0//1  0//1  0//1  0//1  1//1  0//1  0//1\n",
       " 0//1  0//1  0//1  0//1  0//1  1//1  0//1\n",
       " 0//1  0//1  0//1  0//1  0//1  0//1  1//1"
      ]
     },
     "execution_count": 7,
     "metadata": {},
     "output_type": "execute_result"
    }
   ],
   "source": [
    "invH*H"
   ]
  },
  {
   "cell_type": "code",
   "execution_count": 6,
   "metadata": {
    "collapsed": false
   },
   "outputs": [
    {
     "data": {
      "text/plain": [
       "7x7 Array{Int64,2}:\n",
       " 1  0  0  0  0  0  0\n",
       " 0  1  0  0  0  0  0\n",
       " 0  0  1  0  0  0  0\n",
       " 0  0  0  1  0  0  0\n",
       " 0  0  0  0  1  0  0\n",
       " 0  0  0  0  0  1  0\n",
       " 0  0  0  0  0  0  1"
      ]
     },
     "execution_count": 6,
     "metadata": {},
     "output_type": "execute_result"
    }
   ],
   "source": [
    "round(Int, invH*H)"
   ]
  },
  {
   "cell_type": "markdown",
   "metadata": {},
   "source": [
    "We will first compute the $LU$-decomposition of $H$ using fractional arithmetic to find the _exact_ values of $U$."
   ]
  },
  {
   "cell_type": "code",
   "execution_count": 8,
   "metadata": {
    "collapsed": false
   },
   "outputs": [
    {
     "data": {
      "text/plain": [
       "7x7 Array{Rational{BigInt},2}:\n",
       " 1//1  1//2   1//3     1//4      1//5        1//6        1//7       \n",
       " 0//1  1//12  1//12    3//40     1//15       5//84       3//56      \n",
       " 0//1  0//1   5//504   1//63     2//105    100//4851    25//1176    \n",
       " 0//1  0//1   0//1    -1//1800  -1//875     -1//616     -1//504     \n",
       " 0//1  0//1   0//1     0//1      1//40425    5//77616    5//45864   \n",
       " 0//1  0//1   0//1     0//1      0//1        1//620928   1//203840  \n",
       " 0//1  0//1   0//1     0//1      0//1        0//1        1//37837800"
      ]
     },
     "execution_count": 8,
     "metadata": {},
     "output_type": "execute_result"
    }
   ],
   "source": [
    "L, U, p = lu(H);\n",
    "U"
   ]
  },
  {
   "cell_type": "markdown",
   "metadata": {},
   "source": [
    "Now let's store the Hilbert matrix $H$ in double floating-point format."
   ]
  },
  {
   "cell_type": "code",
   "execution_count": 10,
   "metadata": {
    "collapsed": false
   },
   "outputs": [
    {
     "data": {
      "text/plain": [
       "7x7 Array{Float64,2}:\n",
       " 1.0       0.5       0.333333  0.25      0.2        0.166667   0.142857 \n",
       " 0.5       0.333333  0.25      0.2       0.166667   0.142857   0.125    \n",
       " 0.333333  0.25      0.2       0.166667  0.142857   0.125      0.111111 \n",
       " 0.25      0.2       0.166667  0.142857  0.125      0.111111   0.1      \n",
       " 0.2       0.166667  0.142857  0.125     0.111111   0.1        0.0909091\n",
       " 0.166667  0.142857  0.125     0.111111  0.1        0.0909091  0.0833333\n",
       " 0.142857  0.125     0.111111  0.1       0.0909091  0.0833333  0.0769231"
      ]
     },
     "execution_count": 10,
     "metadata": {},
     "output_type": "execute_result"
    }
   ],
   "source": [
    "Hd = map(Float64, H)"
   ]
  },
  {
   "cell_type": "markdown",
   "metadata": {},
   "source": [
    "The following $LU$-decomposition is computed using floating-point arithmetic."
   ]
  },
  {
   "cell_type": "code",
   "execution_count": 11,
   "metadata": {
    "collapsed": false
   },
   "outputs": [
    {
     "data": {
      "text/plain": [
       "7x7 Array{Float64,2}:\n",
       " 1.0  0.5        0.333333    0.25        …   0.166667     0.142857   \n",
       " 0.0  0.0833333  0.0888889   0.0833333       0.0694444    0.0634921  \n",
       " 0.0  0.0        0.00634921  0.0107143       0.014881     0.0156986  \n",
       " 0.0  0.0        0.0         0.00104167      0.0031002    0.00381563 \n",
       " 0.0  0.0        0.0         0.0            -8.5034e-5   -0.000142714\n",
       " 0.0  0.0        0.0         0.0         …   8.85771e-7   2.6759e-6  \n",
       " 0.0  0.0        0.0         0.0             0.0         -3.00325e-8 "
      ]
     },
     "execution_count": 11,
     "metadata": {},
     "output_type": "execute_result"
    }
   ],
   "source": [
    "Ld, Ud, pd = lu(Hd);\n",
    "Ud"
   ]
  },
  {
   "cell_type": "markdown",
   "metadata": {},
   "source": [
    "Comparing the true $U$ with the $U_d$ that was computed using floating point arithmetic, we see that there a complete loss of precision."
   ]
  },
  {
   "cell_type": "code",
   "execution_count": 13,
   "metadata": {
    "collapsed": false
   },
   "outputs": [
    {
     "data": {
      "text/plain": [
       "7x7 Array{Float64,2}:\n",
       " 1.0  0.5        0.333333     0.25         …   0.166667     0.142857   \n",
       " 0.0  0.0833333  0.0833333    0.075            0.0595238    0.0535714  \n",
       " 0.0  0.0        0.00992063   0.015873         0.0206143    0.0212585  \n",
       " 0.0  0.0        0.0         -0.000555556     -0.00162338  -0.00198413 \n",
       " 0.0  0.0        0.0          0.0              6.44197e-5   0.000109018\n",
       " 0.0  0.0        0.0          0.0          …   1.61049e-6   4.90581e-6 \n",
       " 0.0  0.0        0.0          0.0              0.0          2.64286e-8 "
      ]
     },
     "execution_count": 13,
     "metadata": {},
     "output_type": "execute_result"
    }
   ],
   "source": [
    "map(Float64, U)"
   ]
  },
  {
   "cell_type": "code",
   "execution_count": 14,
   "metadata": {
    "collapsed": false
   },
   "outputs": [
    {
     "data": {
      "text/plain": [
       "0.019546392954072952"
      ]
     },
     "execution_count": 14,
     "metadata": {},
     "output_type": "execute_result"
    }
   ],
   "source": [
    "norm(Ud - map(Float64,U))/norm(map(Float64, U))"
   ]
  },
  {
   "cell_type": "markdown",
   "metadata": {},
   "source": [
    "However, the error in the $LU$-decomposition of $H$ is small."
   ]
  },
  {
   "cell_type": "code",
   "execution_count": 15,
   "metadata": {
    "collapsed": false
   },
   "outputs": [
    {
     "data": {
      "text/plain": [
       "7x7 Array{Float64,2}:\n",
       " 0.0  0.0  0.0          0.0   0.0           0.0          0.0        \n",
       " 0.0  0.0  0.0          0.0   0.0           0.0          0.0        \n",
       " 0.0  0.0  0.0          0.0   0.0          -1.38778e-17  0.0        \n",
       " 0.0  0.0  0.0          0.0   0.0           2.77556e-17  0.0        \n",
       " 0.0  0.0  0.0          0.0   0.0          -1.38778e-17  0.0        \n",
       " 0.0  0.0  2.77556e-17  0.0   0.0           1.38778e-17  1.38778e-17\n",
       " 0.0  0.0  0.0          0.0  -1.38778e-17  -1.38778e-17  0.0        "
      ]
     },
     "execution_count": 15,
     "metadata": {},
     "output_type": "execute_result"
    }
   ],
   "source": [
    "E = Ld*Ud - Hd[pd,:]"
   ]
  },
  {
   "cell_type": "code",
   "execution_count": 16,
   "metadata": {
    "collapsed": false
   },
   "outputs": [
    {
     "data": {
      "text/plain": [
       "2.5463499572255483e-17"
      ]
     },
     "execution_count": 16,
     "metadata": {},
     "output_type": "execute_result"
    }
   ],
   "source": [
    "norm(E)/norm(Hd)"
   ]
  },
  {
   "cell_type": "markdown",
   "metadata": {},
   "source": [
    "# Solving $Hx = b$"
   ]
  },
  {
   "cell_type": "code",
   "execution_count": 17,
   "metadata": {
    "collapsed": false
   },
   "outputs": [
    {
     "data": {
      "text/plain": [
       "16-element Array{Rational{BigInt},1}:\n",
       " 1//1\n",
       " 1//1\n",
       " 1//1\n",
       " 1//1\n",
       " 1//1\n",
       " 1//1\n",
       " 1//1\n",
       " 1//1\n",
       " 1//1\n",
       " 1//1\n",
       " 1//1\n",
       " 1//1\n",
       " 1//1\n",
       " 1//1\n",
       " 1//1\n",
       " 1//1"
      ]
     },
     "execution_count": 17,
     "metadata": {},
     "output_type": "execute_result"
    }
   ],
   "source": [
    "n = 16\n",
    "H = Rational{BigInt}[1//(i+j-1) for i=1:n, j=1:n]\n",
    "x = ones(Rational{BigInt}, n)\n",
    "b = H*x\n",
    "xhat = H\\b"
   ]
  },
  {
   "cell_type": "code",
   "execution_count": 18,
   "metadata": {
    "collapsed": false
   },
   "outputs": [
    {
     "data": {
      "text/plain": [
       "16-element Array{Float64,1}:\n",
       "    0.999998\n",
       "    1.00034 \n",
       "    0.98695 \n",
       "    1.21659 \n",
       "   -0.900469\n",
       "   10.7057  \n",
       "  -28.6776  \n",
       "   52.3557  \n",
       "  -32.8933  \n",
       "  -39.1793  \n",
       "   89.7519  \n",
       "  -17.2069  \n",
       " -102.192   \n",
       "  131.66    \n",
       "  -65.6795  \n",
       "   14.0522  "
      ]
     },
     "execution_count": 18,
     "metadata": {},
     "output_type": "execute_result"
    }
   ],
   "source": [
    "n = 16\n",
    "H = Float64[1/(i+j-1) for i=1:n, j=1:n]\n",
    "x = ones(n)\n",
    "b = H*x\n",
    "xhat = H\\b"
   ]
  },
  {
   "cell_type": "markdown",
   "metadata": {},
   "source": [
    "The computed solution $\\hat{x}$ is very far from the true solution $x$."
   ]
  },
  {
   "cell_type": "code",
   "execution_count": 19,
   "metadata": {
    "collapsed": false
   },
   "outputs": [
    {
     "data": {
      "text/plain": [
       "54.15518954564602"
      ]
     },
     "execution_count": 19,
     "metadata": {},
     "output_type": "execute_result"
    }
   ],
   "source": [
    "norm(xhat - x)/norm(x)"
   ]
  },
  {
   "cell_type": "markdown",
   "metadata": {},
   "source": [
    "The Hilbert matrix is very ill-conditioned, so solving $Hx=b$ is very sensitive to roundoff errors. Here we compute the condition number $\\kappa_2(H)$."
   ]
  },
  {
   "cell_type": "code",
   "execution_count": 20,
   "metadata": {
    "collapsed": false
   },
   "outputs": [
    {
     "data": {
      "text/plain": [
       "7.865467778431645e17"
      ]
     },
     "execution_count": 20,
     "metadata": {},
     "output_type": "execute_result"
    }
   ],
   "source": [
    "cond(H)"
   ]
  },
  {
   "cell_type": "markdown",
   "metadata": {},
   "source": [
    "However, the residual $\\hat{r} = b - H\\hat{x}$ is very small, so $\\hat{x}$ exactly satisfies the slightly perturbed system\n",
    "$$H\\hat{x} = b + \\delta b,$$\n",
    "where $\\delta b = -\\hat{r}$."
   ]
  },
  {
   "cell_type": "code",
   "execution_count": 21,
   "metadata": {
    "collapsed": false
   },
   "outputs": [
    {
     "data": {
      "text/plain": [
       "5.889624988631708e-16"
      ]
     },
     "execution_count": 21,
     "metadata": {},
     "output_type": "execute_result"
    }
   ],
   "source": [
    "rhat = b - H*xhat;\n",
    "norm(rhat)/norm(b)"
   ]
  },
  {
   "cell_type": "markdown",
   "metadata": {},
   "source": [
    "Therefore, the computation of $\\hat{x}$ is **backward stable**. The large error in $\\hat{x}$ is completely due to the fact that $H$ is very ill-conditioned."
   ]
  }
 ],
 "metadata": {
  "anaconda-cloud": {},
  "kernelspec": {
   "display_name": "Julia 0.4.7",
   "language": "julia",
   "name": "julia-0.4"
  },
  "language_info": {
   "file_extension": ".jl",
   "mimetype": "application/julia",
   "name": "julia",
   "version": "0.4.7"
  }
 },
 "nbformat": 4,
 "nbformat_minor": 0
}
