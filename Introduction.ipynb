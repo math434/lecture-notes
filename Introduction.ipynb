{
 "cells": [
  {
   "cell_type": "markdown",
   "metadata": {},
   "source": [
    "---\n",
    "# Math 434/534:  Numerical Linear Algebra\n",
    "---"
   ]
  },
  {
   "cell_type": "markdown",
   "metadata": {},
   "source": [
    "We will study computational methods for:\n",
    "\n",
    "- solving linear systems of equations\n",
    "- solving linear least-squares problems (minimizing errors)\n",
    "- computing eigenvalues and eigenvectors of matrices"
   ]
  },
  {
   "cell_type": "markdown",
   "metadata": {},
   "source": [
    "These methods lie at the heart of almost all areas of scientific computing:\n",
    "\n",
    "- **nonlinear** systems of equations\n",
    "- optimization\n",
    "- statistics\n",
    "- differential equations\n",
    "- signal processing\n",
    "- image processing\n",
    "- network analysis\n",
    "- data mining\n",
    "- machine learning\n",
    "- finance"
   ]
  },
  {
   "cell_type": "markdown",
   "metadata": {},
   "source": [
    "We will study the **efficiency** and **numerical accuracy** of various algorithms, with hands-on computational practice.\n",
    "\n",
    "We will use the [Julia language](http://julialang.org/) in this course."
   ]
  }
 ],
 "metadata": {
  "@webio": {
   "lastCommId": null,
   "lastKernelId": null
  },
  "kernelspec": {
   "display_name": "Julia 1.2.0",
   "language": "julia",
   "name": "julia-1.2"
  },
  "language_info": {
   "file_extension": ".jl",
   "mimetype": "application/julia",
   "name": "julia",
   "version": "1.2.0"
  }
 },
 "nbformat": 4,
 "nbformat_minor": 1
}
