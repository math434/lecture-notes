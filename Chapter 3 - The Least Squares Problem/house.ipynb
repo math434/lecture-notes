{
 "cells": [
  {
   "cell_type": "code",
   "execution_count": null,
   "metadata": {
    "collapsed": false
   },
   "outputs": [],
   "source": [
    "function house(x)\n",
    "    u = copy(x)\n",
    "    \n",
    "    τ = norm(x)\n",
    "    if τ == 0.0\n",
    "        γ = 0.0\n",
    "    else\n",
    "        if x[1] < 0\n",
    "            τ = -τ\n",
    "        end\n",
    "        u[1] = 1\n",
    "        u[2:end] /= τ + x[1]\n",
    "        γ = (τ + x[1])/τ\n",
    "    end\n",
    "    \n",
    "    u, γ, τ\n",
    "end"
   ]
  },
  {
   "cell_type": "code",
   "execution_count": null,
   "metadata": {
    "collapsed": false
   },
   "outputs": [],
   "source": [
    "n = 5\n",
    "x = randn(n)\n",
    "\n",
    "u, γ, τ = house(x)"
   ]
  },
  {
   "cell_type": "code",
   "execution_count": null,
   "metadata": {
    "collapsed": false
   },
   "outputs": [],
   "source": [
    "# Compute Q*x efficiently, where\n",
    "#    Q = eye(n) - γ*u*u'\n",
    "\n",
    "Qx = x - (γ*dot(u,x))*u"
   ]
  },
  {
   "cell_type": "code",
   "execution_count": null,
   "metadata": {
    "collapsed": false
   },
   "outputs": [],
   "source": [
    "housetimes(B, u, γ) = B - (γ*u)*(u'*B)"
   ]
  },
  {
   "cell_type": "code",
   "execution_count": null,
   "metadata": {
    "collapsed": false
   },
   "outputs": [],
   "source": [
    "type QRfactorization\n",
    "    S::Matrix{Float64}\n",
    "    γ::Vector{Float64}\n",
    "end\n",
    "\n",
    "function myqr!(A::Matrix{Float64})\n",
    "    \n",
    "    m, n = size(A)\n",
    "    m == n || error(\"Matrix should be square.\")\n",
    "    γ = zeros(n-1)\n",
    "    \n",
    "    for j=1:n-1\n",
    "        u, γ[j], τ = house(A[j:n,j])\n",
    "        A[j,j] = -τ\n",
    "        A[j+1:n,j] = u[2:end]\n",
    "        A[j:n,j+1:n] = housetimes(A[j:n,j+1:n], u, γ[j])\n",
    "    end\n",
    "    \n",
    "    F = QRfactorization(A, γ)\n",
    "    \n",
    "    return F\n",
    "        \n",
    "end"
   ]
  },
  {
   "cell_type": "code",
   "execution_count": null,
   "metadata": {
    "collapsed": false
   },
   "outputs": [],
   "source": [
    "n = 5\n",
    "A = randn(n, n)\n",
    "B = copy(A)"
   ]
  },
  {
   "cell_type": "code",
   "execution_count": null,
   "metadata": {
    "collapsed": false
   },
   "outputs": [],
   "source": [
    "F = myqr!(A)"
   ]
  },
  {
   "cell_type": "code",
   "execution_count": null,
   "metadata": {
    "collapsed": false
   },
   "outputs": [],
   "source": [
    "A"
   ]
  },
  {
   "cell_type": "code",
   "execution_count": null,
   "metadata": {
    "collapsed": false
   },
   "outputs": [],
   "source": [
    "Q, R = qr(B)"
   ]
  },
  {
   "cell_type": "code",
   "execution_count": null,
   "metadata": {
    "collapsed": false
   },
   "outputs": [],
   "source": [
    "R - triu(F.S)"
   ]
  },
  {
   "cell_type": "code",
   "execution_count": null,
   "metadata": {
    "collapsed": false
   },
   "outputs": [],
   "source": [
    "Fqr = qrfact(B)"
   ]
  },
  {
   "cell_type": "code",
   "execution_count": null,
   "metadata": {
    "collapsed": false
   },
   "outputs": [],
   "source": [
    "F"
   ]
  },
  {
   "cell_type": "code",
   "execution_count": null,
   "metadata": {
    "collapsed": false
   },
   "outputs": [],
   "source": [
    "Fqr.T"
   ]
  },
  {
   "cell_type": "code",
   "execution_count": null,
   "metadata": {
    "collapsed": false
   },
   "outputs": [],
   "source": [
    "Fqr.factors"
   ]
  },
  {
   "cell_type": "code",
   "execution_count": null,
   "metadata": {
    "collapsed": false
   },
   "outputs": [],
   "source": [
    "A"
   ]
  },
  {
   "cell_type": "code",
   "execution_count": null,
   "metadata": {
    "collapsed": false
   },
   "outputs": [],
   "source": [
    "?qr"
   ]
  },
  {
   "cell_type": "code",
   "execution_count": null,
   "metadata": {
    "collapsed": false
   },
   "outputs": [],
   "source": [
    "?qrfact"
   ]
  },
  {
   "cell_type": "code",
   "execution_count": null,
   "metadata": {
    "collapsed": false
   },
   "outputs": [],
   "source": [
    "function getindex(F::QRfactorization, d::Symbol)\n",
    "    d == :R && return triu(F.S)\n",
    "    d == :Q && return formQ(F)\n",
    "end"
   ]
  },
  {
   "cell_type": "code",
   "execution_count": null,
   "metadata": {
    "collapsed": false
   },
   "outputs": [],
   "source": [
    "function formQ(F::QRfactorization)\n",
    "    n = size(F.S, 1)\n",
    "    Q = eye(n)\n",
    "\n",
    "    for j=n-1:-1:1\n",
    "        u = [1; F.S[j+1:n,j]]\n",
    "        Q[j:n,j:n] = housetimes(Q[j:n,j:n], u, F.γ[j])\n",
    "    end\n",
    "    \n",
    "    return Q\n",
    "end"
   ]
  },
  {
   "cell_type": "code",
   "execution_count": null,
   "metadata": {
    "collapsed": false
   },
   "outputs": [],
   "source": [
    "F[:Q], F[:R]"
   ]
  },
  {
   "cell_type": "code",
   "execution_count": null,
   "metadata": {
    "collapsed": false
   },
   "outputs": [],
   "source": [
    "Q, R"
   ]
  },
  {
   "cell_type": "code",
   "execution_count": null,
   "metadata": {
    "collapsed": false
   },
   "outputs": [],
   "source": [
    "b = randn(n)"
   ]
  },
  {
   "cell_type": "code",
   "execution_count": null,
   "metadata": {
    "collapsed": false
   },
   "outputs": [],
   "source": [
    "B\\b"
   ]
  },
  {
   "cell_type": "code",
   "execution_count": null,
   "metadata": {
    "collapsed": false
   },
   "outputs": [],
   "source": [
    "@which Fqr[:Q]"
   ]
  }
 ],
 "metadata": {
  "anaconda-cloud": {},
  "kernelspec": {
   "display_name": "Julia 0.4.7",
   "language": "julia",
   "name": "julia-0.4"
  },
  "language_info": {
   "file_extension": ".jl",
   "mimetype": "application/julia",
   "name": "julia",
   "version": "0.4.7"
  }
 },
 "nbformat": 4,
 "nbformat_minor": 0
}
