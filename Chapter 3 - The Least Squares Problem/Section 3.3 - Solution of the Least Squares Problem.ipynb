{
 "cells": [
  {
   "cell_type": "markdown",
   "metadata": {},
   "source": [
    "---\n",
    "# Section 3.3: Solution of the Least Squares Problem\n",
    "---"
   ]
  },
  {
   "cell_type": "markdown",
   "metadata": {},
   "source": [
    "The least square problem is\n",
    "\n",
    "$$\n",
    "\\min_x \\|b - Ax\\|_2\n",
    "$$\n",
    "\n",
    "where $A \\in \\mathbb{R}^{m \\times n}$, $b \\in \\mathbb{R}^m$, and $m > n$ (i.e., linear system $Ax = b$ is overdetermined)."
   ]
  },
  {
   "cell_type": "markdown",
   "metadata": {},
   "source": [
    "---"
   ]
  },
  {
   "cell_type": "markdown",
   "metadata": {},
   "source": [
    "> ### Theorem: ($QR$ for $m \\times n$ matrix $A$)\n",
    "\n",
    "> Let $A \\in \\mathbb{R}^{m \\times n}$, $m > n$. Then:\n",
    "> 1. There exists an orthogonal matrix $Q \\in \\mathbb{R}^{m \\times m}$ and \n",
    "> $$R = \\begin{bmatrix} \\hat{R} \\\\ 0 \\end{bmatrix} \\in \\mathbb{R}^{m \\times n}$$\n",
    "> with $\\hat{R} \\in \\mathbb{R}^{n \\times n}$ upper-triangular such that \n",
    "> $ A = QR$. \n",
    "> 2. The matrix $A$ has **full column rank** (i.e., $\\mathrm{rank}(A) = n$) if and only if $\\hat{R}$ is nonsingular."
   ]
  },
  {
   "cell_type": "markdown",
   "metadata": {},
   "source": [
    "---"
   ]
  },
  {
   "cell_type": "markdown",
   "metadata": {},
   "source": [
    "### Using $QR$ to solve the least squares problem\n",
    "\n",
    "First factor $A = QR$. Then,\n",
    "\n",
    "$$\n",
    "\\|b - Ax\\|_2 = \\left\\|Q^Tb - Rx\\right\\|_2.\n",
    "$$\n",
    "\n",
    "Let $c = Q^Tb$ and partition $c$ conformably with $R = \\begin{bmatrix} \\hat{R} \\\\ 0 \\end{bmatrix}$; i.e.,\n",
    "$\n",
    "c = \\begin{bmatrix} \\hat{c} \\\\ d \\end{bmatrix},\n",
    "$\n",
    "where $\\hat{c} \\in \\mathbb{R}^n$.\n",
    "\n",
    "\n",
    "Then\n",
    "\n",
    "$$\n",
    "\\|b - Ax\\|_2^2 = \\left\\|\\begin{bmatrix} \\hat{c} - \\hat{R}x \\\\ d \\end{bmatrix}\\right\\|_2^2\n",
    "= \\left\\|\\hat{c} - \\hat{R}x\\right\\|_2^2 + \\|d\\|_2^2 \\geq \\|d\\|_2^2, \\qquad \\text{for all $x \\in \\mathbb{R}^n$.}\n",
    "$$\n",
    "\n",
    "Therefore,\n",
    "\n",
    "$$\n",
    "\\min_x \\|b - Ax\\|_2 \\geq \\|d\\|_2.\n",
    "$$"
   ]
  },
  {
   "cell_type": "markdown",
   "metadata": {},
   "source": [
    "---"
   ]
  },
  {
   "cell_type": "markdown",
   "metadata": {},
   "source": [
    "## Full column rank case\n",
    "\n",
    "When $A$ has full column rank, the matrix $\\hat{R}$ is nonsingular.\n",
    "\n",
    "Let $x$ be the **unique** solution of the upper-triangular system \n",
    "$$\\hat{R}x = \\hat{c}.$$\n",
    "\n",
    "Then\n",
    "$$\n",
    "\\|b - Ax\\|_2^2 \n",
    "= \\left\\|\\hat{c} - \\hat{R}x\\right\\|_2^2 + \\|d\\|_2^2 = \\|d\\|_2^2.\n",
    "$$\n",
    "\n",
    "Thus, the vector $x$ achieves the minimum possible value and is the **unique** solution of the least squares problem."
   ]
  },
  {
   "cell_type": "markdown",
   "metadata": {},
   "source": [
    "---"
   ]
  },
  {
   "cell_type": "markdown",
   "metadata": {},
   "source": [
    "## Algorithm to solve least squares when $A$ has full column rank\n",
    "\n",
    "1. Compute the $QR$ decomposition of $A$.\n",
    "2. Compute $c = Q^Tb$.\n",
    "3. Solve $\\hat{R} x = \\hat{c}$, where $\\hat{c} = c[1:n]$.\n"
   ]
  },
  {
   "cell_type": "markdown",
   "metadata": {},
   "source": [
    "---"
   ]
  },
  {
   "cell_type": "markdown",
   "metadata": {},
   "source": [
    "## Example"
   ]
  },
  {
   "cell_type": "code",
   "execution_count": 1,
   "metadata": {},
   "outputs": [
    {
     "data": {
      "text/plain": [
       "2-element Array{Float64,1}:\n",
       " -0.24218 \n",
       "  0.775855"
      ]
     },
     "execution_count": 1,
     "metadata": {},
     "output_type": "execute_result"
    }
   ],
   "source": [
    "m, n = 5, 2\n",
    "A = rand(m, n)\n",
    "x = rand(n)\n",
    "b = A*x + .1*randn(m)\n",
    "A\\b"
   ]
  },
  {
   "cell_type": "code",
   "execution_count": 2,
   "metadata": {},
   "outputs": [
    {
     "data": {
      "text/plain": [
       "5-element Array{Float64,1}:\n",
       " -0.813606 \n",
       " -0.511264 \n",
       " -0.0147933\n",
       "  0.097828 \n",
       " -0.143254 "
      ]
     },
     "execution_count": 2,
     "metadata": {},
     "output_type": "execute_result"
    }
   ],
   "source": [
    "F = qrfact(A)\n",
    "\n",
    "Q = F[:Q]\n",
    "c = Q'*b  # Done efficiently without forming Q"
   ]
  },
  {
   "cell_type": "code",
   "execution_count": 3,
   "metadata": {},
   "outputs": [
    {
     "data": {
      "text/plain": [
       "2-element Array{Float64,1}:\n",
       " -0.24218 \n",
       "  0.775855"
      ]
     },
     "execution_count": 3,
     "metadata": {},
     "output_type": "execute_result"
    }
   ],
   "source": [
    "Rhat = F[:R]\n",
    "xhat = Rhat\\c[1:n]"
   ]
  },
  {
   "cell_type": "code",
   "execution_count": 4,
   "metadata": {},
   "outputs": [
    {
     "data": {
      "text/plain": [
       "0.17410042783558716"
      ]
     },
     "execution_count": 4,
     "metadata": {},
     "output_type": "execute_result"
    }
   ],
   "source": [
    "norm(b - A*xhat)"
   ]
  },
  {
   "cell_type": "code",
   "execution_count": 5,
   "metadata": {},
   "outputs": [
    {
     "data": {
      "text/plain": [
       "0.1741004278355871"
      ]
     },
     "execution_count": 5,
     "metadata": {},
     "output_type": "execute_result"
    }
   ],
   "source": [
    "d = c[n+1:m]\n",
    "norm(d)"
   ]
  },
  {
   "cell_type": "markdown",
   "metadata": {},
   "source": [
    "---"
   ]
  },
  {
   "cell_type": "code",
   "execution_count": 8,
   "metadata": {},
   "outputs": [
    {
     "data": {
      "text/plain": [
       "4x2 Array{Int64,2}:\n",
       " -1  -3\n",
       "  2   1\n",
       "  1   1\n",
       " -2   2"
      ]
     },
     "execution_count": 8,
     "metadata": {},
     "output_type": "execute_result"
    }
   ],
   "source": [
    "A = rand(-3:3, 4, 2)"
   ]
  },
  {
   "cell_type": "code",
   "execution_count": 9,
   "metadata": {},
   "outputs": [
    {
     "data": {
      "text/plain": [
       "4-element Array{Int64,1}:\n",
       " -1\n",
       " -1\n",
       " -2\n",
       "  0"
      ]
     },
     "execution_count": 9,
     "metadata": {},
     "output_type": "execute_result"
    }
   ],
   "source": [
    "b = rand(-3:3, 4)"
   ]
  },
  {
   "cell_type": "markdown",
   "metadata": {},
   "source": [
    "---"
   ]
  },
  {
   "cell_type": "markdown",
   "metadata": {},
   "source": [
    "## Rank-deficient case\n",
    "\n",
    "If $A \\in \\mathbb{R}^{m \\times n}$, $m > n$, is not full column rank because its columns are linearly dependent, \n",
    "\n",
    "$$\n",
    "\\mathrm{rank}(A) = r < n,\n",
    "$$\n",
    "\n",
    "then the $QR$ decomposition is\n",
    "\n",
    "$$\n",
    "\\hat{A} = Q R, \\qquad R = \\begin{bmatrix} R_{11} & R_{12} \\\\ 0 & 0 \\end{bmatrix},\n",
    "$$\n",
    "\n",
    "where $R_{11} \\in \\mathbb{R}^{r \\times r}$ is upper-triangular and nonsingular, and $\\hat{A}$ is $A$ with its columns permuted."
   ]
  },
  {
   "cell_type": "markdown",
   "metadata": {},
   "source": [
    "The pivoted $QR$ factorization of $A$ reorders the columns of $A$ so that\n",
    "\n",
    "$$\n",
    "|r_{11}| \\geq |r_{22}| \\geq \\cdots \\geq |r_{nn}|.\n",
    "$$\n",
    "\n",
    "This reordering can be represented as a vector $p$ or as a permutation matrix $P$ such that\n",
    "\n",
    "$$\n",
    "A[:,p] = QR,\\qquad AP = QR.\n",
    "$$\n",
    "\n",
    "The matrix $P$ is the identity matrix $I$ with columns reordered according to $p$,\n",
    "\n",
    "$$\n",
    "P = I[:,p].\n",
    "$$"
   ]
  },
  {
   "cell_type": "markdown",
   "metadata": {},
   "source": [
    "---"
   ]
  },
  {
   "cell_type": "markdown",
   "metadata": {},
   "source": [
    "## pivoted `qr`"
   ]
  },
  {
   "cell_type": "code",
   "execution_count": 10,
   "metadata": {},
   "outputs": [
    {
     "name": "stdout",
     "output_type": "stream",
     "text": [
      "search: qr qrfact qrfact! sqrt sqrtm isqrt require QuickSort PartialQuickSort\n",
      "\n"
     ]
    },
    {
     "data": {
      "text/markdown": [
       "```\n",
       "qr(A [,pivot=Val{false}][;thin=true]) -> Q, R, [p]\n",
       "```\n",
       "\n",
       "Compute the (pivoted) QR factorization of `A` such that either `A = Q*R` or `A[:,p] = Q*R`. Also see `qrfact`. The default is to compute a thin factorization. Note that `R` is not extended with zeros when the full `Q` is requested.\n"
      ],
      "text/plain": [
       "```\n",
       "qr(A [,pivot=Val{false}][;thin=true]) -> Q, R, [p]\n",
       "```\n",
       "\n",
       "Compute the (pivoted) QR factorization of `A` such that either `A = Q*R` or `A[:,p] = Q*R`. Also see `qrfact`. The default is to compute a thin factorization. Note that `R` is not extended with zeros when the full `Q` is requested.\n"
      ]
     },
     "execution_count": 10,
     "metadata": {},
     "output_type": "execute_result"
    }
   ],
   "source": [
    "?qr"
   ]
  },
  {
   "cell_type": "code",
   "execution_count": 11,
   "metadata": {},
   "outputs": [
    {
     "data": {
      "text/plain": [
       "5x4 Array{Float64,2}:\n",
       " 5.0  30.0   95.0  105.0\n",
       " 2.0  20.0   62.0   66.0\n",
       " 8.0  70.0  218.0  234.0\n",
       " 9.0  20.0   69.0   87.0\n",
       " 1.0  90.0  271.0  273.0"
      ]
     },
     "execution_count": 11,
     "metadata": {},
     "output_type": "execute_result"
    }
   ],
   "source": [
    "B = rand(1:10, 5, 2)*diagm([1, 10])\n",
    "A = Float64[B B*rand(1:3, 2, 2)]"
   ]
  },
  {
   "cell_type": "code",
   "execution_count": 12,
   "metadata": {},
   "outputs": [
    {
     "data": {
      "text/plain": [
       "2"
      ]
     },
     "execution_count": 12,
     "metadata": {},
     "output_type": "execute_result"
    }
   ],
   "source": [
    "r = rank(A)"
   ]
  },
  {
   "cell_type": "code",
   "execution_count": 13,
   "metadata": {},
   "outputs": [
    {
     "data": {
      "text/plain": [
       "(\n",
       "5x4 Array{Float64,2}:\n",
       " -0.269111  -0.265556    0.906628   -0.183003\n",
       " -0.169156  -0.0468373  -0.0345385   0.346534\n",
       " -0.599734  -0.261581   -0.107119    0.649655\n",
       " -0.222978  -0.730388   -0.386874   -0.507417\n",
       " -0.69969    0.570434   -0.125248   -0.408534,\n",
       "\n",
       "4x4 Array{Float64,2}:\n",
       " -390.173  -371.797   -120.869        -9.18823    \n",
       "    0.0      19.0343     9.51716      -9.51716    \n",
       "    0.0       0.0       -3.02013e-14   1.42028e-14\n",
       "    0.0       0.0        0.0           4.82736e-15,\n",
       "\n",
       "[4,3,2,1])"
      ]
     },
     "execution_count": 13,
     "metadata": {},
     "output_type": "execute_result"
    }
   ],
   "source": [
    "pivot = Val{true}\n",
    "Q, R, p = qr(A, pivot)"
   ]
  },
  {
   "cell_type": "code",
   "execution_count": 14,
   "metadata": {},
   "outputs": [
    {
     "data": {
      "text/plain": [
       "(\n",
       "2x2 Array{Float64,2}:\n",
       " -390.173  -371.797 \n",
       "    0.0      19.0343,\n",
       "\n",
       "2x2 Array{Float64,2}:\n",
       " -120.869    -9.18823\n",
       "    9.51716  -9.51716)"
      ]
     },
     "execution_count": 14,
     "metadata": {},
     "output_type": "execute_result"
    }
   ],
   "source": [
    "R11, R12 = R[1:2, 1:2], R[1:2, 3:4]"
   ]
  },
  {
   "cell_type": "code",
   "execution_count": 15,
   "metadata": {},
   "outputs": [
    {
     "data": {
      "text/plain": [
       "5x4 Array{Float64,2}:\n",
       " 2.84217e-14  -1.42109e-14  3.55271e-14  2.66454e-15\n",
       " 1.42109e-14   0.0          3.55271e-15  1.11022e-15\n",
       " 0.0          -2.84217e-14  0.0          8.88178e-16\n",
       " 1.42109e-14   1.42109e-14  7.10543e-15  0.0        \n",
       " 0.0           0.0          1.42109e-14  0.0        "
      ]
     },
     "execution_count": 15,
     "metadata": {},
     "output_type": "execute_result"
    }
   ],
   "source": [
    "A[:,p] - Q*R"
   ]
  },
  {
   "cell_type": "code",
   "execution_count": 16,
   "metadata": {},
   "outputs": [
    {
     "data": {
      "text/plain": [
       "4x4 Array{Float64,2}:\n",
       " 0.0  0.0  0.0  1.0\n",
       " 0.0  0.0  1.0  0.0\n",
       " 0.0  1.0  0.0  0.0\n",
       " 1.0  0.0  0.0  0.0"
      ]
     },
     "execution_count": 16,
     "metadata": {},
     "output_type": "execute_result"
    }
   ],
   "source": [
    "m, n = size(A)\n",
    "I = eye(n)\n",
    "P = I[:,p]"
   ]
  },
  {
   "cell_type": "code",
   "execution_count": 17,
   "metadata": {},
   "outputs": [
    {
     "data": {
      "text/plain": [
       "5x4 Array{Float64,2}:\n",
       " 2.84217e-14  -1.42109e-14  3.55271e-14  2.66454e-15\n",
       " 1.42109e-14   0.0          3.55271e-15  1.11022e-15\n",
       " 0.0          -2.84217e-14  0.0          8.88178e-16\n",
       " 1.42109e-14   1.42109e-14  7.10543e-15  0.0        \n",
       " 0.0           0.0          1.42109e-14  0.0        "
      ]
     },
     "execution_count": 17,
     "metadata": {},
     "output_type": "execute_result"
    }
   ],
   "source": [
    "A*P - Q*R"
   ]
  },
  {
   "cell_type": "markdown",
   "metadata": {},
   "source": [
    "---"
   ]
  },
  {
   "cell_type": "markdown",
   "metadata": {},
   "source": [
    "## Rank-deficient least squares\n",
    "\n",
    "Suppose that the pivoted $QR$ decomposition of $A$ is $AP = QR$, and that $\\mathrm{rank}(A) = r < n$, so that\n",
    "\n",
    "$$\n",
    "R = \\begin{bmatrix} R_{11} & R_{12} \\\\ 0 & 0 \\end{bmatrix},\n",
    "$$\n",
    "\n",
    "where $R_{11}$ is $r \\times r$, upper-triangular, and nonsingular.\n",
    "\n",
    "Then\n",
    "\n",
    "$$\n",
    "\\|b - Ax\\|_2^2 = \\|\\hat{c} - R_{11}\\hat{x}_1 - R_{12}\\hat{x}_2\\|_2^2 + \\|d\\|_2^2 \\geq \\|d\\|_2^2,\n",
    "$$\n",
    "\n",
    "where \n",
    "\n",
    "$$\n",
    "\\hat{x} = P^T x = \\begin{bmatrix} \\hat{x}_1 \\\\ \\hat{x}_2 \\end{bmatrix}, \\qquad \n",
    "\\begin{bmatrix} \\hat{c} \\\\ d \\end{bmatrix}  = Q^T b.\n",
    "$$"
   ]
  },
  {
   "cell_type": "markdown",
   "metadata": {},
   "source": [
    "Also, $\\|b - Ax\\|_2^2 = \\|d\\|_2^2$ when\n",
    "\n",
    "$$\n",
    "R_{11}\\hat{x}_1 + R_{12}\\hat{x}_2 = \\hat{c}.\n",
    "$$\n",
    "\n",
    "Thus, $\\hat{x}_1$ are the dependent variables and $\\hat{x}_2$ are the independent variables, and\n",
    "\n",
    "$$\n",
    "\\hat{x}_1 = R_{11}^{-1}\\left(\\hat{c} - R_{12} \\hat{x}_2\\right).\n",
    "$$"
   ]
  },
  {
   "cell_type": "markdown",
   "metadata": {},
   "source": [
    "---"
   ]
  },
  {
   "cell_type": "markdown",
   "metadata": {},
   "source": [
    "### Sparse solution:\n",
    "\n",
    "$$\n",
    "\\hat{x}_2 = 0 \\quad \\Rightarrow \\quad \\hat{x}_1 = R_{11}^{-1}\\hat{c}\n",
    "$$"
   ]
  },
  {
   "cell_type": "code",
   "execution_count": 18,
   "metadata": {},
   "outputs": [
    {
     "data": {
      "text/plain": [
       "4-element Array{Float64,1}:\n",
       "  0.0      \n",
       "  0.0      \n",
       " -0.0338594\n",
       "  0.0358564"
      ]
     },
     "execution_count": 18,
     "metadata": {},
     "output_type": "execute_result"
    }
   ],
   "source": [
    "b = rand(m)\n",
    "\n",
    "c = Q'b\n",
    "ĉ = c[1:r]\n",
    "\n",
    "x = zeros(n)\n",
    "x[p[1:r]] = R11\\ĉ\n",
    "x"
   ]
  },
  {
   "cell_type": "code",
   "execution_count": 19,
   "metadata": {},
   "outputs": [
    {
     "data": {
      "text/plain": [
       "0.35612769417740486"
      ]
     },
     "execution_count": 19,
     "metadata": {},
     "output_type": "execute_result"
    }
   ],
   "source": [
    "norm(b - A*x)"
   ]
  },
  {
   "cell_type": "markdown",
   "metadata": {},
   "source": [
    "---"
   ]
  },
  {
   "cell_type": "markdown",
   "metadata": {},
   "source": [
    "### Least-norm solution:\n",
    "\n",
    "Let $S$ be the set of optimal solutions of the least-squares problem:\n",
    "\n",
    "$$\n",
    "S = \\operatorname*{argmin}_x \\|b - Ax\\|_2.\n",
    "$$\n",
    "\n",
    "Then the least-norm solution is found by solving\n",
    "\n",
    "$$\n",
    "\\min_{x \\in S} \\|x\\|_2 = \\|\\hat{x}\\|_2 \n",
    "= \\left\\| \\begin{bmatrix} R_{11}^{-1}\\hat{c} \\\\ 0 \\end{bmatrix} - \n",
    "\\begin{bmatrix} R_{11}^{-1} R_{12} \\\\ I \\end{bmatrix} \\hat{x}_2 \\right\\|_2,\n",
    "$$\n",
    "\n",
    "which has a unique solution $\\hat{x}_2$ since the matrix \n",
    "\n",
    "$$\n",
    "\\begin{bmatrix} R_{11}^{-1} R_{12} \\\\ I \\end{bmatrix}\n",
    "$$\n",
    "\n",
    "has full column rank."
   ]
  },
  {
   "cell_type": "code",
   "execution_count": 20,
   "metadata": {},
   "outputs": [
    {
     "data": {
      "text/plain": [
       "4-element Array{Float64,1}:\n",
       "  0.0204399\n",
       " -0.0125941\n",
       " -0.0173424\n",
       "  0.0235374"
      ]
     },
     "execution_count": 20,
     "metadata": {},
     "output_type": "execute_result"
    }
   ],
   "source": [
    "# The least-squares solution given by \\ is the least-norm solution\n",
    "\n",
    "x = A\\b"
   ]
  },
  {
   "cell_type": "code",
   "execution_count": 21,
   "metadata": {},
   "outputs": [
    {
     "data": {
      "text/plain": [
       "4-element Array{Float64,1}:\n",
       "  0.0204399\n",
       " -0.0125941\n",
       " -0.0173424\n",
       "  0.0235374"
      ]
     },
     "execution_count": 21,
     "metadata": {},
     "output_type": "execute_result"
    }
   ],
   "source": [
    "# Using the formulas from above\n",
    "x = zeros(n)\n",
    "x[p[r+1:n]] = [R11\\R12; eye(n-r)]\\[R11\\ĉ; zeros(n-r)]\n",
    "x[p[1:r]] = R11\\(ĉ - R12*x[p[r+1:n]])\n",
    "x"
   ]
  },
  {
   "cell_type": "code",
   "execution_count": 22,
   "metadata": {},
   "outputs": [
    {
     "data": {
      "text/plain": [
       "0.35612769417740486"
      ]
     },
     "execution_count": 22,
     "metadata": {},
     "output_type": "execute_result"
    }
   ],
   "source": [
    "norm(b - A*x)"
   ]
  },
  {
   "cell_type": "markdown",
   "metadata": {},
   "source": [
    "---"
   ]
  }
 ],
 "metadata": {
  "anaconda-cloud": {},
  "kernelspec": {
   "display_name": "Julia 0.6.4",
   "language": "julia",
   "name": "julia-0.6"
  },
  "language_info": {
   "file_extension": ".jl",
   "mimetype": "application/julia",
   "name": "julia",
   "version": "0.6.4"
  }
 },
 "nbformat": 4,
 "nbformat_minor": 1
}
