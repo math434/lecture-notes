{
 "cells": [
  {
   "cell_type": "markdown",
   "metadata": {},
   "source": [
    "---\n",
    "# Section 3.2: Orthogonal Matrices\n",
    "---"
   ]
  },
  {
   "cell_type": "markdown",
   "metadata": {},
   "source": [
    "## Inner-product notation\n",
    "\n",
    "We will use the following notation for the **inner-product** between vectors $x, y \\in \\mathbb{R}^n$:\n",
    "\n",
    "$$\n",
    "\\langle x, y \\rangle = \\sum_{i=1}^n x_i y_i = x^T y = \\|x\\|_2 \\|y\\|_2 \\cos\\theta,\n",
    "$$\n",
    "\n",
    "where $0 \\leq \\theta \\leq \\pi$ is the **angle** between $x$ and $y$.\n",
    "\n",
    "**Note:** $\\|x\\|_2 = \\sqrt{\\langle x, x \\rangle}$."
   ]
  },
  {
   "cell_type": "markdown",
   "metadata": {},
   "source": [
    "---"
   ]
  },
  {
   "cell_type": "markdown",
   "metadata": {},
   "source": [
    "## Orthogonal matrix definition\n",
    "\n",
    "$Q \\in \\mathbb{R}^{n \\times n}$ is **orthogonal** if the columns of $Q$ are:\n",
    "\n",
    "1. **unit-length**: \n",
    "$$\n",
    "\\|q_i\\|_2 = 1, \\qquad \\forall i,\n",
    "$$\n",
    "2. **mutually orthogonal**: \n",
    "$$\n",
    "\\langle q_i, q_j \\rangle = 0, \\qquad i \\neq j\n",
    "$$\n",
    "\n",
    "This is equivalent to saying that\n",
    "\n",
    "$$Q^T Q = I$$\n",
    "\n",
    "which is equivalent to\n",
    "\n",
    "$$Q^{-1} = Q^T.$$\n",
    "\n",
    "The rows of $Q$ are also unit-length and mutually orthogonal since $QQ^T = I$."
   ]
  },
  {
   "cell_type": "markdown",
   "metadata": {},
   "source": [
    "---"
   ]
  },
  {
   "cell_type": "markdown",
   "metadata": {},
   "source": [
    "## Exercise\n",
    "\n",
    "1. Prove that the product of orthogonal matrices is orthogonal.\n",
    "\n",
    "2. Prove that the transpose of an othogonal matrix is orthogonal."
   ]
  },
  {
   "cell_type": "markdown",
   "metadata": {},
   "source": [
    "---"
   ]
  },
  {
   "cell_type": "markdown",
   "metadata": {},
   "source": [
    "> ## Theorem:\n",
    "\n",
    "> If $Q \\in \\mathbb{R}^{n \\times n}$ is orthogonal, then:\n",
    "\n",
    "> 1. $\\langle Qx, Qy \\rangle = \\langle x, y \\rangle$\n",
    "\n",
    "> 2. $\\|Qx\\|_2 = \\|x\\|_2$\n",
    "\n",
    "This theorem states that any **orthogonal transformation**, $x \\mapsto Qx$, preserve angles and lengths."
   ]
  },
  {
   "cell_type": "markdown",
   "metadata": {},
   "source": [
    "---"
   ]
  },
  {
   "cell_type": "markdown",
   "metadata": {},
   "source": [
    "## Exercise:\n",
    "\n",
    "Prove the theorem."
   ]
  },
  {
   "cell_type": "markdown",
   "metadata": {},
   "source": [
    "---"
   ]
  },
  {
   "cell_type": "markdown",
   "metadata": {},
   "source": [
    "## Rotation matrices\n",
    "\n",
    "A $2 \\times 2$ rotation matrix has the form\n",
    "\n",
    "$$\n",
    "Q = \\begin{bmatrix}\n",
    "\\cos\\theta & -\\sin\\theta \\\\\n",
    "\\sin\\theta & \\cos\\theta\n",
    "\\end{bmatrix}.\n",
    "$$\n",
    "\n",
    "We can use rotation matrices to introduce zeros into vectors.\n"
   ]
  },
  {
   "cell_type": "markdown",
   "metadata": {},
   "source": [
    "---"
   ]
  },
  {
   "cell_type": "markdown",
   "metadata": {},
   "source": [
    "## Exercise\n",
    "\n",
    "1. Prove that rotation matrices are orthogonal.\n",
    "\n",
    "2. Find a rotation matrix $Q$ such that\n",
    "$$\n",
    "Q^T \\begin{bmatrix} x_1 \\\\ x_2 \\end{bmatrix} = \\begin{bmatrix} y_1 \\\\ 0 \\end{bmatrix}\n",
    "$$\n",
    "where $y_1 \\geq 0$."
   ]
  },
  {
   "cell_type": "code",
   "execution_count": null,
   "metadata": {
    "collapsed": false
   },
   "outputs": [],
   "source": [
    "function rot(x1, x2)\n",
    "    y1 = sqrt(x1^2 + x2^2)\n",
    "    if y1 == 0.0\n",
    "        c, s = 1.0, 0.0\n",
    "    else\n",
    "        c, s = x1/y1, x2/y1\n",
    "    end\n",
    "    return y1, c, s\n",
    "end\n",
    "        "
   ]
  },
  {
   "cell_type": "code",
   "execution_count": null,
   "metadata": {
    "collapsed": false
   },
   "outputs": [],
   "source": [
    "y1, c, s = rot(1.0, 1.0)"
   ]
  },
  {
   "cell_type": "markdown",
   "metadata": {},
   "source": [
    "---"
   ]
  },
  {
   "cell_type": "markdown",
   "metadata": {},
   "source": [
    "## $QR$-decomposition of a $2 \\times 2$ matrix $A$\n",
    "\n",
    "Suppose \n",
    "\n",
    "$$\n",
    "A = \\begin{bmatrix}\n",
    "a_{11} & a_{12} \\\\\n",
    "a_{21} & a_{22}\n",
    "\\end{bmatrix}.\n",
    "$$\n",
    "\n",
    "Let $Q$ be the rotation matrix that introduces a zero in the first column of $A$:\n",
    "$$\n",
    "Q^T \\begin{bmatrix} a_{11} \\\\ a_{21} \\end{bmatrix} = \\begin{bmatrix} r_{11} \\\\ 0 \\end{bmatrix}.\n",
    "$$\n",
    "\n",
    "Let\n",
    "$$\n",
    "\\begin{bmatrix} r_{12} \\\\ r_{22} \\end{bmatrix} = Q^T \\begin{bmatrix} a_{21} \\\\ a_{22} \\end{bmatrix}.\n",
    "$$\n",
    "\n",
    "Let\n",
    "$$\n",
    "R = \\begin{bmatrix}\n",
    "r_{11} & r_{12} \\\\\n",
    "0 & r_{22}\n",
    "\\end{bmatrix}.\n",
    "$$\n",
    "\n",
    "Then $Q^T A = R$, and since $Q$ is orthogonal,\n",
    "\n",
    "$$\n",
    "A = QR.\n",
    "$$"
   ]
  },
  {
   "cell_type": "markdown",
   "metadata": {},
   "source": [
    "---"
   ]
  },
  {
   "cell_type": "markdown",
   "metadata": {},
   "source": [
    "## Exercise\n",
    "\n",
    "Compute the $QR$-decomposition of\n",
    "\n",
    "$$\n",
    "A = \\begin{bmatrix}\n",
    "1 & 2 \\\\\n",
    "1 & 3\n",
    "\\end{bmatrix}.\n",
    "$$"
   ]
  },
  {
   "cell_type": "code",
   "execution_count": null,
   "metadata": {
    "collapsed": false
   },
   "outputs": [],
   "source": [
    "A = [1 2; 1 3.0]"
   ]
  },
  {
   "cell_type": "code",
   "execution_count": null,
   "metadata": {
    "collapsed": false
   },
   "outputs": [],
   "source": [
    "Q, R = qr(A)"
   ]
  },
  {
   "cell_type": "code",
   "execution_count": null,
   "metadata": {
    "collapsed": false
   },
   "outputs": [],
   "source": [
    "Q*R - A"
   ]
  },
  {
   "cell_type": "markdown",
   "metadata": {},
   "source": [
    "---"
   ]
  },
  {
   "cell_type": "markdown",
   "metadata": {},
   "source": [
    "## Givens rotations\n",
    "\n",
    "A **Givens rotation** matrix is\n",
    "\n",
    "$$\n",
    "Q = \n",
    "\\begin{bmatrix}\n",
    "1 \\\\\n",
    "&\\ddots\\\\\n",
    "&&1\\\\\n",
    "&&&c&&&&-s\\\\\n",
    "&&&&1\\\\\n",
    "&&&&&\\ddots\\\\\n",
    "&&&&&&1\\\\\n",
    "&&&s&&&&c\\\\\n",
    "&&&&&&&&1\\\\\n",
    "&&&&&&&&&\\ddots\\\\\n",
    "&&&&&&&&&&1\\\\\n",
    "\\end{bmatrix},\n",
    "$$\n",
    "\n",
    "where $c = \\cos\\theta$ and $s = \\sin\\theta$. This matrix rotates the $(x_i,x_j)$ plane by an angle of $\\theta$.\n",
    "\n",
    "These matrices can be used to introduce zeros in general $n \\times n$ matrices."
   ]
  },
  {
   "cell_type": "markdown",
   "metadata": {},
   "source": [
    "---"
   ]
  },
  {
   "cell_type": "markdown",
   "metadata": {},
   "source": [
    "## Exercise\n",
    "\n",
    "Use Givens rotations to compute the $QR$-decomposition of\n",
    "\n",
    "$$\n",
    "A = \\begin{bmatrix}\n",
    "1 & 2 & 0 \\\\\n",
    "0 & 1 & 3 \\\\\n",
    "1 & 3 & 0\n",
    "\\end{bmatrix}.\n",
    "$$"
   ]
  },
  {
   "cell_type": "code",
   "execution_count": 4,
   "metadata": {
    "collapsed": false
   },
   "outputs": [
    {
     "data": {
      "text/plain": [
       "(\n",
       "3x3 Array{Float64,2}:\n",
       " -0.707107   0.408248  -0.57735\n",
       "  0.0       -0.816497  -0.57735\n",
       " -0.707107  -0.408248   0.57735,\n",
       "\n",
       "3x3 Array{Float64,2}:\n",
       " -1.41421  -3.53553   0.0    \n",
       "  0.0      -1.22474  -2.44949\n",
       "  0.0       0.0      -1.73205)"
      ]
     },
     "execution_count": 4,
     "metadata": {},
     "output_type": "execute_result"
    }
   ],
   "source": [
    "A = [1 2 0; 0 1 3; 1 3 0.0]\n",
    "\n",
    "Q, R = qr(A)"
   ]
  },
  {
   "cell_type": "code",
   "execution_count": 5,
   "metadata": {
    "collapsed": false
   },
   "outputs": [
    {
     "data": {
      "text/plain": [
       "3x3 Array{Float64,2}:\n",
       " 1.41421  3.53553   0.0    \n",
       " 0.0      1.22474   2.44949\n",
       " 0.0      0.0      -1.73205"
      ]
     },
     "execution_count": 5,
     "metadata": {},
     "output_type": "execute_result"
    }
   ],
   "source": [
    "R = [sqrt(2) 5/sqrt(2) 0; 0 sqrt(3/2) sqrt(6); 0 0 -sqrt(3)]"
   ]
  },
  {
   "cell_type": "code",
   "execution_count": 6,
   "metadata": {
    "collapsed": false
   },
   "outputs": [
    {
     "data": {
      "text/plain": [
       "3x3 Array{Float64,2}:\n",
       " 0.707107  -0.408248  -0.57735\n",
       " 0.0        0.816497  -0.57735\n",
       " 0.707107   0.408248   0.57735"
      ]
     },
     "execution_count": 6,
     "metadata": {},
     "output_type": "execute_result"
    }
   ],
   "source": [
    "Q = [sqrt(3) -1 -sqrt(2); 0 2 -sqrt(2); sqrt(3) 1 sqrt(2)]/sqrt(6)"
   ]
  },
  {
   "cell_type": "code",
   "execution_count": 7,
   "metadata": {
    "collapsed": false
   },
   "outputs": [
    {
     "data": {
      "text/plain": [
       "3x3 Array{Float64,2}:\n",
       " 1.0  0.0  0.0\n",
       " 0.0  1.0  0.0\n",
       " 0.0  0.0  1.0"
      ]
     },
     "execution_count": 7,
     "metadata": {},
     "output_type": "execute_result"
    }
   ],
   "source": [
    "Q'*Q"
   ]
  },
  {
   "cell_type": "markdown",
   "metadata": {},
   "source": [
    "---"
   ]
  },
  {
   "cell_type": "markdown",
   "metadata": {},
   "source": [
    "## Solving $Ax = b$ using $QR$\n",
    "\n",
    "If $Ax = b$ and $A = QR$, then\n",
    "\n",
    "$$\n",
    "Q(Rx) = b.\n",
    "$$\n",
    "\n",
    "If we let $c = Rx$, then we have $Qc = b$.\n",
    "\n",
    "Thus, we have the following algorithm for solving $Ax = b$:\n",
    "\n",
    "1. Let $c = Q^Tb$.\n",
    "2. Solve $Rx = c$ using backward substitution."
   ]
  },
  {
   "cell_type": "markdown",
   "metadata": {},
   "source": [
    "---"
   ]
  },
  {
   "cell_type": "markdown",
   "metadata": {},
   "source": [
    "## Exercise\n",
    "\n",
    "Use the $QR$-decomposition of $A$ to solve $Ax = b$.\n",
    "\n",
    "$$\n",
    "A = \\begin{bmatrix}\n",
    "1 & 2 \\\\\n",
    "1 & 3\n",
    "\\end{bmatrix},\n",
    "\\qquad\n",
    "b = \\begin{bmatrix} 1 \\\\ 2 \\end{bmatrix}.\n",
    "$$"
   ]
  },
  {
   "cell_type": "code",
   "execution_count": 11,
   "metadata": {
    "collapsed": false
   },
   "outputs": [
    {
     "data": {
      "text/plain": [
       "(\n",
       "2x2 Array{Float64,2}:\n",
       " -0.707107  -0.707107\n",
       " -0.707107   0.707107,\n",
       "\n",
       "2x2 Array{Float64,2}:\n",
       " -1.41421  -3.53553 \n",
       "  0.0       0.707107)"
      ]
     },
     "execution_count": 11,
     "metadata": {},
     "output_type": "execute_result"
    }
   ],
   "source": [
    "A = [1 2; 1 3.0]\n",
    "b = [1, 2.0]\n",
    "\n",
    "Q, R = qr(A)"
   ]
  },
  {
   "cell_type": "code",
   "execution_count": 12,
   "metadata": {
    "collapsed": false
   },
   "outputs": [
    {
     "data": {
      "text/plain": [
       "2-element Array{Float64,1}:\n",
       " -2.12132 \n",
       "  0.707107"
      ]
     },
     "execution_count": 12,
     "metadata": {},
     "output_type": "execute_result"
    }
   ],
   "source": [
    "c = Q'*b"
   ]
  },
  {
   "cell_type": "code",
   "execution_count": 13,
   "metadata": {
    "collapsed": false
   },
   "outputs": [
    {
     "data": {
      "text/plain": [
       "2-element Array{Float64,1}:\n",
       " -1.0\n",
       "  1.0"
      ]
     },
     "execution_count": 13,
     "metadata": {},
     "output_type": "execute_result"
    }
   ],
   "source": [
    "x = R\\c"
   ]
  },
  {
   "cell_type": "markdown",
   "metadata": {},
   "source": [
    "---\n",
    "\n",
    "---"
   ]
  },
  {
   "cell_type": "markdown",
   "metadata": {},
   "source": [
    "## Reflection matrices\n",
    "\n",
    "Another way to create zeros in a matrix is by the [Householder reflection transformation](https://en.wikipedia.org/wiki/Householder_transformation):\n",
    "\n",
    "$$\n",
    "Q = I - 2uu^T, \\qquad \\|u\\|_2 = 1.\n",
    "$$\n",
    "\n",
    "Let $L$ be the set of vectors $v$ that are orthogonal to the unit vector $u$,\n",
    "\n",
    "$$\n",
    "L = \\left\\{ v \\in \\mathbb{R}^n : u^T v = 0 \\right\\}.\n",
    "$$\n",
    "\n",
    "Then $L$ is a **hyperplane** containing the origin, and $Q$ reflects vectors $x$ across $L$.\n"
   ]
  },
  {
   "cell_type": "markdown",
   "metadata": {},
   "source": [
    "---"
   ]
  },
  {
   "cell_type": "markdown",
   "metadata": {},
   "source": [
    "## Properties of $Q = I - 2uu^T$\n",
    "\n",
    "1. $Qu = -u$\n",
    "2. If $v \\in L$, then $Qv = v$.\n",
    "3. $Q = Q^T$\n",
    "4. $Q^TQ = I$\n",
    "5. $Q^{-1} = Q$"
   ]
  },
  {
   "cell_type": "markdown",
   "metadata": {},
   "source": [
    "---"
   ]
  },
  {
   "cell_type": "markdown",
   "metadata": {},
   "source": [
    "## Exercise\n",
    "\n",
    "Prove the above properties."
   ]
  },
  {
   "cell_type": "markdown",
   "metadata": {},
   "source": [
    "---"
   ]
  },
  {
   "cell_type": "markdown",
   "metadata": {},
   "source": [
    "## Reflecting $x$ to $y$\n",
    "\n",
    "If $\\|u\\|_2 \\neq 1$, then the **Householder reflector** is\n",
    "\n",
    "$$\n",
    "Q = I - \\gamma uu^T, \\qquad \\gamma = \\frac{2}{\\|u\\|_2^2}.\n",
    "$$\n",
    "\n",
    "If $x, y \\in \\mathbb{R}^n$ such that $\\|x\\|_2 = \\|y\\|_2$, then the reflector $Q$ using \n",
    "\n",
    "$$u = x - y$$ \n",
    "\n",
    "satisfies\n",
    "\n",
    "$$\n",
    "Qx = y.\n",
    "$$\n",
    "\n"
   ]
  },
  {
   "cell_type": "markdown",
   "metadata": {},
   "source": [
    "---"
   ]
  },
  {
   "cell_type": "markdown",
   "metadata": {},
   "source": [
    "## Creating zeros using reflectors\n",
    "\n",
    "We want the reflector $Q$ that reflects $x$ to $y$, where\n",
    "\n",
    "$$\n",
    "x = \n",
    "\\begin{bmatrix} x_1 \\\\ x_2 \\\\ \\vdots \\\\ x_n \\end{bmatrix},\n",
    "\\qquad\n",
    "y = \n",
    "\\begin{bmatrix} -\\tau \\\\ 0 \\\\ \\vdots \\\\ 0 \\end{bmatrix},\n",
    "\\qquad\n",
    "\\tau = \\mathrm{sign}(x_1)\\|x\\|_2.\n",
    "$$\n",
    "\n",
    "We define $u$ as\n",
    "\n",
    "$$\n",
    "u = \\frac{x - y}{\\tau + x_1} = \n",
    "\\begin{bmatrix} 1 \\\\ x_2/(\\tau + x_1) \\\\ \\vdots \\\\ x_n/(\\tau + x_1) \\end{bmatrix}.\n",
    "$$\n",
    "\n",
    "Note that we have divided by $\\tau + x_1$ to ensure that $u_1 = 1$.\n",
    "\n",
    "Since $\\tau$ and $x_1$ have the same sign, the calculation $\\tau + x_1$ avoids catastrophic cancellation."
   ]
  },
  {
   "cell_type": "markdown",
   "metadata": {},
   "source": [
    "Letting \n",
    "\n",
    "$$\n",
    "Q = I - \\gamma uu^T, \n",
    "\\qquad\n",
    "\\gamma = \\frac{2}{\\|u\\|_2^2},\n",
    "$$\n",
    "\n",
    "we have\n",
    "\n",
    "$$\n",
    "Qx = \\begin{bmatrix} -\\tau \\\\ 0 \\\\ \\vdots \\\\ 0 \\end{bmatrix}.\n",
    "$$\n",
    "\n"
   ]
  },
  {
   "cell_type": "markdown",
   "metadata": {},
   "source": [
    "---"
   ]
  },
  {
   "cell_type": "markdown",
   "metadata": {},
   "source": [
    "## Exercise\n",
    "\n",
    "Prove that \n",
    "$$\\gamma = \\frac{\\tau + x_1}{\\tau}.$$"
   ]
  },
  {
   "cell_type": "markdown",
   "metadata": {},
   "source": [
    "---"
   ]
  },
  {
   "cell_type": "markdown",
   "metadata": {},
   "source": [
    "## `house`\n",
    "\n",
    "We can now write a function to compute the $u$ and $\\gamma$ of the Householder reflector $Q = I - \\gamma uu^T$:\n",
    "\n",
    "```julia\n",
    "u, γ = house(x)\n",
    "```"
   ]
  },
  {
   "cell_type": "code",
   "execution_count": 1,
   "metadata": {
    "collapsed": false
   },
   "outputs": [
    {
     "data": {
      "text/plain": [
       "house (generic function with 1 method)"
      ]
     },
     "execution_count": 1,
     "metadata": {},
     "output_type": "execute_result"
    }
   ],
   "source": [
    "function house(x)\n",
    "    u = copy(x)\n",
    "    \n",
    "    τ = norm(x)\n",
    "    if τ == 0.0\n",
    "        γ = 0.0\n",
    "    else\n",
    "        if x[1] < 0\n",
    "            τ = -τ    # τ = sign(x[1])*norm(x)\n",
    "        end\n",
    "        γ = τ + x[1]  # γ temporarily stores τ + x[1]\n",
    "        u[1] = 1.0    # u normalized to u[1] = 1\n",
    "        u[2:end] /= γ # divide u[2:end] by τ + x[1]\n",
    "        γ /= τ        # γ = (τ + x[1])/τ\n",
    "    end\n",
    "    \n",
    "    return u, γ, τ\n",
    "end"
   ]
  },
  {
   "cell_type": "code",
   "execution_count": 2,
   "metadata": {
    "collapsed": false
   },
   "outputs": [
    {
     "data": {
      "text/plain": [
       "5x5 Array{Float64,2}:\n",
       " -0.601254  -0.350516    0.105653     0.105744     0.702344 \n",
       " -0.350516   0.923272    0.0231276    0.0231476    0.153744 \n",
       "  0.105653   0.0231276   0.993029    -0.00697718  -0.0463418\n",
       "  0.105744   0.0231476  -0.00697718   0.993017    -0.0463817\n",
       "  0.702344   0.153744   -0.0463418   -0.0463817    0.691937 "
      ]
     },
     "execution_count": 2,
     "metadata": {},
     "output_type": "execute_result"
    }
   ],
   "source": [
    "n = 5\n",
    "x = randn(n)\n",
    "\n",
    "u, γ, τ = house(x)\n",
    "\n",
    "Q = eye(n) - γ*(u*u')"
   ]
  },
  {
   "cell_type": "code",
   "execution_count": 3,
   "metadata": {
    "collapsed": false
   },
   "outputs": [
    {
     "data": {
      "text/plain": [
       "true"
      ]
     },
     "execution_count": 3,
     "metadata": {},
     "output_type": "execute_result"
    }
   ],
   "source": [
    "issym(Q)"
   ]
  },
  {
   "cell_type": "code",
   "execution_count": 4,
   "metadata": {
    "collapsed": false
   },
   "outputs": [
    {
     "data": {
      "text/plain": [
       "5x5 Array{Float64,2}:\n",
       "  1.0           5.96484e-17  -1.16688e-17  -1.63856e-17  -1.5211e-16 \n",
       "  5.96484e-17   1.0          -4.13021e-18   3.86013e-18  -1.65451e-17\n",
       " -1.16688e-17  -4.13021e-18   1.0          -1.46017e-19   2.92635e-17\n",
       " -1.63856e-17   3.86013e-18  -1.46017e-19   1.0           1.18559e-17\n",
       " -1.5211e-16   -1.65451e-17   2.92635e-17   1.18559e-17   1.0        "
      ]
     },
     "execution_count": 4,
     "metadata": {},
     "output_type": "execute_result"
    }
   ],
   "source": [
    "Q*Q"
   ]
  },
  {
   "cell_type": "code",
   "execution_count": 5,
   "metadata": {
    "collapsed": false
   },
   "outputs": [
    {
     "data": {
      "text/plain": [
       "5x2 Array{Float64,2}:\n",
       "  1.74148   -2.89641    \n",
       "  1.01524   -2.77556e-16\n",
       " -0.306015   8.32667e-17\n",
       " -0.306279   1.11022e-16\n",
       " -2.03427    0.0        "
      ]
     },
     "execution_count": 5,
     "metadata": {},
     "output_type": "execute_result"
    }
   ],
   "source": [
    "[x Q*x]"
   ]
  },
  {
   "cell_type": "code",
   "execution_count": 6,
   "metadata": {
    "collapsed": false
   },
   "outputs": [
    {
     "data": {
      "text/plain": [
       "2.8964055556620276"
      ]
     },
     "execution_count": 6,
     "metadata": {},
     "output_type": "execute_result"
    }
   ],
   "source": [
    "norm(x)"
   ]
  },
  {
   "cell_type": "markdown",
   "metadata": {},
   "source": [
    "---"
   ]
  },
  {
   "cell_type": "markdown",
   "metadata": {},
   "source": [
    "## `housetimes`\n",
    "\n",
    "The way we computed $Qx$ in the above numerical example was inefficient. Note that\n",
    "\n",
    "$$\n",
    "Qx = \\left(I - \\gamma uu^T\\right)x = x - \\left[\\gamma \\left(u^T x\\right)\\right] u.\n",
    "$$"
   ]
  },
  {
   "cell_type": "code",
   "execution_count": 7,
   "metadata": {
    "collapsed": false
   },
   "outputs": [
    {
     "data": {
      "text/plain": [
       "housetimes (generic function with 1 method)"
      ]
     },
     "execution_count": 7,
     "metadata": {},
     "output_type": "execute_result"
    }
   ],
   "source": [
    "housetimes(x::Vector, u, γ) = x - (γ*dot(u, x))*u"
   ]
  },
  {
   "cell_type": "code",
   "execution_count": 8,
   "metadata": {
    "collapsed": false
   },
   "outputs": [
    {
     "data": {
      "text/plain": [
       "5-element Array{Float64,1}:\n",
       " -2.82245    \n",
       "  0.0        \n",
       "  1.11022e-16\n",
       " -2.22045e-16\n",
       "  0.0        "
      ]
     },
     "execution_count": 8,
     "metadata": {},
     "output_type": "execute_result"
    }
   ],
   "source": [
    "n = 5\n",
    "x = randn(n)\n",
    "\n",
    "u, γ, τ = house(x)\n",
    "\n",
    "housetimes(x, u, γ)"
   ]
  },
  {
   "cell_type": "markdown",
   "metadata": {},
   "source": [
    "---"
   ]
  },
  {
   "cell_type": "markdown",
   "metadata": {},
   "source": [
    "## Exercise\n",
    "\n",
    "Count the number of flops:\n",
    "1. To form $Q$ and compute $Qx$.\n",
    "2. To compute $x - \\left[\\gamma \\left(u^T x\\right)\\right] u$."
   ]
  },
  {
   "cell_type": "markdown",
   "metadata": {},
   "source": [
    "** Solution: **\n",
    "\n",
    "1. $3n^2 + 2n$ flops\n",
    "2. $4n + 1$ flops"
   ]
  },
  {
   "cell_type": "markdown",
   "metadata": {},
   "source": [
    "---"
   ]
  },
  {
   "cell_type": "markdown",
   "metadata": {},
   "source": [
    "In the algorithm for computing the $QR$ decomposition of a matrix $A$, we will need to compute $QB$ where $B$ is a matrix.\n",
    "\n",
    "$$\n",
    "QB = B - (\\gamma u) \\left(u^TB\\right)\n",
    "$$"
   ]
  },
  {
   "cell_type": "code",
   "execution_count": 9,
   "metadata": {
    "collapsed": false
   },
   "outputs": [
    {
     "data": {
      "text/plain": [
       "housetimes (generic function with 2 methods)"
      ]
     },
     "execution_count": 9,
     "metadata": {},
     "output_type": "execute_result"
    }
   ],
   "source": [
    "housetimes(B::Matrix, u, γ) = B - (γ*u)*(u'*B)"
   ]
  },
  {
   "cell_type": "code",
   "execution_count": 10,
   "metadata": {
    "collapsed": false
   },
   "outputs": [
    {
     "data": {
      "text/plain": [
       "5x5 Array{Float64,2}:\n",
       " -1.66785      -1.16103   -1.06713   -0.704652  -0.752904\n",
       "  1.11022e-16   0.61231    0.18759    0.275494  -0.21571 \n",
       "  1.11022e-16  -0.475375   0.180874   0.262555  -0.389677\n",
       "  0.0          -0.079235  -0.383114  -0.34259   -0.224234\n",
       "  0.0           0.215199  -0.467295  -0.369408   0.214215"
      ]
     },
     "execution_count": 10,
     "metadata": {},
     "output_type": "execute_result"
    }
   ],
   "source": [
    "n = 5\n",
    "B = rand(n,n)\n",
    "\n",
    "u, γ, τ = house(B[:,1])\n",
    "\n",
    "housetimes(B, u, γ)"
   ]
  },
  {
   "cell_type": "markdown",
   "metadata": {},
   "source": [
    "---"
   ]
  },
  {
   "cell_type": "markdown",
   "metadata": {},
   "source": [
    "## Exercise\n",
    "\n",
    "Use Householder reflectors to numerically compute the $QR$-decomposition of\n",
    "\n",
    "$$\n",
    "A = \\begin{bmatrix}\n",
    "1 & 2 & 0 \\\\\n",
    "0 & 1 & 3 \\\\\n",
    "1 & 3 & 0\n",
    "\\end{bmatrix}.\n",
    "$$"
   ]
  },
  {
   "cell_type": "code",
   "execution_count": 11,
   "metadata": {
    "collapsed": false
   },
   "outputs": [
    {
     "data": {
      "text/plain": [
       "3x3 Array{Float64,2}:\n",
       " 1.0  2.0  0.0\n",
       " 0.0  1.0  3.0\n",
       " 1.0  3.0  0.0"
      ]
     },
     "execution_count": 11,
     "metadata": {},
     "output_type": "execute_result"
    }
   ],
   "source": [
    "A = [1 2 0; 0 1 3; 1 3 0.0]\n",
    "B = A"
   ]
  },
  {
   "cell_type": "code",
   "execution_count": 12,
   "metadata": {
    "collapsed": false
   },
   "outputs": [
    {
     "data": {
      "text/plain": [
       "([1.0,0.0,0.4142135623730951],1.7071067811865472,1.4142135623730951)"
      ]
     },
     "execution_count": 12,
     "metadata": {},
     "output_type": "execute_result"
    }
   ],
   "source": [
    "u, γ, τ = house(A[:,1])"
   ]
  },
  {
   "cell_type": "code",
   "execution_count": 13,
   "metadata": {
    "collapsed": false
   },
   "outputs": [
    {
     "data": {
      "text/plain": [
       "3x3 Array{Float64,2}:\n",
       " -1.41421  -3.53553   0.0\n",
       "  0.0       1.0       3.0\n",
       "  0.0       0.707107  0.0"
      ]
     },
     "execution_count": 13,
     "metadata": {},
     "output_type": "execute_result"
    }
   ],
   "source": [
    "A = housetimes(A, u, γ)"
   ]
  },
  {
   "cell_type": "code",
   "execution_count": 14,
   "metadata": {
    "collapsed": false
   },
   "outputs": [
    {
     "data": {
      "text/plain": [
       "([1.0,0.3178372451957822],1.816496580927726,1.224744871391589)"
      ]
     },
     "execution_count": 14,
     "metadata": {},
     "output_type": "execute_result"
    }
   ],
   "source": [
    "u, γ, τ = house(A[2:3,2])"
   ]
  },
  {
   "cell_type": "code",
   "execution_count": 15,
   "metadata": {
    "collapsed": false
   },
   "outputs": [
    {
     "data": {
      "text/plain": [
       "2x2 Array{Float64,2}:\n",
       " -1.22474  -2.44949\n",
       "  0.0      -1.73205"
      ]
     },
     "execution_count": 15,
     "metadata": {},
     "output_type": "execute_result"
    }
   ],
   "source": [
    "A[2:3,2:3] = housetimes(A[2:3,2:3], u, γ)"
   ]
  },
  {
   "cell_type": "code",
   "execution_count": 16,
   "metadata": {
    "collapsed": false
   },
   "outputs": [
    {
     "data": {
      "text/plain": [
       "3x3 Array{Float64,2}:\n",
       " -1.41421  -3.53553   0.0    \n",
       "  0.0      -1.22474  -2.44949\n",
       "  0.0       0.0      -1.73205"
      ]
     },
     "execution_count": 16,
     "metadata": {},
     "output_type": "execute_result"
    }
   ],
   "source": [
    "A"
   ]
  },
  {
   "cell_type": "code",
   "execution_count": 17,
   "metadata": {
    "collapsed": false
   },
   "outputs": [
    {
     "data": {
      "text/plain": [
       "(\n",
       "3x3 Array{Float64,2}:\n",
       " -0.707107   0.408248  -0.57735\n",
       "  0.0       -0.816497  -0.57735\n",
       " -0.707107  -0.408248   0.57735,\n",
       "\n",
       "3x3 Array{Float64,2}:\n",
       " -1.41421  -3.53553   0.0    \n",
       "  0.0      -1.22474  -2.44949\n",
       "  0.0       0.0      -1.73205)"
      ]
     },
     "execution_count": 17,
     "metadata": {},
     "output_type": "execute_result"
    }
   ],
   "source": [
    "Q, R = qr(B)"
   ]
  },
  {
   "cell_type": "markdown",
   "metadata": {},
   "source": [
    "---"
   ]
  },
  {
   "cell_type": "markdown",
   "metadata": {},
   "source": [
    "## The $QR$ Decomposition Algorithm\n",
    "\n",
    "$$A_0 = A$$\n",
    "\n",
    "$$\n",
    "A_1 = Q_1A = \n",
    "\\left[\\begin{array}{c|c}\n",
    "-\\tau_1 & a_1^T \\\\ \\hline\n",
    "0 & \\hat{A}_1\n",
    "\\end{array}\\right],\n",
    "\\qquad\n",
    "Q_1 = I_n - \\gamma_1 u_1 u_1^T\n",
    "$$\n",
    "\n",
    "$$\n",
    "A_2 = Q_2Q_1A = \n",
    "\\left[\\begin{array}{c|c}\n",
    "-\\tau_1 & a_1^T \\\\ \\hline\n",
    "0 &\n",
    "\\begin{array}{c|c}\n",
    "-\\tau_2 & a_2^T \\\\ \\hline\n",
    "0 & \\hat{A}_2\n",
    "\\end{array}\n",
    "\\end{array}\\right],\n",
    "\\qquad\n",
    "Q_2 = \n",
    "\\left[\\begin{array}{c|c}\n",
    "1 & \\\\\\hline\n",
    "& I_{n-1} - \\gamma_2 u_2 u_2^T\n",
    "\\end{array}\\right]\n",
    "$$\n",
    "\n",
    "$$\n",
    "A_3 = Q_3Q_2Q_1A = \n",
    "\\left[\\begin{array}{c|c}\n",
    "-\\tau_1 & a_1^T \\\\ \\hline\n",
    "0 &\n",
    "\\begin{array}{c|c}\n",
    "-\\tau_2 & a_2^T \\\\ \\hline\n",
    "0 & \n",
    "\\begin{array}{c|c}\n",
    "-\\tau_3 & a_3^T \\\\ \\hline\n",
    "0 & \\hat{A}_3\n",
    "\\end{array}\n",
    "\\end{array}\n",
    "\\end{array}\\right],\n",
    "\\qquad\n",
    "Q_3 = \n",
    "\\left[\\begin{array}{c|c}\n",
    "I_2 & \\\\\\hline\n",
    "& I_{n-2} - \\gamma_3 u_3 u_3^T\n",
    "\\end{array}\\right]\n",
    "$$\n",
    "\n",
    "$$\\vdots$$"
   ]
  },
  {
   "cell_type": "markdown",
   "metadata": {},
   "source": [
    "$$\n",
    "A_{n-1} = Q_{n-1} \\cdots Q_1A = \n",
    "\\left[\\begin{array}{c|c}\n",
    "-\\tau_1 & a_1^T \\\\ \\hline\n",
    "0 &\n",
    "\\begin{array}{c|c}\n",
    "-\\tau_2 & a_2^T \\\\ \\hline\n",
    "0 & \n",
    "\\begin{array}{c|c}\n",
    "-\\tau_3 & a_3^T \\\\ \\hline\n",
    "0 & \n",
    "\\begin{array}{c|c}\n",
    "\\ddots & \\ddots \\\\ \\hline\n",
    "0 & \n",
    "\\begin{array}{c|c}\n",
    "-\\tau_{n-1} & a_{n-1}^T \\\\ \\hline\n",
    "0& \\hat{A}_{n-1}\n",
    "\\end{array}\n",
    "\\end{array}\n",
    "\\end{array}\n",
    "\\end{array}\n",
    "\\end{array}\\right] = R\n",
    "$$\n",
    "\n",
    "We then let $Q = Q_1Q_2 \\cdots Q_{n-1}$ and obtain $A = QR$."
   ]
  },
  {
   "cell_type": "markdown",
   "metadata": {},
   "source": [
    "---"
   ]
  },
  {
   "cell_type": "markdown",
   "metadata": {},
   "source": [
    "## Storing $u_i$'s and $\\gamma_i$'s\n",
    "\n",
    "Each $u_i$ is normalized so that\n",
    "\n",
    "$$\n",
    "u_i = \\begin{bmatrix} 1\\\\*\\\\\\vdots\\\\* \\end{bmatrix}.\n",
    "$$\n",
    "\n",
    "Thus we do not need to store the first entry since it is always $1$.\n",
    "\n",
    "The rest of the entries of $u_i$ can be stored where the zeros are created.\n",
    "\n",
    "To store the $\\gamma_i$'s, we create a separate vector\n",
    "\n",
    "$$\n",
    "\\gamma = \\begin{bmatrix} \\gamma_1\\\\\\vdots\\\\\\gamma_{n-1} \\end{bmatrix}.\n",
    "$$"
   ]
  },
  {
   "cell_type": "markdown",
   "metadata": {},
   "source": [
    "---"
   ]
  },
  {
   "cell_type": "markdown",
   "metadata": {},
   "source": [
    "## `myqr`"
   ]
  },
  {
   "cell_type": "code",
   "execution_count": 18,
   "metadata": {
    "collapsed": false
   },
   "outputs": [
    {
     "data": {
      "text/plain": [
       "myqr (generic function with 1 method)"
      ]
     },
     "execution_count": 18,
     "metadata": {},
     "output_type": "execute_result"
    }
   ],
   "source": [
    "immutable myQRfactorization\n",
    "    V::Matrix{Float64}\n",
    "    γ::Vector{Float64}\n",
    "end\n",
    "\n",
    "function myqr(A::Matrix{Float64})\n",
    "    m, n = size(A)\n",
    "    \n",
    "    m == n || error(\"This QR decomposition algorithm requires a square input matrix.\")\n",
    "        \n",
    "    V = copy(A)\n",
    "    γ = zeros(n-1)\n",
    "    for k = 1:n-1\n",
    "        u, γ[k], τ = house(V[k:n,k])  # compute the Householder reflector I - γuu'\n",
    "        V[k,k] = -τ                   # diagonal entries become -τ\n",
    "        V[k+1:n,k] = u[2:end]         # store u's in lower-triangular part of V\n",
    "        V[k:n,k+1:n] -= (γ[k]*u)*(u'*V[k:n,k+1:n]) # housetimes\n",
    "    end\n",
    "    \n",
    "    myQRfactorization(V, γ)\n",
    "end"
   ]
  },
  {
   "cell_type": "code",
   "execution_count": 19,
   "metadata": {
    "collapsed": false
   },
   "outputs": [
    {
     "data": {
      "text/plain": [
       "myQRfactorization(5x5 Array{Float64,2}:\n",
       " -1.21171   -0.646615  -1.02701   -0.568412  -0.905701 \n",
       "  0.359355   0.596753   0.311726   0.342726   0.28903  \n",
       "  0.323829  -0.341619  -0.325343  -0.108412  -0.659205 \n",
       "  0.541513   0.34095   -0.712624   0.565056   0.732905 \n",
       "  0.400704   0.313635  -0.145891   0.245047   0.0650549,[1.1849735384164892,1.5022709510812486,1.3079440004593315,1.8867072414100412])"
      ]
     },
     "execution_count": 19,
     "metadata": {},
     "output_type": "execute_result"
    }
   ],
   "source": [
    "n = 5\n",
    "A = rand(n, n)\n",
    "\n",
    "myF = myqr(A)"
   ]
  },
  {
   "cell_type": "code",
   "execution_count": 20,
   "metadata": {
    "collapsed": false
   },
   "outputs": [
    {
     "data": {
      "text/plain": [
       "(\n",
       "5x5 Array{Float64,2}:\n",
       " -0.184974   0.569336  -0.0900274   0.786494    0.122327\n",
       " -0.425826  -0.297677  -0.757704    0.0884645  -0.384863\n",
       " -0.383729   0.697573  -0.0893032  -0.593676   -0.075621\n",
       " -0.641679  -0.203897   0.636013    0.124823   -0.355783\n",
       " -0.474824  -0.243029  -0.0727532  -0.0746314   0.839414,\n",
       "\n",
       "5x5 Array{Float64,2}:\n",
       " -1.21171  -0.646615  -1.02701   -0.568412  -0.905701 \n",
       "  0.0       0.596753   0.311726   0.342726   0.28903  \n",
       "  0.0       0.0       -0.325343  -0.108412  -0.659205 \n",
       "  0.0       0.0        0.0        0.565056   0.732905 \n",
       "  0.0       0.0        0.0        0.0        0.0650549)"
      ]
     },
     "execution_count": 20,
     "metadata": {},
     "output_type": "execute_result"
    }
   ],
   "source": [
    "Q, R = qr(A)"
   ]
  },
  {
   "cell_type": "code",
   "execution_count": 21,
   "metadata": {
    "collapsed": false
   },
   "outputs": [
    {
     "data": {
      "text/plain": [
       "5x5 UpperTriangular{Float64,Array{Float64,2}}:\n",
       " -1.21171  -0.646615  -1.02701   -0.568412  -0.905701 \n",
       "  0.0       0.596753   0.311726   0.342726   0.28903  \n",
       "  0.0       0.0       -0.325343  -0.108412  -0.659205 \n",
       "  0.0       0.0        0.0        0.565056   0.732905 \n",
       "  0.0       0.0        0.0        0.0        0.0650549"
      ]
     },
     "execution_count": 21,
     "metadata": {},
     "output_type": "execute_result"
    }
   ],
   "source": [
    "UpperTriangular(myF.V)"
   ]
  },
  {
   "cell_type": "markdown",
   "metadata": {},
   "source": [
    "---"
   ]
  },
  {
   "cell_type": "markdown",
   "metadata": {},
   "source": [
    "## Flop count of $QR$ Decomposition Algorithm\n",
    "\n",
    "In each iteration, we need to compute `housetimes`:\n",
    "\n",
    "1. $\\left(I_n - \\gamma_1 u_1 u_1^T\\right) A_{0}[1:n,\\ 2:n]$\n",
    "\n",
    "2. $\\left(I_{n-1} - \\gamma_2 u_2 u_2^T\\right) A_{1}[2:n,\\ 3:n]$\n",
    "\n",
    "3. $\\left(I_{n-2} - \\gamma_3 u_3 u_3^T\\right) A_{2}[3:n,\\ 4:n]$\n",
    "\n",
    "$\\vdots$\n",
    "\n",
    "In iteration $k$, we compute\n",
    "\n",
    "$$\n",
    "\\left(I_{n-k+1} - \\gamma_k u_k u_k^T\\right) A_{k-1}[k:n,\\ k+1:n].\n",
    "$$\n",
    "\n",
    "This operation requires approximately $4(n - k + 1)^2$ flops if done efficiently.\n",
    "\n",
    "We also need to compute $\\gamma_k$ and $u_k$ from $A_{k-1}[k:n, k]$, but this is only $O(n)$.\n",
    "\n",
    "Therefore, the $QR$ Decomposition Algorithm requires\n",
    "\n",
    "$$\n",
    "\\sum_{k=1}^{n-1} 4(n-k+1)^2 \\approx \\int_1^{n-1} 4(n-x+1)^2 dx = \\frac{4}{3}n^3.\n",
    "$$\n",
    "\n",
    "This does not include forming $Q$ though."
   ]
  },
  {
   "cell_type": "markdown",
   "metadata": {},
   "source": [
    "---"
   ]
  },
  {
   "cell_type": "markdown",
   "metadata": {},
   "source": [
    "## Forming $Q$\n",
    "\n",
    "We can use the $u_i$'s and the $\\gamma_i$'s to compute\n",
    "\n",
    "$$QB = Q_1Q_2\\cdots Q_{n-1} B$$\n",
    "\n",
    "$$Q^T B = Q_{n-1}\\cdots Q_2 Q_1 B$$\n",
    "\n",
    "efficiently without forming $Q$.\n",
    "\n",
    "\n",
    "We can form $Q$ by computing $QI_n$:\n",
    "\n",
    "$$\n",
    "\\begin{align}\n",
    "Q = QI_n &= Q_1 Q_2\\cdots Q_{n-1} I_n\\\\\n",
    "&= \n",
    "\\left[\\begin{array}{c}\n",
    "I_{n} - \\gamma_1 u_1 u_1^T\n",
    "\\end{array}\\right]\n",
    "\\left[\\begin{array}{c|c}\n",
    "I_1 & \\\\\\hline\n",
    "& I_{n-1} - \\gamma_2 u_2 u_2^T\n",
    "\\end{array}\\right]\n",
    "\\cdots\n",
    "\\left[\\begin{array}{c|c}\n",
    "I_{n-2} & \\\\\\hline\n",
    "& I_{2} - \\gamma_{n-1} u_{n-1} u_{n-1}^T\n",
    "\\end{array}\\right] I_n\n",
    "\\end{align}\n",
    "$$\n",
    "\n",
    "Done efficiently (from right to left), this calculation requires an additional $\\frac43n^3$ flops."
   ]
  },
  {
   "cell_type": "markdown",
   "metadata": {},
   "source": [
    "---"
   ]
  },
  {
   "cell_type": "markdown",
   "metadata": {},
   "source": [
    "## `Qtimes` and `formQ`"
   ]
  },
  {
   "cell_type": "code",
   "execution_count": 22,
   "metadata": {
    "collapsed": false
   },
   "outputs": [
    {
     "data": {
      "text/plain": [
       "formQ (generic function with 1 method)"
      ]
     },
     "execution_count": 22,
     "metadata": {},
     "output_type": "execute_result"
    }
   ],
   "source": [
    "function Qtimes!(F::myQRfactorization, B::Matrix; T=false)\n",
    "    n = size(F.V, 1)\n",
    "    cols = T ? (1:n-1) : (n-1:-1:1)\n",
    "    for k = cols\n",
    "        γk = F.γ[k]\n",
    "        uk = [1.0; F.V[k+1:n,k]]\n",
    "        B[k:n,k:n] -= (γk*uk)*(uk'*B[k:n,k:n])\n",
    "    end\n",
    "    B\n",
    "end\n",
    "Qtimes(F::myQRfactorization, B::Matrix) = Qtimes!(F, copy(B))\n",
    "\n",
    "QTtimes!(F::myQRfactorization, B::Matrix) = Qtimes!(F, B, T=true)\n",
    "QTtimes(F::myQRfactorization, B::Matrix) = Qtimes!(F, copy(B), T=true)\n",
    "\n",
    "formQ(F::myQRfactorization) = Qtimes(F, eye(size(F.V,1)))"
   ]
  },
  {
   "cell_type": "code",
   "execution_count": 23,
   "metadata": {
    "collapsed": false
   },
   "outputs": [
    {
     "data": {
      "text/plain": [
       "5x5 Array{Float64,2}:\n",
       " -0.490761    0.298856   -0.254541  -0.770368    0.107616 \n",
       " -0.448226   -0.113792    0.750086  -0.071722   -0.467303 \n",
       " -0.726151    0.0467691  -0.328601   0.598504    0.0658095\n",
       " -0.0713743  -0.84172    -0.385206  -0.197729   -0.314535 \n",
       " -0.160802   -0.4325      0.340907  -0.0639162   0.816568 "
      ]
     },
     "execution_count": 23,
     "metadata": {},
     "output_type": "execute_result"
    }
   ],
   "source": [
    "n = 5\n",
    "A = rand(n, n)\n",
    "F = myqr(A)\n",
    "\n",
    "Q = formQ(F)"
   ]
  },
  {
   "cell_type": "code",
   "execution_count": 24,
   "metadata": {
    "collapsed": false
   },
   "outputs": [
    {
     "data": {
      "text/plain": [
       "5x5 Array{Float64,2}:\n",
       " -1.33032      -1.13743      -0.795223     -0.925098     -0.652679\n",
       "  7.29443e-18  -0.886931     -0.364557     -0.554664     -1.11912 \n",
       " -6.31425e-17   1.90005e-16   0.781381     -0.301029      0.32143 \n",
       " -6.52433e-17  -4.28582e-18   1.08256e-17  -0.617856     -0.34784 \n",
       "  7.04383e-17  -6.97146e-18   5.28094e-17   5.42512e-17  -0.182478"
      ]
     },
     "execution_count": 24,
     "metadata": {},
     "output_type": "execute_result"
    }
   ],
   "source": [
    "Q'*A"
   ]
  },
  {
   "cell_type": "code",
   "execution_count": 25,
   "metadata": {
    "collapsed": false
   },
   "outputs": [
    {
     "data": {
      "text/plain": [
       "5x5 Array{Float64,2}:\n",
       " -1.33032      -1.13743      -0.795223     -0.925098  -0.652679\n",
       " -1.11022e-16  -0.886931     -0.364557     -0.554664  -1.11912 \n",
       " -1.11022e-16   0.0           0.781381     -0.301029   0.32143 \n",
       " -2.77556e-17  -1.11022e-16  -1.11022e-16  -0.617856  -0.34784 \n",
       " -2.77556e-17   0.0           0.0           0.0       -0.182478"
      ]
     },
     "execution_count": 25,
     "metadata": {},
     "output_type": "execute_result"
    }
   ],
   "source": [
    "QTtimes(F, A)"
   ]
  },
  {
   "cell_type": "markdown",
   "metadata": {},
   "source": [
    "---"
   ]
  },
  {
   "cell_type": "markdown",
   "metadata": {},
   "source": [
    "## Flop count summary\n",
    "\n",
    "Let $A \\in \\mathbb{R}^{n \\times n}$.\n",
    "\n",
    "`chol(A)`: $\\frac13n^3$\n",
    "\n",
    "`lu(A)`:  $\\frac23n^3$\n",
    "\n",
    "`qrfact(A)` does not form $Q$: $\\frac43n^3$\n",
    "\n",
    "`qr(A)` forms $Q$: $\\frac83n^3$\n"
   ]
  },
  {
   "cell_type": "markdown",
   "metadata": {},
   "source": [
    "---"
   ]
  },
  {
   "cell_type": "markdown",
   "metadata": {},
   "source": [
    "## Flop count to solve $Ax = b$ by $QR$\n",
    "\n",
    "**Algorithm:**\n",
    "\n",
    "1. Compute the $QR$ Decomposition of $A$, but do not form $Q$.\n",
    "2. $c = Q^Tb$\n",
    "3. Use backward substitution to solve $Rx = c$\n",
    "\n",
    "The cost of the $QR$ Decomposition is $\\frac43n^3$.\n",
    "\n",
    "The cost of computing $c = Q^Tb$ efficiently (using the $u_i$'s and the $\\gamma_i$'s) is about $2n^2$ flops.\n",
    "\n",
    "Backward substitution is $n^2$ flops.\n",
    "\n",
    "Therefore, in total we have \n",
    "$$\\frac43n^3 + O(n^2)$$ \n",
    "flops to solve $Ax = b$ by $QR$."
   ]
  },
  {
   "cell_type": "markdown",
   "metadata": {},
   "source": [
    "---"
   ]
  },
  {
   "cell_type": "markdown",
   "metadata": {},
   "source": [
    "## `x = F\\b`"
   ]
  },
  {
   "cell_type": "code",
   "execution_count": 26,
   "metadata": {
    "collapsed": false
   },
   "outputs": [
    {
     "data": {
      "text/plain": [
       "QTtimes (generic function with 2 methods)"
      ]
     },
     "execution_count": 26,
     "metadata": {},
     "output_type": "execute_result"
    }
   ],
   "source": [
    "function Qtimes!(F::myQRfactorization, b::Vector; T=false)\n",
    "    n = size(F.V, 1)\n",
    "    cols = T ? (1:n-1) : (n-1:-1:1)\n",
    "    for k = cols\n",
    "        γk = F.γ[k]\n",
    "        uk = [1.0; F.V[k+1:n,k]]\n",
    "        b[k:n] -= (γk*uk)*dot(uk, b[k:n])\n",
    "    end\n",
    "    b\n",
    "end\n",
    "Qtimes(F::myQRfactorization, b::Vector) = Qtimes!(F, copy(b))\n",
    "\n",
    "QTtimes!(F::myQRfactorization, b::Vector) = Qtimes!(F, b, T=true)\n",
    "QTtimes(F::myQRfactorization, b::Vector) = QTtimes!(F, copy(b))"
   ]
  },
  {
   "cell_type": "code",
   "execution_count": 27,
   "metadata": {
    "collapsed": false
   },
   "outputs": [
    {
     "data": {
      "text/plain": [
       "5-element Array{Float64,1}:\n",
       " -0.94807 \n",
       " -0.275826\n",
       " -0.182984\n",
       "  0.32698 \n",
       "  0.179401"
      ]
     },
     "execution_count": 27,
     "metadata": {},
     "output_type": "execute_result"
    }
   ],
   "source": [
    "n = 5\n",
    "A = rand(n, n)\n",
    "b = rand(n)\n",
    "\n",
    "F = myqr(A)\n",
    "\n",
    "c = QTtimes(F, b)"
   ]
  },
  {
   "cell_type": "code",
   "execution_count": 28,
   "metadata": {
    "collapsed": false
   },
   "outputs": [
    {
     "data": {
      "text/plain": [
       "5x5 UpperTriangular{Float64,Array{Float64,2}}:\n",
       " -1.56403  -0.594123  -0.767496  -1.16111   -0.956755\n",
       "  0.0      -0.843687  -0.866259  -0.555781  -0.520591\n",
       "  0.0       0.0        0.626959  -0.211049  -0.299551\n",
       "  0.0       0.0        0.0       -0.451143  -0.106553\n",
       "  0.0       0.0        0.0        0.0       -0.298074"
      ]
     },
     "execution_count": 28,
     "metadata": {},
     "output_type": "execute_result"
    }
   ],
   "source": [
    "R = UpperTriangular(F.V)"
   ]
  },
  {
   "cell_type": "code",
   "execution_count": 29,
   "metadata": {
    "collapsed": false
   },
   "outputs": [
    {
     "data": {
      "text/plain": [
       "5-element Array{Float64,1}:\n",
       "  1.07391 \n",
       "  1.87841 \n",
       " -0.775547\n",
       " -0.582627\n",
       " -0.601868"
      ]
     },
     "execution_count": 29,
     "metadata": {},
     "output_type": "execute_result"
    }
   ],
   "source": [
    "x = R\\c"
   ]
  },
  {
   "cell_type": "code",
   "execution_count": 30,
   "metadata": {
    "collapsed": false
   },
   "outputs": [
    {
     "data": {
      "text/plain": [
       "5-element Array{Float64,1}:\n",
       "  4.44089e-16\n",
       " -4.44089e-16\n",
       " -5.55112e-17\n",
       "  2.22045e-16\n",
       " -1.38778e-16"
      ]
     },
     "execution_count": 30,
     "metadata": {},
     "output_type": "execute_result"
    }
   ],
   "source": [
    "b - A*x"
   ]
  },
  {
   "cell_type": "code",
   "execution_count": 31,
   "metadata": {
    "collapsed": false
   },
   "outputs": [
    {
     "data": {
      "text/plain": [
       "5-element Array{Float64,1}:\n",
       " -2.22045e-16\n",
       "  3.33067e-16\n",
       "  0.0        \n",
       " -1.11022e-16\n",
       "  1.38778e-16"
      ]
     },
     "execution_count": 31,
     "metadata": {},
     "output_type": "execute_result"
    }
   ],
   "source": [
    "b - A*(A\\b)"
   ]
  },
  {
   "cell_type": "markdown",
   "metadata": {},
   "source": [
    "---"
   ]
  },
  {
   "cell_type": "code",
   "execution_count": 32,
   "metadata": {
    "collapsed": false
   },
   "outputs": [
    {
     "data": {
      "text/plain": [
       "\\ (generic function with 61 methods)"
      ]
     },
     "execution_count": 32,
     "metadata": {},
     "output_type": "execute_result"
    }
   ],
   "source": [
    "import Base.\\\n",
    "\n",
    "\\(F::myQRfactorization, b::Vector) = UpperTriangular(F.V)\\QTtimes(F, b)"
   ]
  },
  {
   "cell_type": "code",
   "execution_count": 33,
   "metadata": {
    "collapsed": false
   },
   "outputs": [
    {
     "data": {
      "text/plain": [
       "5-element Array{Float64,1}:\n",
       "  1.07391 \n",
       "  1.87841 \n",
       " -0.775547\n",
       " -0.582627\n",
       " -0.601868"
      ]
     },
     "execution_count": 33,
     "metadata": {},
     "output_type": "execute_result"
    }
   ],
   "source": [
    "x = F\\b"
   ]
  },
  {
   "cell_type": "code",
   "execution_count": 34,
   "metadata": {
    "collapsed": false
   },
   "outputs": [
    {
     "data": {
      "text/plain": [
       "5-element Array{Float64,1}:\n",
       "  4.44089e-16\n",
       " -4.44089e-16\n",
       " -5.55112e-17\n",
       "  2.22045e-16\n",
       " -1.38778e-16"
      ]
     },
     "execution_count": 34,
     "metadata": {},
     "output_type": "execute_result"
    }
   ],
   "source": [
    "b - A*x"
   ]
  },
  {
   "cell_type": "markdown",
   "metadata": {},
   "source": [
    "---"
   ]
  },
  {
   "cell_type": "markdown",
   "metadata": {},
   "source": [
    "> ## $QR$ Decomposition Theorem\n",
    "\n",
    "> Let $A \\in \\mathbb{R}^{n \\times n}$. Then the following hold.\n",
    "\n",
    "> 1. There exists $Q, R \\in \\mathbb{R}^{n \\times n}$ such that $Q$ is orthogonal, $R$ is upper-triangular, and $A = QR$.\n",
    "\n",
    "> 2. If $A$ is **nonsingular**, then $\\exists$ **unique** $Q, R \\in \\mathbb{R}^{n \\times n}$ such that $Q$ is orthogonal, $R$ is upper-triangular with **positive diagonal entries**, and $A = QR$."
   ]
  },
  {
   "cell_type": "markdown",
   "metadata": {},
   "source": [
    "### Proof.\n",
    "\n",
    "1. Hint: Use Householder reflectors and induction on $n$.\n",
    "2. Hint: Let $D$ be diagonal with $d_{ii} = \\mathrm{sign}(r_{ii})$."
   ]
  },
  {
   "cell_type": "markdown",
   "metadata": {},
   "source": [
    "---"
   ]
  },
  {
   "cell_type": "markdown",
   "metadata": {},
   "source": [
    "## Stability\n",
    "\n",
    "Multiplication by rotators or reflectors is stable:\n",
    "\n",
    "$$\n",
    "\\mathrm{fl}(QA) = Q(A + E)\n",
    "$$\n",
    "\n",
    "where $\\frac{\\|E\\|_2}{\\|A\\|_2}$ is tiny.\n",
    "\n",
    "Also,\n",
    "\n",
    "$$\n",
    "\\mathrm{fl}(Q_2Q_1A) = Q_2Q_1(A + E),\n",
    "$$\n",
    "\n",
    "where $\\|E\\|_2 = \\left\\|E_1 + Q_1^T E_2\\right\\|_2 \\leq \\|E_1\\|_2 + \\left\\|Q_1^TE_2\\right\\|_2 = \\|E_1\\|_2 + \\left\\|E_2\\right\\|_2$. Therefore, $\\frac{\\|E\\|_2}{\\|A\\|_2}$ is tiny."
   ]
  },
  {
   "cell_type": "markdown",
   "metadata": {},
   "source": [
    "---"
   ]
  }
 ],
 "metadata": {
  "anaconda-cloud": {},
  "kernelspec": {
   "display_name": "Julia 0.4.7",
   "language": "julia",
   "name": "julia-0.4"
  },
  "language_info": {
   "file_extension": ".jl",
   "mimetype": "application/julia",
   "name": "julia",
   "version": "0.4.7"
  }
 },
 "nbformat": 4,
 "nbformat_minor": 0
}
