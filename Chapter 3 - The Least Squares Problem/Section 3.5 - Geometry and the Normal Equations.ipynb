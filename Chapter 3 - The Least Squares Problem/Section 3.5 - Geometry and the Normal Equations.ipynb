{
 "cells": [
  {
   "cell_type": "markdown",
   "metadata": {},
   "source": [
    "---\n",
    "# Section 3.5: Geometry and the Normal Equations\n",
    "---"
   ]
  },
  {
   "cell_type": "markdown",
   "metadata": {},
   "source": [
    "## Orthogonal complement\n",
    "\n",
    "Let $S \\subseteq \\mathbb{R}^n$.\n",
    "\n",
    "The **orthogonal complement** is\n",
    "\n",
    "$$\n",
    "S^\\perp = \\left\\{ x \\in \\mathbb{R}^n : \\langle x, y \\rangle = 0, \\forall y \\in S \\right\\}.\n",
    "$$\n",
    "\n",
    "This is the set of vectors $x$ that are orthogonal to every vector $y$ in $S$."
   ]
  },
  {
   "cell_type": "markdown",
   "metadata": {},
   "source": [
    "---\n",
    "\n",
    "## Example\n",
    "\n",
    "The $x_1x_2$-plane in $\\mathbb{R}^3$ is\n",
    "\n",
    "$$\n",
    "S = \\left\\{ x \\in \\mathbb{R}^3 : x_3 = 0 \\right\\}.\n",
    "$$\n",
    "\n",
    "It's orthogonal complement is the $x_3$-axis,\n",
    "\n",
    "$$\n",
    "S^\\perp = \\left\\{ x \\in \\mathbb{R}^3 : x_1 = x_2 = 0 \\right\\}.\n",
    "$$\n",
    "\n",
    "---"
   ]
  },
  {
   "cell_type": "markdown",
   "metadata": {},
   "source": [
    "The orthogonal complement $S^\\perp$ is always a **subspace** of $\\mathbb{R}^n$ (i.e., it is closed under vector addition and scalar multiplication):\n",
    "\n",
    "1. If $x_1, x_2  \\in S^\\perp$, then $x_1 + x_2 \\in S^\\perp$.\n",
    "2. If $\\alpha \\in \\mathbb{R}$ and $x \\in S^\\perp$, then $\\alpha x \\in S^\\perp$."
   ]
  },
  {
   "cell_type": "markdown",
   "metadata": {},
   "source": [
    "---\n",
    "\n",
    "## Exercise\n",
    "\n",
    "Prove that $S^\\perp$ is a subspace.\n",
    "\n",
    "---"
   ]
  },
  {
   "cell_type": "markdown",
   "metadata": {},
   "source": [
    "> ### Theorem: (Subspace Decomposition of $\\mathbb{R}^n$)\n",
    "> Let $S$ be a subspace of $\\mathbb{R}^n$. Then $\\mathbb{R}^n$ is the **direct sum** of $S$ and $S^\\perp$, which we write as\n",
    "> $$\\mathbb{R}^n = S \\oplus S^\\perp.$$\n",
    "> That is, every $x \\in \\mathbb{R}^n$ can be written *uniquely* as $x = y + z$ where $y \\in S$ and $z \\in S^\\perp$."
   ]
  },
  {
   "cell_type": "markdown",
   "metadata": {},
   "source": [
    "The vectors $y$ and $z$ satisfy\n",
    "\n",
    "$$\n",
    "\\begin{align}\n",
    "y &= \\operatorname{proj}_S(x) = \\operatorname*{argmin}_{w \\in S} \\|w - x\\|_2, \\\\\n",
    "z &= \\operatorname{proj}_{S^\\perp}(x) = \\operatorname*{argmin}_{w \\in S^\\perp} \\|w - x\\|_2. \\\\\n",
    "\\end{align}\n",
    "$$\n",
    "\n",
    "That is, $y$ is the closest vector in $S$ to $x$, and $z$ is the closest vector in $S^\\perp$ to $x$."
   ]
  },
  {
   "cell_type": "markdown",
   "metadata": {},
   "source": [
    "---\n",
    "\n",
    "## Example\n",
    "\n",
    "$$\n",
    "S = \\left\\{ x \\in \\mathbb{R}^3 : x_3 = 0 \\right\\},\n",
    "\\qquad\n",
    "S^\\perp = \\left\\{ x \\in \\mathbb{R}^3 : x_1 = x_2 = 0 \\right\\}.\n",
    "$$\n",
    "\n",
    "$$\n",
    "x = \\begin{bmatrix} 1 \\\\ 2 \\\\ 3 \\end{bmatrix} \\in \\mathbb{R}^3, \\qquad\n",
    "y = \\begin{bmatrix} 1 \\\\ 2 \\\\ 0 \\end{bmatrix} \\in S, \\qquad\n",
    "z = \\begin{bmatrix} 0 \\\\ 0 \\\\ 3 \\end{bmatrix} \\in S^\\perp.\n",
    "$$\n",
    "\n",
    "---"
   ]
  },
  {
   "cell_type": "markdown",
   "metadata": {},
   "source": [
    "## Two Fundamental Subspaces\n",
    "\n",
    "Let $A \\in \\mathbb{R}^{m \\times n}$.\n",
    "\n",
    "The **null space** of $A$ is \n",
    "\n",
    "$$\n",
    "\\mathcal{N}(A) = \\left\\{ x \\in \\mathbb{R}^n : Ax = 0 \\right\\}.\n",
    "$$\n",
    "\n",
    "The **range space** of $A$ is \n",
    "\n",
    "$$\n",
    "\\mathcal{R}(A) = \\left\\{ Ax : x \\in \\mathbb{R}^n \\right\\}.\n",
    "$$\n",
    "\n",
    "$\\mathcal{N}(A)$ is a subspace of $\\mathbb{R}^n$ and $\\mathcal{R}(A)$ is a subspace of $\\mathbb{R}^m$."
   ]
  },
  {
   "cell_type": "markdown",
   "metadata": {},
   "source": [
    "---\n",
    "\n",
    "> ### Fundamental Theorem of Linear Algebra\n",
    "> $$\\mathcal{R}(A)^\\perp = \\mathcal{N}(A^T)$$\n",
    "\n",
    "---"
   ]
  },
  {
   "cell_type": "markdown",
   "metadata": {},
   "source": [
    "## The least-squares problem\n",
    "\n",
    "Notice that\n",
    "\n",
    "$$\n",
    "\\min_{x \\in \\mathbb{R}^n} \\|b - Ax\\|_2 = \\min_{y \\in \\mathcal{R}(A)} \\|b - y\\|_2.\n",
    "$$\n",
    "\n",
    "Thus we are looking for the closest vector $y$ in $\\mathcal{R}(A)$ to $b$, so\n",
    "\n",
    "$$\n",
    "y = \\operatorname{proj}_{\\mathcal{R}(A)}(b).\n",
    "$$"
   ]
  },
  {
   "cell_type": "markdown",
   "metadata": {},
   "source": [
    "---\n",
    "\n",
    "> ### Theorem: (Normal Equations)\n",
    "> Let $A \\in \\mathbb{R}^{m \\times n}$ and $b \\in \\mathbb{R}^m$. Then $x \\in \\mathbb{R}^n$ solves the least-squares problem\n",
    "$$\\min_{x} \\|b - Ax\\|_2$$\n",
    "if and only if\n",
    "$$A^TA x = A^Tb.$$\n",
    "\n",
    "The linear system $A^TAx = A^Tb$ is known as the **normal equations**.\n",
    "\n",
    "---"
   ]
  },
  {
   "cell_type": "markdown",
   "metadata": {},
   "source": [
    "## Solving the normal equations\n",
    "\n",
    "Suppose $A \\in \\mathbb{R}^{m \\times n}$, $m > n$ has linearly independent columns.\n",
    "\n",
    "Then $A^TA$ is positive definite, so we can solve $A^TAx = A^Tb$ using Cholesky's method.\n",
    "\n",
    "If $A$ is well-conditioned ($\\kappa_2(A)$ is small), then this approach is safe.\n",
    "\n",
    "However, if $\\kappa_2(A)$ is not small, then\n",
    "\n",
    "$$\n",
    "\\kappa_2(A^TA) = \\kappa_2(A)^2,\n",
    "$$\n",
    "\n",
    "which implies that $A^TA$ could be badly ill-conditioned, so solving $A^TAx = A^Tb$ is not a good idea."
   ]
  },
  {
   "cell_type": "markdown",
   "metadata": {},
   "source": [
    "---"
   ]
  }
 ],
 "metadata": {
  "kernelspec": {
   "display_name": "Julia 0.6.4",
   "language": "julia",
   "name": "julia-0.6"
  },
  "language_info": {
   "file_extension": ".jl",
   "mimetype": "application/julia",
   "name": "julia",
   "version": "0.6.4"
  }
 },
 "nbformat": 4,
 "nbformat_minor": 1
}
