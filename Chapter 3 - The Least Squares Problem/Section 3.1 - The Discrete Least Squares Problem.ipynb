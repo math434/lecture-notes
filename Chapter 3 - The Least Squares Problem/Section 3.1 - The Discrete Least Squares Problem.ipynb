{
 "cells": [
  {
   "cell_type": "markdown",
   "metadata": {},
   "source": [
    "---\n",
    "# Section 3.1: The Discrete Least Squares Problem\n",
    "---"
   ]
  },
  {
   "cell_type": "markdown",
   "metadata": {},
   "source": [
    "## Over-determined linear systems\n",
    "\n",
    "Let $A \\in \\mathbb{R}^{m \\times n}$ and $b \\in \\mathbb{R}^m$. \n",
    "\n",
    "If $m > n$, we say the linear system \n",
    "\n",
    "$$\n",
    "Ax = b\n",
    "$$ \n",
    "\n",
    "is **over-determined**.\n",
    "\n",
    "Often over-determined linear systems have no solution, typically due to measurement errors in  $b$."
   ]
  },
  {
   "cell_type": "markdown",
   "metadata": {},
   "source": [
    "---"
   ]
  },
  {
   "cell_type": "markdown",
   "metadata": {},
   "source": [
    "## Example"
   ]
  },
  {
   "cell_type": "code",
   "execution_count": 13,
   "metadata": {
    "collapsed": false
   },
   "outputs": [
    {
     "data": {
      "text/plain": [
       "5x2 Array{Float64,2}:\n",
       " 0.980623   0.144687\n",
       " 0.0125327  0.559957\n",
       " 0.876433   0.175131\n",
       " 0.572682   0.699568\n",
       " 0.657154   0.58885 "
      ]
     },
     "execution_count": 13,
     "metadata": {},
     "output_type": "execute_result"
    }
   ],
   "source": [
    "A = rand(5, 2)"
   ]
  },
  {
   "cell_type": "code",
   "execution_count": 14,
   "metadata": {
    "collapsed": false
   },
   "outputs": [
    {
     "data": {
      "text/plain": [
       "5-element Array{Float64,1}:\n",
       " 0.122412 \n",
       " 0.399037 \n",
       " 0.121687 \n",
       " 0.0124721\n",
       " 0.828191 "
      ]
     },
     "execution_count": 14,
     "metadata": {},
     "output_type": "execute_result"
    }
   ],
   "source": [
    "b = rand(5)"
   ]
  },
  {
   "cell_type": "code",
   "execution_count": 15,
   "metadata": {
    "collapsed": false
   },
   "outputs": [
    {
     "data": {
      "text/plain": [
       "2-element Array{Float64,1}:\n",
       " 0.0629871\n",
       " 0.574559 "
      ]
     },
     "execution_count": 15,
     "metadata": {},
     "output_type": "execute_result"
    }
   ],
   "source": [
    "x = A\\b"
   ]
  },
  {
   "cell_type": "code",
   "execution_count": 16,
   "metadata": {
    "collapsed": false
   },
   "outputs": [
    {
     "data": {
      "text/plain": [
       "5-element Array{Float64,1}:\n",
       " -0.0224858\n",
       "  0.0765191\n",
       " -0.0341398\n",
       " -0.425543 \n",
       "  0.448469 "
      ]
     },
     "execution_count": 16,
     "metadata": {},
     "output_type": "execute_result"
    }
   ],
   "source": [
    "r = b - A*x"
   ]
  },
  {
   "cell_type": "code",
   "execution_count": 17,
   "metadata": {
    "collapsed": false
   },
   "outputs": [
    {
     "data": {
      "text/plain": [
       "0.624289780230064"
      ]
     },
     "execution_count": 17,
     "metadata": {},
     "output_type": "execute_result"
    }
   ],
   "source": [
    "norm(r)"
   ]
  },
  {
   "cell_type": "markdown",
   "metadata": {},
   "source": [
    "---"
   ]
  },
  {
   "cell_type": "markdown",
   "metadata": {},
   "source": [
    "## Minimizing the error\n",
    "\n",
    "Since we cannot solve $Ax=b$ exactly, we want to find $x$ such that the **residual**\n",
    "\n",
    "$$\n",
    "r = b - Ax\n",
    "$$\n",
    "\n",
    "is as small as possible:\n",
    "\n",
    "$$\n",
    "\\min_x \\|b - Ax\\|\n",
    "$$\n",
    "\n",
    "We can consider many different norms, such as:\n",
    "\n",
    "$$\n",
    "\\|b - Ax\\|_1 = \\sum_{i=1}^m \\big| b_i - (Ax)_i \\big| = \\sum_{i=1}^m \\big| b_i - a_i^Tx \\big|\n",
    "$$\n",
    "\n",
    "$$\n",
    "\\|b - Ax\\|_2 = \\sqrt{\\sum_{i=1}^m \\big( b_i - (Ax)_i \\big)^2} = \\sqrt{\\sum_{i=1}^m \\big( b_i - a_i^Tx \\big)^2}\n",
    "$$\n",
    "\n",
    "$$\n",
    "\\|b - Ax\\|_\\infty = \\max_{1\\leq i\\leq m} \\big| b_i - (Ax)_i \\big| = \\max_{1\\leq i\\leq m} \\big| b_i - a_i^Tx \\big|\n",
    "$$\n",
    "\n",
    "\n",
    "\n"
   ]
  },
  {
   "cell_type": "markdown",
   "metadata": {},
   "source": [
    "---"
   ]
  },
  {
   "cell_type": "markdown",
   "metadata": {},
   "source": [
    "## Least squares\n",
    "\n",
    "When the error in the entries of $b$ are believed to be **identically and independently [normally distributed](https://en.wikipedia.org/wiki/Normal_distribution)** with **zero mean** and **constant variance**, the best choice is to minimize $\\|b - Ax\\|_2$. \n",
    "\n",
    "In this case, the $x$ that minimizes $\\|b - Ax\\|_2$ is the **maximum likelihood estimator** of the true solution.\n",
    "\n",
    "Minimizing $\\|b - Ax\\|_2$ is equivalent to minimizing\n",
    "\n",
    "$$\n",
    "\\|b - Ax\\|_2^2 = \\sum_{i=1}^m \\big( b_i - (Ax)_i \\big)^2.\n",
    "$$\n",
    "\n",
    "\n",
    "The $x$ that minimizes $\\|b - Ax\\|_2$ (or equivalently $\\|b - Ax\\|_2^2$) is called the **least-squares solution** because it is minimizing the **sum-of-the-squares** of the errors."
   ]
  },
  {
   "cell_type": "markdown",
   "metadata": {},
   "source": [
    "![Paranormal distribution](http://m.jech.bmj.com/content/60/1/6/embed/graphic-1.gif \"A visual comparison of normal and paranormal distributions\")\n",
    "\n",
    "<center>\n",
    "[A visual comparison of normal and paranormal distributions](http://jech.bmj.com/content/60/1/6.full) by Matthew Freeman\n",
    "</center>\n"
   ]
  },
  {
   "cell_type": "markdown",
   "metadata": {},
   "source": [
    "---"
   ]
  },
  {
   "cell_type": "markdown",
   "metadata": {},
   "source": [
    "## `randn`"
   ]
  },
  {
   "cell_type": "code",
   "execution_count": 18,
   "metadata": {
    "collapsed": false
   },
   "outputs": [
    {
     "name": "stdout",
     "output_type": "stream",
     "text": [
      "search: randn randn! sprandn randstring rand! rand randexp randperm randjump\n",
      "\n"
     ]
    },
    {
     "data": {
      "text/markdown": [
       "```\n",
       "randn([rng], [dims...])\n",
       "```\n",
       "\n",
       "Generate a normally-distributed random number with mean 0 and standard deviation 1. Optionally generate an array of normally-distributed random numbers.\n"
      ],
      "text/plain": [
       "```\n",
       "randn([rng], [dims...])\n",
       "```\n",
       "\n",
       "Generate a normally-distributed random number with mean 0 and standard deviation 1. Optionally generate an array of normally-distributed random numbers.\n"
      ]
     },
     "execution_count": 18,
     "metadata": {},
     "output_type": "execute_result"
    }
   ],
   "source": [
    "?randn"
   ]
  },
  {
   "cell_type": "code",
   "execution_count": 19,
   "metadata": {
    "collapsed": false
   },
   "outputs": [
    {
     "data": {
      "text/plain": [
       "1000000-element Array{Float64,1}:\n",
       " -1.09875  \n",
       " -0.217702 \n",
       " -2.36002  \n",
       "  0.443298 \n",
       " -1.91265  \n",
       " -1.18875  \n",
       " -0.0946311\n",
       " -0.0685427\n",
       " -0.505857 \n",
       "  0.0663892\n",
       " -0.272436 \n",
       "  1.52774  \n",
       "  0.654993 \n",
       "  ⋮        \n",
       "  0.63479  \n",
       "  0.495808 \n",
       "  0.9876   \n",
       "  0.643825 \n",
       " -0.479473 \n",
       " -0.289588 \n",
       "  0.494109 \n",
       " -0.46274  \n",
       " -1.1256   \n",
       " -0.51905  \n",
       "  0.762765 \n",
       "  1.54661  "
      ]
     },
     "execution_count": 19,
     "metadata": {},
     "output_type": "execute_result"
    }
   ],
   "source": [
    "v = randn(10^6)"
   ]
  },
  {
   "cell_type": "code",
   "execution_count": 20,
   "metadata": {
    "collapsed": false
   },
   "outputs": [
    {
     "data": {
      "text/plain": [
       "0.0007812096851375357"
      ]
     },
     "execution_count": 20,
     "metadata": {},
     "output_type": "execute_result"
    }
   ],
   "source": [
    "mean(v)"
   ]
  },
  {
   "cell_type": "code",
   "execution_count": 21,
   "metadata": {
    "collapsed": false
   },
   "outputs": [
    {
     "data": {
      "text/plain": [
       "1.000003562839599"
      ]
     },
     "execution_count": 21,
     "metadata": {},
     "output_type": "execute_result"
    }
   ],
   "source": [
    "cov(v)"
   ]
  },
  {
   "cell_type": "code",
   "execution_count": 25,
   "metadata": {
    "collapsed": false
   },
   "outputs": [
    {
     "data": {
      "image/png": "[encoded data removed]",
      "text/plain": [
       "PyPlot.Figure(PyObject <matplotlib.figure.Figure object at 0x32a406950>)"
      ]
     },
     "metadata": {},
     "output_type": "display_data"
    }
   ],
   "source": [
    "using PyPlot\n",
    "\n",
    "plt[:hist](v, 100);"
   ]
  },
  {
   "cell_type": "markdown",
   "metadata": {},
   "source": [
    "---"
   ]
  },
  {
   "cell_type": "markdown",
   "metadata": {},
   "source": [
    "## Solving the least-squares problem\n",
    "\n",
    "In Julia (or MATLAB), we can solve the least-squares problem\n",
    "\n",
    "$$\n",
    "\\min_x \\|b - Ax\\|_2\n",
    "$$\n",
    "\n",
    "by using the same **backslash** function that we used to solve $n \\times n$ linear systems:\n",
    "\n",
    "```julia\n",
    "x = A\\b\n",
    "```\n",
    "\n",
    "Julia will recognize that the linear system is over-determined and will use an algorithm for solving the least-squares problem that is based on the $QR$-factorization of $A$."
   ]
  },
  {
   "cell_type": "markdown",
   "metadata": {},
   "source": [
    "---"
   ]
  },
  {
   "cell_type": "markdown",
   "metadata": {},
   "source": [
    "## Example"
   ]
  },
  {
   "cell_type": "code",
   "execution_count": 26,
   "metadata": {
    "collapsed": false
   },
   "outputs": [
    {
     "data": {
      "text/plain": [
       "5x2 Array{Float64,2}:\n",
       " 0.994875   0.66812 \n",
       " 0.0519849  0.891104\n",
       " 0.377684   0.240133\n",
       " 0.450219   0.824525\n",
       " 0.602874   0.25202 "
      ]
     },
     "execution_count": 26,
     "metadata": {},
     "output_type": "execute_result"
    }
   ],
   "source": [
    "A = rand(5, 2)"
   ]
  },
  {
   "cell_type": "code",
   "execution_count": 28,
   "metadata": {
    "collapsed": false
   },
   "outputs": [
    {
     "data": {
      "text/plain": [
       "5x2 Array{Float64,2}:\n",
       " 0.797634  0.771926\n",
       " 0.166641  0.163511\n",
       " 0.300835  0.303016\n",
       " 0.437173  0.439196\n",
       " 0.461042  0.465   "
      ]
     },
     "execution_count": 28,
     "metadata": {},
     "output_type": "execute_result"
    }
   ],
   "source": [
    "xtrue = rand(2)\n",
    "b = A*xtrue + 0.01*randn(5)  # Add random noise to b\n",
    "[A*xtrue b]"
   ]
  },
  {
   "cell_type": "code",
   "execution_count": 29,
   "metadata": {
    "collapsed": false
   },
   "outputs": [
    {
     "data": {
      "text/plain": [
       "2-element Array{Float64,1}:\n",
       " 0.690975\n",
       " 0.14601 "
      ]
     },
     "execution_count": 29,
     "metadata": {},
     "output_type": "execute_result"
    }
   ],
   "source": [
    "# Solve the least-squares problem:  minimize norm(b - A*x)\n",
    "x = A\\b"
   ]
  },
  {
   "cell_type": "code",
   "execution_count": 30,
   "metadata": {
    "collapsed": false
   },
   "outputs": [
    {
     "data": {
      "text/plain": [
       "2-element Array{Float64,1}:\n",
       " 0.703728\n",
       " 0.145951"
      ]
     },
     "execution_count": 30,
     "metadata": {},
     "output_type": "execute_result"
    }
   ],
   "source": [
    "xtrue"
   ]
  },
  {
   "cell_type": "code",
   "execution_count": 31,
   "metadata": {
    "collapsed": false
   },
   "outputs": [
    {
     "data": {
      "text/plain": [
       "5-element Array{Float64,1}:\n",
       " -0.0130598 \n",
       " -0.00251933\n",
       "  0.00698364\n",
       "  0.00771616\n",
       "  0.0116315 "
      ]
     },
     "execution_count": 31,
     "metadata": {},
     "output_type": "execute_result"
    }
   ],
   "source": [
    "b - A*x"
   ]
  },
  {
   "cell_type": "code",
   "execution_count": 32,
   "metadata": {
    "collapsed": false
   },
   "outputs": [
    {
     "data": {
      "text/plain": [
       "0.02050629478329706"
      ]
     },
     "execution_count": 32,
     "metadata": {},
     "output_type": "execute_result"
    }
   ],
   "source": [
    "norm(b - A*x)"
   ]
  },
  {
   "cell_type": "code",
   "execution_count": 33,
   "metadata": {
    "collapsed": false
   },
   "outputs": [
    {
     "data": {
      "text/plain": [
       "0.026366899725317826"
      ]
     },
     "execution_count": 33,
     "metadata": {},
     "output_type": "execute_result"
    }
   ],
   "source": [
    "norm(b - A*xtrue)"
   ]
  },
  {
   "cell_type": "code",
   "execution_count": 34,
   "metadata": {
    "collapsed": false
   },
   "outputs": [
    {
     "data": {
      "text/html": [
       "\\(A::<b>Union{DenseArray{T,2},SubArray{T,2,A<:DenseArray{T,N},I<:Tuple{Vararg{Union{Colon,Int64,Range{Int64}}}},LD}}</b>, B::<b>Union{DenseArray{T,1},DenseArray{T,2},SubArray{T,1,A<:DenseArray{T,N},I<:Tuple{Vararg{Union{Colon,Int64,Range{Int64}}}},LD},SubArray{T,2,A<:DenseArray{T,N},I<:Tuple{Vararg{Union{Colon,Int64,Range{Int64}}}},LD}}</b>) at <a href=\"https://github.com/JuliaLang/julia/tree/ae26b25d43317d7dd3ca05f60b70677aab9c0e08/base/linalg/dense.jl#L442\" target=\"_blank\">linalg/dense.jl:442</a>"
      ],
      "text/plain": [
       "\\(A::Union{DenseArray{T,2},SubArray{T,2,A<:DenseArray{T,N},I<:Tuple{Vararg{Union{Colon,Int64,Range{Int64}}}},LD}}, B::Union{DenseArray{T,1},DenseArray{T,2},SubArray{T,1,A<:DenseArray{T,N},I<:Tuple{Vararg{Union{Colon,Int64,Range{Int64}}}},LD},SubArray{T,2,A<:DenseArray{T,N},I<:Tuple{Vararg{Union{Colon,Int64,Range{Int64}}}},LD}}) at linalg/dense.jl:442"
      ]
     },
     "execution_count": 34,
     "metadata": {},
     "output_type": "execute_result"
    }
   ],
   "source": [
    "@which A\\b"
   ]
  },
  {
   "cell_type": "code",
   "execution_count": 35,
   "metadata": {
    "collapsed": false
   },
   "outputs": [],
   "source": [
    "@edit A\\b"
   ]
  },
  {
   "cell_type": "markdown",
   "metadata": {},
   "source": [
    "---"
   ]
  },
  {
   "cell_type": "markdown",
   "metadata": {},
   "source": [
    "## The $QR$-factorization\n",
    "\n",
    "The $QR$-factorization of $A$ is\n",
    "\n",
    "$$\n",
    "A = QR\n",
    "$$\n",
    "\n",
    "where \n",
    "\n",
    "- $Q$ is an $m \\times m$ orthogonal matrix ($Q^TQ = QQ^T = I$),\n",
    "- $R$ is an $m \\times n$ \"upper-triangular\" matrix.\n",
    "\n",
    "Alternatively, we can obtain a more compact $QR$-factorization $A = QR$, where\n",
    "\n",
    "- $Q$ is an $m \\times n$ matrix with orthonormal columns ($Q^TQ = I$),\n",
    "- $R$ is an $n \\times n$ upper-triangular matrix."
   ]
  },
  {
   "cell_type": "markdown",
   "metadata": {},
   "source": [
    "---"
   ]
  },
  {
   "cell_type": "markdown",
   "metadata": {},
   "source": [
    "## `qr`"
   ]
  },
  {
   "cell_type": "code",
   "execution_count": 36,
   "metadata": {
    "collapsed": false
   },
   "outputs": [
    {
     "data": {
      "text/plain": [
       "5x2 Array{Float64,2}:\n",
       " 0.768105  0.61718 \n",
       " 0.720759  0.516095\n",
       " 0.901223  0.367186\n",
       " 0.549409  0.600174\n",
       " 0.502923  0.586592"
      ]
     },
     "execution_count": 36,
     "metadata": {},
     "output_type": "execute_result"
    }
   ],
   "source": [
    "A = rand(5, 2)"
   ]
  },
  {
   "cell_type": "code",
   "execution_count": 37,
   "metadata": {
    "collapsed": false
   },
   "outputs": [
    {
     "name": "stdout",
     "output_type": "stream",
     "text": [
      "search: qr qrfact qrfact! sqrt sqrtm isqrt require quiver quiverkey QuickSort\n",
      "\n"
     ]
    },
    {
     "data": {
      "text/markdown": [
       "```\n",
       "qr(A [,pivot=Val{false}][;thin=true]) -> Q, R, [p]\n",
       "```\n",
       "\n",
       "Compute the (pivoted) QR factorization of `A` such that either `A = Q*R` or `A[:,p] = Q*R`. Also see `qrfact`. The default is to compute a thin factorization. Note that `R` is not extended with zeros when the full `Q` is requested.\n"
      ],
      "text/plain": [
       "```\n",
       "qr(A [,pivot=Val{false}][;thin=true]) -> Q, R, [p]\n",
       "```\n",
       "\n",
       "Compute the (pivoted) QR factorization of `A` such that either `A = Q*R` or `A[:,p] = Q*R`. Also see `qrfact`. The default is to compute a thin factorization. Note that `R` is not extended with zeros when the full `Q` is requested.\n"
      ]
     },
     "execution_count": 37,
     "metadata": {},
     "output_type": "execute_result"
    }
   ],
   "source": [
    "?qr"
   ]
  },
  {
   "cell_type": "code",
   "execution_count": 41,
   "metadata": {
    "collapsed": false
   },
   "outputs": [
    {
     "data": {
      "text/plain": [
       "(\n",
       "5x5 Array{Float64,2}:\n",
       " -0.488095   0.13927    -0.155598  -0.599651   -0.598811\n",
       " -0.458009  -0.0197612  -0.789935   0.261153    0.312472\n",
       " -0.572686  -0.688447    0.42194    0.0804756   0.116455\n",
       " -0.349124   0.478389    0.274743   0.672362   -0.348859\n",
       " -0.319584   0.526685    0.313488  -0.337152    0.639157,\n",
       "\n",
       "2x2 Array{Float64,2}:\n",
       " -1.57368  -1.1449  \n",
       "  0.0       0.419034)"
      ]
     },
     "execution_count": 41,
     "metadata": {},
     "output_type": "execute_result"
    }
   ],
   "source": [
    "Q, R = qr(A, thin=false)"
   ]
  },
  {
   "cell_type": "code",
   "execution_count": 43,
   "metadata": {
    "collapsed": false
   },
   "outputs": [
    {
     "data": {
      "text/plain": [
       "5x2 Array{Float64,2}:\n",
       " -2.22045e-16  -1.11022e-16\n",
       " -1.11022e-16  -1.11022e-16\n",
       "  0.0          -5.55112e-17\n",
       "  0.0          -1.11022e-16\n",
       "  0.0           0.0        "
      ]
     },
     "execution_count": 43,
     "metadata": {},
     "output_type": "execute_result"
    }
   ],
   "source": [
    "Q*[R; zeros(3,2)] - A"
   ]
  },
  {
   "cell_type": "code",
   "execution_count": 44,
   "metadata": {
    "collapsed": false
   },
   "outputs": [
    {
     "data": {
      "text/plain": [
       "5x5 Array{Float64,2}:\n",
       "  1.0           3.6236e-17   -6.35387e-17  -8.73521e-17  -9.3879e-17 \n",
       "  3.6236e-17    1.0           6.92134e-17  -8.1931e-17    9.93764e-20\n",
       " -6.35387e-17   6.92134e-17   1.0          -3.95399e-17   3.27321e-17\n",
       " -8.73521e-17  -8.1931e-17   -3.95399e-17   1.0           1.25804e-17\n",
       " -9.3879e-17    9.93764e-20   3.27321e-17   1.25804e-17   1.0        "
      ]
     },
     "execution_count": 44,
     "metadata": {},
     "output_type": "execute_result"
    }
   ],
   "source": [
    "Q'*Q"
   ]
  },
  {
   "cell_type": "markdown",
   "metadata": {},
   "source": [
    "---"
   ]
  },
  {
   "cell_type": "markdown",
   "metadata": {},
   "source": [
    "## Data-fitting\n",
    "\n",
    "Suppose we are trying to approximate the true function\n",
    "\n",
    "$$\n",
    "y(t) = 1 + e^t + 3e^{-t}\n",
    "$$\n",
    "\n",
    "given a number of noisy **data points**\n",
    "\n",
    "$$\n",
    "(t_1, y_1), \\ldots, (t_m, y_m)\n",
    "$$\n",
    "\n",
    "where\n",
    "\n",
    "$$\n",
    "y_i = y(t_i) + \\varepsilon_i, \\quad i = 1,\\ldots,m,\n",
    "$$\n",
    "\n",
    "and each $\\varepsilon_i$ is drawn from a [normal distribution](https://en.wikipedia.org/wiki/Normal_distribution) with mean $0$ and variance $\\sigma^2$:\n",
    "\n",
    "$$\n",
    "\\varepsilon_i \\sim \\mathcal{N}(0,\\sigma^2).\n",
    "$$"
   ]
  },
  {
   "cell_type": "code",
   "execution_count": 45,
   "metadata": {
    "collapsed": false
   },
   "outputs": [
    {
     "data": {
      "image/png": "[encoded data removed]",
      "text/plain": [
       "PyPlot.Figure(PyObject <matplotlib.figure.Figure object at 0x329d69710>)"
      ]
     },
     "metadata": {},
     "output_type": "display_data"
    }
   ],
   "source": [
    "using PyPlot\n",
    "\n",
    "y(t) = 1 + exp(t) + 3*exp(-t)\n",
    "\n",
    "m = 100\n",
    "tt = linspace(0, 1, m)\n",
    "\n",
    "σ = 0.1\n",
    "err = σ*randn(m)\n",
    "yy = y(tt) + err\n",
    "\n",
    "plot(tt, y(tt), label=\"True solution\")\n",
    "plot(tt, yy, \"r.\", label=\"Noisy data\")\n",
    "legend();"
   ]
  },
  {
   "cell_type": "markdown",
   "metadata": {},
   "source": [
    "We let our approximation be given by\n",
    "\n",
    "$$\n",
    "p(t) = x_1 + x_2 e^t + x_3 e^{-t}\n",
    "$$\n",
    "\n",
    "and we want to find the **maximum likelihood estimate** of the coefficients $x_1, x_2, x_3$.\n",
    "\n",
    "We want to minimize\n",
    "\n",
    "$$\n",
    "\\sum_{i=1}^m \\big(y_i - p(t_i)\\big)^2.\n",
    "$$\n",
    "\n",
    "The residual $y_i - p(t_i)$ can be written as\n",
    "\n",
    "$$\n",
    "y_i - \\left(x_1 + x_2 e^{t_i} + x_3 e^{-t_i}\\right) = y_i - \\begin{bmatrix} 1 & e^{t_i} & e^{-t_i} \\end{bmatrix} \\begin{bmatrix} x_1 \\\\ x_2 \\\\ x_3 \\end{bmatrix}.\n",
    "$$"
   ]
  },
  {
   "cell_type": "markdown",
   "metadata": {},
   "source": [
    "Therefore, the $i^\\mathrm{th}$-row of the matrix $A$ is $\\begin{bmatrix} 1 & e^{t_i} & e^{-t_i} \\end{bmatrix}$:\n",
    "\n",
    "$$\n",
    "A = \n",
    "\\begin{bmatrix} \n",
    "1 & e^{t_1} & e^{-t_1} \\\\\n",
    "1 & e^{t_2} & e^{-t_2} \\\\\n",
    "\\vdots&\\vdots&\\vdots\\\\\n",
    "1 & e^{t_m} & e^{-t_m} \\\\\n",
    "\\end{bmatrix}\n",
    "$$\n",
    "\n",
    "and $b \\in \\mathbb{R}^m$ such that $b_i = y_i$ for $i = 1,\\ldots,m$. \n",
    "\n",
    "Then \n",
    "\n",
    "$$\n",
    "\\sum_{i=1}^m \\big(y_i - p(t_i)\\big)^2 = \\|b - Ax\\|_2^2.\n",
    "$$"
   ]
  },
  {
   "cell_type": "code",
   "execution_count": 46,
   "metadata": {
    "collapsed": false
   },
   "outputs": [
    {
     "data": {
      "text/plain": [
       "3-element Array{Float64,1}:\n",
       " 1.17687 \n",
       " 0.927163\n",
       " 2.92872 "
      ]
     },
     "execution_count": 46,
     "metadata": {},
     "output_type": "execute_result"
    }
   ],
   "source": [
    "## True model:  y = 1 + exp(t) + 3*exp(-t)\n",
    "A = [ones(tt) exp(tt) exp(-tt)]\n",
    "b = yy\n",
    "\n",
    "## Solve the least squares problem:  min norm(b - A*x)\n",
    "x = A\\b"
   ]
  },
  {
   "cell_type": "code",
   "execution_count": 47,
   "metadata": {
    "collapsed": false
   },
   "outputs": [
    {
     "data": {
      "text/plain": [
       "1.131355093671051"
      ]
     },
     "execution_count": 47,
     "metadata": {},
     "output_type": "execute_result"
    }
   ],
   "source": [
    "## Compute the norm of the residual\n",
    "r = b - A*x\n",
    "norm(r)"
   ]
  },
  {
   "cell_type": "code",
   "execution_count": 48,
   "metadata": {
    "collapsed": false
   },
   "outputs": [
    {
     "data": {
      "image/png": "[encoded data removed]",
      "text/plain": [
       "PyPlot.Figure(PyObject <matplotlib.figure.Figure object at 0x32b1e41d0>)"
      ]
     },
     "metadata": {},
     "output_type": "display_data"
    }
   ],
   "source": [
    "using PyPlot\n",
    "\n",
    "p(t) = x[1] + x[2]*exp(t) + x[3]*exp(-t)\n",
    "\n",
    "plot(tt, y(tt), label=\"True solution\")\n",
    "plot(tt, p(tt), label=\"Least-squares solution\")\n",
    "plot(tt, yy, \"r.\", label=\"Noisy data\")\n",
    "\n",
    "legend(loc=\"best\");"
   ]
  },
  {
   "cell_type": "markdown",
   "metadata": {},
   "source": [
    "---"
   ]
  }
 ],
 "metadata": {
  "anaconda-cloud": {},
  "kernelspec": {
   "display_name": "Julia 0.4.7",
   "language": "julia",
   "name": "julia-0.4"
  },
  "language_info": {
   "file_extension": ".jl",
   "mimetype": "application/julia",
   "name": "julia",
   "version": "0.4.7"
  }
 },
 "nbformat": 4,
 "nbformat_minor": 0
}
